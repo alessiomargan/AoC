{
 "cells": [
  {
   "cell_type": "code",
   "execution_count": null,
   "metadata": {},
   "outputs": [],
   "source": [
    "%run utils.py    "
   ]
  },
  {
   "cell_type": "code",
   "execution_count": null,
   "metadata": {},
   "outputs": [],
   "source": [
    "test = \"\"\"1-3 a: abcde\n",
    "1-3 b: cdefg\n",
    "2-10 c: cccccccccc\n",
    "\"\"\"\n",
    "regex_input = \"(\\d+)-(\\d+) (\\w): (\\w+)\"\n",
    "\n",
    "def test_reg(text:str):\n",
    "    for s in text.splitlines():\n",
    "        yield re.findall(regex_input,s)\n",
    "\n",
    "list(test_reg(test))\n",
    "\n",
    "        "
   ]
  },
  {
   "cell_type": "code",
   "execution_count": null,
   "metadata": {},
   "outputs": [],
   "source": [
    "@dataclass\n",
    "class PwdPolicy:\n",
    "    arg1: int\n",
    "    arg2: int\n",
    "    chr : str\n",
    "    passwd: str\n",
    "\n",
    "    def is_valid_part_1(self):\n",
    "        cnt = self.passwd.count(self.chr)\n",
    "        return 1 if cnt >= self.arg1 and cnt <= self.arg2 else 0\n",
    "    \n",
    "    def is_valid_part_2(self):\n",
    "        return (self.passwd[self.arg1-1] == self.chr) != (self.passwd[self.arg2-1] == self.chr) \n"
   ]
  },
  {
   "cell_type": "code",
   "execution_count": null,
   "metadata": {},
   "outputs": [],
   "source": [
    "def tok(iter_in, part:str):\n",
    "    for line in iter_in:\n",
    "        [(min,max,who,where)] = re.findall(regex_input,line)\n",
    "        #print(min,max,who,where)\n",
    "        pwd_policy = PwdPolicy(int(min),int(max),who,where)\n",
    "        if (part==\"part_1\") :\n",
    "            yield pwd_policy.is_valid_part_1()\n",
    "        else :\n",
    "            yield pwd_policy.is_valid_part_2()\n",
    "\n",
    "list(tok(test.splitlines(), \"part_1\"))"
   ]
  },
  {
   "cell_type": "code",
   "execution_count": null,
   "metadata": {
    "tags": []
   },
   "outputs": [],
   "source": [
    "\n"
   ]
  },
  {
   "cell_type": "code",
   "execution_count": null,
   "metadata": {},
   "outputs": [],
   "source": [
    "sum(list(tok(open(\"input/input2.txt\"), \"part_1\")))"
   ]
  },
  {
   "cell_type": "code",
   "execution_count": null,
   "metadata": {},
   "outputs": [],
   "source": [
    "sum(list(tok(open(\"input/input2.txt\"), \"part_2\")))"
   ]
  },
  {
   "cell_type": "code",
   "execution_count": null,
   "metadata": {},
   "outputs": [],
   "source": []
  }
 ],
 "metadata": {
  "kernelspec": {
   "display_name": "Python 3.8.5 64-bit ('base': conda)",
   "metadata": {
    "interpreter": {
     "hash": "b69e546690c4946095e0c6a19faf5121c217682b02476cba6a2dd83872ffcf85"
    }
   },
   "name": "python3"
  },
  "language_info": {
   "codemirror_mode": {
    "name": "ipython",
    "version": 3
   },
   "file_extension": ".py",
   "mimetype": "text/x-python",
   "name": "python",
   "nbconvert_exporter": "python",
   "pygments_lexer": "ipython3",
   "version": "3.8.5-final"
  }
 },
 "nbformat": 4,
 "nbformat_minor": 2
}
