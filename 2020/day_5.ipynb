{
 "cells": [
  {
   "cell_type": "code",
   "execution_count": null,
   "metadata": {},
   "outputs": [],
   "source": [
    "%run utils.py"
   ]
  },
  {
   "cell_type": "code",
   "execution_count": null,
   "metadata": {},
   "outputs": [],
   "source": [
    "# seats binary space partitioning\n",
    "# Each letter tells you which half of a region the given seat is in. Start with the whole list of rows;\n",
    "# the first letter indicates whether the seat is in the front (0 through 63) or the back (64 throug 127)\n",
    "test = \"\"\"\\\n",
    "FBFBBFFRLR\n",
    "BFFFBBFRRR\n",
    "FFFBBBFRRR\n",
    "BBFFBBFRLL\\\n",
    "\"\"\""
   ]
  },
  {
   "cell_type": "code",
   "execution_count": null,
   "metadata": {},
   "outputs": [],
   "source": [
    "def bin_search(path:str, size:int)->int:\n",
    "        start,end = (0,size)\n",
    "        for p in path :\n",
    "            d=(end-start)/2\n",
    "            if p == '1':\n",
    "                end -= d \n",
    "            else :\n",
    "                start += d\n",
    "            #print(p,start,end-1)\n",
    "        assert(start == end-1)\n",
    "        return start\n",
    "\n",
    "def norm(path:str):\n",
    "    return path.strip().replace('F','1').replace('B','0').replace('L','1').replace('R','0')\n",
    "\n",
    "def seat_id(iter_in):\n",
    "    for row_path,col_path in [(bsp[:7],bsp[7:]) for bsp in map(norm,iter_in)]:\n",
    "        row = bin_search(row_path,128)\n",
    "        col = bin_search(col_path,8)\n",
    "        yield row * 8 + col\n"
   ]
  },
  {
   "cell_type": "code",
   "execution_count": null,
   "metadata": {},
   "outputs": [],
   "source": [
    "sorted(list(seat_id(test.splitlines())))"
   ]
  },
  {
   "cell_type": "code",
   "execution_count": null,
   "metadata": {},
   "outputs": [],
   "source": [
    "id_list = sorted(list(seat_id(open(\"input/input5.txt\"))))"
   ]
  },
  {
   "cell_type": "code",
   "execution_count": null,
   "metadata": {},
   "outputs": [],
   "source": [
    "id_list[-1]"
   ]
  },
  {
   "cell_type": "code",
   "execution_count": null,
   "metadata": {},
   "outputs": [],
   "source": [
    "\"Use a predicate to partition entries into false entries and true entries\"\n",
    "false_pred,true_pred = partition(lambda x: x[1]-x[0]==2 , pairwise(id_list))\n",
    "list(true_pred)"
   ]
  },
  {
   "cell_type": "code",
   "execution_count": null,
   "metadata": {},
   "outputs": [],
   "source": []
  }
 ],
 "metadata": {
  "kernelspec": {
   "display_name": "Python 3.8.5 64-bit ('base': conda)",
   "metadata": {
    "interpreter": {
     "hash": "b69e546690c4946095e0c6a19faf5121c217682b02476cba6a2dd83872ffcf85"
    }
   },
   "name": "python3"
  },
  "language_info": {
   "codemirror_mode": {
    "name": "ipython",
    "version": 3
   },
   "file_extension": ".py",
   "mimetype": "text/x-python",
   "name": "python",
   "nbconvert_exporter": "python",
   "pygments_lexer": "ipython3",
   "version": "3.8.5-final"
  }
 },
 "nbformat": 4,
 "nbformat_minor": 2
}
