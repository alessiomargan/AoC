{
 "cells": [
  {
   "cell_type": "code",
   "execution_count": null,
   "metadata": {},
   "outputs": [],
   "source": [
    "%run utils.py\n",
    "from functools import reduce"
   ]
  },
  {
   "cell_type": "code",
   "execution_count": null,
   "metadata": {},
   "outputs": [],
   "source": [
    "test = \"\"\"\\\n",
    "light red bags contain 1 bright white bag, 2 muted yellow bags.\n",
    "dark orange bags contain 3 bright white bags, 4 muted yellow bags.\n",
    "bright white bags contain 1 shiny gold bag.\n",
    "muted yellow bags contain 2 shiny gold bags, 9 faded blue bags.\n",
    "shiny gold bags contain 1 dark olive bag, 2 vibrant plum bags.\n",
    "dark olive bags contain 3 faded blue bags, 4 dotted black bags.\n",
    "vibrant plum bags contain 5 faded blue bags, 6 dotted black bags.\n",
    "faded blue bags contain no other bags.\n",
    "dotted black bags contain no other bags.\"\"\"\n",
    "\n",
    "#regex_input = \"(\\w+) (\\w+) bags contain (\\d+) (\\w+) (\\w+) ([bag?s?,?.]+) (\\d+) (\\w+) (\\w+) ([bag?s?,?.]+)\"\n",
    "#regex_input = \"(\\w+) (\\w+) bags contain (\\d+) (\\w+) (\\w+) ([bag?s?,?.]+)\"\n",
    "#regex_input = \"(\\w+) (\\w+) bags contain no other ([bag?s?,?.]+)\"\n",
    "regex_input = \"(\\w+) (\\w+) bags contain|(\\d+) (\\w+) (\\w+) ([bag?s?,?.]+)|(no other bags.)\"\n",
    "\n",
    "def test_reg(text:str):\n",
    "    for s in text.splitlines():\n",
    "        yield re.findall(regex_input,s)\n",
    "\n",
    "list(test_reg(test))\n"
   ]
  },
  {
   "cell_type": "code",
   "execution_count": null,
   "metadata": {},
   "outputs": [],
   "source": [
    "regex_input = \"\"\"\\\n",
    "(?P<agg>\\w+) (?P<col>\\w+) bags contain|\\\n",
    "(?P<num>\\d+) (?P<cagg>\\w+) (?P<ccol>\\w+) ([bag?s?,?.]+)|\\\n",
    "(?P<no_bags>no other bags.)\"\"\"\n",
    "\n",
    "def parse(iter_in):\n",
    "    for s in iter_in :\n",
    "        parsed_list = [mo.groupdict() for mo in re.finditer(regex_input, s)]\n",
    "        k = \"{agg}_{col}\".format(**parsed_list[0])\n",
    "        if len(parsed_list) == 2 and parsed_list[1]['no_bags']:\n",
    "            yield { k: None }\n",
    "        else :\n",
    "            yield { k: {\"{cagg}_{ccol}\".format(**d): d['num'] for d in parsed_list[1:]} }\n",
    "\n",
    "d = dict()\n",
    "for dd in parse(test.splitlines()):\n",
    "    d.update(dd)\n",
    "d"
   ]
  },
  {
   "cell_type": "code",
   "execution_count": null,
   "metadata": {},
   "outputs": [],
   "source": [
    "def part_1(iter_in):\n",
    "    bags = dict()\n",
    "    for d in parse(iter_in):\n",
    "        bags.update(d)\n",
    "\n",
    "    shiny_gold = set()\n",
    "    search_stack = [\"shiny_gold\"]\n",
    "    while len(search_stack):\n",
    "        what = search_stack.pop()\n",
    "        for k,v in bags.items():\n",
    "            if v and what in v.keys():\n",
    "                shiny_gold.add(k)\n",
    "                search_stack.append(k)\n",
    "    \n",
    "    return shiny_gold\n",
    "\n",
    "len(part_1(open(\"input/input7.txt\")))\n",
    "#part_1(test.splitlines())"
   ]
  },
  {
   "cell_type": "code",
   "execution_count": null,
   "metadata": {},
   "outputs": [],
   "source": [
    "test = \"\"\"\\\n",
    "shiny gold bags contain 2 dark red bags.\n",
    "dark red bags contain 2 dark orange bags.\n",
    "dark orange bags contain 2 dark yellow bags.\n",
    "dark yellow bags contain 2 dark green bags.\n",
    "dark green bags contain 2 dark blue bags.\n",
    "dark blue bags contain 2 dark violet bags.\n",
    "dark violet bags contain no other bags.\"\"\"\n",
    "\n",
    "d = dict()\n",
    "for dd in parse(test.splitlines()):\n",
    "    d.update(dd)\n",
    "d"
   ]
  },
  {
   "cell_type": "code",
   "execution_count": null,
   "metadata": {},
   "outputs": [],
   "source": [
    "from anytree import Node\n",
    "\n",
    "def part_2(iter_in):\n",
    "    bags = dict()\n",
    "    for d in parse(iter_in):\n",
    "        bags.update(d)\n",
    "\n",
    "    shiny_gold = Node(\"shiny_gold\", num=1)\n",
    "    search_stack = [shiny_gold]\n",
    "    while len(search_stack):\n",
    "        curr_node = search_stack.pop()\n",
    "        if bags[curr_node.name] :\n",
    "            for name,count in bags[curr_node.name].items():\n",
    "                search_stack.append(Node(name, num=int(count), parent=curr_node))\n",
    "\n",
    "    return shiny_gold\n"
   ]
  },
  {
   "cell_type": "code",
   "execution_count": null,
   "metadata": {},
   "outputs": [],
   "source": [
    "from anytree import RenderTree, AsciiStyle, PreOrderIter\n",
    "\n",
    "root = part_2(test.splitlines())\n",
    "print(RenderTree(root,style=AsciiStyle()).by_attr())\n",
    "[node.num for node in PreOrderIter(root)]"
   ]
  },
  {
   "cell_type": "code",
   "execution_count": null,
   "metadata": {},
   "outputs": [],
   "source": [
    "from anytree import RenderTree, AsciiStyle, PreOrderIter\n",
    "\n",
    "root = part_2(open(\"input/input7.txt\"))\n",
    "print(RenderTree(root,style=AsciiStyle()).by_attr())\n",
    "[node.num for node in PreOrderIter(root)]"
   ]
  },
  {
   "cell_type": "code",
   "execution_count": null,
   "metadata": {},
   "outputs": [],
   "source": []
  },
  {
   "cell_type": "code",
   "execution_count": null,
   "metadata": {},
   "outputs": [],
   "source": [
    "bags[\"shiny_gold\"]"
   ]
  },
  {
   "cell_type": "code",
   "execution_count": null,
   "metadata": {},
   "outputs": [],
   "source": []
  },
  {
   "cell_type": "code",
   "execution_count": null,
   "metadata": {},
   "outputs": [],
   "source": []
  },
  {
   "cell_type": "code",
   "execution_count": null,
   "metadata": {},
   "outputs": [],
   "source": []
  }
 ],
 "metadata": {
  "kernelspec": {
   "display_name": "Python 3.8.10 64-bit",
   "language": "python",
   "name": "python3"
  },
  "language_info": {
   "codemirror_mode": {
    "name": "ipython",
    "version": 3
   },
   "file_extension": ".py",
   "mimetype": "text/x-python",
   "name": "python",
   "nbconvert_exporter": "python",
   "pygments_lexer": "ipython3",
   "version": "3.8.10"
  },
  "vscode": {
   "interpreter": {
    "hash": "916dbcbb3f70747c44a77c7bcd40155683ae19c65e1c03b4aa3499c5328201f1"
   }
  }
 },
 "nbformat": 4,
 "nbformat_minor": 2
}
