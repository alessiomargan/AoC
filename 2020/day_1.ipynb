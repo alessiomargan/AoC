{
 "cells": [
  {
   "cell_type": "code",
   "execution_count": null,
   "metadata": {},
   "outputs": [],
   "source": [
    "%run utils.py"
   ]
  },
  {
   "cell_type": "code",
   "execution_count": null,
   "metadata": {
    "pycharm": {
     "name": "#%%\n"
    }
   },
   "outputs": [],
   "source": [
    "# find in set ss\n",
    "# a,b such that a + b = 2020\n",
    "def qui(ss:set, sum_val:int) :\n",
    "    while len(ss) > 0 :\n",
    "        a = ss.pop()\n",
    "        b = sum_val - a\n",
    "        if b in ss :\n",
    "            ss.remove(b)\n",
    "            yield (a,b)\n",
    "\n",
    "#print(list(qui(set(Input(1,int)),2020)))\n",
    "x,y = first(qui(set(Input(1,int)),2020))\n",
    "x*y"
   ]
  },
  {
   "cell_type": "code",
   "execution_count": null,
   "metadata": {
    "pycharm": {
     "name": "#%%\n"
    }
   },
   "outputs": [],
   "source": [
    "# find in set ss\n",
    "# a,b,c such that a + b + c = 2020\n",
    "def quo(ss:set, sum_val:int) :\n",
    "    aux = set()\n",
    "    while len(ss) > 0 :\n",
    "        a = ss.pop()\n",
    "        try :\n",
    "            b,c = first(qui(ss.union(aux),sum_val-a))\n",
    "            print (a,b,c)\n",
    "            yield (a,b,c)\n",
    "        except :\n",
    "            aux.add(a)\n",
    "            print(aux)"
   ]
  },
  {
   "cell_type": "code",
   "execution_count": null,
   "metadata": {
    "pycharm": {
     "name": "#%%\n"
    }
   },
   "outputs": [],
   "source": [
    "x,y,z = first(quo(set(Input(1,int)),2020))\n",
    "x*y*z\n",
    "\n",
    "\n",
    "\n",
    "\n",
    "\n",
    "\n"
   ]
  },
  {
   "cell_type": "code",
   "execution_count": null,
   "metadata": {
    "pycharm": {
     "name": "#%%\n"
    }
   },
   "outputs": [],
   "source": [
    "\n"
   ]
  }
 ],
 "metadata": {
  "kernelspec": {
   "display_name": "Python 3",
   "language": "python",
   "name": "python3"
  },
  "language_info": {
   "codemirror_mode": {
    "name": "ipython",
    "version": 2
   },
   "file_extension": ".py",
   "mimetype": "text/x-python",
   "name": "python",
   "nbconvert_exporter": "python",
   "pygments_lexer": "ipython2",
   "version": "2.7.6"
  }
 },
 "nbformat": 4,
 "nbformat_minor": 0
}
