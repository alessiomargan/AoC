{
 "cells": [
  {
   "cell_type": "code",
   "execution_count": null,
   "metadata": {},
   "outputs": [],
   "source": [
    "%run utils.py"
   ]
  },
  {
   "cell_type": "code",
   "execution_count": null,
   "metadata": {},
   "outputs": [],
   "source": [
    "test_one_group = \"\"\"\\\n",
    "abcx\n",
    "abcy\n",
    "abcz\"\"\"\n",
    "\n",
    "test_five_groups = \"\"\"\\\n",
    "abc\n",
    "\n",
    "a\n",
    "b\n",
    "c\n",
    "\n",
    "ab\n",
    "ac\n",
    "\n",
    "a\n",
    "a\n",
    "a\n",
    "a\n",
    "\n",
    "b\"\"\"\n",
    "\n",
    "def splitmulti (iter_in:iter) :\n",
    "    aux = \"\"\n",
    "    for l in iter_in:\n",
    "        if len(l.strip()):\n",
    "            aux += l\n",
    "        else:\n",
    "            yield aux\n",
    "            aux = \"\"\n",
    "    yield aux\n",
    "\n",
    "list(splitmulti(test_five_groups.splitlines()))"
   ]
  },
  {
   "cell_type": "code",
   "execution_count": null,
   "metadata": {},
   "outputs": [],
   "source": [
    "regex = r\"(\\w+)\"\n",
    "re.findall(regex,test_one_group)\n"
   ]
  },
  {
   "cell_type": "code",
   "execution_count": null,
   "metadata": {},
   "outputs": [],
   "source": [
    "set(\"\".join(re.findall(regex,test_one_group)))"
   ]
  },
  {
   "cell_type": "code",
   "execution_count": null,
   "metadata": {},
   "outputs": [],
   "source": [
    "set(re.findall(regex,test_one_group))"
   ]
  },
  {
   "cell_type": "code",
   "execution_count": null,
   "metadata": {},
   "outputs": [],
   "source": [
    "set(re.findall(regex,test_one_group)) == set(test_one_group.splitlines())"
   ]
  },
  {
   "cell_type": "code",
   "execution_count": null,
   "metadata": {},
   "outputs": [],
   "source": [
    "mk_groups = lambda x: [ list(set(\"\".join(re.findall(r\"(\\w+)\",group)))) for group in x ]\n",
    "group_sum = lambda x: sum(map(len,x))"
   ]
  },
  {
   "cell_type": "code",
   "execution_count": null,
   "metadata": {},
   "outputs": [],
   "source": [
    "mk_groups(test_five_groups.split(\"\\n\\n\"))"
   ]
  },
  {
   "cell_type": "code",
   "execution_count": null,
   "metadata": {},
   "outputs": [],
   "source": [
    "mk_groups(splitmulti(test_five_groups.splitlines()))"
   ]
  },
  {
   "cell_type": "code",
   "execution_count": null,
   "metadata": {},
   "outputs": [],
   "source": [
    "group_sum(mk_groups(test_five_groups.split(\"\\n\\n\")))"
   ]
  },
  {
   "cell_type": "code",
   "execution_count": null,
   "metadata": {},
   "outputs": [],
   "source": [
    "string.ascii_lowercase"
   ]
  },
  {
   "cell_type": "code",
   "execution_count": null,
   "metadata": {},
   "outputs": [],
   "source": [
    "group_sum(mk_groups(splitmulti(open(\"input/input6.txt\"))))"
   ]
  },
  {
   "cell_type": "code",
   "execution_count": null,
   "metadata": {},
   "outputs": [],
   "source": [
    "from operator import and_\n",
    "from functools import reduce\n",
    "set_list = [set(s) for s in re.findall(regex,test_one_group)]\n"
   ]
  },
  {
   "cell_type": "code",
   "execution_count": null,
   "metadata": {},
   "outputs": [],
   "source": [
    "reduce(and_, set_list)\n"
   ]
  },
  {
   "cell_type": "code",
   "execution_count": null,
   "metadata": {},
   "outputs": [],
   "source": [
    "set.intersection(*set_list)\n"
   ]
  },
  {
   "cell_type": "code",
   "execution_count": null,
   "metadata": {},
   "outputs": [],
   "source": [
    "def intersec_groups(itergroups:iter):\n",
    "    list_set_group = []\n",
    "    for group in itergroups:\n",
    "        for word in re.findall(r\"(\\w+)\",group):\n",
    "            list_set_group.append(set(word))\n",
    "        yield set.intersection(*list_set_group)\n",
    "        list_set_group = []\n",
    "\n",
    "list(intersec_groups(test_five_groups.split(\"\\n\\n\")))"
   ]
  },
  {
   "cell_type": "code",
   "execution_count": null,
   "metadata": {},
   "outputs": [],
   "source": [
    "group_sum(intersec_groups(splitmulti(open(\"input/input6.txt\"))))"
   ]
  },
  {
   "cell_type": "code",
   "execution_count": null,
   "metadata": {},
   "outputs": [],
   "source": []
  }
 ],
 "metadata": {
  "kernelspec": {
   "display_name": "Python 3.8.5 64-bit ('base': conda)",
   "metadata": {
    "interpreter": {
     "hash": "b69e546690c4946095e0c6a19faf5121c217682b02476cba6a2dd83872ffcf85"
    }
   },
   "name": "python3"
  },
  "language_info": {
   "codemirror_mode": {
    "name": "ipython",
    "version": 3
   },
   "file_extension": ".py",
   "mimetype": "text/x-python",
   "name": "python",
   "nbconvert_exporter": "python",
   "pygments_lexer": "ipython3",
   "version": "3.8.5-final"
  }
 },
 "nbformat": 4,
 "nbformat_minor": 2
}
