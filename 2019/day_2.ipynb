{
 "cells": [
  {
   "cell_type": "code",
   "execution_count": null,
   "metadata": {},
   "outputs": [],
   "source": [
    "%run utils.py\n",
    "from operator import mul, add\n",
    " \n",
    "OPC = {1:add, 2:mul}\n",
    "\n",
    "def computer(progIn:list, pc:int):\n",
    "    while progIn[pc] != 99 :\n",
    "        opc,op1_idx,op2_idx,res_idx = progIn[pc:pc+4]\n",
    "        #print(opc,op1_idx,op2_idx,res_idx)\n",
    "        if opc in OPC.keys() :\n",
    "            progIn[res_idx] = OPC[opc](progIn[op1_idx],progIn[op2_idx])\n",
    "        else :\n",
    "            raise \"Invald opcode\"\n",
    "        pc+=4\n",
    "    #print(\"-----\")\n",
    "    #print(progIn)\n",
    "    #print(\"=====\")\n",
    "    return progIn\n",
    "\n",
    "\n",
    "def get_prog():\n",
    "    prog=list(mapt(int,str.split(Input(2)[0],',')))\n",
    "    prog[1]=12\n",
    "    prog[2]=2\n",
    "    return prog\n",
    "\n",
    "\n",
    "def test():\n",
    "    for (_in,_out) in ( ([1,0,0,0,99],[2,0,0,0,99]),\n",
    "                        ([2,3,0,3,99],[2,3,0,6,99]),\n",
    "                        ([2,4,4,5,99,0],[2,4,4,5,99,9801]),\n",
    "                        ([1,1,1,4,99,5,6,0,99],[30,1,1,4,2,5,6,0,99]), ) :\n",
    "        assert computer(_in,0) == _out\n",
    "        \n",
    "test()"
   ]
  },
  {
   "cell_type": "code",
   "execution_count": null,
   "metadata": {},
   "outputs": [],
   "source": [
    "computer(get_prog(),0)[0]"
   ]
  },
  {
   "cell_type": "code",
   "execution_count": null,
   "metadata": {},
   "outputs": [],
   "source": [
    "for noun,verb in product(range(0,100),range(0,100)):\n",
    "    p = get_prog()\n",
    "    p[1] = noun\n",
    "    p[2] = verb\n",
    "    if computer(p, 0)[0] == 19690720 :\n",
    "        print ( 100 * noun + verb )"
   ]
  },
  {
   "cell_type": "code",
   "execution_count": null,
   "metadata": {},
   "outputs": [],
   "source": []
  }
 ],
 "metadata": {
  "file_extension": ".py",
  "kernelspec": {
   "display_name": "Python 3",
   "language": "python",
   "name": "python3"
  },
  "language_info": {
   "codemirror_mode": {
    "name": "ipython",
    "version": 3
   },
   "name": "python",
   "version": "3.7.3-final"
  },
  "mimetype": "text/x-python",
  "name": "python",
  "npconvert_exporter": "python",
  "pygments_lexer": "ipython3",
  "version": 3
 },
 "nbformat": 4,
 "nbformat_minor": 2
}
