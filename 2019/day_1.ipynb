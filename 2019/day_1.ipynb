{
 "cells": [
  {
   "cell_type": "code",
   "execution_count": null,
   "metadata": {
    "pycharm": {
     "is_executing": false
    }
   },
   "outputs": [],
   "source": [
    "%run ../utils.py\n",
    "\n",
    "def fuel4module_mass(mm):\n",
    "    result = math.floor( int(mm) / 3 ) - 2\n",
    "    return result if result > 0 else 0\n",
    "\n",
    "def gen_fuel4module_mass(fmm):\n",
    "    while fmm > 0 :\n",
    "        fmm = fuel4module_mass(fmm)\n",
    "        yield fmm\n",
    "\n",
    "def test(): \n",
    "    assert list(gen_fuel4module_mass(1969)) == [654, 216, 70, 21, 5, 0]\n",
    "    assert sum(gen_fuel4module_mass(1969)) == 966\n",
    "    assert first([1,2,3,4]) == 1\n",
    "    assert nth([1,3,2,4],2) == 2\n",
    "    assert list(upto([1,5,3,7],3)) == [1]\n",
    "    assert list(upto(sorted([1,5,3,7]),3)) == [1,3]\n",
    "    \n",
    "test()\n",
    "\n",
    "f4mm = Input(1, fuel4module_mass)\n",
    "\n",
    "sum(f4mm)"
   ]
  },
  {
   "cell_type": "code",
   "execution_count": null,
   "metadata": {
    "pycharm": {
     "is_executing": false
    }
   },
   "outputs": [],
   "source": [
    "sum(mapt(sum,mapt(gen_fuel4module_mass,f4mm))) + sum(f4mm)"
   ]
  },
  {
   "cell_type": "code",
   "execution_count": null,
   "metadata": {
    "pycharm": {
     "is_executing": false
    }
   },
   "outputs": [],
   "source": [
    "mapt(list,mapt(gen_fuel4module_mass,f4mm))"
   ]
  },
  {
   "cell_type": "code",
   "execution_count": null,
   "metadata": {},
   "outputs": [],
   "source": []
  }
 ],
 "metadata": {
  "kernelspec": {
   "display_name": "Python 3",
   "language": "python",
   "name": "python3"
  },
  "language_info": {
   "codemirror_mode": {
    "name": "ipython",
    "version": 3
   },
   "file_extension": ".py",
   "mimetype": "text/x-python",
   "name": "python",
   "nbconvert_exporter": "python",
   "pygments_lexer": "ipython3",
   "version": "3.7.3-final"
  },
  "pycharm": {
   "stem_cell": {
    "cell_type": "raw",
    "metadata": {
     "collapsed": false
    },
    "source": []
   }
  }
 },
 "nbformat": 4,
 "nbformat_minor": 2
}
