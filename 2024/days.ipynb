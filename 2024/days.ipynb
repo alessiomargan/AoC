{
 "cells": [
  {
   "cell_type": "code",
   "execution_count": null,
   "metadata": {},
   "outputs": [],
   "source": [
    "import sys  \n",
    "sys.path.insert(1, '..')\n",
    "from aoc_utils import *"
   ]
  },
  {
   "attachments": {},
   "cell_type": "markdown",
   "metadata": {},
   "source": [
    "# Home\n",
    "\n",
    "Each day's work will consist of three tasks:\n",
    "- **Input**: Parse the day's input file with the function `parse(day, parser, sep)`, which treats the input as a sequence of *entries*, separated by `sep` (default newline); applies `parser` to each entry; and returns the results as a tuple. (Note: `ints` and `atoms` are useful `parser` functions (as are `int` and `str`).)\n",
    "- **Part 1**: Write code to compute the answer to Part 1, and submit the answer to the AoC site. Use the function `answer` to record the correct answer and serve as a regression test when I re-run the notebook.\n",
    "- **Part 2**: Repeat coding and `answer` for Part 2.\n",
    "\n",
    "1. [Day 1](#day-1)\n",
    "2. [Day 2](#day-2)\n",
    "3. [Day 3](#day-3)\n",
    "4. [Day 4](#day-4)\n",
    "5. [Day 5](#day-5)\n",
    "6. [Day 6](#day-6)\n",
    "7. [Day 7](#day-7)\n",
    "8. [Day 8](#day-8)\n",
    "9. [Day 9](#day-9)\n",
    "10. [Day 10](#day-10)\n",
    "11. [Day 11](#day-11)\n",
    "12. [Day 12](#day-12)\n",
    "13. [Day 13](#day-13)\n"
   ]
  },
  {
   "cell_type": "markdown",
   "metadata": {},
   "source": [
    "[home](#home)\n",
    "# Day 1\n",
    "[Historian Hysteria](https://adventofcode.com/2024/day/1)  \n",
    "```\n",
    "```"
   ]
  },
  {
   "cell_type": "code",
   "execution_count": null,
   "metadata": {},
   "outputs": [],
   "source": [
    "get_in_file(1,2024)"
   ]
  },
  {
   "cell_type": "code",
   "execution_count": null,
   "metadata": {},
   "outputs": [],
   "source": [
    "# in_part_A as tuple of 2-tuple \n",
    "in_part_A = Input(1, line_parser=ints)\n",
    "# https://more-itertools.readthedocs.io/en/stable/api.html#more_itertools.collapse\n",
    "# https://more-itertools.readthedocs.io/en/stable/api.html#more_itertools.partition\n",
    "#is_odd = lambda x: x % 2 != 0\n",
    "#left, right = partition(is_odd, collapse(in_part_A))\n",
    "# https://more-itertools.readthedocs.io/en/stable/api.html#more_itertools.unzip\n",
    "left, right = unzip(in_part_A)\n",
    "dist = lambda x,y: abs(x-y)\n",
    "res = sum(map(dist,sorted(list(left)),sorted(list(right))))\n",
    "res"
   ]
  },
  {
   "cell_type": "code",
   "execution_count": null,
   "metadata": {},
   "outputs": [],
   "source": [
    "submit(res, part=\"a\", day=1, year=2024)"
   ]
  },
  {
   "cell_type": "markdown",
   "metadata": {},
   "source": [
    "### Part 2\n"
   ]
  },
  {
   "cell_type": "code",
   "execution_count": null,
   "metadata": {},
   "outputs": [],
   "source": [
    "left, right = unzip(in_part_A)\n",
    "counter_right = Counter(right)\n",
    "counter_right.most_common(3)"
   ]
  },
  {
   "cell_type": "code",
   "execution_count": null,
   "metadata": {},
   "outputs": [],
   "source": [
    "func = lambda x: x*counter_right[x]\n",
    "res_b = sum(map(func,left))\n",
    "res_b"
   ]
  },
  {
   "cell_type": "code",
   "execution_count": null,
   "metadata": {},
   "outputs": [],
   "source": [
    "submit(res_b, part=\"b\", day=1, year=2024)"
   ]
  },
  {
   "cell_type": "markdown",
   "metadata": {},
   "source": [
    "[home](#home)\n",
    "# Day 2\n",
    "[Red-Nosed Reports](https://adventofcode.com/2024/day/2)   \n",
    "\n",
    "a report only counts as safe if both of the following are true:\n",
    "- The levels are either *all increasing* or *all decreasing*.\n",
    "- Any two adjacent levels differ by at *least one* and at *most three*.\n"
   ]
  },
  {
   "cell_type": "code",
   "execution_count": null,
   "metadata": {},
   "outputs": [],
   "source": [
    "get_in_file(2,2024)"
   ]
  },
  {
   "cell_type": "code",
   "execution_count": null,
   "metadata": {},
   "outputs": [],
   "source": [
    "in_part_A = Input(2, line_parser=ints)"
   ]
  },
  {
   "cell_type": "code",
   "execution_count": null,
   "metadata": {},
   "outputs": [],
   "source": [
    "# all decreasing and any two adjacent levels differ by at least one and at most three\n",
    "cond1 = lambda x,y: 1 if (x>y)and(abs(x-y)>0)and(abs(x-y)<4) else 0\n",
    "# all increasing and any two adjacent levels differ by at least one and at most three\n",
    "cond2 = lambda x,y: 1 if (x<y)and(abs(x-y)>0)and(abs(x-y)<4) else 0\n",
    "set1=set([level for level in in_part_A if all([(cond1)(*pair) for pair in pairwise(level)])])\n",
    "set2=set([level for level in in_part_A if all([(cond2)(*pair) for pair in pairwise(level)])])"
   ]
  },
  {
   "cell_type": "code",
   "execution_count": null,
   "metadata": {},
   "outputs": [],
   "source": [
    "res_a = len(set1)+len(set2)\n",
    "res_a"
   ]
  },
  {
   "cell_type": "code",
   "execution_count": null,
   "metadata": {},
   "outputs": [],
   "source": [
    "submit(res_a, part=\"a\", day=2, year=2024)"
   ]
  },
  {
   "cell_type": "markdown",
   "metadata": {},
   "source": [
    "### Part 2\n",
    "\n",
    "the same rules apply as before, except if removing a single level from an unsafe report would make it safe, the report instead counts as safe"
   ]
  },
  {
   "cell_type": "code",
   "execution_count": null,
   "metadata": {},
   "outputs": [],
   "source": [
    "set_all=set([level for level in in_part_A])"
   ]
  },
  {
   "cell_type": "code",
   "execution_count": null,
   "metadata": {},
   "outputs": [],
   "source": [
    "unsafe = set_all-set1-set2"
   ]
  },
  {
   "cell_type": "code",
   "execution_count": null,
   "metadata": {},
   "outputs": [],
   "source": [
    "def tolerate_one_bad_level(lvl):\n",
    "    for c in combinations(lvl,len(lvl)-1):\n",
    "        if all([(cond1)(*pair) for pair in pairwise(c)]) :\n",
    "            return True\n",
    "        if all([(cond2)(*pair) for pair in pairwise(c)]) :\n",
    "            return True\n",
    "    return False    \n",
    "\n",
    "set3=set([level for level in unsafe if tolerate_one_bad_level(level)])\n"
   ]
  },
  {
   "cell_type": "code",
   "execution_count": null,
   "metadata": {},
   "outputs": [],
   "source": [
    "res_b = res_a+len(set3)\n",
    "res_b"
   ]
  },
  {
   "cell_type": "code",
   "execution_count": null,
   "metadata": {},
   "outputs": [],
   "source": [
    "submit(res_b, part=\"b\", day=2, year=2024)"
   ]
  },
  {
   "cell_type": "markdown",
   "metadata": {},
   "source": [
    "[home](#home)\n",
    "# Day 3\n",
    "[...](https://adventofcode.com/2024/day/3)  \n"
   ]
  },
  {
   "cell_type": "code",
   "execution_count": null,
   "metadata": {},
   "outputs": [],
   "source": [
    "get_in_file(3,2023)"
   ]
  }
 ],
 "metadata": {
  "kernelspec": {
   "display_name": "aoc_24",
   "language": "python",
   "name": "python3"
  },
  "language_info": {
   "codemirror_mode": {
    "name": "ipython",
    "version": 3
   },
   "file_extension": ".py",
   "mimetype": "text/x-python",
   "name": "python",
   "nbconvert_exporter": "python",
   "pygments_lexer": "ipython3",
   "version": "3.12.7"
  },
  "orig_nbformat": 4
 },
 "nbformat": 4,
 "nbformat_minor": 2
}
