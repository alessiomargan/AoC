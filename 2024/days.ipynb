{
 "cells": [
  {
   "cell_type": "code",
   "execution_count": null,
   "metadata": {},
   "outputs": [],
   "source": [
    "import sys  \n",
    "sys.path.insert(1, '..')\n",
    "from aoc_utils import *\n",
    "from bigtree import list_to_tree, levelorder_iter\n",
    "\n",
    "def isValid(np_shape: Tuple, index: Tuple)->bool:\n",
    "    index = np.array(index)\n",
    "    return (index >= 0).all() and (index < np_shape).all()"
   ]
  },
  {
   "cell_type": "markdown",
   "metadata": {},
   "source": [
    "### “i.e.” Latin \"id est\" => “that is.”  \n",
    "### “e.g.” Latin \"exempli gratia\" => “for example.”"
   ]
  },
  {
   "attachments": {},
   "cell_type": "markdown",
   "metadata": {},
   "source": [
    "# Home\n",
    "\n",
    "Each day's work will consist of three tasks:\n",
    "- **Input**: Parse the day's input file with the function `parse(day, parser, sep)`, which treats the input as a sequence of *entries*, separated by `sep` (default newline); applies `parser` to each entry; and returns the results as a tuple. (Note: `ints` and `atoms` are useful `parser` functions (as are `int` and `str`).)\n",
    "- **Part 1**: Write code to compute the answer to Part 1, and submit the answer to the AoC site. Use the function `answer` to record the correct answer and serve as a regression test when I re-run the notebook.\n",
    "- **Part 2**: Repeat coding and `answer` for Part 2.\n",
    "\n",
    "1. [Day 1](#day-1)\n",
    "2. [Day 2](#day-2)\n",
    "3. [Day 3](#day-3)\n",
    "4. [Day 4](#day-4)\n",
    "5. [Day 5](#day-5)\n",
    "6. [Day 6](#day-6)\n",
    "7. [Day 7](#day-7)\n",
    "8. [Day 8](#day-8)\n",
    "9. [Day 9](#day-9)\n",
    "10. [Day 10](#day-10)\n",
    "11. [Day 11](#day-11)\n",
    "12. [Day 12](#day-12)\n",
    "13. [Day 13](#day-13)\n"
   ]
  },
  {
   "cell_type": "markdown",
   "metadata": {},
   "source": [
    "[home](#home)\n",
    "# Day 1\n",
    "[Historian Hysteria](https://adventofcode.com/2024/day/1)  \n",
    "```\n",
    "```"
   ]
  },
  {
   "cell_type": "code",
   "execution_count": null,
   "metadata": {},
   "outputs": [],
   "source": [
    "get_in_file(1,2024)"
   ]
  },
  {
   "cell_type": "code",
   "execution_count": null,
   "metadata": {},
   "outputs": [],
   "source": [
    "# in_part_A as tuple of 2-tuple \n",
    "in_part_A = Input(1, line_parser=ints)\n",
    "# https://more-itertools.readthedocs.io/en/stable/api.html#more_itertools.collapse\n",
    "# https://more-itertools.readthedocs.io/en/stable/api.html#more_itertools.partition\n",
    "#is_odd = lambda x: x % 2 != 0\n",
    "#left, right = partition(is_odd, collapse(in_part_A))\n",
    "# https://more-itertools.readthedocs.io/en/stable/api.html#more_itertools.unzip\n",
    "left, right = unzip(in_part_A)\n",
    "dist = lambda x,y: abs(x-y)\n",
    "res = sum(map(dist,sorted(list(left)),sorted(list(right))))\n",
    "res"
   ]
  },
  {
   "cell_type": "code",
   "execution_count": null,
   "metadata": {},
   "outputs": [],
   "source": [
    "submit(res, part=\"a\", day=1, year=2024)"
   ]
  },
  {
   "cell_type": "markdown",
   "metadata": {},
   "source": [
    "### Part 2\n"
   ]
  },
  {
   "cell_type": "code",
   "execution_count": null,
   "metadata": {},
   "outputs": [],
   "source": [
    "left, right = unzip(in_part_A)\n",
    "counter_right = Counter(right)\n",
    "counter_right.most_common(3)"
   ]
  },
  {
   "cell_type": "code",
   "execution_count": null,
   "metadata": {},
   "outputs": [],
   "source": [
    "func = lambda x: x*counter_right[x]\n",
    "res_b = sum(map(func,left))\n",
    "res_b"
   ]
  },
  {
   "cell_type": "code",
   "execution_count": null,
   "metadata": {},
   "outputs": [],
   "source": [
    "submit(res_b, part=\"b\", day=1, year=2024)"
   ]
  },
  {
   "cell_type": "markdown",
   "metadata": {},
   "source": [
    "[home](#home)\n",
    "# Day 2\n",
    "[Red-Nosed Reports](https://adventofcode.com/2024/day/2)   \n",
    "\n",
    "a report only counts as safe if both of the following are true:\n",
    "- The levels are either *all increasing* or *all decreasing*.\n",
    "- Any two adjacent levels differ by at *least one* and at *most three*.\n"
   ]
  },
  {
   "cell_type": "code",
   "execution_count": null,
   "metadata": {},
   "outputs": [],
   "source": [
    "get_in_file(2,2024)"
   ]
  },
  {
   "cell_type": "code",
   "execution_count": null,
   "metadata": {},
   "outputs": [],
   "source": [
    "in_part_A = Input(2, line_parser=ints)"
   ]
  },
  {
   "cell_type": "code",
   "execution_count": null,
   "metadata": {},
   "outputs": [],
   "source": [
    "# all decreasing and any two adjacent levels differ by at least one and at most three\n",
    "cond1 = lambda x,y: 1 if (x>y)and(abs(x-y)>0)and(abs(x-y)<4) else 0\n",
    "# all increasing and any two adjacent levels differ by at least one and at most three\n",
    "cond2 = lambda x,y: 1 if (x<y)and(abs(x-y)>0)and(abs(x-y)<4) else 0\n",
    "set1=set([level for level in in_part_A if all([(cond1)(*pair) for pair in pairwise(level)])])\n",
    "set2=set([level for level in in_part_A if all([(cond2)(*pair) for pair in pairwise(level)])])"
   ]
  },
  {
   "cell_type": "code",
   "execution_count": null,
   "metadata": {},
   "outputs": [],
   "source": [
    "res_a = len(set1)+len(set2)\n",
    "res_a"
   ]
  },
  {
   "cell_type": "code",
   "execution_count": null,
   "metadata": {},
   "outputs": [],
   "source": [
    "submit(res_a, part=\"a\", day=2, year=2024)"
   ]
  },
  {
   "cell_type": "markdown",
   "metadata": {},
   "source": [
    "### Part 2\n",
    "\n",
    "the same rules apply as before, except if removing a single level from an unsafe report would make it safe, the report instead counts as safe"
   ]
  },
  {
   "cell_type": "code",
   "execution_count": null,
   "metadata": {},
   "outputs": [],
   "source": [
    "set_all=set([level for level in in_part_A])"
   ]
  },
  {
   "cell_type": "code",
   "execution_count": null,
   "metadata": {},
   "outputs": [],
   "source": [
    "unsafe = set_all-set1-set2"
   ]
  },
  {
   "cell_type": "code",
   "execution_count": null,
   "metadata": {},
   "outputs": [],
   "source": [
    "def tolerate_one_bad_level(lvl):\n",
    "    for c in combinations(lvl,len(lvl)-1):\n",
    "        if all([(cond1)(*pair) for pair in pairwise(c)]) :\n",
    "            return True\n",
    "        if all([(cond2)(*pair) for pair in pairwise(c)]) :\n",
    "            return True\n",
    "    return False    \n",
    "\n",
    "set3=set([level for level in unsafe if tolerate_one_bad_level(level)])\n"
   ]
  },
  {
   "cell_type": "code",
   "execution_count": null,
   "metadata": {},
   "outputs": [],
   "source": [
    "res_b = res_a+len(set3)\n",
    "res_b"
   ]
  },
  {
   "cell_type": "code",
   "execution_count": null,
   "metadata": {},
   "outputs": [],
   "source": [
    "submit(res_b, part=\"b\", day=2, year=2024)"
   ]
  },
  {
   "cell_type": "markdown",
   "metadata": {},
   "source": [
    "[home](#home)\n",
    "# Day 3\n",
    "[Mull It Over](https://adventofcode.com/2024/day/3)  \n",
    "\n",
    "consider the following section of corrupted memory: \n",
    "\n",
    "x**mul(2,4)**%&mul[3,7]!@^do_not_**mul(5,5)**+mul(32,64]then(**mul(11,8)mul(8,5)**)  \n",
    "\n",
    "Only the four highlighted sections are real mul instructions"
   ]
  },
  {
   "cell_type": "code",
   "execution_count": null,
   "metadata": {},
   "outputs": [],
   "source": [
    "get_in_file(3,2024)\n",
    "in_part_A = Input(3)"
   ]
  },
  {
   "cell_type": "code",
   "execution_count": null,
   "metadata": {},
   "outputs": [],
   "source": [
    "regex = r'mul\\((\\d\\d*\\d*),(\\d\\d*\\d*)\\)'\n",
    "res_a = sum([(lambda x,y:int(x)*int(y))(*pair) for pair in collapse([re.findall(regex, line) for line in in_part_A],base_type=tuple)])\n",
    "res_a"
   ]
  },
  {
   "cell_type": "code",
   "execution_count": null,
   "metadata": {},
   "outputs": [],
   "source": [
    "submit(res_a, part=\"a\", day=3, year=2024)"
   ]
  },
  {
   "cell_type": "markdown",
   "metadata": {},
   "source": [
    "### Part 2"
   ]
  },
  {
   "cell_type": "code",
   "execution_count": null,
   "metadata": {},
   "outputs": [],
   "source": [
    "regex = r'mul\\((\\d\\d*\\d*),(\\d\\d*\\d*)\\)|(?P<ENA>do\\(\\))|(?P<DIS>don\\'t\\(\\))'"
   ]
  },
  {
   "cell_type": "code",
   "execution_count": null,
   "metadata": {},
   "outputs": [],
   "source": [
    "enable = True\n",
    "res_b=0\n",
    "# collapse is a generator ...\n",
    "for mo in collapse([re.findall(regex, line) for line in in_part_A],base_type=tuple):\n",
    "    x,y,ena,dis = mo\n",
    "    if ena != '':\n",
    "        enable = True\n",
    "        continue\n",
    "    if dis != '':\n",
    "        enable = False\n",
    "        continue\n",
    "    if enable :\n",
    "        res_b += int(x)*int(y)\n",
    "        \n",
    "res_b"
   ]
  },
  {
   "cell_type": "code",
   "execution_count": null,
   "metadata": {},
   "outputs": [],
   "source": [
    "submit(res_b, part=\"b\", day=3, year=2024)"
   ]
  },
  {
   "cell_type": "markdown",
   "metadata": {},
   "source": [
    "[home](#home)\n",
    "# Day 4\n",
    "[Ceres Search](https://adventofcode.com/2024/day/4)  \n",
    "\n",
    "This word (*XMAS*) search allows words to be horizontal, vertical, diagonal, written backwards, or even overlapping other words"
   ]
  },
  {
   "cell_type": "code",
   "execution_count": null,
   "metadata": {},
   "outputs": [],
   "source": [
    "get_in_file(4,2024)\n",
    "\n",
    "test_d4 = '''\n",
    "MMMSXXMASM\n",
    "MSAMXMSMSA\n",
    "AMXSXMAAMM\n",
    "MSAMASMSMX\n",
    "XMASAMXAMM\n",
    "XXAMMXXAMA\n",
    "SMSMSASXSS\n",
    "SAXAMASAAA\n",
    "MAMMMXMMMM\n",
    "MXMXAXMASX\n",
    "'''\n",
    "\n",
    "p = lambda x:tuple(x)\n",
    "in_part_A = mapt(p,Input(4))\n",
    "#in_part_A = mapt(p,test_d4.rstrip().split())\n",
    "M = np.matrix(in_part_A)\n",
    "shape = M.shape"
   ]
  },
  {
   "cell_type": "code",
   "execution_count": null,
   "metadata": {},
   "outputs": [],
   "source": [
    "X_idx = (0,0)\n",
    "M_idx = set(product((-1,0,1),repeat=2)) - {(0,0)}\n",
    "A_idx = set(product((-2,0,2),repeat=2)) - {(0,0)}\n",
    "S_idx = set(product((-3,0,3),repeat=2)) - {(0,0)}\n",
    "\n",
    "___0d = {'M':( 1, 0),'A':( 2, 0),'S':( 3, 0)}\n",
    "__45d = {'M':( 1, 1),'A':( 2, 2),'S':( 3, 3)}\n",
    "__90d = {'M':( 0, 1),'A':( 0, 2),'S':( 0, 3)}\n",
    "_135d = {'M':(-1, 1),'A':(-2, 2),'S':(-3, 3)}\n",
    "_180d = {'M':(-1, 0),'A':(-2, 0),'S':(-3, 0)}\n",
    "_225d = {'M':(-1,-1),'A':(-2,-2),'S':(-3,-3)}\n",
    "_270d = {'M':( 0,-1),'A':( 0,-2),'S':( 0,-3)}\n",
    "_315d = {'M':( 1,-1),'A':( 2,-2),'S':( 3,-3)}\n",
    "\n",
    "dDeg = [___0d,__45d,__90d,_135d,_180d,_225d,_270d,_315d]\n"
   ]
  },
  {
   "cell_type": "code",
   "execution_count": null,
   "metadata": {},
   "outputs": [],
   "source": [
    "res_a = 0\n",
    "with np.nditer(M, flags=['multi_index']) as it :\n",
    "    for x in it:\n",
    "        #print(\"%s <%s>\" % (x, it.multi_index), end=' ')\n",
    "        if x != 'X' :\n",
    "            # next matrix element\n",
    "            continue\n",
    "        for d in dDeg :\n",
    "            for k,v in d.items() :\n",
    "                ij = add_tuple(v,it.multi_index)\n",
    "                if not isValid(shape,ij) or M[ij] != k :\n",
    "                    # break, not found ... next d in dDeg\n",
    "                    break\n",
    "            # https://docs.python.org/3/tutorial/controlflow.html#else-clauses-on-loops\n",
    "            # If the loop finishes without executing the break, the else clause executes\n",
    "            else :\n",
    "                # found !\n",
    "                res_a +=1\n",
    "res_a            "
   ]
  },
  {
   "cell_type": "code",
   "execution_count": null,
   "metadata": {},
   "outputs": [],
   "source": [
    "submit(res_a, part=\"a\", day=4, year=2024)"
   ]
  },
  {
   "cell_type": "markdown",
   "metadata": {},
   "source": [
    "### Part 2  \n",
    "\n",
    "*West* *North* *East* *South*\n",
    "```\n",
    "M S   M M   S M   S S\n",
    " A     A     A     A\n",
    "M S   S S   S M   M M\n",
    "\n",
    "M : (-1, 1)(-1,-1)\n",
    "A : ( 1, 1)( 1,-1)\n",
    "\n",
    "....\n",
    "```\n"
   ]
  },
  {
   "cell_type": "code",
   "execution_count": null,
   "metadata": {},
   "outputs": [],
   "source": [
    "# West --> M M \n",
    "W = {'M':((-1, 1),(-1,-1)),'S':(( 1, 1),( 1,-1))}\n",
    "# North\n",
    "N = {'M':((-1, 1),( 1, 1)),'S':(( 1,-1),(-1,-1))}\n",
    "# East \n",
    "E = {'S':((-1, 1),(-1,-1)),'M':(( 1, 1),( 1,-1))}\n",
    "# South\n",
    "S = {'S':((-1, 1),( 1, 1)),'M':(( 1,-1),(-1,-1))}\n",
    "\n",
    "wnes = [W,N,E,S]"
   ]
  },
  {
   "cell_type": "code",
   "execution_count": null,
   "metadata": {},
   "outputs": [],
   "source": [
    "res_b = 0\n",
    "idx_S = set()\n",
    "valid_M = np.zeros(shape)\n",
    "with np.nditer(M, flags=['multi_index']) as it :\n",
    "    for x in it:\n",
    "        #print(\"%s <%s>\" % (x, it.multi_index), end=' ')\n",
    "        if x != 'A' :\n",
    "            # next matrix element\n",
    "            continue\n",
    "        for d in wnes :\n",
    "            for k,vv in d.items() :\n",
    "                v1,v2 = vv\n",
    "                ij = add_tuple(v1,it.multi_index)\n",
    "                if not isValid(shape,ij) or M[ij] != k :\n",
    "                    # break, not found ... next d in wnes\n",
    "                    break\n",
    "                idx_S.add(ij)\n",
    "                valid_M[ij] = 1\n",
    "                ij = add_tuple(v2,it.multi_index)\n",
    "                if not isValid(shape,ij) or M[ij] != k :\n",
    "                    # break, not found ... next d in wnes\n",
    "                    break\n",
    "                idx_S.add(ij)\n",
    "                valid_M[ij] = 1\n",
    "                \n",
    "            # https://docs.python.org/3/tutorial/controlflow.html#else-clauses-on-loops\n",
    "            # If the loop finishes without executing the break, the else clause executes\n",
    "            else :\n",
    "                # found !\n",
    "                res_b +=1\n",
    "                # current matrix element\n",
    "                valid_M[it.multi_index] = 1\n",
    "res_b"
   ]
  },
  {
   "cell_type": "code",
   "execution_count": null,
   "metadata": {},
   "outputs": [],
   "source": [
    "submit(res_b, part=\"b\", day=4, year=2024)"
   ]
  },
  {
   "cell_type": "code",
   "execution_count": null,
   "metadata": {},
   "outputs": [],
   "source": [
    "with np.nditer(M, flags=['multi_index']) as it :\n",
    "    for x in it:\n",
    "        if not valid_M[it.multi_index] :\n",
    "            M[it.multi_index] = '.'\n",
    "M"
   ]
  },
  {
   "cell_type": "markdown",
   "metadata": {},
   "source": [
    "[home](#home)\n",
    "# Day 5\n",
    "[Print Queue](https://adventofcode.com/2024/day/5)  \n",
    "\n",
    "Inupt file consists of 2 parts\n",
    "- page ordering rules \n",
    "- pages to produce in each update\n",
    "\n",
    "rule **47|53**, means that if an update includes both page number 47 and page number 53,  \n",
    "then page number 47 must be printed at some point before page number 53  \n",
    "\n",
    "75,**47**,61,**53**,29\n",
    "\n",
    "**75** is correct due to rules 75|47, 75|61, 75|53, and 75|29"
   ]
  },
  {
   "cell_type": "code",
   "execution_count": null,
   "metadata": {},
   "outputs": [],
   "source": [
    "get_in_file(5,2024)"
   ]
  },
  {
   "cell_type": "code",
   "execution_count": null,
   "metadata": {},
   "outputs": [],
   "source": [
    "test_d5 = '''\n",
    "47|53\n",
    "97|13\n",
    "97|61\n",
    "97|47\n",
    "75|29\n",
    "61|13\n",
    "75|53\n",
    "29|13\n",
    "97|29\n",
    "53|29\n",
    "61|53\n",
    "97|53\n",
    "61|29\n",
    "47|13\n",
    "75|47\n",
    "97|75\n",
    "47|61\n",
    "75|61\n",
    "47|29\n",
    "75|13\n",
    "53|13\n",
    "\n",
    "75,47,61,53,29\n",
    "97,61,53,29,13\n",
    "75,29,13\n",
    "75,97,47,61,53\n",
    "61,13,29\n",
    "97,13,75,29,47\n",
    "'''"
   ]
  },
  {
   "cell_type": "code",
   "execution_count": null,
   "metadata": {},
   "outputs": [],
   "source": [
    "p = lambda x: x.strip().split()\n",
    "raw_rules,pages = parse(5, parser=p, sep=\"\\n\\n\")\n",
    "#raw_rules,pages = mapt(p, test_d5.split(\"\\n\\n\"))\n",
    "pages = mapt(lambda x: mapt(int,x),(mapt(lambda x: x.split(','),pages)))\n",
    "rules = defaultdict(set)\n",
    "for k,v in sliced(mapt(int,flatten(mapt(lambda x: x.split('|'),raw_rules))),2) :\n",
    "    rules[k].add(v)\n"
   ]
  },
  {
   "cell_type": "code",
   "execution_count": null,
   "metadata": {},
   "outputs": [],
   "source": [
    "valid_pages = []\n",
    "invalid_pages = []\n",
    "res_a = 0\n",
    "for pg in pages :\n",
    "    #print(pg)\n",
    "    for i in range(len(pg)) :\n",
    "        curr_pg = pg[i]\n",
    "        rule = rules[pg[i]]\n",
    "        pre_pg,post_pg = pg[:i],pg[i+1:]\n",
    "        #print('{}:{} pre {} post {} {}'.format(curr_pg,rule,pre_pg,post_pg,rule.isdisjoint(set(pre_pg))))\n",
    "        if not rule.isdisjoint(set(pre_pg)) :\n",
    "            invalid_pages.append(pg)\n",
    "            break\n",
    "    else :\n",
    "        valid_pages.append(pg)\n",
    "        res_a += pg[math.floor(len(pg)/2)]\n",
    "    #print()\n",
    "res_a"
   ]
  },
  {
   "cell_type": "code",
   "execution_count": null,
   "metadata": {},
   "outputs": [],
   "source": [
    "submit(res_a, part=\"a\", day=5, year=2024)"
   ]
  },
  {
   "cell_type": "markdown",
   "metadata": {},
   "source": [
    "### Part 2"
   ]
  },
  {
   "cell_type": "code",
   "execution_count": null,
   "metadata": {},
   "outputs": [],
   "source": [
    "res_b = 0\n",
    "for pg_inv in invalid_pages :\n",
    "    print('invalid {}'.format(pg_inv))\n",
    "    pg_inv_s = set(pg_inv)\n",
    "    d = {k:(v.intersection(pg_inv_s)) for (k,v) in rules.items() if k in pg_inv}\n",
    "    s = sorted(d.items(), key=lambda item: len(item[1]),reverse=True)\n",
    "    #print(s)\n",
    "    l = [t[0] for t in s]\n",
    "    #print(l)\n",
    "    res_b += l[math.floor(len(l)/2)]\n",
    "res_b"
   ]
  },
  {
   "cell_type": "code",
   "execution_count": null,
   "metadata": {},
   "outputs": [],
   "source": [
    "submit(res_b, part=\"b\", day=5, year=2024)"
   ]
  },
  {
   "cell_type": "markdown",
   "metadata": {},
   "source": [
    "[home](#home)\n",
    "# Day 6\n",
    "[Guard Gallivant](https://adventofcode.com/2024/day/6)  \n",
    "\n",
    "\n",
    "Lab guards follow a patrol protocol which involves repeatedly following these steps:\n",
    "- If there is something directly in front of you, turn right 90 degrees.\n",
    "- Otherwise, take a step forward.\n"
   ]
  },
  {
   "cell_type": "code",
   "execution_count": null,
   "metadata": {},
   "outputs": [],
   "source": [
    "get_in_file(6,2024)"
   ]
  },
  {
   "cell_type": "code",
   "execution_count": null,
   "metadata": {},
   "outputs": [],
   "source": [
    "test_d6 = '''\n",
    "....#.....\n",
    ".........#\n",
    "..........\n",
    "..#.......\n",
    ".......#..\n",
    "..........\n",
    ".#..^.....\n",
    "........#.\n",
    "#.........\n",
    "......#...\n",
    "'''\n",
    "\n",
    "p = lambda x:tuple(x)\n",
    "#in_part_A = mapt(p,Input(6))\n",
    "in_part_A = mapt(p,test_d6.rstrip().split())\n",
    "MpA = np.matrix(in_part_A)\n",
    "MpA.shape, MpA.size"
   ]
  },
  {
   "cell_type": "code",
   "execution_count": null,
   "metadata": {},
   "outputs": [],
   "source": [
    "# each ordered key turn right 90 degrees\n",
    "guard_pos_d = OrderedDict({'^':(-1,0),'>':(0,1),'v':(1,0),'<':(0,-1)})\n",
    "#Step = namedtuple('Step','dir,pos,turn,pred_step')\n",
    "#Step = namedtuple('Step','dir,pos,turn')\n",
    "# !!! https://docs.python.org/3.13/reference/datamodel.html#object.__hash__\n",
    "# If a class that overrides __eq__() needs to retain the implementation of __hash__() from a parent class,\n",
    "# the interpreter must be told this explicitly by setting __hash__ = <ParentClass>.__hash__.\n",
    "class Step(namedtuple('Step',['dir','pos','turn'])):\n",
    "    __hash__ = tuple.__hash__\n",
    "    def __eq__(self,other)->bool:\n",
    "        return self.dir==other.dir and self.pos==other.pos\n",
    "        \n",
    "#assert(Step('^',(0,1),False) == Step('^',(0,1),True))"
   ]
  },
  {
   "cell_type": "code",
   "execution_count": null,
   "metadata": {},
   "outputs": [],
   "source": [
    "start_pos = Step('^',mapt(int,tuple(np.argwhere(MpA == '^')[0])),False)\n",
    "start_pos"
   ]
  },
  {
   "cell_type": "code",
   "execution_count": null,
   "metadata": {},
   "outputs": [],
   "source": [
    "def get_next_turn(t):\n",
    "    try :\n",
    "        l=list(guard_pos_d.keys())\n",
    "        return l[l.index(t)+1]\n",
    "    except IndexError :\n",
    "        return l[0]\n",
    "\n",
    "def get_next_step(s:Step,M)->Step:\n",
    "    \"\"\" get next step : \n",
    "         - turn 90 degree if obstacle in front\n",
    "        OR\n",
    "         - move forward         \n",
    "    \"\"\"\n",
    "    next_pos = add_tuple(s.pos,guard_pos_d[s.dir])\n",
    "    if not isValid(M.shape,next_pos) :\n",
    "            return None\n",
    "    if M[next_pos] == '#' :\n",
    "        # turn right 90 degrees \n",
    "        turn = get_next_turn(s.dir)\n",
    "        return Step(turn,s.pos,True)\n",
    "    else :\n",
    "        # move forward\n",
    "        return Step(s.dir,next_pos,False)\n",
    "\n",
    "def get_steps(start:Step,M)->List[Step]:\n",
    "    steps = list()\n",
    "    steps.append(start)\n",
    "    next_step = start\n",
    "    while (next_step:= get_next_step(next_step,M)) :\n",
    "        #print(next_step)\n",
    "        if next_step in steps :\n",
    "            steps.append(next_step)\n",
    "            break\n",
    "        steps.append(next_step)\n",
    "    return steps\n",
    "\n",
    "def is_loop_steps(steps:List[Step]):\n",
    "    l = [(x.pos,x.dir)for x in steps]\n",
    "    return last(l) in l[:-1] \n",
    "\n",
    "def get_path_from_steps(steps:List[Step])->List[Step]:\n",
    "    return [x for x in steps if not x.turn]\n"
   ]
  },
  {
   "cell_type": "code",
   "execution_count": null,
   "metadata": {},
   "outputs": [],
   "source": [
    "# distint position will the guard visit before leaving the mapped area    \n",
    "res_a =  len(Counter([x.pos for x in get_steps(start_pos,MpA)]))\n",
    "res_a"
   ]
  },
  {
   "cell_type": "code",
   "execution_count": null,
   "metadata": {},
   "outputs": [],
   "source": [
    "submit(res_a, part=\"a\", day=6, year=2024)"
   ]
  },
  {
   "cell_type": "markdown",
   "metadata": {},
   "source": [
    "### Part 2"
   ]
  },
  {
   "cell_type": "code",
   "execution_count": null,
   "metadata": {},
   "outputs": [],
   "source": [
    "test_x1 = '''\n",
    "..#..\n",
    ".#.#.\n",
    ".#.#.\n",
    ".#.#.\n",
    ".#.#.\n",
    ".#^#.\n",
    ".....\n",
    "'''\n",
    "Mx1 = np.matrix(mapt(lambda x:tuple(x),test_x1.rstrip().split()))\n",
    "Mx1.shape, Mx1.size\n",
    "start_pos = Step('^',mapt(int,tuple(np.argwhere(Mx1 == '^')[0])),False)\n",
    "print(start_pos)\n",
    "steps = get_steps(start_pos,Mx1)\n",
    "print(is_loop_steps(steps))\n",
    "get_path_from_steps(steps)\n",
    "Mx1[(6,2)]='#'\n",
    "steps = get_steps(start_pos,Mx1)\n",
    "print(is_loop_steps(steps))\n",
    "get_path_from_steps(steps)\n",
    "Mx1[(6,2)]='.'\n",
    "steps\n"
   ]
  },
  {
   "cell_type": "code",
   "execution_count": null,
   "metadata": {},
   "outputs": [],
   "source": [
    "p = lambda x:tuple(x)\n",
    "in_part_A = mapt(p,Input(6))\n",
    "#in_part_A = mapt(p,test_d6.rstrip().split())\n",
    "MpA = np.matrix(in_part_A)\n",
    "MpA.shape, MpA.size\n",
    "\n",
    "def get_obstacle(M:np.matrix)->List[Step]:\n",
    "    start = Step('^',mapt(int,tuple(np.argwhere(M == '^')[0])),False)\n",
    "    obstacle = set()\n",
    "    steps = get_steps(start,M)\n",
    "    for p0,p1 in pairwise(get_path_from_steps(steps)) :\n",
    "        #print(p0,p1)\n",
    "        if M[p1.pos] == 'O':\n",
    "            continue\n",
    "        tmp = M[p1.pos]\n",
    "        M[p1.pos] = '#'\n",
    "        if is_loop_steps(ss:=get_steps(start,M)) :\n",
    "            obstacle.add(p1)\n",
    "            print('add {}'.format(p1))\n",
    "            #print(obstacle)\n",
    "            #print(ss)\n",
    "        #M[p1.pos] = tmp\n",
    "        M[p1.pos] = 'O'\n",
    "        \n",
    "    return obstacle\n",
    "\n",
    "obstacles = get_obstacle(MpA)\n",
    "\n",
    "# 35 mins"
   ]
  },
  {
   "cell_type": "code",
   "execution_count": null,
   "metadata": {},
   "outputs": [],
   "source": [
    "res_b = len(Counter([x.pos for x in obstacles]))\n",
    "res_b"
   ]
  },
  {
   "cell_type": "code",
   "execution_count": null,
   "metadata": {},
   "outputs": [],
   "source": [
    "submit(res_b, part=\"b\", day=6, year=2024)"
   ]
  },
  {
   "cell_type": "code",
   "execution_count": null,
   "metadata": {},
   "outputs": [],
   "source": [
    "test_x2 = '''\n",
    ".....\n",
    "..#..\n",
    ".#^#.\n",
    "..#..\n",
    "'''\n",
    "Mx2 = np.matrix(mapt(lambda x:tuple(x),test_x2.rstrip().split()))\n",
    "Mx2.shape, Mx2.size\n",
    "start_pos = Step('^',mapt(int,tuple(np.argwhere(Mx2 == '^')[0])),False)\n",
    "is_loop_steps(steps:=get_steps(start_pos,Mx2))\n",
    "pp.pprint(steps)\n",
    "get_path_from_steps(steps)"
   ]
  },
  {
   "cell_type": "markdown",
   "metadata": {},
   "source": [
    "[home](#home)\n",
    "# Day 7\n",
    "[Bridge Repair](https://adventofcode.com/2024/day/7)  \n",
    "\n",
    "Use [bigtree](https://bigtree.readthedocs.io/en/stable/) Python package"
   ]
  },
  {
   "cell_type": "code",
   "execution_count": null,
   "metadata": {},
   "outputs": [],
   "source": [
    "get_in_file(7,2024)"
   ]
  },
  {
   "cell_type": "code",
   "execution_count": null,
   "metadata": {},
   "outputs": [],
   "source": [
    "test_d7 = \"\"\"\n",
    "190: 10 19\n",
    "3267: 81 40 27\n",
    "83: 17 5\n",
    "156: 15 6\n",
    "7290: 6 8 6 15\n",
    "161011: 16 10 13\n",
    "192: 17 8 14\n",
    "21037: 9 7 18 13\n",
    "292: 11 6 16 20\n",
    "\"\"\""
   ]
  },
  {
   "cell_type": "code",
   "execution_count": null,
   "metadata": {},
   "outputs": [],
   "source": [
    "equations = mapt(lambda x:(int(x[0]),mapt(lambda x:int(x),x[1].strip().split())),(mapt(lambda x:x.split(':'),Input(7))))\n",
    "#equations = mapt(lambda x:(int(x[0]),mapt(lambda x:int(x),x[1].strip().split())),(mapt(lambda x:x.split(':'),test_d7.strip().split(\"\\n\"))))\n",
    "#equations"
   ]
  },
  {
   "cell_type": "code",
   "execution_count": null,
   "metadata": {},
   "outputs": [],
   "source": [
    "debug = False\n",
    "\n",
    "def make_tree_path(s ,root_name=\"R\")->List:\n",
    "    \"\"\" '++++' --> 'R/+/+/+/+' \"\"\"\n",
    "    return \"\".join(list(intersperse('/',root_name+s)))\n",
    "    \n",
    "def make_tree(op_num,operators:List):\n",
    "    \"\"\"  \"\"\"\n",
    "    prod_iter = product (\"\".join(operators),repeat=op_num)\n",
    "    path_str = list(mapt(lambda x:\"\".join(x),prod_iter))\n",
    "    if debug : print(path_str) \n",
    "    return list_to_tree([make_tree_path(x) for x in path_str])\n",
    "\n",
    "def populate_tree(operands_list, operators_dict):\n",
    "    \"\"\" \"\"\"\n",
    "    root = make_tree(len(operands_list)-1, operators_dict.keys())\n",
    "    for node in levelorder_iter(root) :\n",
    "        if node.is_root :\n",
    "            node.set_attrs({\"res\": operands_list[0]})\n",
    "        else :    \n",
    "            node.set_attrs({\"res\": 0})\n",
    "    #root.hshow()\n",
    "    for node in levelorder_iter(root) :\n",
    "        if not node.is_root :\n",
    "            op = operators_dict[node.node_name]\n",
    "            op1 = node.parent.get_attr(\"res\")\n",
    "            op2 = operands_list[node.depth-1]\n",
    "            res = op(op1,op2)\n",
    "            #print(\"{}{}{}\".format(op1,node.node_name,op2))\n",
    "            node.set_attrs({\"res\":res})\n",
    "    return root\n",
    "\n",
    "def all_res_equation(root):\n",
    "    for node in levelorder_iter(root) :\n",
    "        if node.is_leaf :\n",
    "            yield node.get_attr(\"res\")\n",
    "\n",
    "if debug :\n",
    "    root = populate_tree([81,40,27])\n",
    "    root.show(attr_list=[\"res\"])\n",
    "\n",
    "operators = {\"+\":operator.add,\"*\":operator.mul}\n",
    "true_equations_res = list()\n",
    "for res,operands in equations :\n",
    "    all_res = list(all_res_equation(populate_tree(operands,operators)))\n",
    "    if debug : print(res,all_res)\n",
    "    if res in all_res :\n",
    "        true_equations_res.append(res)\n",
    "\n",
    "true_equations_res\n",
    "res_a = sum(true_equations_res)\n",
    "res_a"
   ]
  },
  {
   "cell_type": "code",
   "execution_count": null,
   "metadata": {},
   "outputs": [],
   "source": [
    "submit(res_a, part=\"a\", day=7, year=2024)"
   ]
  },
  {
   "cell_type": "markdown",
   "metadata": {},
   "source": [
    "### Part 2\n",
    "\n",
    "add the concatenation operator (||) combines the digits from its left and right inputs into a single number.  \n",
    "For example, **12 || 345** would become **12345**. All operators are still evaluated left-to-right."
   ]
  },
  {
   "cell_type": "code",
   "execution_count": null,
   "metadata": {},
   "outputs": [],
   "source": [
    "operators.update({\"|\": lambda x,y: int(str(x)+str(y))})\n",
    "true_equations_res = list()\n",
    "for res,operands in equations :\n",
    "    all_res = list(all_res_equation(populate_tree(operands,operators)))\n",
    "    if debug : print(res,all_res)\n",
    "    if res in all_res :\n",
    "        true_equations_res.append(res)\n",
    "\n",
    "true_equations_res\n",
    "res_b = sum(true_equations_res)\n",
    "res_b"
   ]
  },
  {
   "cell_type": "code",
   "execution_count": null,
   "metadata": {},
   "outputs": [],
   "source": [
    "submit(res_b, part=\"b\", day=7, year=2024)"
   ]
  },
  {
   "cell_type": "markdown",
   "metadata": {},
   "source": [
    "[home](#home)\n",
    "# Day 8\n",
    "[Resonant Collinearity](https://adventofcode.com/2024/day/8)  \n",
    "\n",
    "How many unique locations within the bounds of the map contain an antinode ?  \n",
    "\n",
    "Each antenna is tuned to a specific frequency indicated by a **single** *lowercase letter*, *uppercase letter*, or *digit*.  \n",
    "\n",
    "An antinode occurs at any point that is perfectly in line with two antennas of the same frequency - but only when one of the antennas is twice as far away as the other.  \n",
    "\n",
    "However, antinodes can occur at locations that contain antennas\n"
   ]
  },
  {
   "cell_type": "code",
   "execution_count": null,
   "metadata": {},
   "outputs": [],
   "source": [
    "get_in_file(8,2024)"
   ]
  },
  {
   "cell_type": "code",
   "execution_count": null,
   "metadata": {},
   "outputs": [],
   "source": [
    "test_d8_1 = \"\"\"\n",
    "..........\n",
    "...#......\n",
    "#.........\n",
    "....a.....\n",
    "........a.\n",
    ".....a....\n",
    "..#.......\n",
    "......#...\n",
    "..........\n",
    "..........\n",
    "\"\"\""
   ]
  },
  {
   "cell_type": "code",
   "execution_count": null,
   "metadata": {},
   "outputs": [],
   "source": [
    "test_d8_2 = \"\"\"\n",
    "......#....#\n",
    "...#....0...\n",
    "....#0....#.\n",
    "..#....0....\n",
    "....0....#..\n",
    ".#....A.....\n",
    "...#........\n",
    "#......#....\n",
    "........A...\n",
    ".........A..\n",
    "..........#.\n",
    "..........#.\n",
    "\"\"\""
   ]
  },
  {
   "cell_type": "code",
   "execution_count": null,
   "metadata": {},
   "outputs": [],
   "source": [
    "test_d8_3 = \"\"\"\n",
    "#.........\n",
    "..#.a.a.#.\n",
    "..........\n",
    "a.........\n",
    "..........\n",
    "..........\n",
    "a.........\n",
    "..........\n",
    "..........\n",
    "#....#aa#.\n",
    "\"\"\""
   ]
  },
  {
   "cell_type": "code",
   "execution_count": null,
   "metadata": {},
   "outputs": [],
   "source": [
    "p = lambda x:tuple(x)\n",
    "in_part_A = mapt(p,Input(8))\n",
    "#in_part_A = mapt(p,test_d8_1.rstrip().split())\n",
    "#in_part_A = mapt(p,test_d8_2.rstrip().split())\n",
    "#in_part_A = mapt(p,test_d8_3.rstrip().split())\n",
    "MpA = np.matrix(in_part_A)\n",
    "MpA.shape, MpA.size"
   ]
  },
  {
   "cell_type": "code",
   "execution_count": null,
   "metadata": {},
   "outputs": [],
   "source": [
    "def isChrValid(c:str)->bool:\n",
    "    return len(c) == 1 and c.isalnum()\n",
    "\n",
    "def isChrAntenna(c:str)->bool:\n",
    "    return isChrValid(c)\n",
    "\n",
    "def isChrAntinode(c:str)->bool:\n",
    "    return c == '#'\n"
   ]
  },
  {
   "cell_type": "code",
   "execution_count": null,
   "metadata": {},
   "outputs": [],
   "source": [
    "class Line(namedtuple('Line',['p1','p2'])):\n",
    "    __hash__ = tuple.__hash__\n",
    "    def __eq__(self,other)->bool:\n",
    "        return self.p1==other.p1 and self.p2==other.p2 or (self.p1==other.p2 and self.p2==other.p1)\n",
    "    def __repr__(self) -> str:\n",
    "        return f'<Line{tuple.__repr__(self)}, len={self.length()}, m={self.m()}>'\n",
    "    def length(self):\n",
    "        # row,col\n",
    "        y1,x1 = self.p1\n",
    "        y2,x2 = self.p2\n",
    "        return abs(y1-y2) , abs(x1-x2)\n",
    "    def m(self):\n",
    "        \"\"\" m = 0 orizz \"\"\"\n",
    "        y1,x1 = self.p1\n",
    "        y2,x2 = self.p2\n",
    "        if y2 == y1 :\n",
    "            return math.nan\n",
    "        m = (x2-x1)/(y2-y1)\n",
    "        return m\n",
    "    def min_manhattan(self,p):\n",
    "        \"\"\"return point in line nearest to p\"\"\"\n",
    "        y1,x1 = self.p1\n",
    "        y2,x2 = self.p2\n",
    "        y,x = p\n",
    "        m_p1_p = abs(x1-x)+abs(y1-y)\n",
    "        m_p2_p = abs(x2-x)+abs(y2-y)\n",
    "        if m_p1_p < m_p2_p:\n",
    "            return self.p1\n",
    "        return self.p2\n",
    "    \n",
    "    \n",
    "Line((0,0),(2,2)).length() == Line((2,2),(0,0)).length()\n",
    "print(Line((0,0),(0,2)))\n",
    "print(Line((0,0),(2,0)))\n",
    "print(Line((0,0),(2,0)).min_manhattan((4,0)))"
   ]
  },
  {
   "cell_type": "code",
   "execution_count": null,
   "metadata": {},
   "outputs": [],
   "source": [
    "def get_lines(M)->dict:\n",
    "    freq_dict = {}\n",
    "    lines_dict = {}\n",
    "    for freq in mapt(str,set(M.A1)):\n",
    "        #print(f'find freq {freq}')\n",
    "        if isChrAntenna(freq) :\n",
    "            freq_dict[freq] = [(int(x),int(y)) for (x,y) in np.argwhere(M == freq)]\n",
    "            lines_dict[freq] = [Line(p1,p2) for (p1,p2) in list(combinations(freq_dict[freq],2))]\n",
    "        else :\n",
    "            print(f'not a freq {freq}')\n",
    "    return lines_dict\n",
    "\n",
    "def get_antinodes(M,freq_lines:dict):\n",
    "    anodes_dict = {}\n",
    "    for freq,llines in freq_lines.items() :\n",
    "        anodes = set()\n",
    "        point_lines = set()\n",
    "        for l in llines :\n",
    "            L = l.length()\n",
    "            point_lines.update({l.p1,l.p2})\n",
    "            #print(l)\n",
    "            if l.m() >= 0 or l.m()==math.nan  :\n",
    "                if isValid(M.shape,a:=add_tuple(l.p1 , L)) :\n",
    "                    anodes.add(a)\n",
    "                if isValid(M.shape,a:=add_tuple(l.p2 , L)) :\n",
    "                    anodes.add(a)\n",
    "                if isValid(M.shape,a:=sub_tuple(l.p1 , L)) :\n",
    "                    anodes.add(a)\n",
    "                if isValid(M.shape,a:=sub_tuple(l.p2 , L)) :\n",
    "                    anodes.add(a)\n",
    "            else : # l.m() < 0 :\n",
    "                K = (L[0],-L[1])\n",
    "                if isValid(M.shape,a:=add_tuple(l.p1 , K)) :\n",
    "                    anodes.add(a)\n",
    "                if isValid(M.shape,a:=add_tuple(l.p2 , K)) :\n",
    "                    anodes.add(a)\n",
    "                if isValid(M.shape,a:=sub_tuple(l.p1 , K)) :\n",
    "                    anodes.add(a)\n",
    "                if isValid(M.shape,a:=sub_tuple(l.p2 , K)) :\n",
    "                    anodes.add(a)\n",
    "            anodes.difference_update(point_lines)\n",
    "            #print(s)\n",
    "            anodes_dict[freq] = anodes\n",
    "    return anodes_dict\n",
    "        \n",
    "antinodes = get_antinodes(MpA,get_lines(MpA))\n",
    "#antinodes"
   ]
  },
  {
   "cell_type": "code",
   "execution_count": null,
   "metadata": {},
   "outputs": [],
   "source": [
    "res_a = len(set(collapse(antinodes.values(),levels=1)))\n",
    "res_a"
   ]
  },
  {
   "cell_type": "code",
   "execution_count": null,
   "metadata": {},
   "outputs": [],
   "source": [
    "submit(res_a, part=\"a\", day=8, year=2024)"
   ]
  },
  {
   "cell_type": "markdown",
   "metadata": {},
   "source": [
    "### Part 2"
   ]
  },
  {
   "cell_type": "code",
   "execution_count": null,
   "metadata": {},
   "outputs": [],
   "source": [
    "test_d8_4 = \"\"\"\n",
    "T....#....\n",
    "...T......\n",
    ".T....#...\n",
    ".........#\n",
    "..#.......\n",
    "..........\n",
    "...#......\n",
    "..........\n",
    "....#.....\n",
    "..........\n",
    "\"\"\"\n",
    "\n",
    "test_d8_5 = \"\"\"\n",
    "##....#....#\n",
    ".#.#....0...\n",
    "..#.#0....#.\n",
    "..##...0....\n",
    "....0....#..\n",
    ".#...#A....#\n",
    "...#..#.....\n",
    "#....#.#....\n",
    "..#.....A...\n",
    "....#....A..\n",
    ".#........#.\n",
    "...#......##\n",
    "\"\"\"\n",
    "p = lambda x:tuple(x)\n",
    "in_part_A = mapt(p,Input(8))\n",
    "#in_part_A = mapt(p,test_d8_4.rstrip().split())\n",
    "#in_part_A = mapt(p,test_d8_5.rstrip().split())\n",
    "MpA = np.matrix(in_part_A)\n",
    "MpA.shape, MpA.size"
   ]
  },
  {
   "cell_type": "code",
   "execution_count": null,
   "metadata": {},
   "outputs": [],
   "source": [
    "def get_lines(M)->dict:\n",
    "    freq_dict = {}\n",
    "    lines_dict = {}\n",
    "    for freq in mapt(str,set(M.A1)):\n",
    "        #print(f'find freq {freq}')\n",
    "        if isChrAntenna(freq) :\n",
    "            freq_dict[freq] = [(int(x),int(y)) for (x,y) in np.argwhere(M == freq)]\n",
    "            lines_dict[freq] = [Line(p1,p2) for (p1,p2) in list(combinations(freq_dict[freq],2))]\n",
    "        else :\n",
    "            print(f'not a freq {freq}')\n",
    "    return lines_dict\n",
    "\n",
    "# an antinode occurs at any grid position exactly in line with at least two antennas of the same frequency,\n",
    "# regardless of distance. This means that some of the new antinodes will occur at the position of each antenna\n",
    "# (unless that antenna is the only one of its frequency).\n",
    "\n",
    "def get_anodes_from_line(M,l:Line)->Set:\n",
    "    line_anodes = set()\n",
    "    point_lines = set()\n",
    "    point_lines.update({l.p1,l.p2})\n",
    "    L = l.length()\n",
    "    if l.m() >= 0 or l.m()==math.nan  :\n",
    "        if isValid(M.shape,a:=add_tuple(l.p1 , L)) :\n",
    "            line_anodes.add(a)\n",
    "        if isValid(M.shape,a:=add_tuple(l.p2 , L)) :\n",
    "            line_anodes.add(a)\n",
    "        if isValid(M.shape,a:=sub_tuple(l.p1 , L)) :\n",
    "            line_anodes.add(a)\n",
    "        if isValid(M.shape,a:=sub_tuple(l.p2 , L)) :\n",
    "            line_anodes.add(a)\n",
    "    else : # l.m() < 0 :\n",
    "        K = (L[0],-L[1])\n",
    "        if isValid(M.shape,a:=add_tuple(l.p1 , K)) :\n",
    "            line_anodes.add(a)\n",
    "        if isValid(M.shape,a:=add_tuple(l.p2 , K)) :\n",
    "            line_anodes.add(a)\n",
    "        if isValid(M.shape,a:=sub_tuple(l.p1 , K)) :\n",
    "            line_anodes.add(a)\n",
    "        if isValid(M.shape,a:=sub_tuple(l.p2 , K)) :\n",
    "            line_anodes.add(a)\n",
    "    line_anodes.update(point_lines)\n",
    "    return line_anodes\n",
    "\n",
    "def get_antinodes(M,freq_lines:dict):\n",
    "    anodes_dict = {}\n",
    "    for freq,llines in freq_lines.items() :\n",
    "        freq_anodes = set()\n",
    "        for line in llines :\n",
    "            print(line)\n",
    "            point_lines = set()\n",
    "            anodes_lines = deque()\n",
    "            anodes_lines.append(line)\n",
    "            while(len(anodes_lines)) :\n",
    "                curr_line = anodes_lines.pop()\n",
    "                point_lines.add(curr_line)\n",
    "                new_anodes_set = get_anodes_from_line(MpA,curr_line)\n",
    "                freq_anodes.update(new_anodes_set)\n",
    "                #make a new line with one old line point nearest to a new anode\n",
    "                for anode in new_anodes_set :\n",
    "                    nearest = curr_line.min_manhattan(anode)\n",
    "                    new_line = Line(nearest,anode)\n",
    "                    if new_line not in point_lines :\n",
    "                        print(\"new line\",new_line)\n",
    "                        point_lines.add(curr_line)\n",
    "                        anodes_lines.append(new_line)\n",
    "                \n",
    "            \n",
    "            anodes_dict[freq] = freq_anodes\n",
    "    return anodes_dict\n",
    "        \n",
    "antinodes = get_antinodes(MpA,get_lines(MpA))\n",
    "#antinodes"
   ]
  },
  {
   "cell_type": "code",
   "execution_count": null,
   "metadata": {},
   "outputs": [],
   "source": [
    "res_b = len(set(collapse(antinodes.values(),levels=1)))\n",
    "res_b"
   ]
  },
  {
   "cell_type": "code",
   "execution_count": null,
   "metadata": {},
   "outputs": [],
   "source": [
    "submit(res_b, part=\"b\", day=8, year=2024)"
   ]
  },
  {
   "cell_type": "code",
   "execution_count": null,
   "metadata": {},
   "outputs": [],
   "source": []
  }
 ],
 "metadata": {
  "kernelspec": {
   "display_name": "aoc_24",
   "language": "python",
   "name": "python3"
  },
  "language_info": {
   "codemirror_mode": {
    "name": "ipython",
    "version": 3
   },
   "file_extension": ".py",
   "mimetype": "text/x-python",
   "name": "python",
   "nbconvert_exporter": "python",
   "pygments_lexer": "ipython3",
   "version": "3.13.1"
  },
  "orig_nbformat": 4
 },
 "nbformat": 4,
 "nbformat_minor": 2
}
