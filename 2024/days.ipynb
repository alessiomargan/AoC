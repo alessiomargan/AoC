{
 "cells": [
  {
   "cell_type": "code",
   "execution_count": 37,
   "metadata": {},
   "outputs": [],
   "source": [
    "import sys  \n",
    "sys.path.insert(1, '..')\n",
    "from aoc_utils import *\n",
    "from bigtree import list_to_tree, levelorder_iter\n",
    "\n",
    "def isValid(np_shape: Tuple, index: Tuple)->bool:\n",
    "    index = np.array(index)\n",
    "    return (index >= 0).all() and (index < np_shape).all()"
   ]
  },
  {
   "cell_type": "markdown",
   "metadata": {},
   "source": [
    "### “i.e.” Latin \"id est\" => “that is.”  \n",
    "### “e.g.” Latin \"exempli gratia\" => “for example.”"
   ]
  },
  {
   "attachments": {},
   "cell_type": "markdown",
   "metadata": {},
   "source": [
    "# Home\n",
    "\n",
    "Each day's work will consist of three tasks:\n",
    "- **Input**: Parse the day's input file with the function `parse(day, parser, sep)`, which treats the input as a sequence of *entries*, separated by `sep` (default newline); applies `parser` to each entry; and returns the results as a tuple. (Note: `ints` and `atoms` are useful `parser` functions (as are `int` and `str`).)\n",
    "- **Part 1**: Write code to compute the answer to Part 1, and submit the answer to the AoC site. Use the function `answer` to record the correct answer and serve as a regression test when I re-run the notebook.\n",
    "- **Part 2**: Repeat coding and `answer` for Part 2.\n",
    "\n",
    "1. [Day 1](#day-1)\n",
    "2. [Day 2](#day-2)\n",
    "3. [Day 3](#day-3)\n",
    "4. [Day 4](#day-4)\n",
    "5. [Day 5](#day-5)\n",
    "6. [Day 6](#day-6)\n",
    "7. [Day 7](#day-7)\n",
    "8. [Day 8](#day-8)\n",
    "9. [Day 9](#day-9)\n",
    "10. [Day 10](#day-10)\n",
    "11. [Day 11](#day-11)\n",
    "12. [Day 12](#day-12)\n",
    "13. [Day 13](#day-13)\n"
   ]
  },
  {
   "cell_type": "markdown",
   "metadata": {},
   "source": [
    "[home](#home)\n",
    "# Day 1\n",
    "[Historian Hysteria](https://adventofcode.com/2024/day/1)  \n",
    "```\n",
    "```"
   ]
  },
  {
   "cell_type": "code",
   "execution_count": 38,
   "metadata": {},
   "outputs": [],
   "source": [
    "get_in_file(1,2024)"
   ]
  },
  {
   "cell_type": "code",
   "execution_count": 39,
   "metadata": {},
   "outputs": [
    {
     "data": {
      "text/plain": [
       "2815556"
      ]
     },
     "execution_count": 39,
     "metadata": {},
     "output_type": "execute_result"
    }
   ],
   "source": [
    "# in_part_A as tuple of 2-tuple \n",
    "in_part_A = Input(1, line_parser=ints)\n",
    "# https://more-itertools.readthedocs.io/en/stable/api.html#more_itertools.collapse\n",
    "# https://more-itertools.readthedocs.io/en/stable/api.html#more_itertools.partition\n",
    "#is_odd = lambda x: x % 2 != 0\n",
    "#left, right = partition(is_odd, collapse(in_part_A))\n",
    "# https://more-itertools.readthedocs.io/en/stable/api.html#more_itertools.unzip\n",
    "left, right = unzip(in_part_A)\n",
    "dist = lambda x,y: abs(x-y)\n",
    "res = sum(map(dist,sorted(list(left)),sorted(list(right))))\n",
    "res"
   ]
  },
  {
   "cell_type": "code",
   "execution_count": 40,
   "metadata": {},
   "outputs": [
    {
     "name": "stdout",
     "output_type": "stream",
     "text": [
      "Part a already solved with same answer: 2815556\n"
     ]
    }
   ],
   "source": [
    "submit(res, part=\"a\", day=1, year=2024)"
   ]
  },
  {
   "cell_type": "markdown",
   "metadata": {},
   "source": [
    "### Part 2\n"
   ]
  },
  {
   "cell_type": "code",
   "execution_count": 41,
   "metadata": {},
   "outputs": [
    {
     "data": {
      "text/plain": [
       "[(28773, 20), (14776, 20), (26702, 20)]"
      ]
     },
     "execution_count": 41,
     "metadata": {},
     "output_type": "execute_result"
    }
   ],
   "source": [
    "left, right = unzip(in_part_A)\n",
    "counter_right = Counter(right)\n",
    "counter_right.most_common(3)"
   ]
  },
  {
   "cell_type": "code",
   "execution_count": 42,
   "metadata": {},
   "outputs": [
    {
     "data": {
      "text/plain": [
       "23927637"
      ]
     },
     "execution_count": 42,
     "metadata": {},
     "output_type": "execute_result"
    }
   ],
   "source": [
    "func = lambda x: x*counter_right[x]\n",
    "res_b = sum(map(func,left))\n",
    "res_b"
   ]
  },
  {
   "cell_type": "code",
   "execution_count": 43,
   "metadata": {},
   "outputs": [
    {
     "name": "stdout",
     "output_type": "stream",
     "text": [
      "Part b already solved with same answer: 23927637\n"
     ]
    }
   ],
   "source": [
    "submit(res_b, part=\"b\", day=1, year=2024)"
   ]
  },
  {
   "cell_type": "markdown",
   "metadata": {},
   "source": [
    "[home](#home)\n",
    "# Day 2\n",
    "[Red-Nosed Reports](https://adventofcode.com/2024/day/2)   \n",
    "\n",
    "a report only counts as safe if both of the following are true:\n",
    "- The levels are either *all increasing* or *all decreasing*.\n",
    "- Any two adjacent levels differ by at *least one* and at *most three*.\n"
   ]
  },
  {
   "cell_type": "code",
   "execution_count": 44,
   "metadata": {},
   "outputs": [],
   "source": [
    "get_in_file(2,2024)"
   ]
  },
  {
   "cell_type": "code",
   "execution_count": 45,
   "metadata": {},
   "outputs": [],
   "source": [
    "in_part_A = Input(2, line_parser=ints)"
   ]
  },
  {
   "cell_type": "code",
   "execution_count": 46,
   "metadata": {},
   "outputs": [],
   "source": [
    "# all decreasing and any two adjacent levels differ by at least one and at most three\n",
    "cond1 = lambda x,y: 1 if (x>y)and(abs(x-y)>0)and(abs(x-y)<4) else 0\n",
    "# all increasing and any two adjacent levels differ by at least one and at most three\n",
    "cond2 = lambda x,y: 1 if (x<y)and(abs(x-y)>0)and(abs(x-y)<4) else 0\n",
    "set1=set([level for level in in_part_A if all([(cond1)(*pair) for pair in pairwise(level)])])\n",
    "set2=set([level for level in in_part_A if all([(cond2)(*pair) for pair in pairwise(level)])])"
   ]
  },
  {
   "cell_type": "code",
   "execution_count": 47,
   "metadata": {},
   "outputs": [
    {
     "data": {
      "text/plain": [
       "432"
      ]
     },
     "execution_count": 47,
     "metadata": {},
     "output_type": "execute_result"
    }
   ],
   "source": [
    "res_a = len(set1)+len(set2)\n",
    "res_a"
   ]
  },
  {
   "cell_type": "code",
   "execution_count": 48,
   "metadata": {},
   "outputs": [
    {
     "name": "stdout",
     "output_type": "stream",
     "text": [
      "aocd will not submit that answer again. At 2024-12-02 07:11:44.659457-05:00 you've previously submitted 432 and the server responded with:\n",
      "\u001b[32mThat's the right answer!  You are one gold star closer to finding the Chief Historian. [Continue to Part Two]\u001b[0m\n"
     ]
    }
   ],
   "source": [
    "submit(res_a, part=\"a\", day=2, year=2024)"
   ]
  },
  {
   "cell_type": "markdown",
   "metadata": {},
   "source": [
    "### Part 2\n",
    "\n",
    "the same rules apply as before, except if removing a single level from an unsafe report would make it safe, the report instead counts as safe"
   ]
  },
  {
   "cell_type": "code",
   "execution_count": 49,
   "metadata": {},
   "outputs": [],
   "source": [
    "set_all=set([level for level in in_part_A])"
   ]
  },
  {
   "cell_type": "code",
   "execution_count": 50,
   "metadata": {},
   "outputs": [],
   "source": [
    "unsafe = set_all-set1-set2"
   ]
  },
  {
   "cell_type": "code",
   "execution_count": 51,
   "metadata": {},
   "outputs": [],
   "source": [
    "def tolerate_one_bad_level(lvl):\n",
    "    for c in combinations(lvl,len(lvl)-1):\n",
    "        if all([(cond1)(*pair) for pair in pairwise(c)]) :\n",
    "            return True\n",
    "        if all([(cond2)(*pair) for pair in pairwise(c)]) :\n",
    "            return True\n",
    "    return False    \n",
    "\n",
    "set3=set([level for level in unsafe if tolerate_one_bad_level(level)])\n"
   ]
  },
  {
   "cell_type": "code",
   "execution_count": 52,
   "metadata": {},
   "outputs": [
    {
     "data": {
      "text/plain": [
       "488"
      ]
     },
     "execution_count": 52,
     "metadata": {},
     "output_type": "execute_result"
    }
   ],
   "source": [
    "res_b = res_a+len(set3)\n",
    "res_b"
   ]
  },
  {
   "cell_type": "code",
   "execution_count": 53,
   "metadata": {},
   "outputs": [
    {
     "name": "stdout",
     "output_type": "stream",
     "text": [
      "aocd will not submit that answer again. At 2024-12-02 10:57:32.919029-05:00 you've previously submitted 488 and the server responded with:\n",
      "\u001b[32mThat's the right answer!  You are one gold star closer to finding the Chief Historian.You have completed Day 2! You can [Shareon\n",
      "  Bluesky\n",
      "Twitter\n",
      "Mastodon] this victory or [Return to Your Advent Calendar].\u001b[0m\n"
     ]
    }
   ],
   "source": [
    "submit(res_b, part=\"b\", day=2, year=2024)"
   ]
  },
  {
   "cell_type": "markdown",
   "metadata": {},
   "source": [
    "[home](#home)\n",
    "# Day 3\n",
    "[Mull It Over](https://adventofcode.com/2024/day/3)  \n",
    "\n",
    "consider the following section of corrupted memory: \n",
    "\n",
    "x**mul(2,4)**%&mul[3,7]!@^do_not_**mul(5,5)**+mul(32,64]then(**mul(11,8)mul(8,5)**)  \n",
    "\n",
    "Only the four highlighted sections are real mul instructions"
   ]
  },
  {
   "cell_type": "code",
   "execution_count": 54,
   "metadata": {},
   "outputs": [],
   "source": [
    "get_in_file(3,2024)\n",
    "in_part_A = Input(3)"
   ]
  },
  {
   "cell_type": "code",
   "execution_count": 55,
   "metadata": {},
   "outputs": [
    {
     "data": {
      "text/plain": [
       "161289189"
      ]
     },
     "execution_count": 55,
     "metadata": {},
     "output_type": "execute_result"
    }
   ],
   "source": [
    "regex = r'mul\\((\\d\\d*\\d*),(\\d\\d*\\d*)\\)'\n",
    "res_a = sum([(lambda x,y:int(x)*int(y))(*pair) for pair in collapse([re.findall(regex, line) for line in in_part_A],base_type=tuple)])\n",
    "res_a"
   ]
  },
  {
   "cell_type": "code",
   "execution_count": 56,
   "metadata": {},
   "outputs": [
    {
     "name": "stdout",
     "output_type": "stream",
     "text": [
      "Part a already solved with same answer: 161289189\n"
     ]
    }
   ],
   "source": [
    "submit(res_a, part=\"a\", day=3, year=2024)"
   ]
  },
  {
   "cell_type": "markdown",
   "metadata": {},
   "source": [
    "### Part 2"
   ]
  },
  {
   "cell_type": "code",
   "execution_count": 57,
   "metadata": {},
   "outputs": [],
   "source": [
    "regex = r'mul\\((\\d\\d*\\d*),(\\d\\d*\\d*)\\)|(?P<ENA>do\\(\\))|(?P<DIS>don\\'t\\(\\))'"
   ]
  },
  {
   "cell_type": "code",
   "execution_count": 58,
   "metadata": {},
   "outputs": [
    {
     "data": {
      "text/plain": [
       "83595109"
      ]
     },
     "execution_count": 58,
     "metadata": {},
     "output_type": "execute_result"
    }
   ],
   "source": [
    "enable = True\n",
    "res_b=0\n",
    "# collapse is a generator ...\n",
    "for mo in collapse([re.findall(regex, line) for line in in_part_A],base_type=tuple):\n",
    "    x,y,ena,dis = mo\n",
    "    if ena != '':\n",
    "        enable = True\n",
    "        continue\n",
    "    if dis != '':\n",
    "        enable = False\n",
    "        continue\n",
    "    if enable :\n",
    "        res_b += int(x)*int(y)\n",
    "        \n",
    "res_b"
   ]
  },
  {
   "cell_type": "code",
   "execution_count": 59,
   "metadata": {},
   "outputs": [
    {
     "name": "stdout",
     "output_type": "stream",
     "text": [
      "Part b already solved with same answer: 83595109\n"
     ]
    }
   ],
   "source": [
    "submit(res_b, part=\"b\", day=3, year=2024)"
   ]
  },
  {
   "cell_type": "markdown",
   "metadata": {},
   "source": [
    "[home](#home)\n",
    "# Day 4\n",
    "[Ceres Search](https://adventofcode.com/2024/day/4)  \n",
    "\n",
    "This word (*XMAS*) search allows words to be horizontal, vertical, diagonal, written backwards, or even overlapping other words"
   ]
  },
  {
   "cell_type": "code",
   "execution_count": 60,
   "metadata": {},
   "outputs": [],
   "source": [
    "get_in_file(4,2024)\n",
    "\n",
    "test_d4 = '''\n",
    "MMMSXXMASM\n",
    "MSAMXMSMSA\n",
    "AMXSXMAAMM\n",
    "MSAMASMSMX\n",
    "XMASAMXAMM\n",
    "XXAMMXXAMA\n",
    "SMSMSASXSS\n",
    "SAXAMASAAA\n",
    "MAMMMXMMMM\n",
    "MXMXAXMASX\n",
    "'''\n",
    "\n",
    "p = lambda x:tuple(x)\n",
    "in_part_A = mapt(p,Input(4))\n",
    "#in_part_A = mapt(p,test_d4.rstrip().split())\n",
    "M = np.matrix(in_part_A)\n",
    "shape = M.shape"
   ]
  },
  {
   "cell_type": "code",
   "execution_count": 61,
   "metadata": {},
   "outputs": [],
   "source": [
    "X_idx = (0,0)\n",
    "M_idx = set(product((-1,0,1),repeat=2)) - {(0,0)}\n",
    "A_idx = set(product((-2,0,2),repeat=2)) - {(0,0)}\n",
    "S_idx = set(product((-3,0,3),repeat=2)) - {(0,0)}\n",
    "\n",
    "___0d = {'M':( 1, 0),'A':( 2, 0),'S':( 3, 0)}\n",
    "__45d = {'M':( 1, 1),'A':( 2, 2),'S':( 3, 3)}\n",
    "__90d = {'M':( 0, 1),'A':( 0, 2),'S':( 0, 3)}\n",
    "_135d = {'M':(-1, 1),'A':(-2, 2),'S':(-3, 3)}\n",
    "_180d = {'M':(-1, 0),'A':(-2, 0),'S':(-3, 0)}\n",
    "_225d = {'M':(-1,-1),'A':(-2,-2),'S':(-3,-3)}\n",
    "_270d = {'M':( 0,-1),'A':( 0,-2),'S':( 0,-3)}\n",
    "_315d = {'M':( 1,-1),'A':( 2,-2),'S':( 3,-3)}\n",
    "\n",
    "dDeg = [___0d,__45d,__90d,_135d,_180d,_225d,_270d,_315d]\n"
   ]
  },
  {
   "cell_type": "code",
   "execution_count": 62,
   "metadata": {},
   "outputs": [
    {
     "data": {
      "text/plain": [
       "2454"
      ]
     },
     "execution_count": 62,
     "metadata": {},
     "output_type": "execute_result"
    }
   ],
   "source": [
    "res_a = 0\n",
    "with np.nditer(M, flags=['multi_index']) as it :\n",
    "    for x in it:\n",
    "        #print(\"%s <%s>\" % (x, it.multi_index), end=' ')\n",
    "        if x != 'X' :\n",
    "            # next matrix element\n",
    "            continue\n",
    "        for d in dDeg :\n",
    "            for k,v in d.items() :\n",
    "                ij = add_tuple(v,it.multi_index)\n",
    "                if not isValid(shape,ij) or M[ij] != k :\n",
    "                    # break, not found ... next d in dDeg\n",
    "                    break\n",
    "            # https://docs.python.org/3/tutorial/controlflow.html#else-clauses-on-loops\n",
    "            # If the loop finishes without executing the break, the else clause executes\n",
    "            else :\n",
    "                # found !\n",
    "                res_a +=1\n",
    "res_a            "
   ]
  },
  {
   "cell_type": "code",
   "execution_count": 63,
   "metadata": {},
   "outputs": [
    {
     "name": "stdout",
     "output_type": "stream",
     "text": [
      "aocd will not submit that answer again. At 2024-12-04 09:39:48.637478-05:00 you've previously submitted 2454 and the server responded with:\n",
      "\u001b[32mThat's the right answer!  You are one gold star closer to finding the Chief Historian. [Continue to Part Two]\u001b[0m\n"
     ]
    }
   ],
   "source": [
    "submit(res_a, part=\"a\", day=4, year=2024)"
   ]
  },
  {
   "cell_type": "markdown",
   "metadata": {},
   "source": [
    "### Part 2  \n",
    "\n",
    "*West* *North* *East* *South*\n",
    "```\n",
    "M S   M M   S M   S S\n",
    " A     A     A     A\n",
    "M S   S S   S M   M M\n",
    "\n",
    "M : (-1, 1)(-1,-1)\n",
    "A : ( 1, 1)( 1,-1)\n",
    "\n",
    "....\n",
    "```\n"
   ]
  },
  {
   "cell_type": "code",
   "execution_count": 64,
   "metadata": {},
   "outputs": [],
   "source": [
    "# West --> M M \n",
    "W = {'M':((-1, 1),(-1,-1)),'S':(( 1, 1),( 1,-1))}\n",
    "# North\n",
    "N = {'M':((-1, 1),( 1, 1)),'S':(( 1,-1),(-1,-1))}\n",
    "# East \n",
    "E = {'S':((-1, 1),(-1,-1)),'M':(( 1, 1),( 1,-1))}\n",
    "# South\n",
    "S = {'S':((-1, 1),( 1, 1)),'M':(( 1,-1),(-1,-1))}\n",
    "\n",
    "wnes = [W,N,E,S]"
   ]
  },
  {
   "cell_type": "code",
   "execution_count": 65,
   "metadata": {},
   "outputs": [
    {
     "data": {
      "text/plain": [
       "1858"
      ]
     },
     "execution_count": 65,
     "metadata": {},
     "output_type": "execute_result"
    }
   ],
   "source": [
    "res_b = 0\n",
    "idx_S = set()\n",
    "valid_M = np.zeros(shape)\n",
    "with np.nditer(M, flags=['multi_index']) as it :\n",
    "    for x in it:\n",
    "        #print(\"%s <%s>\" % (x, it.multi_index), end=' ')\n",
    "        if x != 'A' :\n",
    "            # next matrix element\n",
    "            continue\n",
    "        for d in wnes :\n",
    "            for k,vv in d.items() :\n",
    "                v1,v2 = vv\n",
    "                ij = add_tuple(v1,it.multi_index)\n",
    "                if not isValid(shape,ij) or M[ij] != k :\n",
    "                    # break, not found ... next d in wnes\n",
    "                    break\n",
    "                idx_S.add(ij)\n",
    "                valid_M[ij] = 1\n",
    "                ij = add_tuple(v2,it.multi_index)\n",
    "                if not isValid(shape,ij) or M[ij] != k :\n",
    "                    # break, not found ... next d in wnes\n",
    "                    break\n",
    "                idx_S.add(ij)\n",
    "                valid_M[ij] = 1\n",
    "                \n",
    "            # https://docs.python.org/3/tutorial/controlflow.html#else-clauses-on-loops\n",
    "            # If the loop finishes without executing the break, the else clause executes\n",
    "            else :\n",
    "                # found !\n",
    "                res_b +=1\n",
    "                # current matrix element\n",
    "                valid_M[it.multi_index] = 1\n",
    "res_b"
   ]
  },
  {
   "cell_type": "code",
   "execution_count": 66,
   "metadata": {},
   "outputs": [
    {
     "name": "stdout",
     "output_type": "stream",
     "text": [
      "Part b already solved with same answer: 1858\n"
     ]
    }
   ],
   "source": [
    "submit(res_b, part=\"b\", day=4, year=2024)"
   ]
  },
  {
   "cell_type": "code",
   "execution_count": 67,
   "metadata": {},
   "outputs": [
    {
     "data": {
      "text/plain": [
       "matrix([['.', '.', 'M', ..., 'M', 'M', 'M'],\n",
       "        ['S', '.', 'M', ..., '.', '.', '.'],\n",
       "        ['.', 'A', 'M', ..., '.', 'M', 'S'],\n",
       "        ...,\n",
       "        ['.', 'M', 'S', ..., 'A', '.', '.'],\n",
       "        ['.', '.', '.', ..., 'S', 'S', '.'],\n",
       "        ['.', '.', 'S', ..., '.', '.', '.']],\n",
       "       shape=(140, 140), dtype='<U1')"
      ]
     },
     "execution_count": 67,
     "metadata": {},
     "output_type": "execute_result"
    }
   ],
   "source": [
    "with np.nditer(M, flags=['multi_index']) as it :\n",
    "    for x in it:\n",
    "        if not valid_M[it.multi_index] :\n",
    "            M[it.multi_index] = '.'\n",
    "M"
   ]
  },
  {
   "cell_type": "markdown",
   "metadata": {},
   "source": [
    "[home](#home)\n",
    "# Day 5\n",
    "[Print Queue](https://adventofcode.com/2024/day/5)  \n",
    "\n",
    "Inupt file consists of 2 parts\n",
    "- page ordering rules \n",
    "- pages to produce in each update\n",
    "\n",
    "rule **47|53**, means that if an update includes both page number 47 and page number 53,  \n",
    "then page number 47 must be printed at some point before page number 53  \n",
    "\n",
    "75,**47**,61,**53**,29\n",
    "\n",
    "**75** is correct due to rules 75|47, 75|61, 75|53, and 75|29"
   ]
  },
  {
   "cell_type": "code",
   "execution_count": 68,
   "metadata": {},
   "outputs": [
    {
     "name": "stderr",
     "output_type": "stream",
     "text": [
      "you're being rate-limited - slow down on the requests! see https://github.com/wimglenn/advent-of-code-data/issues/59 (delay=0.16s)\n"
     ]
    }
   ],
   "source": [
    "get_in_file(5,2024)"
   ]
  },
  {
   "cell_type": "code",
   "execution_count": 69,
   "metadata": {},
   "outputs": [],
   "source": [
    "test_d5 = '''\n",
    "47|53\n",
    "97|13\n",
    "97|61\n",
    "97|47\n",
    "75|29\n",
    "61|13\n",
    "75|53\n",
    "29|13\n",
    "97|29\n",
    "53|29\n",
    "61|53\n",
    "97|53\n",
    "61|29\n",
    "47|13\n",
    "75|47\n",
    "97|75\n",
    "47|61\n",
    "75|61\n",
    "47|29\n",
    "75|13\n",
    "53|13\n",
    "\n",
    "75,47,61,53,29\n",
    "97,61,53,29,13\n",
    "75,29,13\n",
    "75,97,47,61,53\n",
    "61,13,29\n",
    "97,13,75,29,47\n",
    "'''"
   ]
  },
  {
   "cell_type": "code",
   "execution_count": 70,
   "metadata": {},
   "outputs": [],
   "source": [
    "p = lambda x: x.strip().split()\n",
    "raw_rules,pages = parse(5, parser=p, sep=\"\\n\\n\")\n",
    "#raw_rules,pages = mapt(p, test_d5.split(\"\\n\\n\"))\n",
    "pages = mapt(lambda x: mapt(int,x),(mapt(lambda x: x.split(','),pages)))\n",
    "rules = defaultdict(set)\n",
    "for k,v in sliced(mapt(int,flatten(mapt(lambda x: x.split('|'),raw_rules))),2) :\n",
    "    rules[k].add(v)\n"
   ]
  },
  {
   "cell_type": "code",
   "execution_count": 71,
   "metadata": {},
   "outputs": [
    {
     "data": {
      "text/plain": [
       "4185"
      ]
     },
     "execution_count": 71,
     "metadata": {},
     "output_type": "execute_result"
    }
   ],
   "source": [
    "valid_pages = []\n",
    "invalid_pages = []\n",
    "res_a = 0\n",
    "for pg in pages :\n",
    "    #print(pg)\n",
    "    for i in range(len(pg)) :\n",
    "        curr_pg = pg[i]\n",
    "        rule = rules[pg[i]]\n",
    "        pre_pg,post_pg = pg[:i],pg[i+1:]\n",
    "        #print('{}:{} pre {} post {} {}'.format(curr_pg,rule,pre_pg,post_pg,rule.isdisjoint(set(pre_pg))))\n",
    "        if not rule.isdisjoint(set(pre_pg)) :\n",
    "            invalid_pages.append(pg)\n",
    "            break\n",
    "    else :\n",
    "        valid_pages.append(pg)\n",
    "        res_a += pg[math.floor(len(pg)/2)]\n",
    "    #print()\n",
    "res_a"
   ]
  },
  {
   "cell_type": "code",
   "execution_count": 72,
   "metadata": {},
   "outputs": [
    {
     "name": "stderr",
     "output_type": "stream",
     "text": [
      "you're being rate-limited - slow down on the requests! see https://github.com/wimglenn/advent-of-code-data/issues/59 (delay=0.32s)\n"
     ]
    },
    {
     "name": "stdout",
     "output_type": "stream",
     "text": [
      "Part a already solved with same answer: 4185\n"
     ]
    }
   ],
   "source": [
    "submit(res_a, part=\"a\", day=5, year=2024)"
   ]
  },
  {
   "cell_type": "markdown",
   "metadata": {},
   "source": [
    "### Part 2"
   ]
  },
  {
   "cell_type": "code",
   "execution_count": 73,
   "metadata": {},
   "outputs": [
    {
     "name": "stdout",
     "output_type": "stream",
     "text": [
      "invalid (56, 79, 55, 52, 85, 41, 61, 97, 64, 72, 86, 46, 58, 48, 96, 62, 76, 12, 13)\n",
      "invalid (95, 38, 49, 61, 32, 19, 77, 22, 13, 27, 56)\n",
      "invalid (84, 22, 89, 64, 45, 79, 34, 85, 72, 96, 48, 55, 29)\n",
      "invalid (79, 72, 96, 45, 76, 58, 64, 46, 55, 84, 86, 63, 22, 52, 18, 93, 85, 31, 47, 41, 29, 89, 81)\n",
      "invalid (33, 34, 84, 32, 49, 93, 54, 63, 95, 27, 83, 17, 77, 28, 29, 38, 42, 26, 44, 11, 18)\n",
      "invalid (31, 55, 13, 22, 84, 47, 72)\n",
      "invalid (95, 29, 84, 85, 16, 83, 96, 41, 89, 64, 31, 52, 77, 76, 34, 72, 32)\n",
      "invalid (13, 77, 38, 49, 62, 95, 12, 32, 48, 54, 44, 56, 17, 11, 19, 28, 22, 26, 51, 42, 61, 97, 27)\n",
      "invalid (72, 62, 47, 49, 97, 45, 76, 61, 79, 38, 13, 22, 56)\n",
      "invalid (89, 18, 46, 55, 63, 72, 85, 41, 64, 83, 16, 52, 45, 51, 96, 17, 31, 93, 29)\n",
      "invalid (44, 58, 28, 54, 86, 79, 27, 22, 49, 62, 47, 19, 11, 38, 13, 42, 48, 26, 61, 81, 33)\n",
      "invalid (19, 64, 49, 56, 28, 11, 46, 44, 22, 33, 62, 47, 48, 79, 86)\n",
      "invalid (42, 26, 28, 52, 83, 95, 29, 44, 54)\n",
      "invalid (11, 33, 54, 32, 27, 51, 16, 19, 42, 95, 61, 44, 56, 97, 77, 13, 28, 38, 49)\n",
      "invalid (19, 31, 27, 95, 55, 44, 77, 93, 54, 63, 26, 45, 52, 29, 17, 83, 34, 84, 18, 11, 16, 32, 89)\n",
      "invalid (49, 58, 72, 86, 76, 46, 13, 12, 33, 47, 38, 28, 79, 56, 48, 97, 42, 62, 61, 64, 85)\n",
      "invalid (77, 26, 51, 85, 41, 54, 27, 17, 34, 32, 44)\n",
      "invalid (19, 62, 33, 54, 95, 97, 13, 26, 12, 77, 32, 83, 56)\n",
      "invalid (72, 48, 89, 29, 97, 86, 47, 22, 76, 79, 58, 85, 81, 41, 12, 84, 31, 96, 55, 45, 34, 52, 64)\n",
      "invalid (95, 84, 93, 27, 83, 72, 34, 16, 45, 55, 31, 54, 52, 89, 32)\n",
      "invalid (84, 63, 77, 83, 38, 42, 32, 27, 16, 19, 26, 11, 49, 34, 44, 33, 17, 95, 56)\n",
      "invalid (47, 85, 34, 18, 79, 72, 64, 76, 97, 46, 96)\n",
      "invalid (48, 12, 17, 86, 47, 62, 33, 38, 32, 54, 49, 11, 97, 79, 44)\n",
      "invalid (27, 93, 95, 18, 54, 55, 83, 34, 28, 52, 63, 29, 31, 77, 26)\n",
      "invalid (12, 55, 56, 13, 89, 47, 85, 46, 48, 64, 58, 45, 79)\n",
      "invalid (84, 16, 85, 31, 52)\n",
      "invalid (47, 52, 97, 31, 64, 29, 41, 76, 79, 46, 48, 96, 86, 34, 12)\n",
      "invalid (32, 93, 63, 49, 44, 31, 29, 42, 54)\n",
      "invalid (85, 89, 22, 76, 47, 34, 84, 81, 55, 63, 29, 52, 72, 18, 79, 96, 58, 86, 45, 31, 41)\n",
      "invalid (32, 93, 41, 52, 89, 77, 64, 31, 83, 84, 29, 18, 63, 85, 72, 34, 96, 46, 45, 17, 55)\n",
      "invalid (51, 32, 29, 77, 31, 54, 83, 93, 84, 27, 18)\n",
      "invalid (17, 63, 77, 61, 42, 19, 38, 27, 49, 33, 11, 32, 16, 83, 93, 51, 62, 54, 56)\n",
      "invalid (28, 81, 12, 33, 19, 97, 44, 79, 42, 47, 46, 11, 22, 49, 38, 64, 61, 62, 56, 48, 76, 13, 86)\n",
      "invalid (13, 49, 72, 19, 22, 76, 42, 97, 61, 12, 48, 81, 62, 86, 96, 28, 33, 46, 47, 79, 58, 64, 38)\n",
      "invalid (64, 12, 72, 96, 76, 46, 45)\n",
      "invalid (96, 34, 52, 45, 83, 16, 26, 93, 64, 55, 95, 29, 72, 31, 51)\n",
      "invalid (62, 72, 89, 96, 76, 86, 64, 45, 22, 56, 79, 12, 41, 47, 85, 52, 97, 55, 61)\n",
      "invalid (26, 17, 96, 18, 54, 45, 16, 84, 72, 93, 95)\n",
      "invalid (32, 55, 16, 51, 89, 18, 93, 63, 83, 52, 85, 77, 95, 84, 54, 96, 45, 26, 29, 72, 41)\n",
      "invalid (28, 51, 38, 56, 17, 49, 95, 26, 42, 11, 77, 97, 19, 44, 27, 83, 54, 32, 12, 61, 33, 48, 13)\n",
      "invalid (64, 83, 34, 26, 77, 18, 55)\n",
      "invalid (38, 62, 22, 19, 27, 49, 28, 47, 13)\n",
      "invalid (28, 83, 17, 16, 26, 93, 61, 34, 51)\n",
      "invalid (97, 61, 55, 52, 41, 62, 22, 45, 85, 64, 47, 96, 13, 56, 76, 81, 58)\n",
      "invalid (86, 56, 44, 62, 28, 13, 33, 17, 79, 54, 12, 49, 11, 22, 38, 32, 42, 61, 48)\n",
      "invalid (11, 38, 42, 54, 27, 22, 62, 12, 61, 19, 48, 44, 49, 86, 56, 81, 17, 97, 33, 47, 13, 28, 26)\n",
      "invalid (63, 51, 31, 55, 64, 16, 84, 18, 83, 76, 72, 29, 85, 46, 32, 52, 34)\n",
      "invalid (55, 95, 84, 51, 16, 77, 38, 27, 93, 19, 54, 34, 42)\n",
      "invalid (62, 11, 56, 13, 38, 26, 97, 48, 54, 86, 27, 61, 22, 17, 49, 19, 77)\n",
      "invalid (54, 77, 62, 27, 56, 17, 16, 83, 26, 97, 32, 61, 95)\n",
      "invalid (55, 76, 79, 52, 85)\n",
      "invalid (42, 48, 13, 79, 47, 19, 56, 49, 11, 96, 86)\n",
      "invalid (12, 41, 86, 52, 93, 46, 89)\n",
      "invalid (51, 61, 42, 62, 18, 54, 49, 95, 83, 17, 56)\n",
      "invalid (51, 77, 42, 32, 54, 17, 83, 27, 49, 28, 95, 61, 97, 19, 48)\n",
      "invalid (11, 54, 48, 51, 95, 27, 17, 62, 44, 28, 32, 19, 61, 83, 13, 49, 97, 42, 33, 77, 38, 26, 16)\n",
      "invalid (95, 89, 41, 76, 16, 63, 31, 79, 52, 64, 46, 72, 45, 81, 55, 96, 83)\n",
      "invalid (64, 33, 28, 56, 38, 47, 97, 12, 86, 96, 61, 81, 22, 13, 79, 76, 62, 11, 46, 42, 48, 49, 58)\n",
      "invalid (31, 97, 12, 81, 41, 46, 58, 89, 61)\n",
      "invalid (48, 42, 64, 56, 58, 11, 76, 96, 47, 49, 33, 81, 38, 19, 86, 46, 97)\n",
      "invalid (58, 29, 72, 79, 76, 93, 86, 84, 52, 89, 12, 34, 85, 18, 46)\n",
      "invalid (33, 19, 13, 77, 56, 26, 11)\n",
      "invalid (89, 55, 72, 31, 29, 85, 12, 45, 41, 22, 76, 96, 86, 13, 62, 79, 52, 81, 47, 58, 46, 48, 97)\n",
      "invalid (44, 26, 27, 83, 95, 54, 49, 33, 34, 42, 29)\n",
      "invalid (89, 48, 79, 47, 46, 22, 72, 86, 97, 33, 49, 96, 62)\n",
      "invalid (81, 45, 46, 72, 93, 52, 58, 79, 95, 76, 63, 83, 89, 84, 31, 55, 41, 29, 34, 96, 85)\n",
      "invalid (33, 86, 96, 81, 58, 85, 72, 97, 13, 46, 48, 79, 76, 61, 12, 22, 64, 89, 52, 47, 62, 45, 41)\n",
      "invalid (63, 51, 55, 76, 58, 45, 46, 16, 95, 64, 72, 96, 34)\n",
      "invalid (42, 13, 11, 54, 49, 27, 62, 38, 83, 26, 93, 77, 32, 28, 16, 51, 63, 95, 33, 17, 61, 19, 44)\n",
      "invalid (63, 51, 38, 31, 54, 84, 29, 55, 28, 44, 77)\n",
      "invalid (48, 33, 56, 51, 26, 28, 38, 63, 62, 42, 54, 11, 44, 95, 77)\n",
      "invalid (79, 42, 28, 96, 12, 86, 56, 47, 38, 49, 81, 33, 72, 48, 61)\n",
      "invalid (72, 13, 79, 58, 19, 47, 49, 12, 46, 38, 42, 76, 64, 56, 62, 81, 48, 28, 61, 96, 22)\n",
      "invalid (95, 84, 89, 45, 41, 76, 79)\n",
      "invalid (33, 54, 97, 86, 79, 38, 27, 17, 22, 47, 62, 13, 44, 49, 28, 42, 48, 11, 32, 12, 26, 61, 56)\n",
      "invalid (89, 79, 81, 49, 85, 58, 12, 76, 45)\n",
      "invalid (89, 95, 93, 84, 44, 18, 51, 31, 54, 63, 11, 29, 55, 26, 27, 83, 34)\n",
      "invalid (81, 85, 76, 79, 55, 97, 45, 41, 86, 62, 13, 96, 72, 89, 12, 29, 22, 47, 64, 31, 52, 58, 46)\n",
      "invalid (38, 11, 27, 58, 49, 81, 97, 28, 48, 47, 86, 42, 79, 13, 61, 44, 76, 12, 56, 19, 62, 22, 54)\n",
      "invalid (54, 61, 11, 95, 44, 49, 26, 62, 51, 18, 63, 56, 28)\n",
      "invalid (29, 41, 63, 44, 18, 11, 32, 45, 27)\n",
      "invalid (85, 89, 32, 18, 83, 95, 51, 55, 72, 93, 64, 84, 63, 26, 96, 34, 41, 16, 45, 31, 77)\n",
      "invalid (44, 47, 64, 13, 49, 33, 56)\n",
      "invalid (79, 55, 52, 58, 46, 95, 41)\n",
      "invalid (18, 45, 29, 84, 93, 89, 51, 32, 77, 34, 96, 63, 95, 85, 26, 52, 55, 64, 72)\n",
      "invalid (44, 19, 27, 79, 42, 13, 54, 22, 49, 33, 47, 81, 86, 48, 38, 28, 62, 61, 56, 12, 97, 58, 11)\n",
      "invalid (38, 28, 48, 12, 26, 58, 86)\n",
      "invalid (12, 42, 38, 22, 51, 47, 61)\n",
      "invalid (56, 38, 62, 13, 86, 79, 27, 28, 44, 12, 97, 81, 46, 49, 33, 47, 61)\n",
      "invalid (18, 76, 51, 29, 52, 83, 41)\n",
      "invalid (58, 47, 19, 12, 26, 11, 79, 42, 13, 44, 22, 33, 38, 54, 49, 56, 61, 62, 86, 27, 48)\n"
     ]
    },
    {
     "data": {
      "text/plain": [
       "4480"
      ]
     },
     "execution_count": 73,
     "metadata": {},
     "output_type": "execute_result"
    }
   ],
   "source": [
    "res_b = 0\n",
    "for pg_inv in invalid_pages :\n",
    "    print('invalid {}'.format(pg_inv))\n",
    "    pg_inv_s = set(pg_inv)\n",
    "    d = {k:(v.intersection(pg_inv_s)) for (k,v) in rules.items() if k in pg_inv}\n",
    "    s = sorted(d.items(), key=lambda item: len(item[1]),reverse=True)\n",
    "    #print(s)\n",
    "    l = [t[0] for t in s]\n",
    "    #print(l)\n",
    "    res_b += l[math.floor(len(l)/2)]\n",
    "res_b"
   ]
  },
  {
   "cell_type": "code",
   "execution_count": 74,
   "metadata": {},
   "outputs": [
    {
     "name": "stdout",
     "output_type": "stream",
     "text": [
      "Part b already solved with same answer: 4480\n"
     ]
    }
   ],
   "source": [
    "submit(res_b, part=\"b\", day=5, year=2024)"
   ]
  },
  {
   "cell_type": "markdown",
   "metadata": {},
   "source": [
    "[home](#home)\n",
    "# Day 6\n",
    "[Guard Gallivant](https://adventofcode.com/2024/day/6)  \n",
    "\n",
    "\n",
    "Lab guards follow a patrol protocol which involves repeatedly following these steps:\n",
    "- If there is something directly in front of you, turn right 90 degrees.\n",
    "- Otherwise, take a step forward.\n"
   ]
  },
  {
   "cell_type": "code",
   "execution_count": 75,
   "metadata": {},
   "outputs": [],
   "source": [
    "get_in_file(6,2024)"
   ]
  },
  {
   "cell_type": "code",
   "execution_count": 76,
   "metadata": {},
   "outputs": [
    {
     "data": {
      "text/plain": [
       "((10, 10), 100)"
      ]
     },
     "execution_count": 76,
     "metadata": {},
     "output_type": "execute_result"
    }
   ],
   "source": [
    "test_d6 = '''\n",
    "....#.....\n",
    ".........#\n",
    "..........\n",
    "..#.......\n",
    ".......#..\n",
    "..........\n",
    ".#..^.....\n",
    "........#.\n",
    "#.........\n",
    "......#...\n",
    "'''\n",
    "\n",
    "p = lambda x:tuple(x)\n",
    "#in_part_A = mapt(p,Input(6))\n",
    "in_part_A = mapt(p,test_d6.rstrip().split())\n",
    "MpA = np.matrix(in_part_A)\n",
    "MpA.shape, MpA.size"
   ]
  },
  {
   "cell_type": "code",
   "execution_count": 77,
   "metadata": {},
   "outputs": [],
   "source": [
    "# each ordered key turn right 90 degrees\n",
    "guard_pos_d = OrderedDict({'^':(-1,0),'>':(0,1),'v':(1,0),'<':(0,-1)})\n",
    "#Step = namedtuple('Step','dir,pos,turn,pred_step')\n",
    "#Step = namedtuple('Step','dir,pos,turn')\n",
    "# !!! https://docs.python.org/3.13/reference/datamodel.html#object.__hash__\n",
    "# If a class that overrides __eq__() needs to retain the implementation of __hash__() from a parent class,\n",
    "# the interpreter must be told this explicitly by setting __hash__ = <ParentClass>.__hash__.\n",
    "class Step(namedtuple('Step',['dir','pos','turn'])):\n",
    "    __hash__ = tuple.__hash__\n",
    "    def __eq__(self,other)->bool:\n",
    "        return self.dir==other.dir and self.pos==other.pos\n",
    "        \n",
    "#assert(Step('^',(0,1),False) == Step('^',(0,1),True))"
   ]
  },
  {
   "cell_type": "code",
   "execution_count": 78,
   "metadata": {},
   "outputs": [
    {
     "data": {
      "text/plain": [
       "Step(dir='^', pos=(6, 4), turn=False)"
      ]
     },
     "execution_count": 78,
     "metadata": {},
     "output_type": "execute_result"
    }
   ],
   "source": [
    "start_pos = Step('^',mapt(int,tuple(np.argwhere(MpA == '^')[0])),False)\n",
    "start_pos"
   ]
  },
  {
   "cell_type": "code",
   "execution_count": 79,
   "metadata": {},
   "outputs": [],
   "source": [
    "def get_next_turn(t):\n",
    "    try :\n",
    "        l=list(guard_pos_d.keys())\n",
    "        return l[l.index(t)+1]\n",
    "    except IndexError :\n",
    "        return l[0]\n",
    "\n",
    "def get_next_step(s:Step,M)->Step:\n",
    "    \"\"\" get next step : \n",
    "         - turn 90 degree if obstacle in front\n",
    "        OR\n",
    "         - move forward         \n",
    "    \"\"\"\n",
    "    next_pos = add_tuple(s.pos,guard_pos_d[s.dir])\n",
    "    if not isValid(M.shape,next_pos) :\n",
    "            return None\n",
    "    if M[next_pos] == '#' :\n",
    "        # turn right 90 degrees \n",
    "        turn = get_next_turn(s.dir)\n",
    "        return Step(turn,s.pos,True)\n",
    "    else :\n",
    "        # move forward\n",
    "        return Step(s.dir,next_pos,False)\n",
    "\n",
    "def get_steps(start:Step,M)->List[Step]:\n",
    "    steps = list()\n",
    "    steps.append(start)\n",
    "    next_step = start\n",
    "    while (next_step:= get_next_step(next_step,M)) :\n",
    "        #print(next_step)\n",
    "        if next_step in steps :\n",
    "            steps.append(next_step)\n",
    "            break\n",
    "        steps.append(next_step)\n",
    "    return steps\n",
    "\n",
    "def is_loop_steps(steps:List[Step]):\n",
    "    l = [(x.pos,x.dir)for x in steps]\n",
    "    return last(l) in l[:-1] \n",
    "\n",
    "def get_path_from_steps(steps:List[Step])->List[Step]:\n",
    "    return [x for x in steps if not x.turn]\n"
   ]
  },
  {
   "cell_type": "code",
   "execution_count": 80,
   "metadata": {},
   "outputs": [
    {
     "data": {
      "text/plain": [
       "41"
      ]
     },
     "execution_count": 80,
     "metadata": {},
     "output_type": "execute_result"
    }
   ],
   "source": [
    "# distint position will the guard visit before leaving the mapped area    \n",
    "res_a =  len(Counter([x.pos for x in get_steps(start_pos,MpA)]))\n",
    "res_a"
   ]
  },
  {
   "cell_type": "code",
   "execution_count": 81,
   "metadata": {},
   "outputs": [
    {
     "name": "stdout",
     "output_type": "stream",
     "text": [
      "aocd will not submit that answer. At 2024-12-06 07:40:08.393017-05:00 you've previously submitted 4967 and the server responded with:\n",
      "\u001b[32mThat's the right answer!  You are one gold star closer to finding the Chief Historian. [Continue to Part Two]\u001b[0m\n",
      "It is certain that '41' is incorrect, because '41' != '4967'.\n"
     ]
    }
   ],
   "source": [
    "submit(res_a, part=\"a\", day=6, year=2024)"
   ]
  },
  {
   "cell_type": "markdown",
   "metadata": {},
   "source": [
    "### Part 2"
   ]
  },
  {
   "cell_type": "code",
   "execution_count": 82,
   "metadata": {},
   "outputs": [
    {
     "name": "stdout",
     "output_type": "stream",
     "text": [
      "Step(dir='^', pos=(5, 2), turn=False)\n",
      "False\n",
      "True\n"
     ]
    },
    {
     "data": {
      "text/plain": [
       "[Step(dir='^', pos=(5, 2), turn=False),\n",
       " Step(dir='^', pos=(4, 2), turn=False),\n",
       " Step(dir='^', pos=(3, 2), turn=False),\n",
       " Step(dir='^', pos=(2, 2), turn=False),\n",
       " Step(dir='^', pos=(1, 2), turn=False),\n",
       " Step(dir='>', pos=(1, 2), turn=True),\n",
       " Step(dir='v', pos=(1, 2), turn=True),\n",
       " Step(dir='v', pos=(2, 2), turn=False),\n",
       " Step(dir='v', pos=(3, 2), turn=False),\n",
       " Step(dir='v', pos=(4, 2), turn=False),\n",
       " Step(dir='v', pos=(5, 2), turn=False),\n",
       " Step(dir='<', pos=(5, 2), turn=True),\n",
       " Step(dir='^', pos=(5, 2), turn=True)]"
      ]
     },
     "execution_count": 82,
     "metadata": {},
     "output_type": "execute_result"
    }
   ],
   "source": [
    "test_x1 = '''\n",
    "..#..\n",
    ".#.#.\n",
    ".#.#.\n",
    ".#.#.\n",
    ".#.#.\n",
    ".#^#.\n",
    ".....\n",
    "'''\n",
    "Mx1 = np.matrix(mapt(lambda x:tuple(x),test_x1.rstrip().split()))\n",
    "Mx1.shape, Mx1.size\n",
    "start_pos = Step('^',mapt(int,tuple(np.argwhere(Mx1 == '^')[0])),False)\n",
    "print(start_pos)\n",
    "steps = get_steps(start_pos,Mx1)\n",
    "print(is_loop_steps(steps))\n",
    "get_path_from_steps(steps)\n",
    "Mx1[(6,2)]='#'\n",
    "steps = get_steps(start_pos,Mx1)\n",
    "print(is_loop_steps(steps))\n",
    "get_path_from_steps(steps)\n",
    "Mx1[(6,2)]='.'\n",
    "steps\n"
   ]
  },
  {
   "cell_type": "code",
   "execution_count": 83,
   "metadata": {},
   "outputs": [
    {
     "name": "stdout",
     "output_type": "stream",
     "text": [
      "add Step(dir='^', pos=(64, 60), turn=False)\n"
     ]
    },
    {
     "ename": "KeyboardInterrupt",
     "evalue": "",
     "output_type": "error",
     "traceback": [
      "\u001b[0;31m---------------------------------------------------------------------------\u001b[0m",
      "\u001b[0;31mKeyboardInterrupt\u001b[0m                         Traceback (most recent call last)",
      "Cell \u001b[0;32mIn[83], line 27\u001b[0m\n\u001b[1;32m     23\u001b[0m         M[p1\u001b[38;5;241m.\u001b[39mpos] \u001b[38;5;241m=\u001b[39m \u001b[38;5;124m'\u001b[39m\u001b[38;5;124mO\u001b[39m\u001b[38;5;124m'\u001b[39m\n\u001b[1;32m     25\u001b[0m     \u001b[38;5;28;01mreturn\u001b[39;00m obstacle\n\u001b[0;32m---> 27\u001b[0m obstacles \u001b[38;5;241m=\u001b[39m \u001b[43mget_obstacle\u001b[49m\u001b[43m(\u001b[49m\u001b[43mMpA\u001b[49m\u001b[43m)\u001b[49m\n\u001b[1;32m     29\u001b[0m \u001b[38;5;66;03m# 35 mins\u001b[39;00m\n",
      "Cell \u001b[0;32mIn[83], line 17\u001b[0m, in \u001b[0;36mget_obstacle\u001b[0;34m(M)\u001b[0m\n\u001b[1;32m     15\u001b[0m tmp \u001b[38;5;241m=\u001b[39m M[p1\u001b[38;5;241m.\u001b[39mpos]\n\u001b[1;32m     16\u001b[0m M[p1\u001b[38;5;241m.\u001b[39mpos] \u001b[38;5;241m=\u001b[39m \u001b[38;5;124m'\u001b[39m\u001b[38;5;124m#\u001b[39m\u001b[38;5;124m'\u001b[39m\n\u001b[0;32m---> 17\u001b[0m \u001b[38;5;28;01mif\u001b[39;00m is_loop_steps(ss\u001b[38;5;241m:=\u001b[39m\u001b[43mget_steps\u001b[49m\u001b[43m(\u001b[49m\u001b[43mstart\u001b[49m\u001b[43m,\u001b[49m\u001b[43mM\u001b[49m\u001b[43m)\u001b[49m) :\n\u001b[1;32m     18\u001b[0m     obstacle\u001b[38;5;241m.\u001b[39madd(p1)\n\u001b[1;32m     19\u001b[0m     \u001b[38;5;28mprint\u001b[39m(\u001b[38;5;124m'\u001b[39m\u001b[38;5;124madd \u001b[39m\u001b[38;5;132;01m{}\u001b[39;00m\u001b[38;5;124m'\u001b[39m\u001b[38;5;241m.\u001b[39mformat(p1))\n",
      "Cell \u001b[0;32mIn[79], line 31\u001b[0m, in \u001b[0;36mget_steps\u001b[0;34m(start, M)\u001b[0m\n\u001b[1;32m     28\u001b[0m next_step \u001b[38;5;241m=\u001b[39m start\n\u001b[1;32m     29\u001b[0m \u001b[38;5;28;01mwhile\u001b[39;00m (next_step\u001b[38;5;241m:=\u001b[39m get_next_step(next_step,M)) :\n\u001b[1;32m     30\u001b[0m     \u001b[38;5;66;03m#print(next_step)\u001b[39;00m\n\u001b[0;32m---> 31\u001b[0m     \u001b[38;5;28;01mif\u001b[39;00m \u001b[43mnext_step\u001b[49m\u001b[43m \u001b[49m\u001b[38;5;129;43;01min\u001b[39;49;00m\u001b[43m \u001b[49m\u001b[43msteps\u001b[49m :\n\u001b[1;32m     32\u001b[0m         steps\u001b[38;5;241m.\u001b[39mappend(next_step)\n\u001b[1;32m     33\u001b[0m         \u001b[38;5;28;01mbreak\u001b[39;00m\n",
      "Cell \u001b[0;32mIn[77], line 10\u001b[0m, in \u001b[0;36mStep.__eq__\u001b[0;34m(self, other)\u001b[0m\n\u001b[1;32m      8\u001b[0m \u001b[38;5;28;01mclass\u001b[39;00m \u001b[38;5;21;01mStep\u001b[39;00m(namedtuple(\u001b[38;5;124m'\u001b[39m\u001b[38;5;124mStep\u001b[39m\u001b[38;5;124m'\u001b[39m,[\u001b[38;5;124m'\u001b[39m\u001b[38;5;124mdir\u001b[39m\u001b[38;5;124m'\u001b[39m,\u001b[38;5;124m'\u001b[39m\u001b[38;5;124mpos\u001b[39m\u001b[38;5;124m'\u001b[39m,\u001b[38;5;124m'\u001b[39m\u001b[38;5;124mturn\u001b[39m\u001b[38;5;124m'\u001b[39m])):\n\u001b[1;32m      9\u001b[0m     \u001b[38;5;21m__hash__\u001b[39m \u001b[38;5;241m=\u001b[39m \u001b[38;5;28mtuple\u001b[39m\u001b[38;5;241m.\u001b[39m\u001b[38;5;21m__hash__\u001b[39m\n\u001b[0;32m---> 10\u001b[0m     \u001b[38;5;28;01mdef\u001b[39;00m \u001b[38;5;21m__eq__\u001b[39m(\u001b[38;5;28mself\u001b[39m,other)\u001b[38;5;241m-\u001b[39m\u001b[38;5;241m>\u001b[39m\u001b[38;5;28mbool\u001b[39m:\n\u001b[1;32m     11\u001b[0m         \u001b[38;5;28;01mreturn\u001b[39;00m \u001b[38;5;28mself\u001b[39m\u001b[38;5;241m.\u001b[39mdir\u001b[38;5;241m==\u001b[39mother\u001b[38;5;241m.\u001b[39mdir \u001b[38;5;129;01mand\u001b[39;00m \u001b[38;5;28mself\u001b[39m\u001b[38;5;241m.\u001b[39mpos\u001b[38;5;241m==\u001b[39mother\u001b[38;5;241m.\u001b[39mpos\n",
      "\u001b[0;31mKeyboardInterrupt\u001b[0m: "
     ]
    }
   ],
   "source": [
    "p = lambda x:tuple(x)\n",
    "in_part_A = mapt(p,Input(6))\n",
    "#in_part_A = mapt(p,test_d6.rstrip().split())\n",
    "MpA = np.matrix(in_part_A)\n",
    "MpA.shape, MpA.size\n",
    "\n",
    "def get_obstacle(M:np.matrix)->List[Step]:\n",
    "    start = Step('^',mapt(int,tuple(np.argwhere(M == '^')[0])),False)\n",
    "    obstacle = set()\n",
    "    steps = get_steps(start,M)\n",
    "    for p0,p1 in pairwise(get_path_from_steps(steps)) :\n",
    "        #print(p0,p1)\n",
    "        if M[p1.pos] == 'O':\n",
    "            continue\n",
    "        tmp = M[p1.pos]\n",
    "        M[p1.pos] = '#'\n",
    "        if is_loop_steps(ss:=get_steps(start,M)) :\n",
    "            obstacle.add(p1)\n",
    "            print('add {}'.format(p1))\n",
    "            #print(obstacle)\n",
    "            #print(ss)\n",
    "        #M[p1.pos] = tmp\n",
    "        M[p1.pos] = 'O'\n",
    "        \n",
    "    return obstacle\n",
    "\n",
    "obstacles = get_obstacle(MpA)\n",
    "\n",
    "# 35 mins"
   ]
  },
  {
   "cell_type": "code",
   "execution_count": null,
   "metadata": {},
   "outputs": [],
   "source": [
    "res_b = len(Counter([x.pos for x in obstacles]))\n",
    "res_b"
   ]
  },
  {
   "cell_type": "code",
   "execution_count": null,
   "metadata": {},
   "outputs": [],
   "source": [
    "submit(res_b, part=\"b\", day=6, year=2024)"
   ]
  },
  {
   "cell_type": "code",
   "execution_count": null,
   "metadata": {},
   "outputs": [],
   "source": [
    "test_x2 = '''\n",
    ".....\n",
    "..#..\n",
    ".#^#.\n",
    "..#..\n",
    "'''\n",
    "Mx2 = np.matrix(mapt(lambda x:tuple(x),test_x2.rstrip().split()))\n",
    "Mx2.shape, Mx2.size\n",
    "start_pos = Step('^',mapt(int,tuple(np.argwhere(Mx2 == '^')[0])),False)\n",
    "is_loop_steps(steps:=get_steps(start_pos,Mx2))\n",
    "pp.pprint(steps)\n",
    "get_path_from_steps(steps)"
   ]
  },
  {
   "cell_type": "markdown",
   "metadata": {},
   "source": [
    "[home](#home)\n",
    "# Day 7\n",
    "[Bridge Repair](https://adventofcode.com/2024/day/7)  \n",
    "\n",
    "Use [bigtree](https://bigtree.readthedocs.io/en/stable/) Python package"
   ]
  },
  {
   "cell_type": "code",
   "execution_count": null,
   "metadata": {},
   "outputs": [],
   "source": [
    "get_in_file(7,2024)"
   ]
  },
  {
   "cell_type": "code",
   "execution_count": null,
   "metadata": {},
   "outputs": [],
   "source": [
    "test_d7 = \"\"\"\n",
    "190: 10 19\n",
    "3267: 81 40 27\n",
    "83: 17 5\n",
    "156: 15 6\n",
    "7290: 6 8 6 15\n",
    "161011: 16 10 13\n",
    "192: 17 8 14\n",
    "21037: 9 7 18 13\n",
    "292: 11 6 16 20\n",
    "\"\"\""
   ]
  },
  {
   "cell_type": "code",
   "execution_count": null,
   "metadata": {},
   "outputs": [],
   "source": [
    "equations = mapt(lambda x:(int(x[0]),mapt(lambda x:int(x),x[1].strip().split())),(mapt(lambda x:x.split(':'),Input(7))))\n",
    "#equations = mapt(lambda x:(int(x[0]),mapt(lambda x:int(x),x[1].strip().split())),(mapt(lambda x:x.split(':'),test_d7.strip().split(\"\\n\"))))\n",
    "#equations"
   ]
  },
  {
   "cell_type": "code",
   "execution_count": null,
   "metadata": {},
   "outputs": [],
   "source": [
    "debug = False\n",
    "\n",
    "def make_tree_path(s ,root_name=\"R\")->List:\n",
    "    \"\"\" '++++' --> 'R/+/+/+/+' \"\"\"\n",
    "    return \"\".join(list(intersperse('/',root_name+s)))\n",
    "    \n",
    "def make_tree(op_num,operators:List):\n",
    "    \"\"\"  \"\"\"\n",
    "    prod_iter = product (\"\".join(operators),repeat=op_num)\n",
    "    path_str = list(mapt(lambda x:\"\".join(x),prod_iter))\n",
    "    if debug : print(path_str) \n",
    "    return list_to_tree([make_tree_path(x) for x in path_str])\n",
    "\n",
    "def populate_tree(operands_list, operators_dict):\n",
    "    \"\"\" \"\"\"\n",
    "    root = make_tree(len(operands_list)-1, operators_dict.keys())\n",
    "    for node in levelorder_iter(root) :\n",
    "        if node.is_root :\n",
    "            node.set_attrs({\"res\": operands_list[0]})\n",
    "        else :    \n",
    "            node.set_attrs({\"res\": 0})\n",
    "    #root.hshow()\n",
    "    for node in levelorder_iter(root) :\n",
    "        if not node.is_root :\n",
    "            op = operators_dict[node.node_name]\n",
    "            op1 = node.parent.get_attr(\"res\")\n",
    "            op2 = operands_list[node.depth-1]\n",
    "            res = op(op1,op2)\n",
    "            #print(\"{}{}{}\".format(op1,node.node_name,op2))\n",
    "            node.set_attrs({\"res\":res})\n",
    "    return root\n",
    "\n",
    "def all_res_equation(root):\n",
    "    for node in levelorder_iter(root) :\n",
    "        if node.is_leaf :\n",
    "            yield node.get_attr(\"res\")\n",
    "\n",
    "if debug :\n",
    "    root = populate_tree([81,40,27])\n",
    "    root.show(attr_list=[\"res\"])\n",
    "\n",
    "operators = {\"+\":operator.add,\"*\":operator.mul}\n",
    "true_equations_res = list()\n",
    "for res,operands in equations :\n",
    "    all_res = list(all_res_equation(populate_tree(operands,operators)))\n",
    "    if debug : print(res,all_res)\n",
    "    if res in all_res :\n",
    "        true_equations_res.append(res)\n",
    "\n",
    "true_equations_res\n",
    "res_a = sum(true_equations_res)\n",
    "res_a"
   ]
  },
  {
   "cell_type": "code",
   "execution_count": null,
   "metadata": {},
   "outputs": [],
   "source": [
    "submit(res_a, part=\"a\", day=7, year=2024)"
   ]
  },
  {
   "cell_type": "markdown",
   "metadata": {},
   "source": [
    "### Part 2\n",
    "\n",
    "add the concatenation operator (||) combines the digits from its left and right inputs into a single number.  \n",
    "For example, **12 || 345** would become **12345**. All operators are still evaluated left-to-right."
   ]
  },
  {
   "cell_type": "code",
   "execution_count": null,
   "metadata": {},
   "outputs": [],
   "source": [
    "operators.update({\"|\": lambda x,y: int(str(x)+str(y))})\n",
    "true_equations_res = list()\n",
    "for res,operands in equations :\n",
    "    all_res = list(all_res_equation(populate_tree(operands,operators)))\n",
    "    if debug : print(res,all_res)\n",
    "    if res in all_res :\n",
    "        true_equations_res.append(res)\n",
    "\n",
    "true_equations_res\n",
    "res_b = sum(true_equations_res)\n",
    "res_b"
   ]
  },
  {
   "cell_type": "code",
   "execution_count": null,
   "metadata": {},
   "outputs": [],
   "source": [
    "submit(res_b, part=\"b\", day=7, year=2024)"
   ]
  },
  {
   "cell_type": "markdown",
   "metadata": {},
   "source": [
    "[home](#home)\n",
    "# Day 8\n",
    "[Resonant Collinearity](https://adventofcode.com/2024/day/8)  \n",
    "\n",
    "How many unique locations within the bounds of the map contain an antinode ?  \n",
    "\n",
    "Each antenna is tuned to a specific frequency indicated by a **single** *lowercase letter*, *uppercase letter*, or *digit*.  \n",
    "\n",
    "An antinode occurs at any point that is perfectly in line with two antennas of the same frequency - but only when one of the antennas is twice as far away as the other.  \n",
    "\n",
    "However, antinodes can occur at locations that contain antennas\n"
   ]
  },
  {
   "cell_type": "code",
   "execution_count": null,
   "metadata": {},
   "outputs": [],
   "source": [
    "get_in_file(8,2024)"
   ]
  },
  {
   "cell_type": "code",
   "execution_count": null,
   "metadata": {},
   "outputs": [],
   "source": [
    "test_d8_1 = \"\"\"\n",
    "..........\n",
    "...#......\n",
    "#.........\n",
    "....a.....\n",
    "........a.\n",
    ".....a....\n",
    "..#.......\n",
    "......#...\n",
    "..........\n",
    "..........\n",
    "\"\"\""
   ]
  },
  {
   "cell_type": "code",
   "execution_count": null,
   "metadata": {},
   "outputs": [],
   "source": [
    "test_d8_2 = \"\"\"\n",
    "......#....#\n",
    "...#....0...\n",
    "....#0....#.\n",
    "..#....0....\n",
    "....0....#..\n",
    ".#....A.....\n",
    "...#........\n",
    "#......#....\n",
    "........A...\n",
    ".........A..\n",
    "..........#.\n",
    "..........#.\n",
    "\"\"\""
   ]
  },
  {
   "cell_type": "code",
   "execution_count": null,
   "metadata": {},
   "outputs": [],
   "source": [
    "test_d8_3 = \"\"\"\n",
    "#.........\n",
    "..#.a.a.#.\n",
    "..........\n",
    "a.........\n",
    "..........\n",
    "..........\n",
    "a.........\n",
    "..........\n",
    "..........\n",
    "#....#aa#.\n",
    "\"\"\""
   ]
  },
  {
   "cell_type": "code",
   "execution_count": null,
   "metadata": {},
   "outputs": [],
   "source": [
    "p = lambda x:tuple(x)\n",
    "in_part_A = mapt(p,Input(8))\n",
    "#in_part_A = mapt(p,test_d8_1.rstrip().split())\n",
    "#in_part_A = mapt(p,test_d8_2.rstrip().split())\n",
    "#in_part_A = mapt(p,test_d8_3.rstrip().split())\n",
    "MpA = np.matrix(in_part_A)\n",
    "MpA.shape, MpA.size"
   ]
  },
  {
   "cell_type": "code",
   "execution_count": null,
   "metadata": {},
   "outputs": [],
   "source": [
    "def isChrValid(c:str)->bool:\n",
    "    return len(c) == 1 and c.isalnum()\n",
    "\n",
    "def isChrAntenna(c:str)->bool:\n",
    "    return isChrValid(c)\n",
    "\n",
    "def isChrAntinode(c:str)->bool:\n",
    "    return c == '#'\n"
   ]
  },
  {
   "cell_type": "code",
   "execution_count": null,
   "metadata": {},
   "outputs": [],
   "source": [
    "class Line(namedtuple('Line',['p1','p2'])):\n",
    "    __hash__ = tuple.__hash__\n",
    "    def __eq__(self,other)->bool:\n",
    "        return self.p1==other.p1 and self.p2==other.p2 or (self.p1==other.p2 and self.p2==other.p1)\n",
    "    def __repr__(self) -> str:\n",
    "        return f'<Line{tuple.__repr__(self)}, len={self.length()}, m={self.m()}>'\n",
    "    def length(self):\n",
    "        # row,col\n",
    "        y1,x1 = self.p1\n",
    "        y2,x2 = self.p2\n",
    "        return abs(y1-y2) , abs(x1-x2)\n",
    "    def m(self):\n",
    "        \"\"\" m = 0 orizz \"\"\"\n",
    "        y1,x1 = self.p1\n",
    "        y2,x2 = self.p2\n",
    "        if y2 == y1 :\n",
    "            return math.nan\n",
    "        m = (x2-x1)/(y2-y1)\n",
    "        return m\n",
    "    def min_manhattan(self,p):\n",
    "        \"\"\"return point in line nearest to p\"\"\"\n",
    "        y1,x1 = self.p1\n",
    "        y2,x2 = self.p2\n",
    "        y,x = p\n",
    "        m_p1_p = abs(x1-x)+abs(y1-y)\n",
    "        m_p2_p = abs(x2-x)+abs(y2-y)\n",
    "        if m_p1_p < m_p2_p:\n",
    "            return self.p1\n",
    "        return self.p2\n",
    "    \n",
    "    \n",
    "Line((0,0),(2,2)).length() == Line((2,2),(0,0)).length()\n",
    "print(Line((0,0),(0,2)))\n",
    "print(Line((0,0),(2,0)))\n",
    "print(Line((0,0),(2,0)).min_manhattan((4,0)))"
   ]
  },
  {
   "cell_type": "code",
   "execution_count": null,
   "metadata": {},
   "outputs": [],
   "source": [
    "def get_lines(M)->dict:\n",
    "    freq_dict = {}\n",
    "    lines_dict = {}\n",
    "    for freq in mapt(str,set(M.A1)):\n",
    "        #print(f'find freq {freq}')\n",
    "        if isChrAntenna(freq) :\n",
    "            freq_dict[freq] = [(int(x),int(y)) for (x,y) in np.argwhere(M == freq)]\n",
    "            lines_dict[freq] = [Line(p1,p2) for (p1,p2) in list(combinations(freq_dict[freq],2))]\n",
    "        else :\n",
    "            print(f'not a freq {freq}')\n",
    "    return lines_dict\n",
    "\n",
    "def get_antinodes(M,freq_lines:dict):\n",
    "    anodes_dict = {}\n",
    "    for freq,llines in freq_lines.items() :\n",
    "        anodes = set()\n",
    "        point_lines = set()\n",
    "        for l in llines :\n",
    "            L = l.length()\n",
    "            point_lines.update({l.p1,l.p2})\n",
    "            #print(l)\n",
    "            if l.m() >= 0 or l.m()==math.nan  :\n",
    "                if isValid(M.shape,a:=add_tuple(l.p1 , L)) :\n",
    "                    anodes.add(a)\n",
    "                if isValid(M.shape,a:=add_tuple(l.p2 , L)) :\n",
    "                    anodes.add(a)\n",
    "                if isValid(M.shape,a:=sub_tuple(l.p1 , L)) :\n",
    "                    anodes.add(a)\n",
    "                if isValid(M.shape,a:=sub_tuple(l.p2 , L)) :\n",
    "                    anodes.add(a)\n",
    "            else : # l.m() < 0 :\n",
    "                K = (L[0],-L[1])\n",
    "                if isValid(M.shape,a:=add_tuple(l.p1 , K)) :\n",
    "                    anodes.add(a)\n",
    "                if isValid(M.shape,a:=add_tuple(l.p2 , K)) :\n",
    "                    anodes.add(a)\n",
    "                if isValid(M.shape,a:=sub_tuple(l.p1 , K)) :\n",
    "                    anodes.add(a)\n",
    "                if isValid(M.shape,a:=sub_tuple(l.p2 , K)) :\n",
    "                    anodes.add(a)\n",
    "            anodes.difference_update(point_lines)\n",
    "            #print(s)\n",
    "            anodes_dict[freq] = anodes\n",
    "    return anodes_dict\n",
    "        \n",
    "antinodes = get_antinodes(MpA,get_lines(MpA))\n",
    "#antinodes"
   ]
  },
  {
   "cell_type": "code",
   "execution_count": null,
   "metadata": {},
   "outputs": [],
   "source": [
    "res_a = len(set(collapse(antinodes.values(),levels=1)))\n",
    "res_a"
   ]
  },
  {
   "cell_type": "code",
   "execution_count": null,
   "metadata": {},
   "outputs": [],
   "source": [
    "submit(res_a, part=\"a\", day=8, year=2024)"
   ]
  },
  {
   "cell_type": "markdown",
   "metadata": {},
   "source": [
    "### Part 2"
   ]
  },
  {
   "cell_type": "code",
   "execution_count": null,
   "metadata": {},
   "outputs": [],
   "source": [
    "test_d8_4 = \"\"\"\n",
    "T....#....\n",
    "...T......\n",
    ".T....#...\n",
    ".........#\n",
    "..#.......\n",
    "..........\n",
    "...#......\n",
    "..........\n",
    "....#.....\n",
    "..........\n",
    "\"\"\"\n",
    "\n",
    "test_d8_5 = \"\"\"\n",
    "##....#....#\n",
    ".#.#....0...\n",
    "..#.#0....#.\n",
    "..##...0....\n",
    "....0....#..\n",
    ".#...#A....#\n",
    "...#..#.....\n",
    "#....#.#....\n",
    "..#.....A...\n",
    "....#....A..\n",
    ".#........#.\n",
    "...#......##\n",
    "\"\"\"\n",
    "p = lambda x:tuple(x)\n",
    "get_in_file(9,2024)#in_part_A = mapt(p,test_d8_4.rstrip().split())\n",
    "#in_part_A = mapt(p,test_d8_5.rstrip().split())\n",
    "MpA = np.matrix(in_part_A)\n",
    "MpA.shape, MpA.size"
   ]
  },
  {
   "cell_type": "code",
   "execution_count": null,
   "metadata": {},
   "outputs": [],
   "source": [
    "def get_lines(M)->dict:\n",
    "    freq_dict = {}\n",
    "    lines_dict = {}\n",
    "    for freq in mapt(str,set(M.A1)):\n",
    "        #print(f'find freq {freq}')\n",
    "        if isChrAntenna(freq) :\n",
    "            freq_dict[freq] = [(int(x),int(y)) for (x,y) in np.argwhere(M == freq)]\n",
    "            lines_dict[freq] = [Line(p1,p2) for (p1,p2) in list(combinations(freq_dict[freq],2))]\n",
    "        else :\n",
    "            print(f'not a freq {freq}')\n",
    "    return lines_dict\n",
    "\n",
    "# an antinode occurs at any grid position exactly in line with at least two antennas of the same frequency,\n",
    "# regardless of distance. This means that some of the new antinodes will occur at the position of each antenna\n",
    "# (unless that antenna is the only one of its frequency).\n",
    "\n",
    "def get_anodes_from_line(M,l:Line)->Set:\n",
    "    line_anodes = set()\n",
    "    point_lines = set()\n",
    "    point_lines.update({l.p1,l.p2})\n",
    "    L = l.length()\n",
    "    if l.m() >= 0 or l.m()==math.nan  :\n",
    "        if isValid(M.shape,a:=add_tuple(l.p1 , L)) :\n",
    "            line_anodes.add(a)\n",
    "        if isValid(M.shape,a:=add_tuple(l.p2 , L)) :\n",
    "            line_anodes.add(a)\n",
    "        if isValid(M.shape,a:=sub_tuple(l.p1 , L)) :\n",
    "            line_anodes.add(a)\n",
    "        if isValid(M.shape,a:=sub_tuple(l.p2 , L)) :\n",
    "            line_anodes.add(a)\n",
    "    else : # l.m() < 0 :\n",
    "        K = (L[0],-L[1])\n",
    "        if isValid(M.shape,a:=add_tuple(l.p1 , K)) :\n",
    "            line_anodes.add(a)\n",
    "        if isValid(M.shape,a:=add_tuple(l.p2 , K)) :\n",
    "            line_anodes.add(a)\n",
    "        if isValid(M.shape,a:=sub_tuple(l.p1 , K)) :\n",
    "            line_anodes.add(a)\n",
    "        if isValid(M.shape,a:=sub_tuple(l.p2 , K)) :\n",
    "            line_anodes.add(a)\n",
    "    line_anodes.update(point_lines)\n",
    "    return line_anodes\n",
    "\n",
    "def get_antinodes(M,freq_lines:dict):\n",
    "    anodes_dict = {}\n",
    "    for freq,llines in freq_lines.items() :\n",
    "        freq_anodes = set()\n",
    "        for line in llines :\n",
    "            print(line)\n",
    "            point_lines = set()\n",
    "            anodes_lines = deque()\n",
    "            anodes_lines.append(line)\n",
    "            while(len(anodes_lines)) :\n",
    "                curr_line = anodes_lines.pop()\n",
    "                point_lines.add(curr_line)\n",
    "                new_anodes_set = get_anodes_from_line(MpA,curr_line)\n",
    "                freq_anodes.update(new_anodes_set)\n",
    "                #make a new line with one old line point nearest to a new anode\n",
    "                for anode in new_anodes_set :\n",
    "                    nearest = curr_line.min_manhattan(anode)\n",
    "                    new_line = Line(nearest,anode)\n",
    "                    if new_line not in point_lines :\n",
    "                        print(\"new line\",new_line)\n",
    "                        point_lines.add(curr_line)\n",
    "                        anodes_lines.append(new_line)\n",
    "                \n",
    "            \n",
    "            anodes_dict[freq] = freq_anodes\n",
    "    return anodes_dict\n",
    "        \n",
    "antinodes = get_antinodes(MpA,get_lines(MpA))\n",
    "#antinodes"
   ]
  },
  {
   "cell_type": "code",
   "execution_count": null,
   "metadata": {},
   "outputs": [],
   "source": [
    "res_b = len(set(collapse(antinodes.values(),levels=1)))\n",
    "res_b"
   ]
  },
  {
   "cell_type": "code",
   "execution_count": null,
   "metadata": {},
   "outputs": [],
   "source": [
    "submit(res_b, part=\"b\", day=8, year=2024)"
   ]
  },
  {
   "cell_type": "markdown",
   "metadata": {},
   "source": [
    "[home](#home)\n",
    "# Day 9\n",
    "[Disk Fragmenter](https://adventofcode.com/2024/day/9)  \n",
    "\n",
    "20000 / 2 = 10000 ==> numero di iD  \n",
    "\n",
    "The Unicode standard describes how characters are represented by code points. A code point value is an integer in the range 0 to 0x10FFFF (about 1.1 million values, the actual number assigned is less than that). In the standard and in this document, a code point is written using the notation U+265E to mean the character with value 0x265e (9,822 in decimal).\n",
    "\n",
    "One-character Unicode strings can also be created with the chr() built-in function, which takes integers and returns a Unicode string of length 1 that contains the corresponding code point. The reverse operation is the built-in ord() function that takes a one-character Unicode string and returns the code point value  \n",
    "\n",
    "# magic is HERE !!!! \".\" will be a valid block_iD\n",
    "# so choose one outside iDs range that is [0..input_len/2]"
   ]
  },
  {
   "cell_type": "code",
   "execution_count": null,
   "metadata": {},
   "outputs": [],
   "source": [
    "get_in_file(9,2024)"
   ]
  },
  {
   "cell_type": "code",
   "execution_count": null,
   "metadata": {},
   "outputs": [
    {
     "data": {
      "text/plain": [
       "(2, 3, 3, 3, 1, 3, 3, 1, 2, 1, 4, 1, 4, 1, 3, 1, 4, 0, 2, 0)"
      ]
     },
     "execution_count": 4,
     "metadata": {},
     "output_type": "execute_result"
    }
   ],
   "source": [
    "p = lambda x: list(x.strip())\n",
    "#in_part_A, = Input(9,line_parser=p)\n",
    "in_part_A = list(\"2333133121414131402\")\n",
    "disk_map = mapt(lambda y: int(y) , in_part_A+['0'])\n",
    "disk_map"
   ]
  },
  {
   "cell_type": "code",
   "execution_count": null,
   "metadata": {},
   "outputs": [
    {
     "data": {
      "text/plain": [
       "46"
      ]
     },
     "execution_count": 5,
     "metadata": {},
     "output_type": "execute_result"
    }
   ],
   "source": [
    "# magic is HERE !!!! \".\" will be a valid block_iD\n",
    "# so choose on outside iDs range that is input len / 2\n",
    "max_iD = len(disk_map)/2\n",
    "dot_iD_ch = chr(int(max_iD+1))\n",
    "dot_iD_ch = '.'\n",
    "ord(dot_iD_ch)"
   ]
  },
  {
   "cell_type": "code",
   "execution_count": null,
   "metadata": {},
   "outputs": [
    {
     "name": "stdout",
     "output_type": "stream",
     "text": [
      "[0, 0, 46, 46, 46, 1, 1, 1, 46, 46, 46, 2, 46, 46, 46, 3, 3, 3, 46, 4, 4, 46, 5, 5, 5, 5, 46, 6, 6, 6, 6, 46, 7, 7, 7, 46, 8, 8, 8, 8, 9, 9]\n"
     ]
    }
   ],
   "source": [
    "def swp(l:List,i1,i2):\n",
    "    print(\"swp\",i,j)            \n",
    "    tmp = l[i1]\n",
    "    l[i1] = l[i2]\n",
    "    l[i2] = tmp\n",
    "    \n",
    "iD = 0\n",
    "id_files_blk = \"\"\n",
    "for file_blk_n,free_blk_n in batched(disk_map,2) :\n",
    "    id_files_blk = id_files_blk + chr(iD)*file_blk_n + dot_iD_ch*free_blk_n\n",
    "    iD += 1\n",
    "\n",
    "#print(\"\".join([x for x in id_files_blk]))\n",
    "print([ord(x) for x in id_files_blk])\n",
    "\n",
    "def compact(iDs_blk:str)->List:\n",
    "    id_files_blk_list = list(iDs_blk)   \n",
    "    it_rev = zip_equal(reversed(iDs_blk), reversed(range(len(iDs_blk))))\n",
    "    it_ele = zip_equal(iDs_blk, range(len(iDs_blk)))\n",
    "    for e,i in it_ele :\n",
    "        if e == dot_iD_ch : \n",
    "            # start from the end find the first (last) id_file to move \n",
    "            r,j = next(it_rev)\n",
    "            while r == dot_iD_ch :\n",
    "                r,j = next(it_rev)\n",
    "            if (i<j) :\n",
    "                swp(id_files_blk_list,i,j)\n",
    "            else :\n",
    "                break\n",
    "    return id_files_blk_list\n",
    "    \n",
    "res_list = [x for x in compact(id_files_blk) if x!= dot_iD_ch]\n"
   ]
  },
  {
   "cell_type": "code",
   "execution_count": null,
   "metadata": {},
   "outputs": [
    {
     "data": {
      "text/plain": [
       "1928"
      ]
     },
     "execution_count": 7,
     "metadata": {},
     "output_type": "execute_result"
    }
   ],
   "source": [
    "res_a = sum([ord(c)*i for c,i in zip_longest(res_list,range(len(res_list)))])\n",
    "res_a"
   ]
  },
  {
   "cell_type": "code",
   "execution_count": null,
   "metadata": {},
   "outputs": [],
   "source": [
    "submit(res_a, part=\"a\", day=9, year=2024)"
   ]
  },
  {
   "cell_type": "markdown",
   "metadata": {},
   "source": [
    "### Part 2  \n",
    "\n",
    "attempt to move whole files to the leftmost span of free space blocks that could fit the file.  \n",
    "\n",
    "Attempt to move each file exactly once in order of decreasing file ID number starting with the file with the highest file ID number  \n",
    "\n",
    "If there is no span of free space to the left of a file that is large enough to fit the file, the file does not move.\n"
   ]
  },
  {
   "cell_type": "code",
   "execution_count": null,
   "metadata": {},
   "outputs": [
    {
     "name": "stdout",
     "output_type": "stream",
     "text": [
      "Counter({'.': 14, '\\x05': 4, '\\x06': 4, '\\x08': 4, '\\x01': 3, '\\x03': 3, '\\x07': 3, '\\x00': 2, '\\x04': 2, '\\t': 2, '\\x02': 1})\n"
     ]
    },
    {
     "data": {
      "text/plain": [
       "['.',\n",
       " '\\x05',\n",
       " '\\x06',\n",
       " '\\x08',\n",
       " '\\x01',\n",
       " '\\x03',\n",
       " '\\x07',\n",
       " '\\x00',\n",
       " '\\x04',\n",
       " '\\t',\n",
       " '\\x02']"
      ]
     },
     "execution_count": 8,
     "metadata": {},
     "output_type": "execute_result"
    }
   ],
   "source": [
    "C = Counter(id_files_blk)\n",
    "print(C)\n",
    "sorted(C, key=C.get, reverse=True)"
   ]
  },
  {
   "cell_type": "code",
   "execution_count": 101,
   "metadata": {},
   "outputs": [
    {
     "name": "stdout",
     "output_type": "stream",
     "text": [
      "1 5 46 2\n",
      "swp [2]=46 [40]=9\n",
      "swp [3]=46 [41]=9\n",
      "2 11 46 8\n",
      "3 15 46 12\n",
      "swp [12]=46 [35]=46\n",
      "4 19 46 18\n",
      "5 22 46 21\n",
      "swp [21]=46 [31]=46\n",
      "6 27 46 26\n",
      "7 32 46 31\n",
      "8 36 46 35\n"
     ]
    },
    {
     "ename": "StopIteration",
     "evalue": "",
     "output_type": "error",
     "traceback": [
      "\u001b[0;31m---------------------------------------------------------------------------\u001b[0m",
      "\u001b[0;31mStopIteration\u001b[0m                             Traceback (most recent call last)",
      "Cell \u001b[0;32mIn[101], line 48\u001b[0m\n\u001b[1;32m     44\u001b[0m                     \u001b[38;5;28;01mbreak\u001b[39;00m\n\u001b[1;32m     46\u001b[0m     \u001b[38;5;28;01mreturn\u001b[39;00m id_files_blk_list\n\u001b[0;32m---> 48\u001b[0m res_list \u001b[38;5;241m=\u001b[39m [x \u001b[38;5;28;01mfor\u001b[39;00m x \u001b[38;5;129;01min\u001b[39;00m \u001b[43mcompact\u001b[49m\u001b[43m(\u001b[49m\u001b[43mid_files_blk\u001b[49m\u001b[43m)\u001b[49m \u001b[38;5;28;01mif\u001b[39;00m x\u001b[38;5;241m!=\u001b[39m dot_iD_ch]\n\u001b[1;32m     49\u001b[0m \u001b[38;5;124m\"\u001b[39m\u001b[38;5;124m\"\u001b[39m\u001b[38;5;241m.\u001b[39mjoin(res_list)\n",
      "Cell \u001b[0;32mIn[101], line 21\u001b[0m, in \u001b[0;36mcompact\u001b[0;34m(iDs_blk)\u001b[0m\n\u001b[1;32m     17\u001b[0m e_head,i_head \u001b[38;5;241m=\u001b[39m \u001b[38;5;28mnext\u001b[39m(it_ele)\n\u001b[1;32m     19\u001b[0m \u001b[38;5;28;01mwhile\u001b[39;00m e_head \u001b[38;5;241m==\u001b[39m e_tail :\n\u001b[1;32m     20\u001b[0m     \u001b[38;5;66;03m#print(\"it_ele\",ord(e_head), i_head, ord(e_tail), i_tail)\u001b[39;00m\n\u001b[0;32m---> 21\u001b[0m     e_head,i_head \u001b[38;5;241m=\u001b[39m \u001b[38;5;28;43mnext\u001b[39;49m\u001b[43m(\u001b[49m\u001b[43mit_ele\u001b[49m\u001b[43m)\u001b[49m\n\u001b[1;32m     22\u001b[0m \u001b[38;5;28;01mif\u001b[39;00m e_tail \u001b[38;5;241m!=\u001b[39m dot_iD_ch :\n\u001b[1;32m     23\u001b[0m     \u001b[38;5;28;01mcontinue\u001b[39;00m\n",
      "\u001b[0;31mStopIteration\u001b[0m: "
     ]
    }
   ],
   "source": [
    "def swp(l:List,i1,i2):\n",
    "    print(\"swp [{}]={} [{}]={}\".format(i1,ord(l[i1]),i2,ord(l[i2])))            \n",
    "    tmp = l[i1]\n",
    "    l[i1] = l[i2]\n",
    "    l[i2] = tmp\n",
    "    \n",
    "\n",
    "def compact(iDs_blk:str)->List:\n",
    "    id_files_blk_list = list(iDs_blk)   \n",
    "    it_ele = zip_equal(id_files_blk_list, range(len(iDs_blk)))\n",
    "    it_rev = zip_equal(reversed(id_files_blk_list), reversed(range(len(id_files_blk_list))))\n",
    "    e_head,i_head = first(it_ele)\n",
    "    r_head,j_head = first(it_rev)\n",
    "        \n",
    "    while True :\n",
    "        e_tail,i_tail = e_head,i_head\n",
    "        e_head,i_head = next(it_ele)\n",
    "        \n",
    "        while e_head == e_tail :\n",
    "            #print(\"it_ele\",ord(e_head), i_head, ord(e_tail), i_tail)\n",
    "            e_head,i_head = next(it_ele)\n",
    "        if e_tail != dot_iD_ch :\n",
    "            continue\n",
    "        else :\n",
    "            print(ord(e_head), i_head, ord(e_tail), i_tail)\n",
    "            # free block length\n",
    "            _l_free = i_head - i_tail\n",
    "            # start from the end find the first (last) id_file block to move\n",
    "            flag = True\n",
    "            while flag :\n",
    "                r_tail,j_tail = r_head,j_head\n",
    "                r_head,j_head = next(it_rev)\n",
    "                while r_head == r_tail :\n",
    "                    r_head,j_head = next(it_rev)\n",
    "                # file block length to move\n",
    "                _l_file = j_tail - j_head\n",
    "                \n",
    "                if ( _l_free >= _l_file and i_head < j_head ) :\n",
    "                    # swap\n",
    "                    for i,j in zip(range(i_tail,i_head),range(j_head+1,j_tail+1)):\n",
    "                        swp(id_files_blk_list,i,j)\n",
    "                    flag = False\n",
    "                else :\n",
    "                    break\n",
    "                \n",
    "    return id_files_blk_list\n",
    "    \n",
    "res_list = [x for x in compact(id_files_blk) if x!= dot_iD_ch]\n",
    "\"\".join(res_list)\n"
   ]
  },
  {
   "cell_type": "code",
   "execution_count": null,
   "metadata": {},
   "outputs": [
    {
     "name": "stdout",
     "output_type": "stream",
     "text": [
      "try move 9 ['\\t', '\\t']\n",
      "*** fit 9 2 3\n",
      "['\\x00', '\\x00', '.', '.', '.', '.', '\\x02', '.', '.', '.', '\\x03', '\\x03', '\\x03', '.', '\\x04', '\\x04', '.', '\\x05', '\\x05', '\\x05', '\\x05', '.', '\\x06', '\\x06', '\\x06', '\\x06', '.', '\\x07', '\\x07', '\\x07', '.', '\\x08', '\\x08', '\\x08', '\\x08', '\\t', '\\t']\n",
      "try move 8 ['\\x08', '\\x08', '\\x08', '\\x08']\n",
      "*** fit 8 4 4\n",
      "['\\x00', '\\x00', '.', '.', '.', '.', '\\x03', '.', '\\x04', '\\x04', '.', '\\x05', '\\x05', '\\x05', '\\x05', '.', '\\x06', '\\x06', '\\x06', '\\x06', '.', '\\x07', '\\x07', '\\x07', '.', '\\x08', '\\x08', '\\x08', '\\x08', '\\t', '\\t']\n",
      "try move 7 ['\\x07', '\\x07', '\\x07']\n",
      "*** fit 7 3 4\n",
      "['\\x00', '\\x00', '.', '.', '.', '.', '\\x05', '\\x05', '\\x05', '.', '\\x06', '\\x06', '\\x06', '\\x06', '.', '\\x07', '\\x07', '\\x07', '.', '\\x08', '\\x08', '\\x08', '\\x08', '\\t', '\\t']\n",
      "try move 6 ['\\x06', '\\x06', '\\x06', '\\x06']\n",
      "*** fit 6 4 4\n",
      "['\\x00', '\\x00', '.', '.', '.', '.', '\\x06', '\\x06', '.', '\\x07', '\\x07', '\\x07', '.', '\\x08', '\\x08', '\\x08', '\\x08', '\\t', '\\t']\n",
      "try move 5 ['\\x05', '\\x05', '\\x05', '\\x05']\n",
      "*** fit 5 4 4\n",
      "['\\x00', '\\x00', '.', '.', '.', '.', '.', '\\x08', '\\x08', '\\x08', '\\x08', '\\t', '\\t']\n",
      "try move 4 ['\\x04', '\\x04']\n",
      "*** fit 4 2 5\n",
      "['\\x00', '\\x00', '.', '.', '.', '.', '.']\n",
      "try move 3 ['\\x03', '\\x03', '\\x03']\n",
      "*** fit 3 3 5\n",
      "['\\x00', '\\x00', '.', '.', '.', '.', '.']\n",
      "try move 2 ['\\x02']\n",
      "*** fit 2 1 5\n",
      "['\\x00', '\\x00', '.', '.', '.', '.', '.']\n",
      "try move 1 ['\\x01', '\\x01', '\\x01']\n",
      "*** fit 1 3 5\n",
      "['\\x00', '\\x00', '.', '.', '.', '.', '.']\n",
      "try move 0 ['\\x00', '\\x00']\n",
      "*** fit 0 2 5\n",
      "['\\x00', '\\x00', '.', '.', '.', '.', '.']\n"
     ]
    },
    {
     "data": {
      "text/plain": [
       "[]"
      ]
     },
     "execution_count": 138,
     "metadata": {},
     "output_type": "execute_result"
    }
   ],
   "source": [
    "def compact(iDs_blk:str)->List:\n",
    "    id_files_blk_list = list(iDs_blk)\n",
    "    gby_rev = groupby([x for x in reversed(id_files_blk_list)])\n",
    "    gby_ele = groupby([x for x in id_files_blk_list])\n",
    "    new_grp = list()\n",
    "    other = list()\n",
    "    \n",
    "    for kr,gr in gby_rev :\n",
    "        _lgr = list(gr)\n",
    "        if kr != dot_iD_ch :\n",
    "            print(\"try move\",ord(kr),_lgr)\n",
    "            # Attempt to move each file exactly once\n",
    "            # If there is no span of free space to the left of a file that is large enough to fit the file, the file does not move\n",
    "            gby_ele = groupby([x for x in id_files_blk_list])\n",
    "            pos = 0\n",
    "            for ke,ge in gby_ele :\n",
    "                _lge = list(ge)\n",
    "                pos += len(_lge)\n",
    "                #print(ord(ke),_lge)\n",
    "                if ke == dot_iD_ch :\n",
    "                    if len(_lgr) <= len(_lge) :\n",
    "                        # fit\n",
    "                        print(\"*** fit\", ord(kr),len(_lgr),len(_lge))\n",
    "                        # move file block\n",
    "                        head = id_files_blk_list[:pos]\n",
    "                        tail = id_files_blk_list[pos+len(head):]\n",
    "                        id_files_blk_list = head+list(gr)+tail\n",
    "                        print(\"head {} blk {} tail {} \",format(head,list(gr),tail))\n",
    "                        #print(id_files_blk_list)\n",
    "                        break\n",
    "    return new_grp\n",
    "\n",
    "compact(id_files_blk)"
   ]
  },
  {
   "cell_type": "code",
   "execution_count": null,
   "metadata": {},
   "outputs": [],
   "source": [
    "res_list = [x for x in compact(id_files_blk) if x!= dot_iD_ch]\n",
    "res_list"
   ]
  },
  {
   "cell_type": "code",
   "execution_count": 102,
   "metadata": {},
   "outputs": [
    {
     "name": "stdout",
     "output_type": "stream",
     "text": [
      "9 [9, 9]\n",
      "8 [8, 8, 8, 8]\n",
      "46 [46]\n",
      "7 [7, 7, 7]\n",
      "46 [46]\n",
      "6 [6, 6, 6, 6]\n",
      "46 [46]\n",
      "5 [5, 5, 5, 5]\n",
      "46 [46]\n",
      "4 [4, 4]\n",
      "46 [46]\n",
      "3 [3, 3, 3]\n",
      "46 [46, 46, 46]\n",
      "2 [2]\n",
      "46 [46, 46, 46]\n",
      "1 [1, 1, 1]\n",
      "46 [46, 46, 46]\n",
      "0 [0, 0]\n"
     ]
    }
   ],
   "source": [
    "for k,g in groupby([ord(x) for x in reversed(id_files_blk)]):\n",
    "    print(k,list(g))"
   ]
  },
  {
   "cell_type": "code",
   "execution_count": 103,
   "metadata": {},
   "outputs": [
    {
     "name": "stdout",
     "output_type": "stream",
     "text": [
      "0 [0, 0]\n",
      "46 [46, 46, 46]\n",
      "1 [1, 1, 1]\n",
      "46 [46, 46, 46]\n",
      "2 [2]\n",
      "46 [46, 46, 46]\n",
      "3 [3, 3, 3]\n",
      "46 [46]\n",
      "4 [4, 4]\n",
      "46 [46]\n",
      "5 [5, 5, 5, 5]\n",
      "46 [46]\n",
      "6 [6, 6, 6, 6]\n",
      "46 [46]\n",
      "7 [7, 7, 7]\n",
      "46 [46]\n",
      "8 [8, 8, 8, 8]\n",
      "9 [9, 9]\n"
     ]
    }
   ],
   "source": [
    "for k,g in groupby([ord(x) for x in id_files_blk]):\n",
    "    print(k,list(g))"
   ]
  },
  {
   "cell_type": "code",
   "execution_count": null,
   "metadata": {},
   "outputs": [],
   "source": [
    "Counter(id_files_blk)"
   ]
  },
  {
   "cell_type": "code",
   "execution_count": null,
   "metadata": {},
   "outputs": [
    {
     "ename": "NameError",
     "evalue": "name 'irange' is not defined",
     "output_type": "error",
     "traceback": [
      "\u001b[0;31m---------------------------------------------------------------------------\u001b[0m",
      "\u001b[0;31mNameError\u001b[0m                                 Traceback (most recent call last)",
      "Cell \u001b[0;32mIn[23], line 1\u001b[0m\n\u001b[0;32m----> 1\u001b[0m l\u001b[38;5;241m=\u001b[39m\u001b[43mirange\u001b[49m(\u001b[38;5;241m3\u001b[39m,\u001b[38;5;241m6\u001b[39m)\n\u001b[1;32m      2\u001b[0m first(l)\n",
      "\u001b[0;31mNameError\u001b[0m: name 'irange' is not defined"
     ]
    }
   ],
   "source": [
    "l=range(2,5)\n",
    "l"
   ]
  },
  {
   "cell_type": "code",
   "execution_count": null,
   "metadata": {},
   "outputs": [
    {
     "data": {
      "text/plain": [
       "3"
      ]
     },
     "execution_count": 21,
     "metadata": {},
     "output_type": "execute_result"
    }
   ],
   "source": [
    "first(l)"
   ]
  },
  {
   "cell_type": "code",
   "execution_count": 22,
   "metadata": {},
   "outputs": [
    {
     "ename": "TypeError",
     "evalue": "'range' object is not an iterator",
     "output_type": "error",
     "traceback": [
      "\u001b[0;31m---------------------------------------------------------------------------\u001b[0m",
      "\u001b[0;31mTypeError\u001b[0m                                 Traceback (most recent call last)",
      "Cell \u001b[0;32mIn[22], line 1\u001b[0m\n\u001b[0;32m----> 1\u001b[0m \u001b[38;5;28;43mnext\u001b[39;49m\u001b[43m(\u001b[49m\u001b[43ml\u001b[49m\u001b[43m)\u001b[49m\n",
      "\u001b[0;31mTypeError\u001b[0m: 'range' object is not an iterator"
     ]
    }
   ],
   "source": [
    "next(l)"
   ]
  },
  {
   "cell_type": "code",
   "execution_count": null,
   "metadata": {},
   "outputs": [],
   "source": [
    "'''        \n",
    "    for ke,ge in gby_ele :\n",
    "        _lge = list(ge)\n",
    "        print(\"ke\",ord(ke))\n",
    "        if ke != dot_iD_ch :\n",
    "            new_grp.append(_lge)\n",
    "        else :\n",
    "            for kr,gr in gby_rev :\n",
    "                _lgr = list(gr)\n",
    "                if kr != dot_iD_ch :\n",
    "                    if len(_lgr) <= len(_lge) :\n",
    "                        # fit\n",
    "                        print(\"fit\", ord(kr),len(_lgr),len(_lge))\n",
    "                        new_grp.append(_lgr)\n",
    "                        _dot = list(dot_iD_ch*(len(_lge)-len(_lgr)))\n",
    "                        new_grp.append(_dot)\n",
    "                        other.append(list(dot_iD_ch*len(_lgr)))\n",
    "                        break    \n",
    "                    else :\n",
    "                        print(\"skip\", ord(kr),len(_lgr),len(_lge))\n",
    "                        other.append(_lgr)\n",
    "    '''        \n",
    "    "
   ]
  },
  {
   "cell_type": "code",
   "execution_count": 130,
   "metadata": {},
   "outputs": [],
   "source": [
    "b = [9,9]\n",
    "l = [1,1,0,0,0,6,6]"
   ]
  },
  {
   "cell_type": "code",
   "execution_count": 131,
   "metadata": {},
   "outputs": [
    {
     "data": {
      "text/plain": [
       "[1, 1]"
      ]
     },
     "execution_count": 131,
     "metadata": {},
     "output_type": "execute_result"
    }
   ],
   "source": [
    "h=l[:len(b)]\n",
    "h"
   ]
  },
  {
   "cell_type": "code",
   "execution_count": 132,
   "metadata": {},
   "outputs": [
    {
     "data": {
      "text/plain": [
       "[0, 6, 6]"
      ]
     },
     "execution_count": 132,
     "metadata": {},
     "output_type": "execute_result"
    }
   ],
   "source": [
    "t = l[len(b)+len(h):]\n",
    "t"
   ]
  },
  {
   "cell_type": "code",
   "execution_count": 133,
   "metadata": {},
   "outputs": [
    {
     "data": {
      "text/plain": [
       "[1, 1, 9, 9, 0, 6, 6]"
      ]
     },
     "execution_count": 133,
     "metadata": {},
     "output_type": "execute_result"
    }
   ],
   "source": [
    "h+b+t"
   ]
  },
  {
   "cell_type": "code",
   "execution_count": null,
   "metadata": {},
   "outputs": [],
   "source": []
  }
 ],
 "metadata": {
  "kernelspec": {
   "display_name": "aoc_24",
   "language": "python",
   "name": "python3"
  },
  "language_info": {
   "codemirror_mode": {
    "name": "ipython",
    "version": 3
   },
   "file_extension": ".py",
   "mimetype": "text/x-python",
   "name": "python",
   "nbconvert_exporter": "python",
   "pygments_lexer": "ipython3",
   "version": "3.13.1"
  },
  "orig_nbformat": 4
 },
 "nbformat": 4,
 "nbformat_minor": 2
}
