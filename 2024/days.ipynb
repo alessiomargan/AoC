{
 "cells": [
  {
   "cell_type": "code",
   "execution_count": null,
   "metadata": {},
   "outputs": [],
   "source": [
    "import sys  \n",
    "sys.path.insert(1, '..')\n",
    "from aoc_utils import *"
   ]
  },
  {
   "attachments": {},
   "cell_type": "markdown",
   "metadata": {},
   "source": [
    "# Home\n",
    "\n",
    "Each day's work will consist of three tasks:\n",
    "- **Input**: Parse the day's input file with the function `parse(day, parser, sep)`, which treats the input as a sequence of *entries*, separated by `sep` (default newline); applies `parser` to each entry; and returns the results as a tuple. (Note: `ints` and `atoms` are useful `parser` functions (as are `int` and `str`).)\n",
    "- **Part 1**: Write code to compute the answer to Part 1, and submit the answer to the AoC site. Use the function `answer` to record the correct answer and serve as a regression test when I re-run the notebook.\n",
    "- **Part 2**: Repeat coding and `answer` for Part 2.\n",
    "\n",
    "1. [Day 1](#day-1)\n",
    "2. [Day 2](#day-2)\n",
    "3. [Day 3](#day-3)\n",
    "4. [Day 4](#day-4)\n",
    "5. [Day 5](#day-5)\n",
    "6. [Day 6](#day-6)\n",
    "7. [Day 7](#day-7)\n",
    "8. [Day 8](#day-8)\n",
    "9. [Day 9](#day-9)\n",
    "10. [Day 10](#day-10)\n",
    "11. [Day 11](#day-11)\n",
    "12. [Day 12](#day-12)\n",
    "13. [Day 13](#day-13)\n"
   ]
  },
  {
   "cell_type": "markdown",
   "metadata": {},
   "source": [
    "[home](#home)\n",
    "# Day 1\n",
    "[Historian Hysteria](https://adventofcode.com/2024/day/1)  \n",
    "```\n",
    "```"
   ]
  },
  {
   "cell_type": "code",
   "execution_count": null,
   "metadata": {},
   "outputs": [],
   "source": [
    "get_in_file(1,2024)"
   ]
  },
  {
   "cell_type": "code",
   "execution_count": null,
   "metadata": {},
   "outputs": [],
   "source": [
    "# in_part_A as tuple of 2-tuple \n",
    "in_part_A = Input(1, line_parser=ints)\n",
    "# https://more-itertools.readthedocs.io/en/stable/api.html#more_itertools.collapse\n",
    "# https://more-itertools.readthedocs.io/en/stable/api.html#more_itertools.partition\n",
    "#is_odd = lambda x: x % 2 != 0\n",
    "#left, right = partition(is_odd, collapse(in_part_A))\n",
    "# https://more-itertools.readthedocs.io/en/stable/api.html#more_itertools.unzip\n",
    "left, right = unzip(in_part_A)\n",
    "dist = lambda x,y: abs(x-y)\n",
    "res = sum(map(dist,sorted(list(left)),sorted(list(right))))\n",
    "res"
   ]
  },
  {
   "cell_type": "code",
   "execution_count": null,
   "metadata": {},
   "outputs": [],
   "source": [
    "submit(res, part=\"a\", day=1, year=2024)"
   ]
  },
  {
   "cell_type": "markdown",
   "metadata": {},
   "source": [
    "### Part 2\n"
   ]
  },
  {
   "cell_type": "code",
   "execution_count": null,
   "metadata": {},
   "outputs": [],
   "source": [
    "left, right = unzip(in_part_A)\n",
    "counter_right = Counter(right)\n",
    "counter_right.most_common(3)"
   ]
  },
  {
   "cell_type": "code",
   "execution_count": null,
   "metadata": {},
   "outputs": [],
   "source": [
    "func = lambda x: x*counter_right[x]\n",
    "res_b = sum(map(func,left))\n",
    "res_b"
   ]
  },
  {
   "cell_type": "code",
   "execution_count": null,
   "metadata": {},
   "outputs": [],
   "source": [
    "submit(res_b, part=\"b\", day=1, year=2024)"
   ]
  },
  {
   "cell_type": "markdown",
   "metadata": {},
   "source": [
    "[home](#home)\n",
    "# Day 2\n",
    "[Red-Nosed Reports](https://adventofcode.com/2024/day/2)   \n",
    "\n",
    "a report only counts as safe if both of the following are true:\n",
    "- The levels are either *all increasing* or *all decreasing*.\n",
    "- Any two adjacent levels differ by at *least one* and at *most three*.\n"
   ]
  },
  {
   "cell_type": "code",
   "execution_count": null,
   "metadata": {},
   "outputs": [],
   "source": [
    "get_in_file(2,2024)"
   ]
  },
  {
   "cell_type": "code",
   "execution_count": null,
   "metadata": {},
   "outputs": [],
   "source": [
    "in_part_A = Input(2, line_parser=ints)"
   ]
  },
  {
   "cell_type": "code",
   "execution_count": null,
   "metadata": {},
   "outputs": [],
   "source": [
    "# all decreasing and any two adjacent levels differ by at least one and at most three\n",
    "cond1 = lambda x,y: 1 if (x>y)and(abs(x-y)>0)and(abs(x-y)<4) else 0\n",
    "# all increasing and any two adjacent levels differ by at least one and at most three\n",
    "cond2 = lambda x,y: 1 if (x<y)and(abs(x-y)>0)and(abs(x-y)<4) else 0\n",
    "set1=set([level for level in in_part_A if all([(cond1)(*pair) for pair in pairwise(level)])])\n",
    "set2=set([level for level in in_part_A if all([(cond2)(*pair) for pair in pairwise(level)])])"
   ]
  },
  {
   "cell_type": "code",
   "execution_count": null,
   "metadata": {},
   "outputs": [],
   "source": [
    "res_a = len(set1)+len(set2)\n",
    "res_a"
   ]
  },
  {
   "cell_type": "code",
   "execution_count": null,
   "metadata": {},
   "outputs": [],
   "source": [
    "submit(res_a, part=\"a\", day=2, year=2024)"
   ]
  },
  {
   "cell_type": "markdown",
   "metadata": {},
   "source": [
    "### Part 2\n",
    "\n",
    "the same rules apply as before, except if removing a single level from an unsafe report would make it safe, the report instead counts as safe"
   ]
  },
  {
   "cell_type": "code",
   "execution_count": null,
   "metadata": {},
   "outputs": [],
   "source": [
    "set_all=set([level for level in in_part_A])"
   ]
  },
  {
   "cell_type": "code",
   "execution_count": null,
   "metadata": {},
   "outputs": [],
   "source": [
    "unsafe = set_all-set1-set2"
   ]
  },
  {
   "cell_type": "code",
   "execution_count": null,
   "metadata": {},
   "outputs": [],
   "source": [
    "def tolerate_one_bad_level(lvl):\n",
    "    for c in combinations(lvl,len(lvl)-1):\n",
    "        if all([(cond1)(*pair) for pair in pairwise(c)]) :\n",
    "            return True\n",
    "        if all([(cond2)(*pair) for pair in pairwise(c)]) :\n",
    "            return True\n",
    "    return False    \n",
    "\n",
    "set3=set([level for level in unsafe if tolerate_one_bad_level(level)])\n"
   ]
  },
  {
   "cell_type": "code",
   "execution_count": null,
   "metadata": {},
   "outputs": [],
   "source": [
    "res_b = res_a+len(set3)\n",
    "res_b"
   ]
  },
  {
   "cell_type": "code",
   "execution_count": null,
   "metadata": {},
   "outputs": [],
   "source": [
    "submit(res_b, part=\"b\", day=2, year=2024)"
   ]
  },
  {
   "cell_type": "markdown",
   "metadata": {},
   "source": [
    "[home](#home)\n",
    "# Day 3\n",
    "[Mull It Over](https://adventofcode.com/2024/day/3)  \n",
    "\n",
    "consider the following section of corrupted memory: \n",
    "\n",
    "x**mul(2,4)**%&mul[3,7]!@^do_not_**mul(5,5)**+mul(32,64]then(**mul(11,8)mul(8,5)**)  \n",
    "\n",
    "Only the four highlighted sections are real mul instructions"
   ]
  },
  {
   "cell_type": "code",
   "execution_count": null,
   "metadata": {},
   "outputs": [],
   "source": [
    "get_in_file(3,2024)\n",
    "in_part_A = Input(3)"
   ]
  },
  {
   "cell_type": "code",
   "execution_count": null,
   "metadata": {},
   "outputs": [],
   "source": [
    "regex = r'mul\\((\\d\\d*\\d*),(\\d\\d*\\d*)\\)'\n",
    "res_a = sum([(lambda x,y:int(x)*int(y))(*pair) for pair in collapse([re.findall(regex, line) for line in in_part_A],base_type=tuple)])\n",
    "res_a"
   ]
  },
  {
   "cell_type": "code",
   "execution_count": null,
   "metadata": {},
   "outputs": [],
   "source": [
    "submit(res_a, part=\"a\", day=3, year=2024)"
   ]
  },
  {
   "cell_type": "markdown",
   "metadata": {},
   "source": [
    "### Part 2"
   ]
  },
  {
   "cell_type": "code",
   "execution_count": null,
   "metadata": {},
   "outputs": [],
   "source": [
    "regex = r'mul\\((\\d\\d*\\d*),(\\d\\d*\\d*)\\)|(?P<ENA>do\\(\\))|(?P<DIS>don\\'t\\(\\))'"
   ]
  },
  {
   "cell_type": "code",
   "execution_count": null,
   "metadata": {},
   "outputs": [],
   "source": [
    "enable = True\n",
    "res_b=0\n",
    "# collapse is a generator ...\n",
    "for mo in collapse([re.findall(regex, line) for line in in_part_A],base_type=tuple):\n",
    "    x,y,ena,dis = mo\n",
    "    if ena != '':\n",
    "        enable = True\n",
    "        continue\n",
    "    if dis != '':\n",
    "        enable = False\n",
    "        continue\n",
    "    if enable :\n",
    "        res_b += int(x)*int(y)\n",
    "        \n",
    "res_b"
   ]
  },
  {
   "cell_type": "code",
   "execution_count": null,
   "metadata": {},
   "outputs": [],
   "source": [
    "submit(res_b, part=\"b\", day=3, year=2024)"
   ]
  },
  {
   "cell_type": "markdown",
   "metadata": {},
   "source": [
    "[home](#home)\n",
    "# Day 4\n",
    "[Ceres Search](https://adventofcode.com/2024/day/4)  \n",
    "\n",
    "This word (*XMAS*) search allows words to be horizontal, vertical, diagonal, written backwards, or even overlapping other words"
   ]
  },
  {
   "cell_type": "code",
   "execution_count": null,
   "metadata": {},
   "outputs": [],
   "source": [
    "get_in_file(4,2024)\n",
    "\n",
    "test_d4 = '''\n",
    "MMMSXXMASM\n",
    "MSAMXMSMSA\n",
    "AMXSXMAAMM\n",
    "MSAMASMSMX\n",
    "XMASAMXAMM\n",
    "XXAMMXXAMA\n",
    "SMSMSASXSS\n",
    "SAXAMASAAA\n",
    "MAMMMXMMMM\n",
    "MXMXAXMASX\n",
    "'''\n",
    "\n",
    "p = lambda x:tuple(x)\n",
    "in_part_A = mapt(p,Input(4))\n",
    "#in_part_A = mapt(p,test_d4.rstrip().split())\n",
    "M = np.matrix(in_part_A)\n",
    "shape = M.shape"
   ]
  },
  {
   "cell_type": "code",
   "execution_count": null,
   "metadata": {},
   "outputs": [],
   "source": [
    "def isValid(np_shape: tuple, index: tuple):\n",
    "    index = np.array(index)\n",
    "    return (index >= 0).all() and (index < np_shape).all()"
   ]
  },
  {
   "cell_type": "code",
   "execution_count": null,
   "metadata": {},
   "outputs": [],
   "source": [
    "X_idx = (0,0)\n",
    "M_idx = set(product((-1,0,1),repeat=2)) - {(0,0)}\n",
    "A_idx = set(product((-2,0,2),repeat=2)) - {(0,0)}\n",
    "S_idx = set(product((-3,0,3),repeat=2)) - {(0,0)}\n",
    "\n",
    "___0d = {'M':( 1, 0),'A':( 2, 0),'S':( 3, 0)}\n",
    "__45d = {'M':( 1, 1),'A':( 2, 2),'S':( 3, 3)}\n",
    "__90d = {'M':( 0, 1),'A':( 0, 2),'S':( 0, 3)}\n",
    "_135d = {'M':(-1, 1),'A':(-2, 2),'S':(-3, 3)}\n",
    "_180d = {'M':(-1, 0),'A':(-2, 0),'S':(-3, 0)}\n",
    "_225d = {'M':(-1,-1),'A':(-2,-2),'S':(-3,-3)}\n",
    "_270d = {'M':( 0,-1),'A':( 0,-2),'S':( 0,-3)}\n",
    "_315d = {'M':( 1,-1),'A':( 2,-2),'S':( 3,-3)}\n",
    "\n",
    "dDeg = [___0d,__45d,__90d,_135d,_180d,_225d,_270d,_315d]\n"
   ]
  },
  {
   "cell_type": "code",
   "execution_count": null,
   "metadata": {},
   "outputs": [],
   "source": [
    "res_a = 0\n",
    "with np.nditer(M, flags=['multi_index']) as it :\n",
    "    for x in it:\n",
    "        #print(\"%s <%s>\" % (x, it.multi_index), end=' ')\n",
    "        if x != 'X' :\n",
    "            # next matrix element\n",
    "            continue\n",
    "        for d in dDeg :\n",
    "            for k,v in d.items() :\n",
    "                ij = add_tuple(v,it.multi_index)\n",
    "                if not isValid(shape,ij) or M[ij] != k :\n",
    "                    # break, not found ... next d in dDeg\n",
    "                    break\n",
    "            # https://docs.python.org/3/tutorial/controlflow.html#else-clauses-on-loops\n",
    "            # If the loop finishes without executing the break, the else clause executes\n",
    "            else :\n",
    "                # found !\n",
    "                res_a +=1\n",
    "res_a            "
   ]
  },
  {
   "cell_type": "code",
   "execution_count": null,
   "metadata": {},
   "outputs": [],
   "source": [
    "submit(res_a, part=\"a\", day=4, year=2024)"
   ]
  },
  {
   "cell_type": "markdown",
   "metadata": {},
   "source": [
    "### Part 2  \n",
    "\n",
    "*West* *North* *East* *South*\n",
    "```\n",
    "M S   M M   S M   S S\n",
    " A     A     A     A\n",
    "M S   S S   S M   M M\n",
    "\n",
    "M : (-1, 1)(-1,-1)\n",
    "A : ( 1, 1)( 1,-1)\n",
    "\n",
    "....\n",
    "```\n"
   ]
  },
  {
   "cell_type": "code",
   "execution_count": null,
   "metadata": {},
   "outputs": [],
   "source": [
    "# West --> M M \n",
    "W = {'M':((-1, 1),(-1,-1)),'S':(( 1, 1),( 1,-1))}\n",
    "# North\n",
    "N = {'M':((-1, 1),( 1, 1)),'S':(( 1,-1),(-1,-1))}\n",
    "# East \n",
    "E = {'S':((-1, 1),(-1,-1)),'M':(( 1, 1),( 1,-1))}\n",
    "# South\n",
    "S = {'S':((-1, 1),( 1, 1)),'M':(( 1,-1),(-1,-1))}\n",
    "\n",
    "wnes = [W,N,E,S]"
   ]
  },
  {
   "cell_type": "code",
   "execution_count": null,
   "metadata": {},
   "outputs": [],
   "source": [
    "res_b = 0\n",
    "idx_S = set()\n",
    "valid_M = np.zeros(shape)\n",
    "with np.nditer(M, flags=['multi_index']) as it :\n",
    "    for x in it:\n",
    "        #print(\"%s <%s>\" % (x, it.multi_index), end=' ')\n",
    "        if x != 'A' :\n",
    "            # next matrix element\n",
    "            continue\n",
    "        for d in wnes :\n",
    "            for k,vv in d.items() :\n",
    "                v1,v2 = vv\n",
    "                ij = add_tuple(v1,it.multi_index)\n",
    "                if not isValid(shape,ij) or M[ij] != k :\n",
    "                    # break, not found ... next d in wnes\n",
    "                    break\n",
    "                idx_S.add(ij)\n",
    "                valid_M[ij] = 1\n",
    "                ij = add_tuple(v2,it.multi_index)\n",
    "                if not isValid(shape,ij) or M[ij] != k :\n",
    "                    # break, not found ... next d in wnes\n",
    "                    break\n",
    "                idx_S.add(ij)\n",
    "                valid_M[ij] = 1\n",
    "                \n",
    "            # https://docs.python.org/3/tutorial/controlflow.html#else-clauses-on-loops\n",
    "            # If the loop finishes without executing the break, the else clause executes\n",
    "            else :\n",
    "                # found !\n",
    "                res_b +=1\n",
    "                # current matrix element\n",
    "                valid_M[it.multi_index] = 1\n",
    "res_b"
   ]
  },
  {
   "cell_type": "code",
   "execution_count": null,
   "metadata": {},
   "outputs": [],
   "source": [
    "submit(res_b, part=\"b\", day=4, year=2024)"
   ]
  },
  {
   "cell_type": "code",
   "execution_count": null,
   "metadata": {},
   "outputs": [],
   "source": [
    "with np.nditer(M, flags=['multi_index']) as it :\n",
    "    for x in it:\n",
    "        if not valid_M[it.multi_index] :\n",
    "            M[it.multi_index] = '.'\n",
    "M"
   ]
  },
  {
   "cell_type": "markdown",
   "metadata": {},
   "source": [
    "[home](#home)\n",
    "# Day 5\n",
    "[Print Queue](https://adventofcode.com/2024/day/5)  \n",
    "\n",
    "Inupt file consists of 2 parts\n",
    "- page ordering rules \n",
    "- pages to produce in each update\n",
    "\n",
    "rule **47|53**, means that if an update includes both page number 47 and page number 53,  \n",
    "then page number 47 must be printed at some point before page number 53  \n",
    "\n",
    "75,**47**,61,**53**,29\n",
    "\n",
    "**75** is correct due to rules 75|47, 75|61, 75|53, and 75|29"
   ]
  },
  {
   "cell_type": "code",
   "execution_count": null,
   "metadata": {},
   "outputs": [],
   "source": [
    "get_in_file(5,2024)"
   ]
  },
  {
   "cell_type": "code",
   "execution_count": null,
   "metadata": {},
   "outputs": [],
   "source": [
    "test_d5 = '''\n",
    "47|53\n",
    "97|13\n",
    "97|61\n",
    "97|47\n",
    "75|29\n",
    "61|13\n",
    "75|53\n",
    "29|13\n",
    "97|29\n",
    "53|29\n",
    "61|53\n",
    "97|53\n",
    "61|29\n",
    "47|13\n",
    "75|47\n",
    "97|75\n",
    "47|61\n",
    "75|61\n",
    "47|29\n",
    "75|13\n",
    "53|13\n",
    "\n",
    "75,47,61,53,29\n",
    "97,61,53,29,13\n",
    "75,29,13\n",
    "75,97,47,61,53\n",
    "61,13,29\n",
    "97,13,75,29,47\n",
    "'''"
   ]
  },
  {
   "cell_type": "code",
   "execution_count": null,
   "metadata": {},
   "outputs": [],
   "source": [
    "p = lambda x: x.strip().split()\n",
    "raw_rules,pages = parse(5, parser=p, sep=\"\\n\\n\")\n",
    "#raw_rules,pages = mapt(p, test_d5.split(\"\\n\\n\"))\n",
    "pages = mapt(lambda x: mapt(int,x),(mapt(lambda x: x.split(','),pages)))\n",
    "rules = defaultdict(set)\n",
    "for k,v in sliced(mapt(int,flatten(mapt(lambda x: x.split('|'),raw_rules))),2) :\n",
    "    rules[k].add(v)\n"
   ]
  },
  {
   "cell_type": "code",
   "execution_count": null,
   "metadata": {},
   "outputs": [],
   "source": [
    "valid_pages = []\n",
    "invalid_pages = []\n",
    "res_a = 0\n",
    "for pg in pages :\n",
    "    #print(pg)\n",
    "    for i in range(len(pg)) :\n",
    "        curr_pg = pg[i]\n",
    "        rule = rules[pg[i]]\n",
    "        pre_pg,post_pg = pg[:i],pg[i+1:]\n",
    "        #print('{}:{} pre {} post {} {}'.format(curr_pg,rule,pre_pg,post_pg,rule.isdisjoint(set(pre_pg))))\n",
    "        if not rule.isdisjoint(set(pre_pg)) :\n",
    "            invalid_pages.append(pg)\n",
    "            break\n",
    "    else :\n",
    "        valid_pages.append(pg)\n",
    "        res_a += pg[math.floor(len(pg)/2)]\n",
    "    #print()\n",
    "res_a"
   ]
  },
  {
   "cell_type": "code",
   "execution_count": null,
   "metadata": {},
   "outputs": [],
   "source": [
    "submit(res_a, part=\"a\", day=5, year=2024)"
   ]
  },
  {
   "cell_type": "markdown",
   "metadata": {},
   "source": [
    "### Part 2"
   ]
  },
  {
   "cell_type": "code",
   "execution_count": null,
   "metadata": {},
   "outputs": [],
   "source": [
    "res_b = 0\n",
    "for pg_inv in invalid_pages :\n",
    "    print('invalid {}'.format(pg_inv))\n",
    "    pg_inv_s = set(pg_inv)\n",
    "    d = {k:(v.intersection(pg_inv_s)) for (k,v) in rules.items() if k in pg_inv}\n",
    "    s = sorted(d.items(), key=lambda item: len(item[1]),reverse=True)\n",
    "    #print(s)\n",
    "    l = [t[0] for t in s]\n",
    "    #print(l)\n",
    "    res_b += l[math.floor(len(l)/2)]\n",
    "res_b"
   ]
  },
  {
   "cell_type": "code",
   "execution_count": null,
   "metadata": {},
   "outputs": [],
   "source": [
    "submit(res_b, part=\"b\", day=5, year=2024)"
   ]
  },
  {
   "cell_type": "code",
   "execution_count": null,
   "metadata": {},
   "outputs": [],
   "source": []
  }
 ],
 "metadata": {
  "kernelspec": {
   "display_name": "aoc_24",
   "language": "python",
   "name": "python3"
  },
  "language_info": {
   "codemirror_mode": {
    "name": "ipython",
    "version": 3
   },
   "file_extension": ".py",
   "mimetype": "text/x-python",
   "name": "python",
   "nbconvert_exporter": "python",
   "pygments_lexer": "ipython3",
   "version": "3.13.0"
  },
  "orig_nbformat": 4
 },
 "nbformat": 4,
 "nbformat_minor": 2
}
