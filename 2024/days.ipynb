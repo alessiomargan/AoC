{
 "cells": [
  {
   "cell_type": "code",
   "execution_count": 4,
   "metadata": {},
   "outputs": [
    {
     "name": "stdout",
     "output_type": "stream",
     "text": [
      "Pretty printing has been turned OFF\n"
     ]
    },
    {
     "name": "stderr",
     "output_type": "stream",
     "text": [
      "current_day is only available in December (EST)\n"
     ]
    }
   ],
   "source": [
    "%pprint\n",
    "\n",
    "import sys  \n",
    "sys.path.insert(1, '..')\n",
    "from aoc_utils import *\n",
    "from bigtree import Node, list_to_tree, levelorder_iter\n",
    "\n",
    "def isValid(np_shape: Tuple, index: Tuple)->bool:\n",
    "    index = np.array(index)\n",
    "    return (index >= 0).all() and (index < np_shape).all()"
   ]
  },
  {
   "cell_type": "markdown",
   "metadata": {},
   "source": [
    "### “i.e.” Latin \"id est\" => “that is.”  \n",
    "### “e.g.” Latin \"exempli gratia\" => “for example.”"
   ]
  },
  {
   "attachments": {},
   "cell_type": "markdown",
   "metadata": {},
   "source": [
    "# Home\n",
    "\n",
    "Each day's work will consist of three tasks:\n",
    "- **Input**: Parse the day's input file with the function `parse(day, parser, sep)`, which treats the input as a sequence of *entries*, separated by `sep` (default newline); applies `parser` to each entry; and returns the results as a tuple. (Note: `ints` and `atoms` are useful `parser` functions (as are `int` and `str`).)\n",
    "- **Part 1**: Write code to compute the answer to Part 1, and submit the answer to the AoC site. Use the function `answer` to record the correct answer and serve as a regression test when I re-run the notebook.\n",
    "- **Part 2**: Repeat coding and `answer` for Part 2.\n",
    "\n",
    "1. [Day 1](#day-1)\n",
    "2. [Day 2](#day-2)\n",
    "3. [Day 3](#day-3)\n",
    "4. [Day 4](#day-4)\n",
    "5. [Day 5](#day-5)\n",
    "6. [Day 6](#day-6)\n",
    "7. [Day 7](#day-7)\n",
    "8. [Day 8](#day-8)\n",
    "9. [Day 9](#day-9)\n",
    "10. [Day 10](#day-10)\n",
    "11. [Day 11](#day-11)\n",
    "12. [Day 12](#day-12)\n",
    "13. [Day 13](#day-13)\n",
    "14. [Day 14](#day-14)\n",
    "15. [Day 15](#day-15)\n"
   ]
  },
  {
   "cell_type": "markdown",
   "metadata": {},
   "source": [
    "[home](#home)\n",
    "# Day 1\n",
    "[Historian Hysteria](https://adventofcode.com/2024/day/1)  \n",
    "```\n",
    "```"
   ]
  },
  {
   "cell_type": "code",
   "execution_count": null,
   "metadata": {},
   "outputs": [],
   "source": [
    "get_in_file(1,2024)"
   ]
  },
  {
   "cell_type": "code",
   "execution_count": null,
   "metadata": {},
   "outputs": [],
   "source": [
    "# in_part_A as tuple of 2-tuple \n",
    "in_part_A = Input(1, line_parser=ints)\n",
    "# https://more-itertools.readthedocs.io/en/stable/api.html#more_itertools.collapse\n",
    "# https://more-itertools.readthedocs.io/en/stable/api.html#more_itertools.partition\n",
    "#is_odd = lambda x: x % 2 != 0\n",
    "#left, right = partition(is_odd, collapse(in_part_A))\n",
    "# https://more-itertools.readthedocs.io/en/stable/api.html#more_itertools.unzip\n",
    "left, right = unzip(in_part_A)\n",
    "dist = lambda x,y: abs(x-y)\n",
    "res = sum(map(dist,sorted(list(left)),sorted(list(right))))\n",
    "res"
   ]
  },
  {
   "cell_type": "code",
   "execution_count": null,
   "metadata": {},
   "outputs": [],
   "source": [
    "submit(res, part=\"a\", day=1, year=2024)"
   ]
  },
  {
   "cell_type": "markdown",
   "metadata": {},
   "source": [
    "### Part 2\n"
   ]
  },
  {
   "cell_type": "code",
   "execution_count": null,
   "metadata": {},
   "outputs": [],
   "source": [
    "left, right = unzip(in_part_A)\n",
    "counter_right = Counter(right)\n",
    "counter_right.most_common(3)"
   ]
  },
  {
   "cell_type": "code",
   "execution_count": null,
   "metadata": {},
   "outputs": [],
   "source": [
    "func = lambda x: x*counter_right[x]\n",
    "res_b = sum(map(func,left))\n",
    "res_b"
   ]
  },
  {
   "cell_type": "code",
   "execution_count": null,
   "metadata": {},
   "outputs": [],
   "source": [
    "submit(res_b, part=\"b\", day=1, year=2024)"
   ]
  },
  {
   "cell_type": "markdown",
   "metadata": {},
   "source": [
    "[home](#home)\n",
    "# Day 2\n",
    "[Red-Nosed Reports](https://adventofcode.com/2024/day/2)   \n",
    "\n",
    "a report only counts as safe if both of the following are true:\n",
    "- The levels are either *all increasing* or *all decreasing*.\n",
    "- Any two adjacent levels differ by at *least one* and at *most three*.\n"
   ]
  },
  {
   "cell_type": "code",
   "execution_count": null,
   "metadata": {},
   "outputs": [],
   "source": [
    "get_in_file(2,2024)"
   ]
  },
  {
   "cell_type": "code",
   "execution_count": null,
   "metadata": {},
   "outputs": [],
   "source": [
    "in_part_A = Input(2, line_parser=ints)"
   ]
  },
  {
   "cell_type": "code",
   "execution_count": null,
   "metadata": {},
   "outputs": [],
   "source": [
    "# all decreasing and any two adjacent levels differ by at least one and at most three\n",
    "cond1 = lambda x,y: 1 if (x>y)and(abs(x-y)>0)and(abs(x-y)<4) else 0\n",
    "# all increasing and any two adjacent levels differ by at least one and at most three\n",
    "cond2 = lambda x,y: 1 if (x<y)and(abs(x-y)>0)and(abs(x-y)<4) else 0\n",
    "set1=set([level for level in in_part_A if all([(cond1)(*pair) for pair in pairwise(level)])])\n",
    "set2=set([level for level in in_part_A if all([(cond2)(*pair) for pair in pairwise(level)])])"
   ]
  },
  {
   "cell_type": "code",
   "execution_count": null,
   "metadata": {},
   "outputs": [],
   "source": [
    "res_a = len(set1)+len(set2)\n",
    "res_a"
   ]
  },
  {
   "cell_type": "code",
   "execution_count": null,
   "metadata": {},
   "outputs": [],
   "source": [
    "submit(res_a, part=\"a\", day=2, year=2024)"
   ]
  },
  {
   "cell_type": "markdown",
   "metadata": {},
   "source": [
    "### Part 2\n",
    "\n",
    "the same rules apply as before, except if removing a single level from an unsafe report would make it safe, the report instead counts as safe"
   ]
  },
  {
   "cell_type": "code",
   "execution_count": null,
   "metadata": {},
   "outputs": [],
   "source": [
    "set_all=set([level for level in in_part_A])"
   ]
  },
  {
   "cell_type": "code",
   "execution_count": null,
   "metadata": {},
   "outputs": [],
   "source": [
    "unsafe = set_all-set1-set2"
   ]
  },
  {
   "cell_type": "code",
   "execution_count": null,
   "metadata": {},
   "outputs": [],
   "source": [
    "def tolerate_one_bad_level(lvl):\n",
    "    for c in combinations(lvl,len(lvl)-1):\n",
    "        if all([(cond1)(*pair) for pair in pairwise(c)]) :\n",
    "            return True\n",
    "        if all([(cond2)(*pair) for pair in pairwise(c)]) :\n",
    "            return True\n",
    "    return False    \n",
    "\n",
    "set3=set([level for level in unsafe if tolerate_one_bad_level(level)])\n"
   ]
  },
  {
   "cell_type": "code",
   "execution_count": null,
   "metadata": {},
   "outputs": [],
   "source": [
    "res_b = res_a+len(set3)\n",
    "res_b"
   ]
  },
  {
   "cell_type": "code",
   "execution_count": null,
   "metadata": {},
   "outputs": [],
   "source": [
    "submit(res_b, part=\"b\", day=2, year=2024)"
   ]
  },
  {
   "cell_type": "markdown",
   "metadata": {},
   "source": [
    "[home](#home)\n",
    "# Day 3\n",
    "[Mull It Over](https://adventofcode.com/2024/day/3)  \n",
    "\n",
    "consider the following section of corrupted memory: \n",
    "\n",
    "x**mul(2,4)**%&mul[3,7]!@^do_not_**mul(5,5)**+mul(32,64]then(**mul(11,8)mul(8,5)**)  \n",
    "\n",
    "Only the four highlighted sections are real mul instructions"
   ]
  },
  {
   "cell_type": "code",
   "execution_count": null,
   "metadata": {},
   "outputs": [],
   "source": [
    "get_in_file(3,2024)\n",
    "in_part_A = Input(3)"
   ]
  },
  {
   "cell_type": "code",
   "execution_count": null,
   "metadata": {},
   "outputs": [],
   "source": [
    "regex = r'mul\\((\\d\\d*\\d*),(\\d\\d*\\d*)\\)'\n",
    "res_a = sum([(lambda x,y:int(x)*int(y))(*pair) for pair in collapse([re.findall(regex, line) for line in in_part_A],base_type=tuple)])\n",
    "res_a"
   ]
  },
  {
   "cell_type": "code",
   "execution_count": null,
   "metadata": {},
   "outputs": [],
   "source": [
    "submit(res_a, part=\"a\", day=3, year=2024)"
   ]
  },
  {
   "cell_type": "markdown",
   "metadata": {},
   "source": [
    "### Part 2"
   ]
  },
  {
   "cell_type": "code",
   "execution_count": null,
   "metadata": {},
   "outputs": [],
   "source": [
    "regex = r'mul\\((\\d\\d*\\d*),(\\d\\d*\\d*)\\)|(?P<ENA>do\\(\\))|(?P<DIS>don\\'t\\(\\))'"
   ]
  },
  {
   "cell_type": "code",
   "execution_count": null,
   "metadata": {},
   "outputs": [],
   "source": [
    "enable = True\n",
    "res_b=0\n",
    "# collapse is a generator ...\n",
    "for mo in collapse([re.findall(regex, line) for line in in_part_A],base_type=tuple):\n",
    "    x,y,ena,dis = mo\n",
    "    if ena != '':\n",
    "        enable = True\n",
    "        continue\n",
    "    if dis != '':\n",
    "        enable = False\n",
    "        continue\n",
    "    if enable :\n",
    "        res_b += int(x)*int(y)\n",
    "        \n",
    "res_b"
   ]
  },
  {
   "cell_type": "code",
   "execution_count": null,
   "metadata": {},
   "outputs": [],
   "source": [
    "submit(res_b, part=\"b\", day=3, year=2024)"
   ]
  },
  {
   "cell_type": "markdown",
   "metadata": {},
   "source": [
    "[home](#home)\n",
    "# Day 4\n",
    "[Ceres Search](https://adventofcode.com/2024/day/4)  \n",
    "\n",
    "This word (*XMAS*) search allows words to be horizontal, vertical, diagonal, written backwards, or even overlapping other words"
   ]
  },
  {
   "cell_type": "code",
   "execution_count": null,
   "metadata": {},
   "outputs": [],
   "source": [
    "get_in_file(4,2024)\n",
    "\n",
    "test_d4 = '''\n",
    "MMMSXXMASM\n",
    "MSAMXMSMSA\n",
    "AMXSXMAAMM\n",
    "MSAMASMSMX\n",
    "XMASAMXAMM\n",
    "XXAMMXXAMA\n",
    "SMSMSASXSS\n",
    "SAXAMASAAA\n",
    "MAMMMXMMMM\n",
    "MXMXAXMASX\n",
    "'''\n",
    "\n",
    "p = lambda x:tuple(x)\n",
    "in_part_A = mapt(p,Input(4))\n",
    "#in_part_A = mapt(p,test_d4.rstrip().split())\n",
    "M = np.matrix(in_part_A)\n",
    "shape = M.shape"
   ]
  },
  {
   "cell_type": "code",
   "execution_count": null,
   "metadata": {},
   "outputs": [],
   "source": [
    "X_idx = (0,0)\n",
    "M_idx = set(product((-1,0,1),repeat=2)) - {(0,0)}\n",
    "A_idx = set(product((-2,0,2),repeat=2)) - {(0,0)}\n",
    "S_idx = set(product((-3,0,3),repeat=2)) - {(0,0)}\n",
    "\n",
    "___0d = {'M':( 1, 0),'A':( 2, 0),'S':( 3, 0)}\n",
    "__45d = {'M':( 1, 1),'A':( 2, 2),'S':( 3, 3)}\n",
    "__90d = {'M':( 0, 1),'A':( 0, 2),'S':( 0, 3)}\n",
    "_135d = {'M':(-1, 1),'A':(-2, 2),'S':(-3, 3)}\n",
    "_180d = {'M':(-1, 0),'A':(-2, 0),'S':(-3, 0)}\n",
    "_225d = {'M':(-1,-1),'A':(-2,-2),'S':(-3,-3)}\n",
    "_270d = {'M':( 0,-1),'A':( 0,-2),'S':( 0,-3)}\n",
    "_315d = {'M':( 1,-1),'A':( 2,-2),'S':( 3,-3)}\n",
    "\n",
    "dDeg = [___0d,__45d,__90d,_135d,_180d,_225d,_270d,_315d]\n"
   ]
  },
  {
   "cell_type": "code",
   "execution_count": null,
   "metadata": {},
   "outputs": [],
   "source": [
    "res_a = 0\n",
    "with np.nditer(M, flags=['multi_index']) as it :\n",
    "    for x in it:\n",
    "        #print(\"%s <%s>\" % (x, it.multi_index), end=' ')\n",
    "        if x != 'X' :\n",
    "            # next matrix element\n",
    "            continue\n",
    "        for d in dDeg :\n",
    "            for k,v in d.items() :\n",
    "                ij = add_tuple(v,it.multi_index)\n",
    "                if not isValid(shape,ij) or M[ij] != k :\n",
    "                    # break, not found ... next d in dDeg\n",
    "                    break\n",
    "            # https://docs.python.org/3/tutorial/controlflow.html#else-clauses-on-loops\n",
    "            # If the loop finishes without executing the break, the else clause executes\n",
    "            else :\n",
    "                # found !\n",
    "                res_a +=1\n",
    "res_a            "
   ]
  },
  {
   "cell_type": "code",
   "execution_count": null,
   "metadata": {},
   "outputs": [],
   "source": [
    "submit(res_a, part=\"a\", day=4, year=2024)"
   ]
  },
  {
   "cell_type": "markdown",
   "metadata": {},
   "source": [
    "### Part 2  \n",
    "\n",
    "*West* *North* *East* *South*\n",
    "```\n",
    "M S   M M   S M   S S\n",
    " A     A     A     A\n",
    "M S   S S   S M   M M\n",
    "\n",
    "M : (-1, 1)(-1,-1)\n",
    "A : ( 1, 1)( 1,-1)\n",
    "\n",
    "....\n",
    "```\n"
   ]
  },
  {
   "cell_type": "code",
   "execution_count": null,
   "metadata": {},
   "outputs": [],
   "source": [
    "# West --> M M \n",
    "W = {'M':((-1, 1),(-1,-1)),'S':(( 1, 1),( 1,-1))}\n",
    "# North\n",
    "N = {'M':((-1, 1),( 1, 1)),'S':(( 1,-1),(-1,-1))}\n",
    "# East \n",
    "E = {'S':((-1, 1),(-1,-1)),'M':(( 1, 1),( 1,-1))}\n",
    "# South\n",
    "S = {'S':((-1, 1),( 1, 1)),'M':(( 1,-1),(-1,-1))}\n",
    "\n",
    "wnes = [W,N,E,S]"
   ]
  },
  {
   "cell_type": "code",
   "execution_count": null,
   "metadata": {},
   "outputs": [],
   "source": [
    "res_b = 0\n",
    "idx_S = set()\n",
    "valid_M = np.zeros(shape)\n",
    "with np.nditer(M, flags=['multi_index']) as it :\n",
    "    for x in it:\n",
    "        #print(\"%s <%s>\" % (x, it.multi_index), end=' ')\n",
    "        if x != 'A' :\n",
    "            # next matrix element\n",
    "            continue\n",
    "        for d in wnes :\n",
    "            for k,vv in d.items() :\n",
    "                v1,v2 = vv\n",
    "                ij = add_tuple(v1,it.multi_index)\n",
    "                if not isValid(shape,ij) or M[ij] != k :\n",
    "                    # break, not found ... next d in wnes\n",
    "                    break\n",
    "                idx_S.add(ij)\n",
    "                valid_M[ij] = 1\n",
    "                ij = add_tuple(v2,it.multi_index)\n",
    "                if not isValid(shape,ij) or M[ij] != k :\n",
    "                    # break, not found ... next d in wnes\n",
    "                    break\n",
    "                idx_S.add(ij)\n",
    "                valid_M[ij] = 1\n",
    "                \n",
    "            # https://docs.python.org/3/tutorial/controlflow.html#else-clauses-on-loops\n",
    "            # If the loop finishes without executing the break, the else clause executes\n",
    "            else :\n",
    "                # found !\n",
    "                res_b +=1\n",
    "                # current matrix element\n",
    "                valid_M[it.multi_index] = 1\n",
    "res_b"
   ]
  },
  {
   "cell_type": "code",
   "execution_count": null,
   "metadata": {},
   "outputs": [],
   "source": [
    "submit(res_b, part=\"b\", day=4, year=2024)"
   ]
  },
  {
   "cell_type": "code",
   "execution_count": null,
   "metadata": {},
   "outputs": [],
   "source": [
    "with np.nditer(M, flags=['multi_index']) as it :\n",
    "    for x in it:\n",
    "        if not valid_M[it.multi_index] :\n",
    "            M[it.multi_index] = '.'\n",
    "M"
   ]
  },
  {
   "cell_type": "markdown",
   "metadata": {},
   "source": [
    "[home](#home)\n",
    "# Day 5\n",
    "[Print Queue](https://adventofcode.com/2024/day/5)  \n",
    "\n",
    "Inupt file consists of 2 parts\n",
    "- page ordering rules \n",
    "- pages to produce in each update\n",
    "\n",
    "rule **47|53**, means that if an update includes both page number 47 and page number 53,  \n",
    "then page number 47 must be printed at some point before page number 53  \n",
    "\n",
    "75,**47**,61,**53**,29\n",
    "\n",
    "**75** is correct due to rules 75|47, 75|61, 75|53, and 75|29"
   ]
  },
  {
   "cell_type": "code",
   "execution_count": null,
   "metadata": {},
   "outputs": [],
   "source": [
    "get_in_file(5,2024)"
   ]
  },
  {
   "cell_type": "code",
   "execution_count": null,
   "metadata": {},
   "outputs": [],
   "source": [
    "test_d5 = '''\n",
    "47|53\n",
    "97|13\n",
    "97|61\n",
    "97|47\n",
    "75|29\n",
    "61|13\n",
    "75|53\n",
    "29|13\n",
    "97|29\n",
    "53|29\n",
    "61|53\n",
    "97|53\n",
    "61|29\n",
    "47|13\n",
    "75|47\n",
    "97|75\n",
    "47|61\n",
    "75|61\n",
    "47|29\n",
    "75|13\n",
    "53|13\n",
    "\n",
    "75,47,61,53,29\n",
    "97,61,53,29,13\n",
    "75,29,13\n",
    "75,97,47,61,53\n",
    "61,13,29\n",
    "97,13,75,29,47\n",
    "'''"
   ]
  },
  {
   "cell_type": "code",
   "execution_count": null,
   "metadata": {},
   "outputs": [],
   "source": [
    "p = lambda x: x.strip().split()\n",
    "raw_rules,pages = parse(5, parser=p, sep=\"\\n\\n\")\n",
    "#raw_rules,pages = mapt(p, test_d5.split(\"\\n\\n\"))\n",
    "pages = mapt(lambda x: mapt(int,x),(mapt(lambda x: x.split(','),pages)))\n",
    "rules = defaultdict(set)\n",
    "for k,v in sliced(mapt(int,flatten(mapt(lambda x: x.split('|'),raw_rules))),2) :\n",
    "    rules[k].add(v)\n"
   ]
  },
  {
   "cell_type": "code",
   "execution_count": null,
   "metadata": {},
   "outputs": [],
   "source": [
    "valid_pages = []\n",
    "invalid_pages = []\n",
    "res_a = 0\n",
    "for pg in pages :\n",
    "    #print(pg)\n",
    "    for i in range(len(pg)) :\n",
    "        curr_pg = pg[i]\n",
    "        rule = rules[pg[i]]\n",
    "        pre_pg,post_pg = pg[:i],pg[i+1:]\n",
    "        #print('{}:{} pre {} post {} {}'.format(curr_pg,rule,pre_pg,post_pg,rule.isdisjoint(set(pre_pg))))\n",
    "        if not rule.isdisjoint(set(pre_pg)) :\n",
    "            invalid_pages.append(pg)\n",
    "            break\n",
    "    else :\n",
    "        valid_pages.append(pg)\n",
    "        res_a += pg[math.floor(len(pg)/2)]\n",
    "    #print()\n",
    "res_a"
   ]
  },
  {
   "cell_type": "code",
   "execution_count": null,
   "metadata": {},
   "outputs": [],
   "source": [
    "submit(res_a, part=\"a\", day=5, year=2024)"
   ]
  },
  {
   "cell_type": "markdown",
   "metadata": {},
   "source": [
    "### Part 2"
   ]
  },
  {
   "cell_type": "code",
   "execution_count": null,
   "metadata": {},
   "outputs": [],
   "source": [
    "res_b = 0\n",
    "for pg_inv in invalid_pages :\n",
    "    print('invalid {}'.format(pg_inv))\n",
    "    pg_inv_s = set(pg_inv)\n",
    "    d = {k:(v.intersection(pg_inv_s)) for (k,v) in rules.items() if k in pg_inv}\n",
    "    s = sorted(d.items(), key=lambda item: len(item[1]),reverse=True)\n",
    "    #print(s)\n",
    "    l = [t[0] for t in s]\n",
    "    #print(l)\n",
    "    res_b += l[math.floor(len(l)/2)]\n",
    "res_b"
   ]
  },
  {
   "cell_type": "code",
   "execution_count": null,
   "metadata": {},
   "outputs": [],
   "source": [
    "submit(res_b, part=\"b\", day=5, year=2024)"
   ]
  },
  {
   "cell_type": "markdown",
   "metadata": {},
   "source": [
    "[home](#home)\n",
    "# Day 6\n",
    "[Guard Gallivant](https://adventofcode.com/2024/day/6)  \n",
    "\n",
    "\n",
    "Lab guards follow a patrol protocol which involves repeatedly following these steps:\n",
    "- If there is something directly in front of you, turn right 90 degrees.\n",
    "- Otherwise, take a step forward.\n"
   ]
  },
  {
   "cell_type": "code",
   "execution_count": null,
   "metadata": {},
   "outputs": [],
   "source": [
    "get_in_file(6,2024)"
   ]
  },
  {
   "cell_type": "code",
   "execution_count": null,
   "metadata": {},
   "outputs": [],
   "source": [
    "test_d6 = '''\n",
    "....#.....\n",
    ".........#\n",
    "..........\n",
    "..#.......\n",
    ".......#..\n",
    "..........\n",
    ".#..^.....\n",
    "........#.\n",
    "#.........\n",
    "......#...\n",
    "'''\n",
    "\n",
    "p = lambda x:tuple(x)\n",
    "#in_part_A = mapt(p,Input(6))\n",
    "in_part_A = mapt(p,test_d6.rstrip().split())\n",
    "MpA = np.matrix(in_part_A)\n",
    "MpA.shape, MpA.size"
   ]
  },
  {
   "cell_type": "code",
   "execution_count": null,
   "metadata": {},
   "outputs": [],
   "source": [
    "# each ordered key turn right 90 degrees\n",
    "guard_pos_d = OrderedDict({'^':(-1,0),'>':(0,1),'v':(1,0),'<':(0,-1)})\n",
    "#Step = namedtuple('Step','dir,pos,turn,pred_step')\n",
    "#Step = namedtuple('Step','dir,pos,turn')\n",
    "# !!! https://docs.python.org/3.13/reference/datamodel.html#object.__hash__\n",
    "# If a class that overrides __eq__() needs to retain the implementation of __hash__() from a parent class,\n",
    "# the interpreter must be told this explicitly by setting __hash__ = <ParentClass>.__hash__.\n",
    "class Step(namedtuple('Step',['dir','pos','turn'])):\n",
    "    __hash__ = tuple.__hash__\n",
    "    def __eq__(self,other)->bool:\n",
    "        return self.dir==other.dir and self.pos==other.pos\n",
    "        \n",
    "#assert(Step('^',(0,1),False) == Step('^',(0,1),True))"
   ]
  },
  {
   "cell_type": "code",
   "execution_count": null,
   "metadata": {},
   "outputs": [],
   "source": [
    "start_pos = Step('^',mapt(int,tuple(np.argwhere(MpA == '^')[0])),False)\n",
    "start_pos"
   ]
  },
  {
   "cell_type": "code",
   "execution_count": null,
   "metadata": {},
   "outputs": [],
   "source": [
    "def get_next_turn(t):\n",
    "    try :\n",
    "        l=list(guard_pos_d.keys())\n",
    "        return l[l.index(t)+1]\n",
    "    except IndexError :\n",
    "        return l[0]\n",
    "\n",
    "def get_next_step(s:Step,M)->Step:\n",
    "    \"\"\" get next step : \n",
    "         - turn 90 degree if obstacle in front\n",
    "        OR\n",
    "         - move forward         \n",
    "    \"\"\"\n",
    "    next_pos = add_tuple(s.pos,guard_pos_d[s.dir])\n",
    "    if not isValid(M.shape,next_pos) :\n",
    "            return None\n",
    "    if M[next_pos] == '#' :\n",
    "        # turn right 90 degrees \n",
    "        turn = get_next_turn(s.dir)\n",
    "        return Step(turn,s.pos,True)\n",
    "    else :\n",
    "        # move forward\n",
    "        return Step(s.dir,next_pos,False)\n",
    "\n",
    "def get_steps(start:Step,M)->List[Step]:\n",
    "    steps = list()\n",
    "    steps.append(start)\n",
    "    next_step = start\n",
    "    while (next_step:= get_next_step(next_step,M)) :\n",
    "        #print(next_step)\n",
    "        if next_step in steps :\n",
    "            steps.append(next_step)\n",
    "            break\n",
    "        steps.append(next_step)\n",
    "    return steps\n",
    "\n",
    "def is_loop_steps(steps:List[Step]):\n",
    "    l = [(x.pos,x.dir)for x in steps]\n",
    "    return last(l) in l[:-1] \n",
    "\n",
    "def get_path_from_steps(steps:List[Step])->List[Step]:\n",
    "    return [x for x in steps if not x.turn]\n"
   ]
  },
  {
   "cell_type": "code",
   "execution_count": null,
   "metadata": {},
   "outputs": [],
   "source": [
    "# distint position will the guard visit before leaving the mapped area    \n",
    "res_a =  len(Counter([x.pos for x in get_steps(start_pos,MpA)]))\n",
    "res_a"
   ]
  },
  {
   "cell_type": "code",
   "execution_count": null,
   "metadata": {},
   "outputs": [],
   "source": [
    "submit(res_a, part=\"a\", day=6, year=2024)"
   ]
  },
  {
   "cell_type": "markdown",
   "metadata": {},
   "source": [
    "### Part 2"
   ]
  },
  {
   "cell_type": "code",
   "execution_count": null,
   "metadata": {},
   "outputs": [],
   "source": [
    "test_x1 = '''\n",
    "..#..\n",
    ".#.#.\n",
    ".#.#.\n",
    ".#.#.\n",
    ".#.#.\n",
    ".#^#.\n",
    ".....\n",
    "'''\n",
    "Mx1 = np.matrix(mapt(lambda x:tuple(x),test_x1.rstrip().split()))\n",
    "Mx1.shape, Mx1.size\n",
    "start_pos = Step('^',mapt(int,tuple(np.argwhere(Mx1 == '^')[0])),False)\n",
    "print(start_pos)\n",
    "steps = get_steps(start_pos,Mx1)\n",
    "print(is_loop_steps(steps))\n",
    "get_path_from_steps(steps)\n",
    "Mx1[(6,2)]='#'\n",
    "steps = get_steps(start_pos,Mx1)\n",
    "print(is_loop_steps(steps))\n",
    "get_path_from_steps(steps)\n",
    "Mx1[(6,2)]='.'\n",
    "steps\n"
   ]
  },
  {
   "cell_type": "code",
   "execution_count": null,
   "metadata": {},
   "outputs": [],
   "source": [
    "p = lambda x:tuple(x)\n",
    "in_part_A = mapt(p,Input(6))\n",
    "#in_part_A = mapt(p,test_d6.rstrip().split())\n",
    "MpA = np.matrix(in_part_A)\n",
    "MpA.shape, MpA.size\n",
    "\n",
    "def get_obstacle(M:np.matrix)->List[Step]:\n",
    "    start = Step('^',mapt(int,tuple(np.argwhere(M == '^')[0])),False)\n",
    "    obstacle = set()\n",
    "    steps = get_steps(start,M)\n",
    "    for p0,p1 in pairwise(get_path_from_steps(steps)) :\n",
    "        #print(p0,p1)\n",
    "        if M[p1.pos] == 'O':\n",
    "            continue\n",
    "        tmp = M[p1.pos]\n",
    "        M[p1.pos] = '#'\n",
    "        if is_loop_steps(ss:=get_steps(start,M)) :\n",
    "            obstacle.add(p1)\n",
    "            print('add {}'.format(p1))\n",
    "            #print(obstacle)\n",
    "            #print(ss)\n",
    "        #M[p1.pos] = tmp\n",
    "        M[p1.pos] = 'O'\n",
    "        \n",
    "    return obstacle\n",
    "\n",
    "obstacles = get_obstacle(MpA)\n",
    "\n",
    "# 35 mins"
   ]
  },
  {
   "cell_type": "code",
   "execution_count": null,
   "metadata": {},
   "outputs": [],
   "source": [
    "res_b = len(Counter([x.pos for x in obstacles]))\n",
    "res_b"
   ]
  },
  {
   "cell_type": "code",
   "execution_count": null,
   "metadata": {},
   "outputs": [],
   "source": [
    "submit(res_b, part=\"b\", day=6, year=2024)"
   ]
  },
  {
   "cell_type": "code",
   "execution_count": null,
   "metadata": {},
   "outputs": [],
   "source": [
    "test_x2 = '''\n",
    ".....\n",
    "..#..\n",
    ".#^#.\n",
    "..#..\n",
    "'''\n",
    "Mx2 = np.matrix(mapt(lambda x:tuple(x),test_x2.rstrip().split()))\n",
    "Mx2.shape, Mx2.size\n",
    "start_pos = Step('^',mapt(int,tuple(np.argwhere(Mx2 == '^')[0])),False)\n",
    "is_loop_steps(steps:=get_steps(start_pos,Mx2))\n",
    "pp.pprint(steps)\n",
    "get_path_from_steps(steps)"
   ]
  },
  {
   "cell_type": "markdown",
   "metadata": {},
   "source": [
    "[home](#home)\n",
    "# Day 7\n",
    "[Bridge Repair](https://adventofcode.com/2024/day/7)  \n",
    "\n",
    "Use [bigtree](https://bigtree.readthedocs.io/en/stable/) Python package"
   ]
  },
  {
   "cell_type": "code",
   "execution_count": null,
   "metadata": {},
   "outputs": [],
   "source": [
    "get_in_file(7,2024)"
   ]
  },
  {
   "cell_type": "code",
   "execution_count": null,
   "metadata": {},
   "outputs": [],
   "source": [
    "test_d7 = \"\"\"\n",
    "190: 10 19\n",
    "3267: 81 40 27\n",
    "83: 17 5\n",
    "156: 15 6\n",
    "7290: 6 8 6 15\n",
    "161011: 16 10 13\n",
    "192: 17 8 14\n",
    "21037: 9 7 18 13\n",
    "292: 11 6 16 20\n",
    "\"\"\""
   ]
  },
  {
   "cell_type": "code",
   "execution_count": null,
   "metadata": {},
   "outputs": [],
   "source": [
    "equations = mapt(lambda x:(int(x[0]),mapt(lambda x:int(x),x[1].strip().split())),(mapt(lambda x:x.split(':'),Input(7))))\n",
    "#equations = mapt(lambda x:(int(x[0]),mapt(lambda x:int(x),x[1].strip().split())),(mapt(lambda x:x.split(':'),test_d7.strip().split(\"\\n\"))))\n",
    "#equations"
   ]
  },
  {
   "cell_type": "code",
   "execution_count": null,
   "metadata": {},
   "outputs": [],
   "source": [
    "debug = False\n",
    "\n",
    "def make_tree_path(s ,root_name=\"R\")->List:\n",
    "    \"\"\" '++++' --> 'R/+/+/+/+' \"\"\"\n",
    "    return \"\".join(list(intersperse('/',root_name+s)))\n",
    "    \n",
    "def make_tree(op_num,operators:List):\n",
    "    \"\"\"  \"\"\"\n",
    "    prod_iter = product (\"\".join(operators),repeat=op_num)\n",
    "    path_str = list(mapt(lambda x:\"\".join(x),prod_iter))\n",
    "    if debug : print(path_str) \n",
    "    return list_to_tree([make_tree_path(x) for x in path_str])\n",
    "\n",
    "def populate_tree(operands_list, operators_dict):\n",
    "    \"\"\" \"\"\"\n",
    "    root = make_tree(len(operands_list)-1, operators_dict.keys())\n",
    "    for node in levelorder_iter(root) :\n",
    "        if node.is_root :\n",
    "            node.set_attrs({\"res\": operands_list[0]})\n",
    "        else :    \n",
    "            node.set_attrs({\"res\": 0})\n",
    "    #root.hshow()\n",
    "    for node in levelorder_iter(root) :\n",
    "        if not node.is_root :\n",
    "            op = operators_dict[node.node_name]\n",
    "            op1 = node.parent.get_attr(\"res\")\n",
    "            op2 = operands_list[node.depth-1]\n",
    "            res = op(op1,op2)\n",
    "            #print(\"{}{}{}\".format(op1,node.node_name,op2))\n",
    "            node.set_attrs({\"res\":res})\n",
    "    return root\n",
    "\n",
    "def all_res_equation(root):\n",
    "    for node in levelorder_iter(root) :\n",
    "        if node.is_leaf :\n",
    "            yield node.get_attr(\"res\")\n",
    "\n",
    "if debug :\n",
    "    root = populate_tree([81,40,27])\n",
    "    root.show(attr_list=[\"res\"])\n",
    "\n",
    "operators = {\"+\":operator.add,\"*\":operator.mul}\n",
    "true_equations_res = list()\n",
    "for res,operands in equations :\n",
    "    all_res = list(all_res_equation(populate_tree(operands,operators)))\n",
    "    if debug : print(res,all_res)\n",
    "    if res in all_res :\n",
    "        true_equations_res.append(res)\n",
    "\n",
    "true_equations_res\n",
    "res_a = sum(true_equations_res)\n",
    "res_a"
   ]
  },
  {
   "cell_type": "code",
   "execution_count": null,
   "metadata": {},
   "outputs": [],
   "source": [
    "submit(res_a, part=\"a\", day=7, year=2024)"
   ]
  },
  {
   "cell_type": "markdown",
   "metadata": {},
   "source": [
    "### Part 2\n",
    "\n",
    "add the concatenation operator (||) combines the digits from its left and right inputs into a single number.  \n",
    "For example, **12 || 345** would become **12345**. All operators are still evaluated left-to-right."
   ]
  },
  {
   "cell_type": "code",
   "execution_count": null,
   "metadata": {},
   "outputs": [],
   "source": [
    "operators.update({\"|\": lambda x,y: int(str(x)+str(y))})\n",
    "true_equations_res = list()\n",
    "for res,operands in equations :\n",
    "    all_res = list(all_res_equation(populate_tree(operands,operators)))\n",
    "    if debug : print(res,all_res)\n",
    "    if res in all_res :\n",
    "        true_equations_res.append(res)\n",
    "\n",
    "true_equations_res\n",
    "res_b = sum(true_equations_res)\n",
    "res_b"
   ]
  },
  {
   "cell_type": "code",
   "execution_count": null,
   "metadata": {},
   "outputs": [],
   "source": [
    "submit(res_b, part=\"b\", day=7, year=2024)"
   ]
  },
  {
   "cell_type": "markdown",
   "metadata": {},
   "source": [
    "[home](#home)\n",
    "# Day 8\n",
    "[Resonant Collinearity](https://adventofcode.com/2024/day/8)  \n",
    "\n",
    "How many unique locations within the bounds of the map contain an antinode ?  \n",
    "\n",
    "Each antenna is tuned to a specific frequency indicated by a **single** *lowercase letter*, *uppercase letter*, or *digit*.  \n",
    "\n",
    "An antinode occurs at any point that is perfectly in line with two antennas of the same frequency - but only when one of the antennas is twice as far away as the other.  \n",
    "\n",
    "However, antinodes can occur at locations that contain antennas\n"
   ]
  },
  {
   "cell_type": "code",
   "execution_count": null,
   "metadata": {},
   "outputs": [],
   "source": [
    "get_in_file(8,2024)"
   ]
  },
  {
   "cell_type": "code",
   "execution_count": null,
   "metadata": {},
   "outputs": [],
   "source": [
    "test_d8_1 = \"\"\"\n",
    "..........\n",
    "...#......\n",
    "#.........\n",
    "....a.....\n",
    "........a.\n",
    ".....a....\n",
    "..#.......\n",
    "......#...\n",
    "..........\n",
    "..........\n",
    "\"\"\""
   ]
  },
  {
   "cell_type": "code",
   "execution_count": null,
   "metadata": {},
   "outputs": [],
   "source": [
    "test_d8_2 = \"\"\"\n",
    "......#....#\n",
    "...#....0...\n",
    "....#0....#.\n",
    "..#....0....\n",
    "....0....#..\n",
    ".#....A.....\n",
    "...#........\n",
    "#......#....\n",
    "........A...\n",
    ".........A..\n",
    "..........#.\n",
    "..........#.\n",
    "\"\"\""
   ]
  },
  {
   "cell_type": "code",
   "execution_count": null,
   "metadata": {},
   "outputs": [],
   "source": [
    "test_d8_3 = \"\"\"\n",
    "#.........\n",
    "..#.a.a.#.\n",
    "..........\n",
    "a.........\n",
    "..........\n",
    "..........\n",
    "a.........\n",
    "..........\n",
    "..........\n",
    "#....#aa#.\n",
    "\"\"\""
   ]
  },
  {
   "cell_type": "code",
   "execution_count": null,
   "metadata": {},
   "outputs": [],
   "source": [
    "p = lambda x:tuple(x)\n",
    "in_part_A = mapt(p,Input(8))\n",
    "#in_part_A = mapt(p,test_d8_1.rstrip().split())\n",
    "#in_part_A = mapt(p,test_d8_2.rstrip().split())\n",
    "#in_part_A = mapt(p,test_d8_3.rstrip().split())\n",
    "MpA = np.matrix(in_part_A)\n",
    "MpA.shape, MpA.size"
   ]
  },
  {
   "cell_type": "code",
   "execution_count": null,
   "metadata": {},
   "outputs": [],
   "source": [
    "def isChrValid(c:str)->bool:\n",
    "    return len(c) == 1 and c.isalnum()\n",
    "\n",
    "def isChrAntenna(c:str)->bool:\n",
    "    return isChrValid(c)\n",
    "\n",
    "def isChrAntinode(c:str)->bool:\n",
    "    return c == '#'\n"
   ]
  },
  {
   "cell_type": "code",
   "execution_count": null,
   "metadata": {},
   "outputs": [],
   "source": [
    "class Line(namedtuple('Line',['p1','p2'])):\n",
    "    __hash__ = tuple.__hash__\n",
    "    def __eq__(self,other)->bool:\n",
    "        return self.p1==other.p1 and self.p2==other.p2 or (self.p1==other.p2 and self.p2==other.p1)\n",
    "    def __repr__(self) -> str:\n",
    "        return f'<Line{tuple.__repr__(self)}, len={self.length()}, m={self.m()}>'\n",
    "    def length(self):\n",
    "        # row,col\n",
    "        y1,x1 = self.p1\n",
    "        y2,x2 = self.p2\n",
    "        return abs(y1-y2) , abs(x1-x2)\n",
    "    def m(self):\n",
    "        \"\"\" m = 0 orizz \"\"\"\n",
    "        y1,x1 = self.p1\n",
    "        y2,x2 = self.p2\n",
    "        if y2 == y1 :\n",
    "            return math.nan\n",
    "        m = (x2-x1)/(y2-y1)\n",
    "        return m\n",
    "    def min_manhattan(self,p):\n",
    "        \"\"\"return point in line nearest to p\"\"\"\n",
    "        y1,x1 = self.p1\n",
    "        y2,x2 = self.p2\n",
    "        y,x = p\n",
    "        m_p1_p = abs(x1-x)+abs(y1-y)\n",
    "        m_p2_p = abs(x2-x)+abs(y2-y)\n",
    "        if m_p1_p < m_p2_p:\n",
    "            return self.p1\n",
    "        return self.p2\n",
    "    \n",
    "    \n",
    "Line((0,0),(2,2)).length() == Line((2,2),(0,0)).length()\n",
    "print(Line((0,0),(0,2)))\n",
    "print(Line((0,0),(2,0)))\n",
    "print(Line((0,0),(2,0)).min_manhattan((4,0)))"
   ]
  },
  {
   "cell_type": "code",
   "execution_count": null,
   "metadata": {},
   "outputs": [],
   "source": [
    "def get_lines(M)->dict:\n",
    "    freq_dict = {}\n",
    "    lines_dict = {}\n",
    "    for freq in mapt(str,set(M.A1)):\n",
    "        #print(f'find freq {freq}')\n",
    "        if isChrAntenna(freq) :\n",
    "            freq_dict[freq] = [(int(x),int(y)) for (x,y) in np.argwhere(M == freq)]\n",
    "            lines_dict[freq] = [Line(p1,p2) for (p1,p2) in list(combinations(freq_dict[freq],2))]\n",
    "        else :\n",
    "            print(f'not a freq {freq}')\n",
    "    return lines_dict\n",
    "\n",
    "def get_antinodes(M,freq_lines:dict):\n",
    "    anodes_dict = {}\n",
    "    for freq,llines in freq_lines.items() :\n",
    "        anodes = set()\n",
    "        point_lines = set()\n",
    "        for l in llines :\n",
    "            L = l.length()\n",
    "            point_lines.update({l.p1,l.p2})\n",
    "            #print(l)\n",
    "            if l.m() >= 0 or l.m()==math.nan  :\n",
    "                if isValid(M.shape,a:=add_tuple(l.p1 , L)) :\n",
    "                    anodes.add(a)\n",
    "                if isValid(M.shape,a:=add_tuple(l.p2 , L)) :\n",
    "                    anodes.add(a)\n",
    "                if isValid(M.shape,a:=sub_tuple(l.p1 , L)) :\n",
    "                    anodes.add(a)\n",
    "                if isValid(M.shape,a:=sub_tuple(l.p2 , L)) :\n",
    "                    anodes.add(a)\n",
    "            else : # l.m() < 0 :\n",
    "                K = (L[0],-L[1])\n",
    "                if isValid(M.shape,a:=add_tuple(l.p1 , K)) :\n",
    "                    anodes.add(a)\n",
    "                if isValid(M.shape,a:=add_tuple(l.p2 , K)) :\n",
    "                    anodes.add(a)\n",
    "                if isValid(M.shape,a:=sub_tuple(l.p1 , K)) :\n",
    "                    anodes.add(a)\n",
    "                if isValid(M.shape,a:=sub_tuple(l.p2 , K)) :\n",
    "                    anodes.add(a)\n",
    "            anodes.difference_update(point_lines)\n",
    "            #print(s)\n",
    "            anodes_dict[freq] = anodes\n",
    "    return anodes_dict\n",
    "        \n",
    "antinodes = get_antinodes(MpA,get_lines(MpA))\n",
    "#antinodes"
   ]
  },
  {
   "cell_type": "code",
   "execution_count": null,
   "metadata": {},
   "outputs": [],
   "source": [
    "res_a = len(set(collapse(antinodes.values(),levels=1)))\n",
    "res_a"
   ]
  },
  {
   "cell_type": "code",
   "execution_count": null,
   "metadata": {},
   "outputs": [],
   "source": [
    "submit(res_a, part=\"a\", day=8, year=2024)"
   ]
  },
  {
   "cell_type": "markdown",
   "metadata": {},
   "source": [
    "### Part 2"
   ]
  },
  {
   "cell_type": "code",
   "execution_count": null,
   "metadata": {},
   "outputs": [],
   "source": [
    "test_d8_4 = \"\"\"\n",
    "T....#....\n",
    "...T......\n",
    ".T....#...\n",
    ".........#\n",
    "..#.......\n",
    "..........\n",
    "...#......\n",
    "..........\n",
    "....#.....\n",
    "..........\n",
    "\"\"\"\n",
    "\n",
    "test_d8_5 = \"\"\"\n",
    "##....#....#\n",
    ".#.#....0...\n",
    "..#.#0....#.\n",
    "..##...0....\n",
    "....0....#..\n",
    ".#...#A....#\n",
    "...#..#.....\n",
    "#....#.#....\n",
    "..#.....A...\n",
    "....#....A..\n",
    ".#........#.\n",
    "...#......##\n",
    "\"\"\"\n",
    "p = lambda x:tuple(x)\n",
    "in_part_A = mapt(p,test_d8_4.rstrip().split())\n",
    "#in_part_A = mapt(p,test_d8_5.rstrip().split())\n",
    "MpA = np.matrix(in_part_A)\n",
    "MpA.shape, MpA.size"
   ]
  },
  {
   "cell_type": "code",
   "execution_count": null,
   "metadata": {},
   "outputs": [],
   "source": [
    "def get_lines(M)->dict:\n",
    "    freq_dict = {}\n",
    "    lines_dict = {}\n",
    "    for freq in mapt(str,set(M.A1)):\n",
    "        #print(f'find freq {freq}')\n",
    "        if isChrAntenna(freq) :\n",
    "            freq_dict[freq] = [(int(x),int(y)) for (x,y) in np.argwhere(M == freq)]\n",
    "            lines_dict[freq] = [Line(p1,p2) for (p1,p2) in list(combinations(freq_dict[freq],2))]\n",
    "        else :\n",
    "            print(f'not a freq {freq}')\n",
    "    return lines_dict\n",
    "\n",
    "# an antinode occurs at any grid position exactly in line with at least two antennas of the same frequency,\n",
    "# regardless of distance. This means that some of the new antinodes will occur at the position of each antenna\n",
    "# (unless that antenna is the only one of its frequency).\n",
    "\n",
    "def get_anodes_from_line(M,l:Line)->Set:\n",
    "    line_anodes = set()\n",
    "    point_lines = set()\n",
    "    point_lines.update({l.p1,l.p2})\n",
    "    L = l.length()\n",
    "    if l.m() >= 0 or l.m()==math.nan  :\n",
    "        if isValid(M.shape,a:=add_tuple(l.p1 , L)) :\n",
    "            line_anodes.add(a)\n",
    "        if isValid(M.shape,a:=add_tuple(l.p2 , L)) :\n",
    "            line_anodes.add(a)\n",
    "        if isValid(M.shape,a:=sub_tuple(l.p1 , L)) :\n",
    "            line_anodes.add(a)\n",
    "        if isValid(M.shape,a:=sub_tuple(l.p2 , L)) :\n",
    "            line_anodes.add(a)\n",
    "    else : # l.m() < 0 :\n",
    "        K = (L[0],-L[1])\n",
    "        if isValid(M.shape,a:=add_tuple(l.p1 , K)) :\n",
    "            line_anodes.add(a)\n",
    "        if isValid(M.shape,a:=add_tuple(l.p2 , K)) :\n",
    "            line_anodes.add(a)\n",
    "        if isValid(M.shape,a:=sub_tuple(l.p1 , K)) :\n",
    "            line_anodes.add(a)\n",
    "        if isValid(M.shape,a:=sub_tuple(l.p2 , K)) :\n",
    "            line_anodes.add(a)\n",
    "    line_anodes.update(point_lines)\n",
    "    return line_anodes\n",
    "\n",
    "def get_antinodes(M,freq_lines:dict):\n",
    "    anodes_dict = {}\n",
    "    for freq,llines in freq_lines.items() :\n",
    "        freq_anodes = set()\n",
    "        for line in llines :\n",
    "            print(line)\n",
    "            point_lines = set()\n",
    "            anodes_lines = deque()\n",
    "            anodes_lines.append(line)\n",
    "            while(len(anodes_lines)) :\n",
    "                curr_line = anodes_lines.pop()\n",
    "                point_lines.add(curr_line)\n",
    "                new_anodes_set = get_anodes_from_line(MpA,curr_line)\n",
    "                freq_anodes.update(new_anodes_set)\n",
    "                #make a new line with one old line point nearest to a new anode\n",
    "                for anode in new_anodes_set :\n",
    "                    nearest = curr_line.min_manhattan(anode)\n",
    "                    new_line = Line(nearest,anode)\n",
    "                    if new_line not in point_lines :\n",
    "                        print(\"new line\",new_line)\n",
    "                        point_lines.add(curr_line)\n",
    "                        anodes_lines.append(new_line)\n",
    "                \n",
    "            \n",
    "            anodes_dict[freq] = freq_anodes\n",
    "    return anodes_dict\n",
    "        \n",
    "antinodes = get_antinodes(MpA,get_lines(MpA))\n",
    "#antinodes"
   ]
  },
  {
   "cell_type": "code",
   "execution_count": null,
   "metadata": {},
   "outputs": [],
   "source": [
    "res_b = len(set(collapse(antinodes.values(),levels=1)))\n",
    "res_b"
   ]
  },
  {
   "cell_type": "code",
   "execution_count": null,
   "metadata": {},
   "outputs": [],
   "source": [
    "submit(res_b, part=\"b\", day=8, year=2024)"
   ]
  },
  {
   "cell_type": "markdown",
   "metadata": {},
   "source": [
    "[home](#home)\n",
    "# Day 9\n",
    "[Disk Fragmenter](https://adventofcode.com/2024/day/9)  \n",
    "\n",
    "20000 / 2 = 10000 ==> numero di iD  \n",
    "\n",
    "The Unicode standard describes how characters are represented by code points. A code point value is an integer in the range 0 to 0x10FFFF (about 1.1 million values, the actual number assigned is less than that). In the standard and in this document, a code point is written using the notation U+265E to mean the character with value 0x265e (9,822 in decimal).\n",
    "\n",
    "One-character Unicode strings can also be created with the chr() built-in function, which takes integers and returns a Unicode string of length 1 that contains the corresponding code point. The reverse operation is the built-in ord() function that takes a one-character Unicode string and returns the code point value  \n",
    "\n",
    "# magic is HERE !!!! \".\" will be a valid block_iD\n",
    "# so choose one outside iDs range that is [0..input_len/2]"
   ]
  },
  {
   "cell_type": "code",
   "execution_count": null,
   "metadata": {},
   "outputs": [],
   "source": [
    "get_in_file(9,2024)"
   ]
  },
  {
   "cell_type": "code",
   "execution_count": null,
   "metadata": {},
   "outputs": [],
   "source": [
    "debug = False\n",
    "p = lambda x: list(x.strip())\n",
    "in_part_A, = Input(9,line_parser=p)\n",
    "#in_part_A = list(\"2333133121414131402\")\n",
    "disk_map = mapt(lambda y: int(y) , in_part_A+['0'])\n",
    "len(disk_map)"
   ]
  },
  {
   "cell_type": "code",
   "execution_count": null,
   "metadata": {},
   "outputs": [],
   "source": [
    "# magic is HERE !!!! \".\" will be a valid block_iD\n",
    "# so choose on outside iDs range that is input len / 2\n",
    "max_iD = len(disk_map)/2\n",
    "dot_iD = int(max_iD+1)\n",
    "tod_iD = int(max_iD+2)\n",
    "if len(disk_map) < 100  : \n",
    "    dot_iD = '.'\n",
    "    tod_iD = '+'\n",
    "dot_iD, tod_iD"
   ]
  },
  {
   "cell_type": "code",
   "execution_count": null,
   "metadata": {},
   "outputs": [],
   "source": [
    "def get_disk(diskMap:Tuple)->str: \n",
    "    return collapse([([iD]*f_n,[dot_iD]*e_n) for iD,(f_n,e_n) in zip(count(),batched(diskMap,2))])\n",
    "    \n",
    "tuple(get_disk(disk_map))"
   ]
  },
  {
   "cell_type": "code",
   "execution_count": null,
   "metadata": {},
   "outputs": [],
   "source": [
    "def swp(l:List,i1,i2):\n",
    "    #print(\"swp [{}]={} [{}]={}\".format(i1,l[i1],i2,l[i2]))            \n",
    "    tmp = l[i1]\n",
    "    l[i1] = l[i2]\n",
    "    l[i2] = tmp\n",
    "\n",
    "def compact(disk_gtor:Generator)->List:\n",
    "    disk_list = list(disk_gtor)   \n",
    "    it_ele = enumerate(disk_list)\n",
    "    it_rev = reversed(list(enumerate(disk_list)))\n",
    "    for i,e in it_ele :\n",
    "        if e == dot_iD : \n",
    "            # start from the end find the first (last) id_file to move \n",
    "            j,r = next(it_rev)\n",
    "            while r == dot_iD :\n",
    "                j,r = next(it_rev)\n",
    "            if (i<j) :\n",
    "                swp(disk_list,i,j)\n",
    "            else :\n",
    "                break\n",
    "    return disk_list\n",
    "    \n",
    "\n",
    "print([x for x in get_disk(disk_map)])\n",
    "res_list = compact(get_disk(disk_map))\n",
    "print(res_list)\n",
    "# If a block contains free space, skip it instead\n",
    "res_a = sum([x*i for x,i in zip(res_list,count()) if x!= dot_iD])\n",
    "res_a"
   ]
  },
  {
   "cell_type": "code",
   "execution_count": null,
   "metadata": {},
   "outputs": [],
   "source": [
    "submit(res_a, part=\"a\", day=9, year=2024)"
   ]
  },
  {
   "cell_type": "markdown",
   "metadata": {},
   "source": [
    "### Part 2  \n",
    "\n",
    "attempt to move whole files to the leftmost span of free space blocks that could fit the file.  \n",
    "\n",
    "Attempt to move each file exactly once in order of decreasing file ID number starting with the file with the highest file ID number  \n",
    "\n",
    "If there is no span of free space to the left of a file that is large enough to fit the file, the file does not move.\n"
   ]
  },
  {
   "cell_type": "code",
   "execution_count": null,
   "metadata": {},
   "outputs": [],
   "source": [
    "def move_inplace(lst:List, f_blk:List, f_blk_idx, e_blk_idx)->List:\n",
    "    \"\"\"\n",
    "    f_blk = file block NNNN , N unique for each file\n",
    "    e_blk_idx = leftmost empty block index\n",
    "    \"\"\"\n",
    "    lst[e_blk_idx:e_blk_idx+len(f_blk)] = f_blk\n",
    "    lst[f_blk_idx:f_blk_idx+len(f_blk)] = [tod_iD]*len(f_blk)\n",
    "    #print(\"head {} file {} body {} free {} tail {}\".format(head,f_blk,body,free_blk,tail))\n",
    "                        \n",
    "def compact(disk_gtor:Generator)->List:\n",
    "    disk_list = list(disk_gtor)\n",
    "    gby_rev = groupby([x for x in reversed(disk_list)])\n",
    "    for file_iD,file_blk in gby_rev :\n",
    "        file_blk = list(file_blk)\n",
    "        file_len = len(file_blk)\n",
    "        f_blk_idx = disk_list.index(file_blk[0])\n",
    "        if file_iD != dot_iD :\n",
    "            print(\"try move\",file_blk, f_blk_idx)\n",
    "            # Attempt to move whole files to the leftmost span of free space blocks that could fit the file\n",
    "            # Attempt to move each file exactly once in order of decreasing file ID number starting with the file with the highest file ID number\n",
    "            # If there is no span of free space to the left of a file that is large enough to fit the file, the file does not move\n",
    "            # !!! OPTIMIZATION !!! use disk_list[:f_blk_idx] instead of disk_list  \n",
    "            gby_ele = groupby([x for x in disk_list[:f_blk_idx]])\n",
    "            e_blk_idx = 0\n",
    "            for iD,blk in gby_ele :\n",
    "                blk_len = len(list(blk))\n",
    "                if (iD == dot_iD) and (file_len <= blk_len) and (e_blk_idx < f_blk_idx) :\n",
    "                    # fit --> move file block\n",
    "                    print(\"*** fit len({})<=len({}) idx_empty {} idx_file {}\".format(file_len,blk_len,e_blk_idx, f_blk_idx))\n",
    "                    move_inplace(disk_list,file_blk,f_blk_idx,e_blk_idx)\n",
    "                    break\n",
    "                e_blk_idx += blk_len\n",
    "    return [dot_iD if x == tod_iD else x for x in disk_list]\n",
    "\n",
    "res_list = compact(get_disk(disk_map))\n",
    "res_list\n"
   ]
  },
  {
   "cell_type": "code",
   "execution_count": null,
   "metadata": {},
   "outputs": [],
   "source": [
    "res_b = sum([x*i for x,i in zip(res_list,count()) if x!= dot_iD])\n",
    "res_b\n"
   ]
  },
  {
   "cell_type": "code",
   "execution_count": null,
   "metadata": {},
   "outputs": [],
   "source": [
    "submit(res_b, part=\"b\", day=9, year=2024)"
   ]
  },
  {
   "cell_type": "markdown",
   "metadata": {},
   "source": [
    "[home](#home)\n",
    "# Day 10\n",
    "[Hoof It](https://adventofcode.com/2024/day/)  \n",
    "\n",
    "A *hiking trail* is any path that starts at height 0, ends at height 9, and **always increases by a height of exactly 1 at each step**  \n",
    "Hiking trails never include diagonal steps - only up, down, left, or right  \n",
    "A *trailhead* is any position that starts one or more *hiking trails* - here, these positions will always have height 0.  \n",
    "A *trailhead*'s score is the number of 9-height positions reachable from that trailhead via a hiking trail."
   ]
  },
  {
   "cell_type": "code",
   "execution_count": null,
   "metadata": {},
   "outputs": [],
   "source": [
    "get_in_file(10,2024)"
   ]
  },
  {
   "cell_type": "code",
   "execution_count": null,
   "metadata": {},
   "outputs": [],
   "source": [
    "test_d10 = \"\"\"\n",
    "89010123\n",
    "78121874\n",
    "87430965\n",
    "96549874\n",
    "45678903\n",
    "32019012\n",
    "01329801\n",
    "10456732\n",
    "\"\"\"\n",
    "test_d10_x1 = \"\"\"\n",
    "99099999\n",
    "99129999\n",
    "99439999\n",
    "99549999\n",
    "99678999\n",
    "\"\"\"\n",
    "test_d10_x2 = \"\"\"\n",
    "9999909\n",
    "9943219\n",
    "9959929\n",
    "9965439\n",
    "9979949\n",
    "1187659\n",
    "1191111\n",
    "\"\"\""
   ]
  },
  {
   "cell_type": "code",
   "execution_count": null,
   "metadata": {},
   "outputs": [],
   "source": [
    "#in_part_A = mapt(lambda y:(mapt(lambda z: int(z), y)), mapt(lambda x:tuple(x),test_d10.strip().split(\"\\n\")))\n",
    "#in_part_A = mapt(lambda y:(mapt(lambda z: int(z), y)), mapt(lambda x:tuple(x),test_d10_x1.strip().split(\"\\n\")))\n",
    "#in_part_A = mapt(lambda y:(mapt(lambda z: int(z), y)), mapt(lambda x:tuple(x),test_d10_x2.strip().split(\"\\n\")))\n",
    "in_part_A = mapt(lambda y:(mapt(lambda z: int(z), y)),Input(10))\n",
    "MpA = np.matrix(in_part_A)\n",
    "MpA.shape, MpA.size"
   ]
  },
  {
   "cell_type": "code",
   "execution_count": null,
   "metadata": {},
   "outputs": [],
   "source": [
    "summit = 9\n",
    "trailheads = tuple(np.argwhere(MpA == 0).tolist())\n",
    "summits = tuple(np.argwhere(MpA == 9).tolist())"
   ]
  },
  {
   "cell_type": "code",
   "execution_count": null,
   "metadata": {},
   "outputs": [],
   "source": [
    "def get_trailheads_trees(_trailheads:Tuple, M:np.ndarray)->Tuple[Node]:\n",
    "    _trailheads_trees = mapt(lambda x: Node(tuple(x), sep='/', height=0, coor=tuple(x)),_trailheads)\n",
    "    q = deque()\n",
    "    for trail in _trailheads_trees :\n",
    "        #q.clear()\n",
    "        s = set()\n",
    "        q.append(trail)\n",
    "        while len(q) > 0 :\n",
    "            curr_node = q.pop()\n",
    "            for ij in [(-1,0),(1,0),(0,-1),(0,1)] :\n",
    "                next_pos = add_tuple(curr_node.coor,ij)\n",
    "                #print(\"*\",next_pos)\n",
    "                if isValid(M.shape,next_pos) :\n",
    "                    dH = M[next_pos] - M[curr_node.coor]\n",
    "                    if dH == 1 and (next_pos not in s) :\n",
    "                        #print(\"append {} to {}\".format( next_pos, curr_node.coor))\n",
    "                        q.append(Node(tuple(next_pos), sep='/', height=M[next_pos], coor=next_pos, parent=curr_node))\n",
    "                        s.add(next_pos)\n",
    "    return _trailheads_trees\n",
    "\n",
    "trailheads_trees = get_trailheads_trees(trailheads, MpA)"
   ]
  },
  {
   "cell_type": "code",
   "execution_count": null,
   "metadata": {},
   "outputs": [],
   "source": [
    "res_a = sum(mapt(lambda x: len([l for l in x.leaves if l.height==9]), trailheads_trees))\n",
    "res_a"
   ]
  },
  {
   "cell_type": "code",
   "execution_count": null,
   "metadata": {},
   "outputs": [],
   "source": [
    "submit(res_a, part=\"a\", day=10, year=2024)"
   ]
  },
  {
   "cell_type": "markdown",
   "metadata": {},
   "source": [
    "### Part 2\n",
    "\n",
    "A trailhead's *rating* is the number of distinct hiking trails which begin at that trailhead"
   ]
  },
  {
   "cell_type": "code",
   "execution_count": null,
   "metadata": {},
   "outputs": [],
   "source": [
    "def get_trailheads_trees(_trailheads:Tuple, M:np.ndarray)->Tuple[Node]:\n",
    "    _trailheads_trees = mapt(lambda x: Node(tuple(x), sep='/', height=0, coor=tuple(x)),_trailheads)\n",
    "    q = deque()\n",
    "    for trail in _trailheads_trees :\n",
    "        #q.clear()\n",
    "        s = set()\n",
    "        q.append(trail)\n",
    "        while len(q) > 0 :\n",
    "            curr_node = q.pop()\n",
    "            for ij in [(-1,0),(1,0),(0,-1),(0,1)] :\n",
    "                next_pos = add_tuple(curr_node.coor,ij)\n",
    "                #print(\"*\",next_pos)\n",
    "                if isValid(M.shape,next_pos) :\n",
    "                    dH = M[next_pos] - M[curr_node.coor]\n",
    "                    if dH == 1 and (next_pos not in s) :\n",
    "                        #print(\"append {} to {}\".format( next_pos, curr_node.coor))\n",
    "                        q.append(Node(tuple(next_pos), sep='/', height=M[next_pos], coor=next_pos, parent=curr_node))\n",
    "                        #s.add(next_pos)\n",
    "    return _trailheads_trees\n",
    "\n",
    "trailheads_trees = get_trailheads_trees(trailheads, MpA)"
   ]
  },
  {
   "cell_type": "code",
   "execution_count": null,
   "metadata": {},
   "outputs": [],
   "source": [
    "trailheads_trees[0].show(attr_list=[\"height\"])"
   ]
  },
  {
   "cell_type": "code",
   "execution_count": null,
   "metadata": {},
   "outputs": [],
   "source": [
    "mapt(lambda x: len([l for l in x.leaves if l.height==9]), trailheads_trees)"
   ]
  },
  {
   "cell_type": "code",
   "execution_count": null,
   "metadata": {},
   "outputs": [],
   "source": [
    "res_b = sum(mapt(lambda x: len([l for l in x.leaves if l.height==9]), trailheads_trees))\n",
    "res_b"
   ]
  },
  {
   "cell_type": "code",
   "execution_count": null,
   "metadata": {},
   "outputs": [],
   "source": [
    "submit(res_b, part=\"b\", day=10, year=2024)"
   ]
  },
  {
   "cell_type": "markdown",
   "metadata": {},
   "source": [
    "[home](#home)\n",
    "# Day 11\n",
    "[Plutonian Pebbles](https://adventofcode.com/2024/day/11)  "
   ]
  },
  {
   "cell_type": "code",
   "execution_count": 3,
   "metadata": {},
   "outputs": [],
   "source": [
    "get_in_file(11,2024)"
   ]
  },
  {
   "cell_type": "code",
   "execution_count": null,
   "metadata": {},
   "outputs": [],
   "source": [
    "in_part_A, = mapt(lambda y:(mapt(lambda z: int(z), str.split(y.strip()))),Input(11))\n",
    "in_part_A"
   ]
  },
  {
   "cell_type": "code",
   "execution_count": null,
   "metadata": {},
   "outputs": [],
   "source": [
    "def stone_gtor(num:int)->Generator:\n",
    "    \"\"\" return stone number\"\"\"\n",
    "    num_s = str(num)\n",
    "    if num == 0 :\n",
    "        yield 1,\n",
    "    elif (l:=len(num_s))%2 == 0 :\n",
    "        # // integer division , >>1 is faster than //2 \n",
    "        left = int(num_s[:l>>1])\n",
    "        right = int(num_s[l>>1:])\n",
    "        yield left,right\n",
    "    else :\n",
    "        yield num*2024,\n",
    "        \n",
    "def count_stones(loops:int,init_stones:Tuple)->int:\n",
    "    stones = deque(init_stones)\n",
    "    for i in range(loops) :\n",
    "        print(\"= {} = stones {}\".format(i,len(stones)))\n",
    "        for j in range(len(stones)) :\n",
    "            #print(\"--\",j)\n",
    "            for s in next(stone_gtor(stones.popleft())):\n",
    "                #print(\"append\",s)\n",
    "                stones.append(s)\n",
    "    return len(stones)\n"
   ]
  },
  {
   "cell_type": "code",
   "execution_count": null,
   "metadata": {},
   "outputs": [],
   "source": [
    "#in_part_A = (125,17)\n",
    "res_a = count_stones(25,in_part_A)\n",
    "res_a"
   ]
  },
  {
   "cell_type": "code",
   "execution_count": null,
   "metadata": {},
   "outputs": [],
   "source": [
    "submit(res_a, part=\"a\", day=11, year=2024)"
   ]
  },
  {
   "cell_type": "markdown",
   "metadata": {},
   "source": [
    "### Part 2"
   ]
  },
  {
   "cell_type": "code",
   "execution_count": null,
   "metadata": {},
   "outputs": [],
   "source": [
    "def stone_gtor(num:int)->Generator:\n",
    "    \"\"\" return stone number\"\"\"\n",
    "    num_s = str(num)\n",
    "    \n",
    "    if num == 0 :\n",
    "        yield 1,\n",
    "    elif (l:=len(num_s)) % 2 == 0:\n",
    "        try :\n",
    "            left = int(num_s[:l>>1])\n",
    "            right = int(num_s[l>>1:])\n",
    "            yield left,right\n",
    "        except ValueError :\n",
    "            print(num)\n",
    "    else :\n",
    "        yield num*2024,\n",
    "        \n",
    "def count_stones(loops:int,init_stones:Tuple)->int:\n",
    "    stones = Counter(init_stones) \n",
    "    for i in range(loops) :\n",
    "        new = Counter()\n",
    "        for num,cnt in stones.items() :\n",
    "            #print(k,v)\n",
    "            for s in next(stone_gtor(num)) :\n",
    "                new.update({s:cnt})\n",
    "        stones = new\n",
    "        print(\"= {} = stones {}\".format(i,stones.total()))\n",
    "        \n",
    "    return stones.total()"
   ]
  },
  {
   "cell_type": "code",
   "execution_count": null,
   "metadata": {},
   "outputs": [],
   "source": [
    "res_b = count_stones(75,in_part_A)\n",
    "res_b\n",
    "    "
   ]
  },
  {
   "cell_type": "code",
   "execution_count": null,
   "metadata": {},
   "outputs": [],
   "source": [
    "# (7568, 155731, 0, 972, 1, 6919238, 80646, 22)\n",
    "%load_ext line_profiler\n",
    "%lprun -T lprof0 -f stone_gtor -f count_stones count_stones(75, in_part_A)"
   ]
  },
  {
   "cell_type": "code",
   "execution_count": null,
   "metadata": {},
   "outputs": [],
   "source": [
    "import timeit\n",
    "timeit.timeit('l >> 1', setup='l = 172387**99')"
   ]
  },
  {
   "cell_type": "code",
   "execution_count": null,
   "metadata": {},
   "outputs": [],
   "source": [
    "timeit.timeit('l//2', setup='l = 172387**99')"
   ]
  },
  {
   "cell_type": "code",
   "execution_count": null,
   "metadata": {},
   "outputs": [],
   "source": [
    "timeit.timeit('l & 0x0', setup='l = 172387**99')"
   ]
  },
  {
   "cell_type": "code",
   "execution_count": null,
   "metadata": {},
   "outputs": [],
   "source": [
    "timeit.timeit('(l % 2) == 0', setup='l = 172387**99')"
   ]
  },
  {
   "cell_type": "code",
   "execution_count": null,
   "metadata": {},
   "outputs": [],
   "source": [
    "(l & 0x1) == 0"
   ]
  },
  {
   "cell_type": "code",
   "execution_count": null,
   "metadata": {},
   "outputs": [],
   "source": [
    "submit(res_b, part=\"b\", day=11, year=2024)"
   ]
  },
  {
   "cell_type": "markdown",
   "metadata": {},
   "source": [
    "[home](#home)\n",
    "# Day 12\n",
    "[Garden Groups](https://adventofcode.com/2024/day/12)  \n",
    "\n",
    "Each *garden plot* grows only a single type of plant and is indicated by a single letter on your map.  \n",
    "\n",
    "When *multiple garden plots* are growing the same type of plant and are *touching* (horizontally or vertically), they form a **region**  \n",
    "\n",
    "The **area** of a *region* is simply the number of garden plots the region contains.  \n",
    "\n",
    "Each garden plot is a square and so has *four sides*. The **perimeter of a region is the *number of sides* of garden plots in the region that *do not touch* another garden plot in the same region**\n",
    "\n",
    "Plants of the same type can appear in multiple separate regions, and regions can even appear within other regions\n",
    "\n",
    "\n"
   ]
  },
  {
   "cell_type": "code",
   "execution_count": null,
   "metadata": {},
   "outputs": [],
   "source": [
    "get_in_file(12,2024)"
   ]
  },
  {
   "cell_type": "code",
   "execution_count": 6,
   "metadata": {},
   "outputs": [],
   "source": [
    "test_d12_1 = \"\"\"\n",
    "RRRRIICCFF\n",
    "RRRRIICCCF\n",
    "VVRRRCCFFF\n",
    "VVRCCCJFFF\n",
    "VVVVCJJCFE\n",
    "VVIVCCJJEE\n",
    "VVIIICJJEE\n",
    "MIIIIIJJEE\n",
    "MIIISIJEEE\n",
    "MMMISSJEEE\n",
    "\"\"\"\n",
    "test_d12_2 = \"\"\"\n",
    "AAAA\n",
    "BBCD\n",
    "BBCC\n",
    "EEEC\n",
    "\"\"\"\n",
    "test_d12_3 = \"\"\"\n",
    "OOOOO\n",
    "OXOXO\n",
    "OOOOO\n",
    "OXOXO\n",
    "OOOOO\n",
    "\"\"\"\n",
    "test_d12_4 = \"\"\" \n",
    "EEEEE\n",
    "EXXXX\n",
    "EEEEE\n",
    "EXXXX\n",
    "EEEEE\n",
    "\"\"\"\n",
    "test_d12_5 = \"\"\"\n",
    "AAAAAA\n",
    "AAABBA\n",
    "AAABBA\n",
    "ABBAAA\n",
    "ABBAAA\n",
    "AAAAAA\n",
    "\"\"\""
   ]
  },
  {
   "cell_type": "code",
   "execution_count": null,
   "metadata": {},
   "outputs": [],
   "source": [
    "p = lambda x:tuple(x)\n",
    "in_part_A = mapt(p,Input(12))\n",
    "#in_part_A = mapt(p,test_d12_1.rstrip().split())\n",
    "#in_part_A = mapt(p,test_d12_2.rstrip().split())\n",
    "#in_part_A = mapt(p,test_d12_3.rstrip().split())\n",
    "in_part_A = mapt(p,test_d12_4.rstrip().split())\n",
    "MpA = np.matrix(in_part_A)\n",
    "MpA.shape, MpA.size"
   ]
  },
  {
   "cell_type": "code",
   "execution_count": 8,
   "metadata": {},
   "outputs": [],
   "source": [
    "def get_regions(input)->List[Set]:\n",
    "    \"\"\" regions = dict of list of set {k:[{},{},...,{}]}\"\"\"\n",
    "    regions = dict()\n",
    "    garden_plots = dict()\n",
    "    M = np.matrix(input)\n",
    "    \n",
    "    for t in set(flatten(input)) :\n",
    "        garden_plots[t] = [(int(x),int(y)) for (x,y) in np.argwhere(M == t)]\n",
    "    for plot_type in garden_plots :\n",
    "        regions[plot_type] =  []\n",
    "        plots_set = set(garden_plots[plot_type])\n",
    "        while len(plots_set) :\n",
    "            #print(plots_set)\n",
    "            plot = plots_set.pop()\n",
    "            tmp_set = set([plot])\n",
    "            curr_set = set([plot])\n",
    "            while len(tmp_set) :\n",
    "                tmp_plot = tmp_set.pop()\n",
    "                for ij in [(-1,0),(1,0),(0,-1),(0,1)] :\n",
    "                    side_plot = add_tuple(tmp_plot,ij)\n",
    "                    #print(\"*\",next_pos)\n",
    "                    if isValid(M.shape,side_plot) and M[side_plot]==plot_type and side_plot not in curr_set :\n",
    "                        tmp_set.add(side_plot)\n",
    "                        curr_set.add(side_plot)\n",
    "            regions[plot_type].append(curr_set)\n",
    "            plots_set.difference_update(curr_set)\n",
    "    return regions,M\n",
    "    \n",
    "def get_area(_region:Set)->int:\n",
    "    return len(_region)\n",
    "\n",
    "def get_perimeter(_type,_region:Set,M)->int:\n",
    "    \"\"\" \n",
    "    Each garden plot is a square and so has four sides.\n",
    "    The perimeter of a region is the number of sides of garden plots in the region that do not touch another garden plot in the same region\n",
    "    for each plot with coor (i,j) in a region :\n",
    "        4 - ( num sametype plot adj(i,j) )\n",
    "    \"\"\"\n",
    "    perimeter = 0\n",
    "    for plot in _region:\n",
    "        num_side = 4\n",
    "        for ij in [(-1,0),(1,0),(0,-1),(0,1)] :\n",
    "            side_plot = add_tuple(plot,ij)\n",
    "            #print(\"*\",next_pos)\n",
    "            if isValid(M.shape,side_plot) and M[side_plot]==_type :\n",
    "                num_side -= 1\n",
    "        perimeter += num_side\n",
    "    return perimeter\n",
    "\n",
    "def get_prices(_regions:Dict,M)->list:\n",
    "    prices = []\n",
    "    for k,_regions_list in _regions.items() :\n",
    "        for _region in _regions_list :\n",
    "            A = get_area(_region)\n",
    "            p = get_perimeter(k,_region,M)\n",
    "            prices.append(A * p)\n",
    "            #print(\"{}: A={} p={} price {}\".format(k,A,p,A*p))\n",
    "    return prices\n"
   ]
  },
  {
   "cell_type": "code",
   "execution_count": 9,
   "metadata": {},
   "outputs": [],
   "source": [
    "assert( sum(get_prices(*get_regions(mapt(p,test_d12_1.rstrip().split())))) == 1930 )\n",
    "assert( sum(get_prices(*get_regions(mapt(p,test_d12_3.rstrip().split())))) ==  772 )"
   ]
  },
  {
   "cell_type": "code",
   "execution_count": null,
   "metadata": {},
   "outputs": [],
   "source": [
    "res_a = sum(get_prices(*get_regions(in_part_A)))\n",
    "res_a"
   ]
  },
  {
   "cell_type": "code",
   "execution_count": null,
   "metadata": {},
   "outputs": [],
   "source": [
    "submit(res_a, part=\"a\", day=12, year=2024)"
   ]
  },
  {
   "cell_type": "markdown",
   "metadata": {},
   "source": [
    "### Part 2"
   ]
  },
  {
   "cell_type": "code",
   "execution_count": 12,
   "metadata": {},
   "outputs": [],
   "source": [
    "def get_perimeter_plots(_type,_region:Set,M)->Set:\n",
    "    \"\"\" \n",
    "    Each garden plot is a square and so has four sides.\n",
    "    The perimeter of a region is the number of sides of garden plots in the region that do not touch another garden plot in the same region\n",
    "    \n",
    "    \"\"\"\n",
    "    perimeter = set()\n",
    "    for plot in _region:\n",
    "        for ij in [(-1,0),(1,0),(0,-1),(0,1)] :\n",
    "            side_plot = add_tuple(plot,ij)\n",
    "            if isValid(M.shape,side_plot) and M[side_plot]==_type :\n",
    "                perimeter.add(side_plot)\n",
    "    return perimeter\n",
    "\n",
    "def get_sides(_type,_region:Set,M)->Set:\n",
    "    \"\"\" \n",
    "    Each garden plot is a square and so has four sides.\n",
    "    The perimeter of a region is the number of sides of garden plots in the region that do not touch another garden plot in the same region\n",
    "    \"\"\"\n",
    "    _pp = get_perimeter_plots(_type,_region,M)\n",
    "    for plot in _pp:\n",
    "        for ij in [(-1,0),(1,0),(0,-1),(0,1)] :\n",
    "            side_plot = add_tuple(plot,ij)\n",
    "            #print(\"*\",next_pos)\n",
    "            if isValid(M.shape,side_plot) and M[side_plot]==_type :\n",
    "                num_side -= 1\n",
    "        perimeter += num_side\n",
    "    return perimeter\n",
    "\n",
    "\n",
    "def get_prices(_regions:Dict,M)->list:\n",
    "    prices = []\n",
    "    for k,_regions_list in _regions.items() :\n",
    "        for _region in _regions_list :\n",
    "            A = get_area(_region)\n",
    "            s = get_sides(k,_region,M)\n",
    "            prices.append(A * s)\n",
    "            print(\"{}: A={} p={} price {}\".format(k,A,s,A*s))\n",
    "    return prices"
   ]
  },
  {
   "cell_type": "code",
   "execution_count": null,
   "metadata": {},
   "outputs": [],
   "source": [
    "#in_part_A = mapt(p,test_d12_4.rstrip().split())\n",
    "in_part_A = mapt(p,test_d12_5.rstrip().split())\n",
    "regions,MpA = get_regions(in_part_A)\n",
    "regions\n"
   ]
  },
  {
   "cell_type": "code",
   "execution_count": null,
   "metadata": {},
   "outputs": [],
   "source": [
    "pp = get_perimeter_plots('E',regions['E'][0],MpA)\n",
    "pp"
   ]
  },
  {
   "cell_type": "code",
   "execution_count": null,
   "metadata": {},
   "outputs": [],
   "source": [
    "len(pp) == len(regions['E'][0])"
   ]
  },
  {
   "cell_type": "code",
   "execution_count": null,
   "metadata": {},
   "outputs": [],
   "source": [
    "assert( sum(get_prices(*get_regions(mapt(p,test_d12_4.rstrip().split())))) == 236 )\n",
    "assert( sum(get_prices(*get_regions(mapt(p,test_d12_5.rstrip().split())))) == 368 )"
   ]
  },
  {
   "cell_type": "code",
   "execution_count": null,
   "metadata": {},
   "outputs": [],
   "source": [
    "res_b = sum(get_prices(*get_regions(in_part_A)))\n",
    "res_b"
   ]
  },
  {
   "cell_type": "code",
   "execution_count": null,
   "metadata": {},
   "outputs": [],
   "source": [
    "#submit(res_b, part=\"b\", day=12, year=2024)"
   ]
  },
  {
   "cell_type": "markdown",
   "metadata": {},
   "source": [
    "[home](#home)\n",
    "# Day 13\n",
    "[Claw Contraption](https://adventofcode.com/2024/day/13)  \n"
   ]
  },
  {
   "cell_type": "code",
   "execution_count": 2,
   "metadata": {},
   "outputs": [],
   "source": [
    "get_in_file(13,2024)"
   ]
  },
  {
   "cell_type": "code",
   "execution_count": 3,
   "metadata": {},
   "outputs": [],
   "source": [
    "test_d13 = \"\"\"\\\n",
    "Button A: X+94, Y+34\n",
    "Button B: X+22, Y+67\n",
    "Prize: X=8400, Y=5400\n",
    "\n",
    "Button A: X+26, Y+66\n",
    "Button B: X+67, Y+21\n",
    "Prize: X=12748, Y=12176\n",
    "\n",
    "Button A: X+17, Y+86\n",
    "Button B: X+84, Y+37\n",
    "Prize: X=7870, Y=6450\n",
    "\n",
    "Button A: X+69, Y+23\n",
    "Button B: X+27, Y+71\n",
    "Prize: X=18641, Y=10279\\\n",
    "\"\"\""
   ]
  },
  {
   "cell_type": "code",
   "execution_count": 5,
   "metadata": {},
   "outputs": [],
   "source": [
    "in_part_A = parse(13,parser=str,sep=\"\\n\\n\")\n",
    "#in_part_A = test_d13.split(\"\\n\\n\")\n"
   ]
  },
  {
   "cell_type": "code",
   "execution_count": 6,
   "metadata": {},
   "outputs": [],
   "source": [
    "#regex = r\"\"\"Button A: X\\+(?P<x1>\\d+), Y\\+(?P<y1>\\d+)\\nButton B: X\\+(?P<x2>\\d+), Y\\+(?P<y2>\\d+)\\nPrize: X=(?P<c1>\\d+), Y=(?P<c2>\\d+)\"\"\"\n",
    "regex = r\"\"\"Button A: X\\+(\\d+), Y\\+(\\d+)\\nButton B: X\\+(\\d+), Y\\+(\\d+)\\nPrize: X=(\\d+), Y=(\\d+)\"\"\""
   ]
  },
  {
   "cell_type": "code",
   "execution_count": null,
   "metadata": {},
   "outputs": [],
   "source": [
    "eq = mapt(lambda z: mapt(lambda y: int(y), z), [x[0] for x in [re.findall(regex, line) for line in in_part_A]])\n",
    "eq"
   ]
  },
  {
   "cell_type": "code",
   "execution_count": 40,
   "metadata": {},
   "outputs": [],
   "source": [
    "def solve_eq(t:Tuple):\n",
    "    \"\"\"\n",
    "        Button A: X+94, Y+34\n",
    "        Button B: X+22, Y+67\n",
    "        Prize: X=8400, Y=5400\n",
    "        \n",
    "        94*x + 22*y = 8400\n",
    "        34*y + 67*y = 5400\n",
    "        \n",
    "        a1*x + b1*y = c1\n",
    "        a2*x + b2*y = c2\n",
    "    \"\"\"\n",
    "    a1,a2,b1,b2,c1,c2 = t\n",
    "    D  = (a1*b2)-(a2*b1)\n",
    "    Dx = (c1*b2)-(c2*b1)  \n",
    "    Dy = (a1*c2)-(a2*c1)\n",
    "    if D == 0 :\n",
    "        return 0\n",
    "    x = Dx//D\n",
    "    y = Dy//D\n",
    "    #print(\">>\",x,y,c1,c2)\n",
    "    if ((a1*x)+(b1*y),(a2*x)+(b2*y)) == (c1,c2) :\n",
    "        return 3*x+y\n",
    "    else :\n",
    "        return 0\n",
    "     "
   ]
  },
  {
   "cell_type": "code",
   "execution_count": null,
   "metadata": {},
   "outputs": [],
   "source": [
    "res_a = sum(mapt(solve_eq, eq))\n",
    "res_a"
   ]
  },
  {
   "cell_type": "code",
   "execution_count": null,
   "metadata": {},
   "outputs": [],
   "source": [
    "submit(res_a, part=\"a\", day=13, year=2024)"
   ]
  },
  {
   "cell_type": "markdown",
   "metadata": {},
   "source": [
    "### Part 2"
   ]
  },
  {
   "cell_type": "code",
   "execution_count": 42,
   "metadata": {},
   "outputs": [],
   "source": [
    "def solve_eq_2(t:Tuple):\n",
    "    \"\"\"\n",
    "        Button A: X+94, Y+34\n",
    "        Button B: X+22, Y+67\n",
    "        Prize: X=(10**13)+8400, Y=(10**13)+5400\n",
    "        \n",
    "        94*x + 22*y = (10**13)+8400\n",
    "        34*y + 67*y = (10**13)+5400\n",
    "        \n",
    "        a1*x + b1*y = c1\n",
    "        a2*x + b2*y = c2\n",
    "    \"\"\"\n",
    "    a1,a2,b1,b2,c1,c2 = t\n",
    "    c1 += 10**13\n",
    "    c2 += 10**13\n",
    "    D  = (a1*b2)-(a2*b1)\n",
    "    Dx = (c1*b2)-(c2*b1)  \n",
    "    Dy = (a1*c2)-(a2*c1)\n",
    "    if D == 0 :\n",
    "        return 0\n",
    "    x = Dx//D\n",
    "    y = Dy//D\n",
    "    #print(\">>\",x,y,c1,c2)\n",
    "    if ((a1*x)+(b1*y),(a2*x)+(b2*y)) == (c1,c2) :\n",
    "        return 3*x+y\n",
    "    else :\n",
    "        return 0"
   ]
  },
  {
   "cell_type": "code",
   "execution_count": null,
   "metadata": {},
   "outputs": [],
   "source": [
    "res_b = sum(mapt(solve_eq_2, eq))\n",
    "res_b"
   ]
  },
  {
   "cell_type": "code",
   "execution_count": null,
   "metadata": {},
   "outputs": [],
   "source": [
    "submit(res_b, part=\"b\", day=13, year=2024)"
   ]
  },
  {
   "cell_type": "markdown",
   "metadata": {},
   "source": [
    "[home](#home)\n",
    "# Day 14\n",
    "[Restroom Redoubt](https://adventofcode.com/2024/day/14)  "
   ]
  },
  {
   "cell_type": "code",
   "execution_count": 2,
   "metadata": {},
   "outputs": [],
   "source": [
    "get_in_file(14,2024)"
   ]
  },
  {
   "cell_type": "code",
   "execution_count": 3,
   "metadata": {},
   "outputs": [],
   "source": [
    "test_d14 = \"\"\"\n",
    "p=0,4 v=3,-3\n",
    "p=6,3 v=-1,-3\n",
    "p=10,3 v=-1,2\n",
    "p=2,0 v=2,-1\n",
    "p=0,0 v=1,3\n",
    "p=3,0 v=-2,-2\n",
    "p=7,6 v=-1,-3\n",
    "p=3,0 v=-1,-2\n",
    "p=9,3 v=2,3\n",
    "p=7,3 v=-1,2\n",
    "p=2,4 v=2,-3\n",
    "p=9,5 v=-3,-3\n",
    "\"\"\""
   ]
  },
  {
   "cell_type": "code",
   "execution_count": 5,
   "metadata": {},
   "outputs": [
    {
     "data": {
      "text/plain": [
       "('p=26,88 v=80,92', 'p=2,90 v=77,99', 'p=43,54 v=-92,-36', 'p=96,14 v=-15,13', 'p=33,54 v=97,-64', 'p=94,53 v=55,67', 'p=45,28 v=79,6', 'p=64,90 v=-49,54', 'p=71,41 v=-9,67', 'p=15,37 v=58,-14', 'p=43,53 v=9,8', 'p=57,88 v=43,-55', 'p=37,96 v=-30,-69', 'p=35,54 v=-57,22', 'p=56,35 v=23,53', 'p=84,66 v=-94,75', 'p=15,30 v=-43,21', 'p=10,97 v=24,-99', 'p=88,63 v=21,-54', 'p=77,56 v=47,75', 'p=83,30 v=38,-38', 'p=95,97 v=-2,-91', 'p=7,32 v=-1,-42', 'p=62,84 v=-66,69', 'p=79,66 v=-48,-34', 'p=54,39 v=-12,21', 'p=87,9 v=-6,-39', 'p=66,101 v=-57,-87', 'p=47,83 v=-48,69', 'p=48,24 v=2,28', 'p=71,48 v=-14,-73', 'p=25,36 v=40,-66', 'p=10,12 v=-29,5', 'p=44,10 v=-79,-17', 'p=9,65 v=-7,-65', 'p=12,83 v=77,-85', 'p=70,38 v=-69,-19', 'p=60,38 v=-31,-15', 'p=98,20 v=7,-38', 'p=38,73 v=-61,33', 'p=34,32 v=-21,-96', 'p=48,44 v=-19,-34', 'p=26,49 v=-50,29', 'p=79,84 v=82,-93', 'p=50,43 v=41,57', 'p=9,76 v=-19,-80', 'p=81,20 v=25,36', 'p=18,19 v=45,-2', 'p=36,85 v=-34,89', 'p=38,16 v=63,75', 'p=45,31 v=-18,-78', 'p=7,42 v=-16,66', 'p=55,57 v=-77,-11', 'p=30,28 v=-43,-23', 'p=57,58 v=43,-49', 'p=36,57 v=97,-58', 'p=7,47 v=-64,-14', 'p=73,33 v=26,-48', 'p=52,48 v=7,-48', 'p=42,66 v=23,75', 'p=77,8 v=-28,-82', 'p=52,99 v=44,4', 'p=27,15 v=37,-3', 'p=72,57 v=65,53', 'p=59,85 v=69,-54', 'p=58,50 v=57,-95', 'p=54,73 v=-66,-19', 'p=54,64 v=31,-95', 'p=91,33 v=53,-43', 'p=67,2 v=-5,34', 'p=58,65 v=-31,38', 'p=65,93 v=62,17', 'p=68,59 v=-44,-42', 'p=9,27 v=-60,-99', 'p=4,73 v=77,-87', 'p=88,60 v=18,-20', 'p=82,9 v=-96,-9', 'p=99,39 v=-11,-24', 'p=23,18 v=-56,28', 'p=63,101 v=66,-48', 'p=4,63 v=-46,97', 'p=41,80 v=31,-49', 'p=21,25 v=45,36', 'p=89,43 v=-2,63', 'p=37,78 v=11,86', 'p=37,100 v=32,93', 'p=77,33 v=-94,29', 'p=25,34 v=-12,-81', 'p=31,87 v=-30,70', 'p=40,37 v=62,7', 'p=16,102 v=-82,4', 'p=98,45 v=-8,95', 'p=60,23 v=-53,-60', 'p=12,83 v=-8,19', 'p=49,8 v=-70,-39', 'p=38,27 v=25,-49', 'p=95,25 v=-59,28', 'p=42,56 v=18,-51', 'p=5,28 v=24,-73', 'p=92,73 v=7,33', 'p=41,27 v=88,80', 'p=78,16 v=18,3', 'p=11,80 v=99,62', 'p=100,56 v=46,98', 'p=97,47 v=20,8', 'p=27,6 v=-78,78', 'p=45,12 v=-48,-98', 'p=41,29 v=-44,-46', 'p=84,69 v=-76,-94', 'p=89,4 v=-70,-52', 'p=40,62 v=-60,72', 'p=62,26 v=40,-48', 'p=21,55 v=23,-87', 'p=80,45 v=-49,-82', 'p=28,100 v=23,49', 'p=67,38 v=6,-2', 'p=66,40 v=17,-44', 'p=72,32 v=-85,-28', 'p=53,60 v=35,-14', 'p=11,14 v=45,72', 'p=86,13 v=-36,49', 'p=65,88 v=-58,3', 'p=97,79 v=72,17', 'p=51,55 v=27,24', 'p=2,83 v=33,91', 'p=78,76 v=-31,-89', 'p=83,12 v=86,49', 'p=56,93 v=13,19', 'p=20,50 v=-38,45', 'p=46,6 v=58,17', 'p=48,40 v=66,-8', 'p=40,26 v=40,14', 'p=71,21 v=92,-59', 'p=5,67 v=59,-27', 'p=65,53 v=-62,44', 'p=14,83 v=69,75', 'p=95,35 v=-37,58', 'p=36,71 v=-57,-43', 'p=68,58 v=-97,37', 'p=45,75 v=66,61', 'p=25,22 v=-75,-66', 'p=38,8 v=-17,-83', 'p=32,8 v=-8,71', 'p=85,78 v=-44,54', 'p=48,64 v=53,-65', 'p=97,82 v=77,-78', 'p=10,32 v=99,-27', 'p=84,39 v=8,-21', 'p=83,58 v=74,75', 'p=67,65 v=48,-6', 'p=78,43 v=25,59', 'p=22,83 v=23,19', 'p=36,45 v=-65,-95', 'p=95,51 v=-32,-59', 'p=66,5 v=74,78', 'p=76,27 v=-42,52', 'p=99,64 v=75,-46', 'p=51,102 v=44,-25', 'p=97,14 v=-41,78', 'p=78,56 v=-76,1', 'p=77,12 v=-1,-97', 'p=58,1 v=13,34', 'p=5,28 v=68,-8', 'p=30,6 v=31,-83', 'p=11,91 v=78,-82', 'p=15,39 v=78,-26', 'p=32,58 v=84,-36', 'p=16,55 v=-36,75', 'p=100,96 v=16,42', 'p=89,28 v=-6,87', 'p=48,19 v=-57,21', 'p=42,50 v=-31,15', 'p=54,11 v=92,-24', 'p=77,98 v=-9,-33', 'p=71,36 v=2,60', 'p=18,44 v=-55,-66', 'p=26,16 v=-62,79', 'p=35,80 v=93,-41', 'p=90,30 v=29,-96', 'p=44,59 v=-26,-4', 'p=87,52 v=-43,89', 'p=91,39 v=3,-52', 'p=35,52 v=49,8', 'p=27,60 v=-12,-35', 'p=7,18 v=-53,-14', 'p=65,67 v=-32,91', 'p=13,6 v=19,93', 'p=94,28 v=35,33', 'p=22,29 v=-38,-78', 'p=91,59 v=26,-39', 'p=84,43 v=-76,67', 'p=29,102 v=-8,-99', 'p=84,92 v=-46,-36', 'p=56,10 v=-88,20', 'p=88,81 v=16,63', 'p=19,20 v=-41,79', 'p=43,54 v=48,59', 'p=11,0 v=28,-61', 'p=4,40 v=-94,-82', 'p=38,101 v=-18,55', 'p=88,18 v=-2,8', 'p=13,19 v=28,21', 'p=29,11 v=6,-69', 'p=76,91 v=16,49', 'p=74,29 v=78,74', 'p=45,53 v=58,-80', 'p=86,11 v=94,1', 'p=65,59 v=-14,-6', 'p=60,62 v=98,64', 'p=57,3 v=48,-32', 'p=46,48 v=83,15', 'p=54,78 v=58,-63', 'p=91,35 v=-19,-74', 'p=36,83 v=55,-11', 'p=67,53 v=63,-20', 'p=20,86 v=-25,63', 'p=37,7 v=-30,79', 'p=42,7 v=75,-54', 'p=76,73 v=14,1', 'p=34,57 v=1,-21', 'p=31,76 v=79,-44', 'p=53,93 v=26,35', 'p=60,65 v=-97,-42', 'p=99,102 v=-46,-55', 'p=65,1 v=-32,-25', 'p=86,14 v=60,-61', 'p=9,95 v=85,-39', 'p=63,86 v=-95,95', 'p=4,93 v=94,92', 'p=7,81 v=99,-40', 'p=28,0 v=28,5', 'p=52,41 v=-2,7', 'p=14,64 v=-16,-57', 'p=22,78 v=-56,54', 'p=44,98 v=-88,45', 'p=52,72 v=22,-79', 'p=63,35 v=13,-52', 'p=62,64 v=-62,39', 'p=10,53 v=67,31', 'p=16,100 v=-69,-63', 'p=17,47 v=92,-56', 'p=86,22 v=69,94', 'p=49,37 v=-79,95', 'p=92,96 v=-50,48', 'p=54,5 v=-48,70', 'p=67,12 v=-76,34', 'p=10,10 v=73,34', 'p=100,4 v=6,72', 'p=1,32 v=-90,37', 'p=33,22 v=-8,14', 'p=10,96 v=94,-9', 'p=84,95 v=-19,-25', 'p=42,27 v=66,-60', 'p=67,91 v=-76,11', 'p=21,23 v=-95,50', 'p=53,24 v=-57,-97', 'p=19,1 v=47,-62', 'p=84,59 v=-5,-2', 'p=10,35 v=37,-88', 'p=56,76 v=-92,-33', 'p=92,83 v=16,62', 'p=6,97 v=72,11', 'p=65,29 v=4,-82', 'p=37,52 v=4,29', 'p=78,53 v=39,74', 'p=100,50 v=83,-3', 'p=43,48 v=-61,8', 'p=78,102 v=-22,-99', 'p=89,73 v=25,2', 'p=91,86 v=7,48', 'p=88,37 v=-45,20', 'p=80,91 v=81,32', 'p=6,6 v=24,-83', 'p=86,57 v=3,-14', 'p=16,12 v=32,-76', 'p=46,53 v=-67,47', 'p=79,11 v=-54,64', 'p=87,99 v=-35,-7', 'p=8,34 v=-37,-75', 'p=73,61 v=-70,13', 'p=38,2 v=-84,40', 'p=92,23 v=9,25', 'p=35,60 v=-25,31', 'p=72,9 v=16,27', 'p=9,33 v=-7,-31', 'p=98,17 v=50,28', 'p=62,15 v=34,-54', 'p=72,4 v=21,86', 'p=46,53 v=-39,61', 'p=80,58 v=84,-86', 'p=83,88 v=-86,29', 'p=2,38 v=62,-38', 'p=70,61 v=23,-97', 'p=100,77 v=-64,-72', 'p=27,45 v=58,-14', 'p=25,3 v=40,72', 'p=73,102 v=-74,34', 'p=80,63 v=-58,-56', 'p=50,52 v=53,-7', 'p=33,82 v=19,99', 'p=28,15 v=-52,57', 'p=66,43 v=-54,-6', 'p=44,40 v=-56,63', 'p=31,12 v=36,65', 'p=3,41 v=-99,52', 'p=35,87 v=-4,-86', 'p=79,84 v=-67,99', 'p=88,22 v=16,-2', 'p=71,85 v=92,70', 'p=96,60 v=76,98', 'p=38,48 v=14,-7', 'p=86,15 v=-33,-75', 'p=75,57 v=66,-85', 'p=85,68 v=-19,-27', 'p=46,95 v=75,48', 'p=14,71 v=32,1', 'p=74,71 v=-54,-95', 'p=11,12 v=-64,13', 'p=17,37 v=81,53', 'p=2,15 v=23,-3', 'p=9,75 v=-39,47', 'p=46,70 v=44,-34', 'p=86,48 v=-15,-98', 'p=32,45 v=62,81', 'p=22,3 v=59,94', 'p=24,81 v=-82,25', 'p=85,11 v=-3,-32', 'p=96,86 v=20,39', 'p=43,2 v=62,42', 'p=45,98 v=-26,-54', 'p=51,16 v=92,-53', 'p=77,13 v=-45,-61', 'p=58,54 v=-44,30', 'p=52,3 v=-49,-33', 'p=28,76 v=-12,-64', 'p=45,38 v=-53,34', 'p=11,28 v=85,-67', 'p=29,88 v=90,4', 'p=44,102 v=-21,17', 'p=15,37 v=94,66', 'p=73,32 v=30,80', 'p=65,86 v=-19,-21', 'p=34,64 v=-26,16', 'p=60,2 v=-18,78', 'p=39,0 v=-34,94', 'p=28,15 v=32,-93', 'p=8,100 v=98,40', 'p=62,62 v=48,60', 'p=37,44 v=25,10', 'p=39,72 v=-96,91', 'p=84,33 v=93,18', 'p=81,44 v=69,52', 'p=37,22 v=89,-48', 'p=0,42 v=-63,-36', 'p=35,42 v=-17,-22', 'p=90,39 v=-76,-30', 'p=55,74 v=-22,-92', 'p=1,55 v=-64,-86', 'p=60,23 v=-9,-97', 'p=21,4 v=-91,64', 'p=90,72 v=56,95', 'p=35,41 v=58,22', 'p=57,81 v=-9,-96', 'p=11,102 v=-73,-17', 'p=45,58 v=-43,52', 'p=43,25 v=48,-37', 'p=78,12 v=12,42', 'p=48,43 v=79,-29', 'p=31,100 v=-30,-54', 'p=24,63 v=-61,28', 'p=44,67 v=-35,-94', 'p=100,49 v=-98,-52', 'p=29,54 v=41,-64', 'p=29,33 v=50,44', 'p=22,40 v=-47,8', 'p=56,67 v=-5,75', 'p=78,95 v=78,-48', 'p=58,72 v=-48,-65', 'p=6,94 v=90,9', 'p=76,58 v=12,-80', 'p=68,62 v=-58,61', 'p=62,85 v=57,91', 'p=16,88 v=94,-5', 'p=72,0 v=-74,-91', 'p=0,75 v=11,-93', 'p=48,42 v=92,-6', 'p=24,102 v=68,-78', 'p=21,86 v=-56,25', 'p=3,63 v=-11,-43', 'p=36,102 v=14,-4', 'p=56,52 v=4,-58', 'p=5,55 v=-1,84', 'p=92,1 v=-94,-84', 'p=27,50 v=54,-88', 'p=80,91 v=-76,33', 'p=50,19 v=9,87', 'p=69,37 v=-58,-8', 'p=34,63 v=14,61', 'p=17,52 v=19,37', 'p=93,65 v=-15,46', 'p=37,15 v=-13,56', 'p=100,63 v=-68,17', 'p=41,81 v=97,-92', 'p=62,17 v=-72,13', 'p=0,16 v=-77,-31', 'p=14,17 v=41,28', 'p=27,34 v=58,-74', 'p=35,40 v=14,21', 'p=8,88 v=-24,98', 'p=35,28 v=-94,46', 'p=93,42 v=-59,22', 'p=83,26 v=-11,1', 'p=2,22 v=-42,65', 'p=35,102 v=-25,-4', 'p=21,22 v=41,-81', 'p=35,0 v=5,41', 'p=70,99 v=74,34', 'p=75,28 v=4,81', 'p=11,91 v=-56,33', 'p=16,52 v=65,-38', 'p=55,14 v=-66,78', 'p=39,68 v=-71,7', 'p=25,53 v=-56,-29', 'p=70,42 v=-33,-35', 'p=40,81 v=-70,47', 'p=15,78 v=-82,26', 'p=85,97 v=51,-33', 'p=78,72 v=43,-48', 'p=92,60 v=-77,10', 'p=55,65 v=-14,-79', 'p=46,45 v=92,-72', 'p=15,54 v=-3,-51', 'p=65,2 v=-80,-70', 'p=73,30 v=78,-74', 'p=23,12 v=-64,-98', 'p=85,3 v=-68,-11', 'p=30,69 v=-21,69', 'p=57,38 v=-18,37', 'p=11,88 v=-82,-19', 'p=55,101 v=-54,44', 'p=68,56 v=57,-65', 'p=4,81 v=-12,92', 'p=43,70 v=62,-27', 'p=42,25 v=-31,13', 'p=0,61 v=-16,-64', 'p=45,25 v=31,-82', 'p=23,75 v=-47,92', 'p=57,33 v=-30,25', 'p=0,34 v=-94,-36', 'p=78,57 v=34,-43', 'p=67,99 v=-22,4', 'p=3,46 v=-99,8', 'p=44,28 v=80,-66', 'p=84,60 v=72,18', 'p=51,66 v=-88,67', 'p=38,7 v=-61,-47', 'p=34,23 v=40,-88', 'p=66,46 v=83,-81', 'p=73,98 v=51,33', 'p=37,56 v=62,81', 'p=30,98 v=28,58', 'p=71,99 v=38,62', 'p=64,7 v=52,86', 'p=26,53 v=-12,89', 'p=87,50 v=43,-29', 'p=65,101 v=87,-96', 'p=34,52 v=-21,66', 'p=14,84 v=-60,3', 'p=4,7 v=-50,49', 'p=45,73 v=-17,-64', 'p=18,92 v=-29,40', 'p=83,54 v=2,-64', 'p=95,26 v=60,50', 'p=86,80 v=95,25', 'p=5,52 v=-25,15', 'p=99,98 v=-46,77', 'p=81,52 v=25,9', 'p=53,89 v=-54,-83', 'p=60,36 v=92,73', 'p=78,27 v=7,15', 'p=55,51 v=-63,-74', 'p=5,85 v=-56,-97', 'p=26,17 v=6,46', 'p=37,36 v=-67,51', 'p=69,52 v=96,67', 'p=24,86 v=-11,35', 'p=44,1 v=-21,26', 'p=55,95 v=61,-33', 'p=75,101 v=65,-3', 'p=16,17 v=-29,29', 'p=80,69 v=12,68', 'p=78,61 v=-11,-7', 'p=99,99 v=11,-62', 'p=41,47 v=47,-86', 'p=52,81 v=31,54', 'p=86,60 v=-37,16', 'p=15,89 v=-43,-18', 'p=72,99 v=12,26', 'p=42,15 v=-13,-47', 'p=37,79 v=-41,70')"
      ]
     },
     "execution_count": 5,
     "metadata": {},
     "output_type": "execute_result"
    }
   ],
   "source": [
    "#in_part_A = test_d14.strip().split(\"\\n\")\n",
    "#maxX,maxY = 11,7\n",
    "in_part_A = Input(14)\n",
    "maxX,maxY = 101,103\n",
    "in_part_A"
   ]
  },
  {
   "cell_type": "code",
   "execution_count": 6,
   "metadata": {},
   "outputs": [],
   "source": [
    "regex = r\"\"\"p=(-?\\d+),(-?\\d+) v=(-?\\d+),(-?\\d+)\"\"\"\n",
    "\n",
    "class Robot(namedtuple('Robot','px py vx vy')):\n",
    "    def __repr__(self) -> str:\n",
    "        return f'<Robot{tuple.__repr__(self)}>'\n",
    "    def move(self,sec:int,maxx:int,maxy:int):\n",
    "        # Return a new instance of the named tuple replacing specified fields with new values\n",
    "        return self._replace(px=(self.px+(self.vx*sec))%maxx ,py=(self.py+(self.vy*sec))%maxy)\n",
    "    def quad(self,maxx:int,maxy:int):\n",
    "        x1 = ((maxx-1)/2)-1\n",
    "        x2 = ((maxx-1)/2)+1\n",
    "        y1 = ((maxy-1)/2)-1\n",
    "        y2 = ((maxy-1)/2)+1\n",
    "        if self.px <= x1 and self.py <= y1 :\n",
    "            return 1\n",
    "        elif self.px >= x2 and self.py <= y1 :\n",
    "            return 2\n",
    "        elif self.px <= x1 and self.py >= y2 :\n",
    "            return 3\n",
    "        elif self.px >= x2 and self.py >= y2 :\n",
    "            return 4\n",
    "        else :\n",
    "            return None\n",
    "        "
   ]
  },
  {
   "cell_type": "code",
   "execution_count": 7,
   "metadata": {},
   "outputs": [
    {
     "data": {
      "text/plain": [
       "((26, 88, 80, 92), (2, 90, 77, 99), (43, 54, -92, -36), (96, 14, -15, 13), (33, 54, 97, -64), (94, 53, 55, 67), (45, 28, 79, 6), (64, 90, -49, 54), (71, 41, -9, 67), (15, 37, 58, -14), (43, 53, 9, 8), (57, 88, 43, -55), (37, 96, -30, -69), (35, 54, -57, 22), (56, 35, 23, 53), (84, 66, -94, 75), (15, 30, -43, 21), (10, 97, 24, -99), (88, 63, 21, -54), (77, 56, 47, 75), (83, 30, 38, -38), (95, 97, -2, -91), (7, 32, -1, -42), (62, 84, -66, 69), (79, 66, -48, -34), (54, 39, -12, 21), (87, 9, -6, -39), (66, 101, -57, -87), (47, 83, -48, 69), (48, 24, 2, 28), (71, 48, -14, -73), (25, 36, 40, -66), (10, 12, -29, 5), (44, 10, -79, -17), (9, 65, -7, -65), (12, 83, 77, -85), (70, 38, -69, -19), (60, 38, -31, -15), (98, 20, 7, -38), (38, 73, -61, 33), (34, 32, -21, -96), (48, 44, -19, -34), (26, 49, -50, 29), (79, 84, 82, -93), (50, 43, 41, 57), (9, 76, -19, -80), (81, 20, 25, 36), (18, 19, 45, -2), (36, 85, -34, 89), (38, 16, 63, 75), (45, 31, -18, -78), (7, 42, -16, 66), (55, 57, -77, -11), (30, 28, -43, -23), (57, 58, 43, -49), (36, 57, 97, -58), (7, 47, -64, -14), (73, 33, 26, -48), (52, 48, 7, -48), (42, 66, 23, 75), (77, 8, -28, -82), (52, 99, 44, 4), (27, 15, 37, -3), (72, 57, 65, 53), (59, 85, 69, -54), (58, 50, 57, -95), (54, 73, -66, -19), (54, 64, 31, -95), (91, 33, 53, -43), (67, 2, -5, 34), (58, 65, -31, 38), (65, 93, 62, 17), (68, 59, -44, -42), (9, 27, -60, -99), (4, 73, 77, -87), (88, 60, 18, -20), (82, 9, -96, -9), (99, 39, -11, -24), (23, 18, -56, 28), (63, 101, 66, -48), (4, 63, -46, 97), (41, 80, 31, -49), (21, 25, 45, 36), (89, 43, -2, 63), (37, 78, 11, 86), (37, 100, 32, 93), (77, 33, -94, 29), (25, 34, -12, -81), (31, 87, -30, 70), (40, 37, 62, 7), (16, 102, -82, 4), (98, 45, -8, 95), (60, 23, -53, -60), (12, 83, -8, 19), (49, 8, -70, -39), (38, 27, 25, -49), (95, 25, -59, 28), (42, 56, 18, -51), (5, 28, 24, -73), (92, 73, 7, 33), (41, 27, 88, 80), (78, 16, 18, 3), (11, 80, 99, 62), (100, 56, 46, 98), (97, 47, 20, 8), (27, 6, -78, 78), (45, 12, -48, -98), (41, 29, -44, -46), (84, 69, -76, -94), (89, 4, -70, -52), (40, 62, -60, 72), (62, 26, 40, -48), (21, 55, 23, -87), (80, 45, -49, -82), (28, 100, 23, 49), (67, 38, 6, -2), (66, 40, 17, -44), (72, 32, -85, -28), (53, 60, 35, -14), (11, 14, 45, 72), (86, 13, -36, 49), (65, 88, -58, 3), (97, 79, 72, 17), (51, 55, 27, 24), (2, 83, 33, 91), (78, 76, -31, -89), (83, 12, 86, 49), (56, 93, 13, 19), (20, 50, -38, 45), (46, 6, 58, 17), (48, 40, 66, -8), (40, 26, 40, 14), (71, 21, 92, -59), (5, 67, 59, -27), (65, 53, -62, 44), (14, 83, 69, 75), (95, 35, -37, 58), (36, 71, -57, -43), (68, 58, -97, 37), (45, 75, 66, 61), (25, 22, -75, -66), (38, 8, -17, -83), (32, 8, -8, 71), (85, 78, -44, 54), (48, 64, 53, -65), (97, 82, 77, -78), (10, 32, 99, -27), (84, 39, 8, -21), (83, 58, 74, 75), (67, 65, 48, -6), (78, 43, 25, 59), (22, 83, 23, 19), (36, 45, -65, -95), (95, 51, -32, -59), (66, 5, 74, 78), (76, 27, -42, 52), (99, 64, 75, -46), (51, 102, 44, -25), (97, 14, -41, 78), (78, 56, -76, 1), (77, 12, -1, -97), (58, 1, 13, 34), (5, 28, 68, -8), (30, 6, 31, -83), (11, 91, 78, -82), (15, 39, 78, -26), (32, 58, 84, -36), (16, 55, -36, 75), (100, 96, 16, 42), (89, 28, -6, 87), (48, 19, -57, 21), (42, 50, -31, 15), (54, 11, 92, -24), (77, 98, -9, -33), (71, 36, 2, 60), (18, 44, -55, -66), (26, 16, -62, 79), (35, 80, 93, -41), (90, 30, 29, -96), (44, 59, -26, -4), (87, 52, -43, 89), (91, 39, 3, -52), (35, 52, 49, 8), (27, 60, -12, -35), (7, 18, -53, -14), (65, 67, -32, 91), (13, 6, 19, 93), (94, 28, 35, 33), (22, 29, -38, -78), (91, 59, 26, -39), (84, 43, -76, 67), (29, 102, -8, -99), (84, 92, -46, -36), (56, 10, -88, 20), (88, 81, 16, 63), (19, 20, -41, 79), (43, 54, 48, 59), (11, 0, 28, -61), (4, 40, -94, -82), (38, 101, -18, 55), (88, 18, -2, 8), (13, 19, 28, 21), (29, 11, 6, -69), (76, 91, 16, 49), (74, 29, 78, 74), (45, 53, 58, -80), (86, 11, 94, 1), (65, 59, -14, -6), (60, 62, 98, 64), (57, 3, 48, -32), (46, 48, 83, 15), (54, 78, 58, -63), (91, 35, -19, -74), (36, 83, 55, -11), (67, 53, 63, -20), (20, 86, -25, 63), (37, 7, -30, 79), (42, 7, 75, -54), (76, 73, 14, 1), (34, 57, 1, -21), (31, 76, 79, -44), (53, 93, 26, 35), (60, 65, -97, -42), (99, 102, -46, -55), (65, 1, -32, -25), (86, 14, 60, -61), (9, 95, 85, -39), (63, 86, -95, 95), (4, 93, 94, 92), (7, 81, 99, -40), (28, 0, 28, 5), (52, 41, -2, 7), (14, 64, -16, -57), (22, 78, -56, 54), (44, 98, -88, 45), (52, 72, 22, -79), (63, 35, 13, -52), (62, 64, -62, 39), (10, 53, 67, 31), (16, 100, -69, -63), (17, 47, 92, -56), (86, 22, 69, 94), (49, 37, -79, 95), (92, 96, -50, 48), (54, 5, -48, 70), (67, 12, -76, 34), (10, 10, 73, 34), (100, 4, 6, 72), (1, 32, -90, 37), (33, 22, -8, 14), (10, 96, 94, -9), (84, 95, -19, -25), (42, 27, 66, -60), (67, 91, -76, 11), (21, 23, -95, 50), (53, 24, -57, -97), (19, 1, 47, -62), (84, 59, -5, -2), (10, 35, 37, -88), (56, 76, -92, -33), (92, 83, 16, 62), (6, 97, 72, 11), (65, 29, 4, -82), (37, 52, 4, 29), (78, 53, 39, 74), (100, 50, 83, -3), (43, 48, -61, 8), (78, 102, -22, -99), (89, 73, 25, 2), (91, 86, 7, 48), (88, 37, -45, 20), (80, 91, 81, 32), (6, 6, 24, -83), (86, 57, 3, -14), (16, 12, 32, -76), (46, 53, -67, 47), (79, 11, -54, 64), (87, 99, -35, -7), (8, 34, -37, -75), (73, 61, -70, 13), (38, 2, -84, 40), (92, 23, 9, 25), (35, 60, -25, 31), (72, 9, 16, 27), (9, 33, -7, -31), (98, 17, 50, 28), (62, 15, 34, -54), (72, 4, 21, 86), (46, 53, -39, 61), (80, 58, 84, -86), (83, 88, -86, 29), (2, 38, 62, -38), (70, 61, 23, -97), (100, 77, -64, -72), (27, 45, 58, -14), (25, 3, 40, 72), (73, 102, -74, 34), (80, 63, -58, -56), (50, 52, 53, -7), (33, 82, 19, 99), (28, 15, -52, 57), (66, 43, -54, -6), (44, 40, -56, 63), (31, 12, 36, 65), (3, 41, -99, 52), (35, 87, -4, -86), (79, 84, -67, 99), (88, 22, 16, -2), (71, 85, 92, 70), (96, 60, 76, 98), (38, 48, 14, -7), (86, 15, -33, -75), (75, 57, 66, -85), (85, 68, -19, -27), (46, 95, 75, 48), (14, 71, 32, 1), (74, 71, -54, -95), (11, 12, -64, 13), (17, 37, 81, 53), (2, 15, 23, -3), (9, 75, -39, 47), (46, 70, 44, -34), (86, 48, -15, -98), (32, 45, 62, 81), (22, 3, 59, 94), (24, 81, -82, 25), (85, 11, -3, -32), (96, 86, 20, 39), (43, 2, 62, 42), (45, 98, -26, -54), (51, 16, 92, -53), (77, 13, -45, -61), (58, 54, -44, 30), (52, 3, -49, -33), (28, 76, -12, -64), (45, 38, -53, 34), (11, 28, 85, -67), (29, 88, 90, 4), (44, 102, -21, 17), (15, 37, 94, 66), (73, 32, 30, 80), (65, 86, -19, -21), (34, 64, -26, 16), (60, 2, -18, 78), (39, 0, -34, 94), (28, 15, 32, -93), (8, 100, 98, 40), (62, 62, 48, 60), (37, 44, 25, 10), (39, 72, -96, 91), (84, 33, 93, 18), (81, 44, 69, 52), (37, 22, 89, -48), (0, 42, -63, -36), (35, 42, -17, -22), (90, 39, -76, -30), (55, 74, -22, -92), (1, 55, -64, -86), (60, 23, -9, -97), (21, 4, -91, 64), (90, 72, 56, 95), (35, 41, 58, 22), (57, 81, -9, -96), (11, 102, -73, -17), (45, 58, -43, 52), (43, 25, 48, -37), (78, 12, 12, 42), (48, 43, 79, -29), (31, 100, -30, -54), (24, 63, -61, 28), (44, 67, -35, -94), (100, 49, -98, -52), (29, 54, 41, -64), (29, 33, 50, 44), (22, 40, -47, 8), (56, 67, -5, 75), (78, 95, 78, -48), (58, 72, -48, -65), (6, 94, 90, 9), (76, 58, 12, -80), (68, 62, -58, 61), (62, 85, 57, 91), (16, 88, 94, -5), (72, 0, -74, -91), (0, 75, 11, -93), (48, 42, 92, -6), (24, 102, 68, -78), (21, 86, -56, 25), (3, 63, -11, -43), (36, 102, 14, -4), (56, 52, 4, -58), (5, 55, -1, 84), (92, 1, -94, -84), (27, 50, 54, -88), (80, 91, -76, 33), (50, 19, 9, 87), (69, 37, -58, -8), (34, 63, 14, 61), (17, 52, 19, 37), (93, 65, -15, 46), (37, 15, -13, 56), (100, 63, -68, 17), (41, 81, 97, -92), (62, 17, -72, 13), (0, 16, -77, -31), (14, 17, 41, 28), (27, 34, 58, -74), (35, 40, 14, 21), (8, 88, -24, 98), (35, 28, -94, 46), (93, 42, -59, 22), (83, 26, -11, 1), (2, 22, -42, 65), (35, 102, -25, -4), (21, 22, 41, -81), (35, 0, 5, 41), (70, 99, 74, 34), (75, 28, 4, 81), (11, 91, -56, 33), (16, 52, 65, -38), (55, 14, -66, 78), (39, 68, -71, 7), (25, 53, -56, -29), (70, 42, -33, -35), (40, 81, -70, 47), (15, 78, -82, 26), (85, 97, 51, -33), (78, 72, 43, -48), (92, 60, -77, 10), (55, 65, -14, -79), (46, 45, 92, -72), (15, 54, -3, -51), (65, 2, -80, -70), (73, 30, 78, -74), (23, 12, -64, -98), (85, 3, -68, -11), (30, 69, -21, 69), (57, 38, -18, 37), (11, 88, -82, -19), (55, 101, -54, 44), (68, 56, 57, -65), (4, 81, -12, 92), (43, 70, 62, -27), (42, 25, -31, 13), (0, 61, -16, -64), (45, 25, 31, -82), (23, 75, -47, 92), (57, 33, -30, 25), (0, 34, -94, -36), (78, 57, 34, -43), (67, 99, -22, 4), (3, 46, -99, 8), (44, 28, 80, -66), (84, 60, 72, 18), (51, 66, -88, 67), (38, 7, -61, -47), (34, 23, 40, -88), (66, 46, 83, -81), (73, 98, 51, 33), (37, 56, 62, 81), (30, 98, 28, 58), (71, 99, 38, 62), (64, 7, 52, 86), (26, 53, -12, 89), (87, 50, 43, -29), (65, 101, 87, -96), (34, 52, -21, 66), (14, 84, -60, 3), (4, 7, -50, 49), (45, 73, -17, -64), (18, 92, -29, 40), (83, 54, 2, -64), (95, 26, 60, 50), (86, 80, 95, 25), (5, 52, -25, 15), (99, 98, -46, 77), (81, 52, 25, 9), (53, 89, -54, -83), (60, 36, 92, 73), (78, 27, 7, 15), (55, 51, -63, -74), (5, 85, -56, -97), (26, 17, 6, 46), (37, 36, -67, 51), (69, 52, 96, 67), (24, 86, -11, 35), (44, 1, -21, 26), (55, 95, 61, -33), (75, 101, 65, -3), (16, 17, -29, 29), (80, 69, 12, 68), (78, 61, -11, -7), (99, 99, 11, -62), (41, 47, 47, -86), (52, 81, 31, 54), (86, 60, -37, 16), (15, 89, -43, -18), (72, 99, 12, 26), (42, 15, -13, -47), (37, 79, -41, 70))"
      ]
     },
     "execution_count": 7,
     "metadata": {},
     "output_type": "execute_result"
    }
   ],
   "source": [
    "pos_vel = mapt(lambda z: mapt(lambda y: int(y), z), [x[0] for x in [re.findall(regex, line) for line in in_part_A]])\n",
    "pos_vel"
   ]
  },
  {
   "cell_type": "code",
   "execution_count": 8,
   "metadata": {},
   "outputs": [
    {
     "data": {
      "text/plain": [
       "500"
      ]
     },
     "execution_count": 8,
     "metadata": {},
     "output_type": "execute_result"
    }
   ],
   "source": [
    "robots = [Robot(*t) for t in pos_vel]\n",
    "len(robots)"
   ]
  },
  {
   "cell_type": "code",
   "execution_count": 9,
   "metadata": {},
   "outputs": [
    {
     "data": {
      "text/plain": [
       "493"
      ]
     },
     "execution_count": 9,
     "metadata": {},
     "output_type": "execute_result"
    }
   ],
   "source": [
    "robots_cnt = Counter([r.quad(maxX,maxY) for r in [r.move(100,maxX,maxY) for r in robots] if r.quad(maxX,maxY)])\n",
    "robots_cnt.total()"
   ]
  },
  {
   "cell_type": "code",
   "execution_count": null,
   "metadata": {},
   "outputs": [],
   "source": [
    "res_a = math.prod(robots_cnt.values())\n",
    "res_a"
   ]
  },
  {
   "cell_type": "code",
   "execution_count": null,
   "metadata": {},
   "outputs": [],
   "source": [
    "submit(res_a, part=\"a\", day=14, year=2024)"
   ]
  },
  {
   "cell_type": "markdown",
   "metadata": {},
   "source": [
    "### Part 2  \n",
    "\n",
    "Easter egg: very rarely, most of the robots should arrange themselves into a picture of a Christmas tree  \n",
    "\n",
    "hint : All coordinates being mod 103 in one and mod 101 in another direction means that you're guaranteed to loop back to the start after lcm(101, 103) = 103 * 101 iterations."
   ]
  },
  {
   "cell_type": "code",
   "execution_count": 10,
   "metadata": {},
   "outputs": [],
   "source": [
    "from PIL import Image\n",
    "\n",
    "def move_robots(i,_robots):\n",
    "    return [r.move(i,maxX,maxY) for r in _robots]\n",
    "\n",
    "def robots_mat(_robots):\n",
    "    Z = np.zeros([maxY, maxX], dtype=np.uint8)\n",
    "    for r in _robots :\n",
    "        Z[(r.py,r.px)] += 1\n",
    "    return Z    \n",
    "\n",
    "def robots_img(_robots):\n",
    "    Z = np.zeros([maxY, maxX, 3], dtype=np.uint8)\n",
    "    for r in _robots :\n",
    "        Z[(r.py,r.px)] = 255\n",
    "    return Image.fromarray(Z)\n"
   ]
  },
  {
   "cell_type": "code",
   "execution_count": 17,
   "metadata": {},
   "outputs": [
    {
     "data": {
      "image/jpeg": "[encoded data removed]",
      "image/png": "[encoded data removed]",
      "text/plain": [
       "<PIL.Image.Image image mode=RGB size=101x103 at 0x723F89708370>"
      ]
     },
     "metadata": {},
     "output_type": "display_data"
    },
    {
     "name": "stdout",
     "output_type": "stream",
     "text": [
      "10325\r"
     ]
    }
   ],
   "source": [
    "robots = [Robot(*t) for t in pos_vel]\n",
    "img = Image.fromarray(np.zeros([maxX, maxY, 3], dtype=np.uint8))\n",
    "h = display(img,display_id=True)    \n",
    "#for i in range(1,125) :\n",
    "for i in range(23+(101*70), 10403, 101) :\n",
    "    img = robots_img(move_robots(i,robots))\n",
    "    h.update(img)\n",
    "    print(i,end='\\r')\n",
    "    time.sleep(0.5)"
   ]
  },
  {
   "cell_type": "code",
   "execution_count": 18,
   "metadata": {},
   "outputs": [
    {
     "data": {
      "text/plain": [
       "7093"
      ]
     },
     "execution_count": 18,
     "metadata": {},
     "output_type": "execute_result"
    }
   ],
   "source": [
    "23+(101*70)"
   ]
  },
  {
   "cell_type": "code",
   "execution_count": 15,
   "metadata": {},
   "outputs": [
    {
     "data": {
      "image/jpeg": "[encoded data removed]",
      "image/png": "[encoded data removed]",
      "text/plain": [
       "<PIL.Image.Image image mode=RGB size=101x103 at 0x723F8A19DB30>"
      ]
     },
     "metadata": {},
     "output_type": "display_data"
    },
    {
     "data": {
      "text/plain": [
       "<DisplayHandle display_id=a1eed728a2dda7180c8e67ca2984a6ed>"
      ]
     },
     "execution_count": 15,
     "metadata": {},
     "output_type": "execute_result"
    }
   ],
   "source": [
    "img = robots_img(move_robots(7093,robots))\n",
    "display(img,display_id=True)"
   ]
  },
  {
   "cell_type": "code",
   "execution_count": 19,
   "metadata": {},
   "outputs": [
    {
     "name": "stdout",
     "output_type": "stream",
     "text": [
      "[ 1  3  0  2  0  0  3  2  0  0  0  3  1  0  2  2  2  1  1  1  2  1  2  2\n",
      "  2  2  3  1  3  0  4  1  2  0  2  2 35  2  3  2  3  3  5  9 10 13 14 16\n",
      " 19 20 24 26 27 20 18 16 14 13  8  6  4  3  4  4  4  5 35  1  5  1  2  0\n",
      "  2  4  3  1  0  3  1  2  1  1  0  3  1  1  3  1  5  1  3  1  2  1  2  3\n",
      "  1  3  2  1  1]\n",
      "[ 1  1  2  2  0  2  0  4  2  1  0  2  4  1  2  3  2  3  0  2  3  0  0 33\n",
      "  3  2  4  4  3  6  7 11 13  8  9 15 13 15 14 13 15 18 20 18 18 21 23 25\n",
      "  6  6  5  2  3  2  4 34  2  4  1  1  2  2  1  2  0  0  3  0  0  2  1  2\n",
      "  0  1  2  1  1  3  0  0  2  5  0  2  1  3  3  2  1  0  3  1  1  2  4  3\n",
      "  0  0  2  1  1  1  1]\n"
     ]
    }
   ],
   "source": [
    "M = robots_mat(move_robots(23+(101*70),robots))\n",
    "sY,sX = M.sum(axis=0),M.sum(axis=1)\n",
    "print(sY)\n",
    "print(sX)"
   ]
  },
  {
   "cell_type": "code",
   "execution_count": 16,
   "metadata": {},
   "outputs": [
    {
     "name": "stdout",
     "output_type": "stream",
     "text": [
      "\u001b[32mThat's the right answer!  You are one gold star closer to finding the Chief Historian.You have completed Day 14! You can [Shareon\n",
      "  Bluesky\n",
      "Twitter\n",
      "Mastodon] this victory or [Return to Your Advent Calendar].\u001b[0m\n"
     ]
    },
    {
     "data": {
      "text/plain": [
       "<urllib3.response.HTTPResponse object at 0x723f8a1b9f00>"
      ]
     },
     "execution_count": 16,
     "metadata": {},
     "output_type": "execute_result"
    },
    {
     "name": "stdout",
     "output_type": "stream",
     "text": [
      "Opening in existing browser session.\n"
     ]
    }
   ],
   "source": [
    "submit(7093, part=\"b\", day=14, year=2024)"
   ]
  }
 ],
 "metadata": {
  "kernelspec": {
   "display_name": "aoc_24",
   "language": "python",
   "name": "python3"
  },
  "language_info": {
   "codemirror_mode": {
    "name": "ipython",
    "version": 3
   },
   "file_extension": ".py",
   "mimetype": "text/x-python",
   "name": "python",
   "nbconvert_exporter": "python",
   "pygments_lexer": "ipython3",
   "version": "3.13.1"
  },
  "orig_nbformat": 4
 },
 "nbformat": 4,
 "nbformat_minor": 2
}
