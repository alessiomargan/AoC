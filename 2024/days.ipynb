{
 "cells": [
  {
   "cell_type": "code",
   "execution_count": 1,
   "metadata": {},
   "outputs": [
    {
     "name": "stdout",
     "output_type": "stream",
     "text": [
      "Pretty printing has been turned OFF\n"
     ]
    },
    {
     "name": "stderr",
     "output_type": "stream",
     "text": [
      "current_day is only available in December (EST)\n"
     ]
    }
   ],
   "source": [
    "%pprint\n",
    "\n",
    "import sys  \n",
    "sys.path.insert(1, '..')\n",
    "from aoc_utils import *\n",
    "from bigtree import Node, list_to_tree, levelorder_iter\n",
    "\n",
    "def isValid(np_shape: Tuple, index: Tuple)->bool:\n",
    "    index = np.array(index)\n",
    "    return (index >= 0).all() and (index < np_shape).all()"
   ]
  },
  {
   "cell_type": "markdown",
   "metadata": {},
   "source": [
    "### “i.e.” Latin \"id est\" => “that is.”  \n",
    "### “e.g.” Latin \"exempli gratia\" => “for example.”"
   ]
  },
  {
   "attachments": {},
   "cell_type": "markdown",
   "metadata": {},
   "source": [
    "# Home\n",
    "\n",
    "Each day's work will consist of three tasks:\n",
    "- **Input**: Parse the day's input file with the function `parse(day, parser, sep)`, which treats the input as a sequence of *entries*, separated by `sep` (default newline); applies `parser` to each entry; and returns the results as a tuple. (Note: `ints` and `atoms` are useful `parser` functions (as are `int` and `str`).)\n",
    "- **Part 1**: Write code to compute the answer to Part 1, and submit the answer to the AoC site. Use the function `answer` to record the correct answer and serve as a regression test when I re-run the notebook.\n",
    "- **Part 2**: Repeat coding and `answer` for Part 2.\n",
    "\n",
    "1. [Day 1](#day-1)\n",
    "2. [Day 2](#day-2)\n",
    "3. [Day 3](#day-3)\n",
    "4. [Day 4](#day-4)\n",
    "5. [Day 5](#day-5)\n",
    "6. [Day 6](#day-6)\n",
    "7. [Day 7](#day-7)\n",
    "8. [Day 8](#day-8)\n",
    "9. [Day 9](#day-9)\n",
    "10. [Day 10](#day-10)\n",
    "11. [Day 11](#day-11)\n",
    "12. [Day 12](#day-12)\n",
    "13. [Day 13](#day-13)\n",
    "14. [Day 14](#day-14)\n",
    "15. [Day 15](#day-15)\n",
    "16. [Day 16](#day-16)\n",
    "17. [Day 17](#day-17)\n",
    "18. [Day 18](#day-18)"
   ]
  },
  {
   "cell_type": "markdown",
   "metadata": {},
   "source": [
    "[home](#home)\n",
    "# Day 1\n",
    "[Historian Hysteria](https://adventofcode.com/2024/day/1)  \n",
    "```\n",
    "```"
   ]
  },
  {
   "cell_type": "code",
   "execution_count": null,
   "metadata": {},
   "outputs": [],
   "source": [
    "get_in_file(1,2024)"
   ]
  },
  {
   "cell_type": "code",
   "execution_count": null,
   "metadata": {},
   "outputs": [],
   "source": [
    "# in_part_A as tuple of 2-tuple \n",
    "in_part_A = Input(1, line_parser=ints)\n",
    "# https://more-itertools.readthedocs.io/en/stable/api.html#more_itertools.collapse\n",
    "# https://more-itertools.readthedocs.io/en/stable/api.html#more_itertools.partition\n",
    "#is_odd = lambda x: x % 2 != 0\n",
    "#left, right = partition(is_odd, collapse(in_part_A))\n",
    "# https://more-itertools.readthedocs.io/en/stable/api.html#more_itertools.unzip\n",
    "left, right = unzip(in_part_A)\n",
    "dist = lambda x,y: abs(x-y)\n",
    "res = sum(map(dist,sorted(list(left)),sorted(list(right))))\n",
    "res"
   ]
  },
  {
   "cell_type": "code",
   "execution_count": null,
   "metadata": {},
   "outputs": [],
   "source": [
    "submit(res, part=\"a\", day=1, year=2024)"
   ]
  },
  {
   "cell_type": "markdown",
   "metadata": {},
   "source": [
    "### Part 2\n"
   ]
  },
  {
   "cell_type": "code",
   "execution_count": null,
   "metadata": {},
   "outputs": [],
   "source": [
    "left, right = unzip(in_part_A)\n",
    "counter_right = Counter(right)\n",
    "counter_right.most_common(3)"
   ]
  },
  {
   "cell_type": "code",
   "execution_count": null,
   "metadata": {},
   "outputs": [],
   "source": [
    "func = lambda x: x*counter_right[x]\n",
    "res_b = sum(map(func,left))\n",
    "res_b"
   ]
  },
  {
   "cell_type": "code",
   "execution_count": null,
   "metadata": {},
   "outputs": [],
   "source": [
    "submit(res_b, part=\"b\", day=1, year=2024)"
   ]
  },
  {
   "cell_type": "markdown",
   "metadata": {},
   "source": [
    "[home](#home)\n",
    "# Day 2\n",
    "[Red-Nosed Reports](https://adventofcode.com/2024/day/2)   \n",
    "\n",
    "a report only counts as safe if both of the following are true:\n",
    "- The levels are either *all increasing* or *all decreasing*.\n",
    "- Any two adjacent levels differ by at *least one* and at *most three*.\n"
   ]
  },
  {
   "cell_type": "code",
   "execution_count": null,
   "metadata": {},
   "outputs": [],
   "source": [
    "get_in_file(2,2024)"
   ]
  },
  {
   "cell_type": "code",
   "execution_count": null,
   "metadata": {},
   "outputs": [],
   "source": [
    "in_part_A = Input(2, line_parser=ints)"
   ]
  },
  {
   "cell_type": "code",
   "execution_count": null,
   "metadata": {},
   "outputs": [],
   "source": [
    "# all decreasing and any two adjacent levels differ by at least one and at most three\n",
    "cond1 = lambda x,y: 1 if (x>y)and(abs(x-y)>0)and(abs(x-y)<4) else 0\n",
    "# all increasing and any two adjacent levels differ by at least one and at most three\n",
    "cond2 = lambda x,y: 1 if (x<y)and(abs(x-y)>0)and(abs(x-y)<4) else 0\n",
    "set1=set([level for level in in_part_A if all([(cond1)(*pair) for pair in pairwise(level)])])\n",
    "set2=set([level for level in in_part_A if all([(cond2)(*pair) for pair in pairwise(level)])])"
   ]
  },
  {
   "cell_type": "code",
   "execution_count": null,
   "metadata": {},
   "outputs": [],
   "source": [
    "res_a = len(set1)+len(set2)\n",
    "res_a"
   ]
  },
  {
   "cell_type": "code",
   "execution_count": null,
   "metadata": {},
   "outputs": [],
   "source": [
    "submit(res_a, part=\"a\", day=2, year=2024)"
   ]
  },
  {
   "cell_type": "markdown",
   "metadata": {},
   "source": [
    "### Part 2\n",
    "\n",
    "the same rules apply as before, except if removing a single level from an unsafe report would make it safe, the report instead counts as safe"
   ]
  },
  {
   "cell_type": "code",
   "execution_count": null,
   "metadata": {},
   "outputs": [],
   "source": [
    "set_all=set([level for level in in_part_A])"
   ]
  },
  {
   "cell_type": "code",
   "execution_count": null,
   "metadata": {},
   "outputs": [],
   "source": [
    "unsafe = set_all-set1-set2"
   ]
  },
  {
   "cell_type": "code",
   "execution_count": null,
   "metadata": {},
   "outputs": [],
   "source": [
    "def tolerate_one_bad_level(lvl):\n",
    "    for c in combinations(lvl,len(lvl)-1):\n",
    "        if all([(cond1)(*pair) for pair in pairwise(c)]) :\n",
    "            return True\n",
    "        if all([(cond2)(*pair) for pair in pairwise(c)]) :\n",
    "            return True\n",
    "    return False    \n",
    "\n",
    "set3=set([level for level in unsafe if tolerate_one_bad_level(level)])\n"
   ]
  },
  {
   "cell_type": "code",
   "execution_count": null,
   "metadata": {},
   "outputs": [],
   "source": [
    "res_b = res_a+len(set3)\n",
    "res_b"
   ]
  },
  {
   "cell_type": "code",
   "execution_count": null,
   "metadata": {},
   "outputs": [],
   "source": [
    "submit(res_b, part=\"b\", day=2, year=2024)"
   ]
  },
  {
   "cell_type": "markdown",
   "metadata": {},
   "source": [
    "[home](#home)\n",
    "# Day 3\n",
    "[Mull It Over](https://adventofcode.com/2024/day/3)  \n",
    "\n",
    "consider the following section of corrupted memory: \n",
    "\n",
    "x**mul(2,4)**%&mul[3,7]!@^do_not_**mul(5,5)**+mul(32,64]then(**mul(11,8)mul(8,5)**)  \n",
    "\n",
    "Only the four highlighted sections are real mul instructions"
   ]
  },
  {
   "cell_type": "code",
   "execution_count": null,
   "metadata": {},
   "outputs": [],
   "source": [
    "get_in_file(3,2024)\n",
    "in_part_A = Input(3)"
   ]
  },
  {
   "cell_type": "code",
   "execution_count": null,
   "metadata": {},
   "outputs": [],
   "source": [
    "regex = r'mul\\((\\d\\d*\\d*),(\\d\\d*\\d*)\\)'\n",
    "res_a = sum([(lambda x,y:int(x)*int(y))(*pair) for pair in collapse([re.findall(regex, line) for line in in_part_A],base_type=tuple)])\n",
    "res_a"
   ]
  },
  {
   "cell_type": "code",
   "execution_count": null,
   "metadata": {},
   "outputs": [],
   "source": [
    "submit(res_a, part=\"a\", day=3, year=2024)"
   ]
  },
  {
   "cell_type": "markdown",
   "metadata": {},
   "source": [
    "### Part 2"
   ]
  },
  {
   "cell_type": "code",
   "execution_count": null,
   "metadata": {},
   "outputs": [],
   "source": [
    "regex = r'mul\\((\\d\\d*\\d*),(\\d\\d*\\d*)\\)|(?P<ENA>do\\(\\))|(?P<DIS>don\\'t\\(\\))'"
   ]
  },
  {
   "cell_type": "code",
   "execution_count": null,
   "metadata": {},
   "outputs": [],
   "source": [
    "enable = True\n",
    "res_b=0\n",
    "# collapse is a generator ...\n",
    "for mo in collapse([re.findall(regex, line) for line in in_part_A],base_type=tuple):\n",
    "    x,y,ena,dis = mo\n",
    "    if ena != '':\n",
    "        enable = True\n",
    "        continue\n",
    "    if dis != '':\n",
    "        enable = False\n",
    "        continue\n",
    "    if enable :\n",
    "        res_b += int(x)*int(y)\n",
    "        \n",
    "res_b"
   ]
  },
  {
   "cell_type": "code",
   "execution_count": null,
   "metadata": {},
   "outputs": [],
   "source": [
    "submit(res_b, part=\"b\", day=3, year=2024)"
   ]
  },
  {
   "cell_type": "markdown",
   "metadata": {},
   "source": [
    "[home](#home)\n",
    "# Day 4\n",
    "[Ceres Search](https://adventofcode.com/2024/day/4)  \n",
    "\n",
    "This word (*XMAS*) search allows words to be horizontal, vertical, diagonal, written backwards, or even overlapping other words"
   ]
  },
  {
   "cell_type": "code",
   "execution_count": null,
   "metadata": {},
   "outputs": [],
   "source": [
    "get_in_file(4,2024)\n",
    "\n",
    "test_d4 = '''\n",
    "MMMSXXMASM\n",
    "MSAMXMSMSA\n",
    "AMXSXMAAMM\n",
    "MSAMASMSMX\n",
    "XMASAMXAMM\n",
    "XXAMMXXAMA\n",
    "SMSMSASXSS\n",
    "SAXAMASAAA\n",
    "MAMMMXMMMM\n",
    "MXMXAXMASX\n",
    "'''\n",
    "\n",
    "p = lambda x:tuple(x)\n",
    "in_part_A = mapt(p,Input(4))\n",
    "#in_part_A = mapt(p,test_d4.rstrip().split())\n",
    "M = np.matrix(in_part_A)\n",
    "shape = M.shape"
   ]
  },
  {
   "cell_type": "code",
   "execution_count": null,
   "metadata": {},
   "outputs": [],
   "source": [
    "X_idx = (0,0)\n",
    "M_idx = set(product((-1,0,1),repeat=2)) - {(0,0)}\n",
    "A_idx = set(product((-2,0,2),repeat=2)) - {(0,0)}\n",
    "S_idx = set(product((-3,0,3),repeat=2)) - {(0,0)}\n",
    "\n",
    "___0d = {'M':( 1, 0),'A':( 2, 0),'S':( 3, 0)}\n",
    "__45d = {'M':( 1, 1),'A':( 2, 2),'S':( 3, 3)}\n",
    "__90d = {'M':( 0, 1),'A':( 0, 2),'S':( 0, 3)}\n",
    "_135d = {'M':(-1, 1),'A':(-2, 2),'S':(-3, 3)}\n",
    "_180d = {'M':(-1, 0),'A':(-2, 0),'S':(-3, 0)}\n",
    "_225d = {'M':(-1,-1),'A':(-2,-2),'S':(-3,-3)}\n",
    "_270d = {'M':( 0,-1),'A':( 0,-2),'S':( 0,-3)}\n",
    "_315d = {'M':( 1,-1),'A':( 2,-2),'S':( 3,-3)}\n",
    "\n",
    "dDeg = [___0d,__45d,__90d,_135d,_180d,_225d,_270d,_315d]\n"
   ]
  },
  {
   "cell_type": "code",
   "execution_count": null,
   "metadata": {},
   "outputs": [],
   "source": [
    "res_a = 0\n",
    "with np.nditer(M, flags=['multi_index']) as it :\n",
    "    for x in it:\n",
    "        #print(\"%s <%s>\" % (x, it.multi_index), end=' ')\n",
    "        if x != 'X' :\n",
    "            # next matrix element\n",
    "            continue\n",
    "        for d in dDeg :\n",
    "            for k,v in d.items() :\n",
    "                ij = add_tuple(v,it.multi_index)\n",
    "                if not isValid(shape,ij) or M[ij] != k :\n",
    "                    # break, not found ... next d in dDeg\n",
    "                    break\n",
    "            # https://docs.python.org/3/tutorial/controlflow.html#else-clauses-on-loops\n",
    "            # If the loop finishes without executing the break, the else clause executes\n",
    "            else :\n",
    "                # found !\n",
    "                res_a +=1\n",
    "res_a            "
   ]
  },
  {
   "cell_type": "code",
   "execution_count": null,
   "metadata": {},
   "outputs": [],
   "source": [
    "submit(res_a, part=\"a\", day=4, year=2024)"
   ]
  },
  {
   "cell_type": "markdown",
   "metadata": {},
   "source": [
    "### Part 2  \n",
    "\n",
    "*West* *North* *East* *South*\n",
    "```\n",
    "M S   M M   S M   S S\n",
    " A     A     A     A\n",
    "M S   S S   S M   M M\n",
    "\n",
    "M : (-1, 1)(-1,-1)\n",
    "A : ( 1, 1)( 1,-1)\n",
    "\n",
    "....\n",
    "```\n"
   ]
  },
  {
   "cell_type": "code",
   "execution_count": null,
   "metadata": {},
   "outputs": [],
   "source": [
    "# West --> M M \n",
    "W = {'M':((-1, 1),(-1,-1)),'S':(( 1, 1),( 1,-1))}\n",
    "# North\n",
    "N = {'M':((-1, 1),( 1, 1)),'S':(( 1,-1),(-1,-1))}\n",
    "# East \n",
    "E = {'S':((-1, 1),(-1,-1)),'M':(( 1, 1),( 1,-1))}\n",
    "# South\n",
    "S = {'S':((-1, 1),( 1, 1)),'M':(( 1,-1),(-1,-1))}\n",
    "\n",
    "wnes = [W,N,E,S]"
   ]
  },
  {
   "cell_type": "code",
   "execution_count": null,
   "metadata": {},
   "outputs": [],
   "source": [
    "res_b = 0\n",
    "idx_S = set()\n",
    "valid_M = np.zeros(shape)\n",
    "with np.nditer(M, flags=['multi_index']) as it :\n",
    "    for x in it:\n",
    "        #print(\"%s <%s>\" % (x, it.multi_index), end=' ')\n",
    "        if x != 'A' :\n",
    "            # next matrix element\n",
    "            continue\n",
    "        for d in wnes :\n",
    "            for k,vv in d.items() :\n",
    "                v1,v2 = vv\n",
    "                ij = add_tuple(v1,it.multi_index)\n",
    "                if not isValid(shape,ij) or M[ij] != k :\n",
    "                    # break, not found ... next d in wnes\n",
    "                    break\n",
    "                idx_S.add(ij)\n",
    "                valid_M[ij] = 1\n",
    "                ij = add_tuple(v2,it.multi_index)\n",
    "                if not isValid(shape,ij) or M[ij] != k :\n",
    "                    # break, not found ... next d in wnes\n",
    "                    break\n",
    "                idx_S.add(ij)\n",
    "                valid_M[ij] = 1\n",
    "                \n",
    "            # https://docs.python.org/3/tutorial/controlflow.html#else-clauses-on-loops\n",
    "            # If the loop finishes without executing the break, the else clause executes\n",
    "            else :\n",
    "                # found !\n",
    "                res_b +=1\n",
    "                # current matrix element\n",
    "                valid_M[it.multi_index] = 1\n",
    "res_b"
   ]
  },
  {
   "cell_type": "code",
   "execution_count": null,
   "metadata": {},
   "outputs": [],
   "source": [
    "submit(res_b, part=\"b\", day=4, year=2024)"
   ]
  },
  {
   "cell_type": "code",
   "execution_count": null,
   "metadata": {},
   "outputs": [],
   "source": [
    "with np.nditer(M, flags=['multi_index']) as it :\n",
    "    for x in it:\n",
    "        if not valid_M[it.multi_index] :\n",
    "            M[it.multi_index] = '.'\n",
    "M"
   ]
  },
  {
   "cell_type": "markdown",
   "metadata": {},
   "source": [
    "[home](#home)\n",
    "# Day 5\n",
    "[Print Queue](https://adventofcode.com/2024/day/5)  \n",
    "\n",
    "Inupt file consists of 2 parts\n",
    "- page ordering rules \n",
    "- pages to produce in each update\n",
    "\n",
    "rule **47|53**, means that if an update includes both page number 47 and page number 53,  \n",
    "then page number 47 must be printed at some point before page number 53  \n",
    "\n",
    "75,**47**,61,**53**,29\n",
    "\n",
    "**75** is correct due to rules 75|47, 75|61, 75|53, and 75|29"
   ]
  },
  {
   "cell_type": "code",
   "execution_count": null,
   "metadata": {},
   "outputs": [],
   "source": [
    "get_in_file(5,2024)"
   ]
  },
  {
   "cell_type": "code",
   "execution_count": null,
   "metadata": {},
   "outputs": [],
   "source": [
    "test_d5 = '''\n",
    "47|53\n",
    "97|13\n",
    "97|61\n",
    "97|47\n",
    "75|29\n",
    "61|13\n",
    "75|53\n",
    "29|13\n",
    "97|29\n",
    "53|29\n",
    "61|53\n",
    "97|53\n",
    "61|29\n",
    "47|13\n",
    "75|47\n",
    "97|75\n",
    "47|61\n",
    "75|61\n",
    "47|29\n",
    "75|13\n",
    "53|13\n",
    "\n",
    "75,47,61,53,29\n",
    "97,61,53,29,13\n",
    "75,29,13\n",
    "75,97,47,61,53\n",
    "61,13,29\n",
    "97,13,75,29,47\n",
    "'''"
   ]
  },
  {
   "cell_type": "code",
   "execution_count": null,
   "metadata": {},
   "outputs": [],
   "source": [
    "p = lambda x: x.strip().split()\n",
    "raw_rules,pages = parse(5, parser=p, sep=\"\\n\\n\")\n",
    "#raw_rules,pages = mapt(p, test_d5.split(\"\\n\\n\"))\n",
    "pages = mapt(lambda x: mapt(int,x),(mapt(lambda x: x.split(','),pages)))\n",
    "rules = defaultdict(set)\n",
    "for k,v in sliced(mapt(int,flatten(mapt(lambda x: x.split('|'),raw_rules))),2) :\n",
    "    rules[k].add(v)\n"
   ]
  },
  {
   "cell_type": "code",
   "execution_count": null,
   "metadata": {},
   "outputs": [],
   "source": [
    "valid_pages = []\n",
    "invalid_pages = []\n",
    "res_a = 0\n",
    "for pg in pages :\n",
    "    #print(pg)\n",
    "    for i in range(len(pg)) :\n",
    "        curr_pg = pg[i]\n",
    "        rule = rules[pg[i]]\n",
    "        pre_pg,post_pg = pg[:i],pg[i+1:]\n",
    "        #print('{}:{} pre {} post {} {}'.format(curr_pg,rule,pre_pg,post_pg,rule.isdisjoint(set(pre_pg))))\n",
    "        if not rule.isdisjoint(set(pre_pg)) :\n",
    "            invalid_pages.append(pg)\n",
    "            break\n",
    "    else :\n",
    "        valid_pages.append(pg)\n",
    "        res_a += pg[math.floor(len(pg)/2)]\n",
    "    #print()\n",
    "res_a"
   ]
  },
  {
   "cell_type": "code",
   "execution_count": null,
   "metadata": {},
   "outputs": [],
   "source": [
    "submit(res_a, part=\"a\", day=5, year=2024)"
   ]
  },
  {
   "cell_type": "markdown",
   "metadata": {},
   "source": [
    "### Part 2"
   ]
  },
  {
   "cell_type": "code",
   "execution_count": null,
   "metadata": {},
   "outputs": [],
   "source": [
    "res_b = 0\n",
    "for pg_inv in invalid_pages :\n",
    "    print('invalid {}'.format(pg_inv))\n",
    "    pg_inv_s = set(pg_inv)\n",
    "    d = {k:(v.intersection(pg_inv_s)) for (k,v) in rules.items() if k in pg_inv}\n",
    "    s = sorted(d.items(), key=lambda item: len(item[1]),reverse=True)\n",
    "    #print(s)\n",
    "    l = [t[0] for t in s]\n",
    "    #print(l)\n",
    "    res_b += l[math.floor(len(l)/2)]\n",
    "res_b"
   ]
  },
  {
   "cell_type": "code",
   "execution_count": null,
   "metadata": {},
   "outputs": [],
   "source": [
    "submit(res_b, part=\"b\", day=5, year=2024)"
   ]
  },
  {
   "cell_type": "markdown",
   "metadata": {},
   "source": [
    "[home](#home)\n",
    "# Day 6\n",
    "[Guard Gallivant](https://adventofcode.com/2024/day/6)  \n",
    "\n",
    "\n",
    "Lab guards follow a patrol protocol which involves repeatedly following these steps:\n",
    "- If there is something directly in front of you, turn right 90 degrees.\n",
    "- Otherwise, take a step forward.\n"
   ]
  },
  {
   "cell_type": "code",
   "execution_count": null,
   "metadata": {},
   "outputs": [],
   "source": [
    "get_in_file(6,2024)"
   ]
  },
  {
   "cell_type": "code",
   "execution_count": null,
   "metadata": {},
   "outputs": [],
   "source": [
    "test_d6 = '''\n",
    "....#.....\n",
    ".........#\n",
    "..........\n",
    "..#.......\n",
    ".......#..\n",
    "..........\n",
    ".#..^.....\n",
    "........#.\n",
    "#.........\n",
    "......#...\n",
    "'''\n",
    "\n",
    "p = lambda x:tuple(x)\n",
    "#in_part_A = mapt(p,Input(6))\n",
    "in_part_A = mapt(p,test_d6.rstrip().split())\n",
    "MpA = np.matrix(in_part_A)\n",
    "MpA.shape, MpA.size"
   ]
  },
  {
   "cell_type": "code",
   "execution_count": null,
   "metadata": {},
   "outputs": [],
   "source": [
    "# each ordered key turn right 90 degrees\n",
    "guard_pos_d = OrderedDict({'^':(-1,0),'>':(0,1),'v':(1,0),'<':(0,-1)})\n",
    "#Step = namedtuple('Step','dir,pos,turn,pred_step')\n",
    "#Step = namedtuple('Step','dir,pos,turn')\n",
    "# !!! https://docs.python.org/3.13/reference/datamodel.html#object.__hash__\n",
    "# If a class that overrides __eq__() needs to retain the implementation of __hash__() from a parent class,\n",
    "# the interpreter must be told this explicitly by setting __hash__ = <ParentClass>.__hash__.\n",
    "class Step(namedtuple('Step',['dir','pos','turn'])):\n",
    "    __hash__ = tuple.__hash__\n",
    "    def __eq__(self,other)->bool:\n",
    "        return self.dir==other.dir and self.pos==other.pos\n",
    "        \n",
    "#assert(Step('^',(0,1),False) == Step('^',(0,1),True))"
   ]
  },
  {
   "cell_type": "code",
   "execution_count": null,
   "metadata": {},
   "outputs": [],
   "source": [
    "start_pos = Step('^',mapt(int,tuple(np.argwhere(MpA == '^')[0])),False)\n",
    "start_pos"
   ]
  },
  {
   "cell_type": "code",
   "execution_count": null,
   "metadata": {},
   "outputs": [],
   "source": [
    "def get_next_turn(t):\n",
    "    try :\n",
    "        l=list(guard_pos_d.keys())\n",
    "        return l[l.index(t)+1]\n",
    "    except IndexError :\n",
    "        return l[0]\n",
    "\n",
    "def get_next_step(s:Step,M)->Step:\n",
    "    \"\"\" get next step : \n",
    "         - turn 90 degree if obstacle in front\n",
    "        OR\n",
    "         - move forward         \n",
    "    \"\"\"\n",
    "    next_pos = add_tuple(s.pos,guard_pos_d[s.dir])\n",
    "    if not isValid(M.shape,next_pos) :\n",
    "            return None\n",
    "    if M[next_pos] == '#' :\n",
    "        # turn right 90 degrees \n",
    "        turn = get_next_turn(s.dir)\n",
    "        return Step(turn,s.pos,True)\n",
    "    else :\n",
    "        # move forward\n",
    "        return Step(s.dir,next_pos,False)\n",
    "\n",
    "def get_steps(start:Step,M)->List[Step]:\n",
    "    steps = list()\n",
    "    steps.append(start)\n",
    "    next_step = start\n",
    "    while (next_step:= get_next_step(next_step,M)) :\n",
    "        #print(next_step)\n",
    "        if next_step in steps :\n",
    "            steps.append(next_step)\n",
    "            break\n",
    "        steps.append(next_step)\n",
    "    return steps\n",
    "\n",
    "def is_loop_steps(steps:List[Step]):\n",
    "    l = [(x.pos,x.dir)for x in steps]\n",
    "    return last(l) in l[:-1] \n",
    "\n",
    "def get_path_from_steps(steps:List[Step])->List[Step]:\n",
    "    return [x for x in steps if not x.turn]\n"
   ]
  },
  {
   "cell_type": "code",
   "execution_count": null,
   "metadata": {},
   "outputs": [],
   "source": [
    "# distint position will the guard visit before leaving the mapped area    \n",
    "res_a =  len(Counter([x.pos for x in get_steps(start_pos,MpA)]))\n",
    "res_a"
   ]
  },
  {
   "cell_type": "code",
   "execution_count": null,
   "metadata": {},
   "outputs": [],
   "source": [
    "submit(res_a, part=\"a\", day=6, year=2024)"
   ]
  },
  {
   "cell_type": "markdown",
   "metadata": {},
   "source": [
    "### Part 2"
   ]
  },
  {
   "cell_type": "code",
   "execution_count": null,
   "metadata": {},
   "outputs": [],
   "source": [
    "test_x1 = '''\n",
    "..#..\n",
    ".#.#.\n",
    ".#.#.\n",
    ".#.#.\n",
    ".#.#.\n",
    ".#^#.\n",
    ".....\n",
    "'''\n",
    "Mx1 = np.matrix(mapt(lambda x:tuple(x),test_x1.rstrip().split()))\n",
    "Mx1.shape, Mx1.size\n",
    "start_pos = Step('^',mapt(int,tuple(np.argwhere(Mx1 == '^')[0])),False)\n",
    "print(start_pos)\n",
    "steps = get_steps(start_pos,Mx1)\n",
    "print(is_loop_steps(steps))\n",
    "get_path_from_steps(steps)\n",
    "Mx1[(6,2)]='#'\n",
    "steps = get_steps(start_pos,Mx1)\n",
    "print(is_loop_steps(steps))\n",
    "get_path_from_steps(steps)\n",
    "Mx1[(6,2)]='.'\n",
    "steps\n"
   ]
  },
  {
   "cell_type": "code",
   "execution_count": null,
   "metadata": {},
   "outputs": [],
   "source": [
    "p = lambda x:tuple(x)\n",
    "in_part_A = mapt(p,Input(6))\n",
    "#in_part_A = mapt(p,test_d6.rstrip().split())\n",
    "MpA = np.matrix(in_part_A)\n",
    "MpA.shape, MpA.size\n",
    "\n",
    "def get_obstacle(M:np.matrix)->List[Step]:\n",
    "    start = Step('^',mapt(int,tuple(np.argwhere(M == '^')[0])),False)\n",
    "    obstacle = set()\n",
    "    steps = get_steps(start,M)\n",
    "    for p0,p1 in pairwise(get_path_from_steps(steps)) :\n",
    "        #print(p0,p1)\n",
    "        if M[p1.pos] == 'O':\n",
    "            continue\n",
    "        tmp = M[p1.pos]\n",
    "        M[p1.pos] = '#'\n",
    "        if is_loop_steps(ss:=get_steps(start,M)) :\n",
    "            obstacle.add(p1)\n",
    "            print('add {}'.format(p1))\n",
    "            #print(obstacle)\n",
    "            #print(ss)\n",
    "        #M[p1.pos] = tmp\n",
    "        M[p1.pos] = 'O'\n",
    "        \n",
    "    return obstacle\n",
    "\n",
    "obstacles = get_obstacle(MpA)\n",
    "\n",
    "# 35 mins"
   ]
  },
  {
   "cell_type": "code",
   "execution_count": null,
   "metadata": {},
   "outputs": [],
   "source": [
    "res_b = len(Counter([x.pos for x in obstacles]))\n",
    "res_b"
   ]
  },
  {
   "cell_type": "code",
   "execution_count": null,
   "metadata": {},
   "outputs": [],
   "source": [
    "submit(res_b, part=\"b\", day=6, year=2024)"
   ]
  },
  {
   "cell_type": "code",
   "execution_count": null,
   "metadata": {},
   "outputs": [],
   "source": [
    "test_x2 = '''\n",
    ".....\n",
    "..#..\n",
    ".#^#.\n",
    "..#..\n",
    "'''\n",
    "Mx2 = np.matrix(mapt(lambda x:tuple(x),test_x2.rstrip().split()))\n",
    "Mx2.shape, Mx2.size\n",
    "start_pos = Step('^',mapt(int,tuple(np.argwhere(Mx2 == '^')[0])),False)\n",
    "is_loop_steps(steps:=get_steps(start_pos,Mx2))\n",
    "pp.pprint(steps)\n",
    "get_path_from_steps(steps)"
   ]
  },
  {
   "cell_type": "markdown",
   "metadata": {},
   "source": [
    "[home](#home)\n",
    "# Day 7\n",
    "[Bridge Repair](https://adventofcode.com/2024/day/7)  \n",
    "\n",
    "Use [bigtree](https://bigtree.readthedocs.io/en/stable/) Python package"
   ]
  },
  {
   "cell_type": "code",
   "execution_count": null,
   "metadata": {},
   "outputs": [],
   "source": [
    "get_in_file(7,2024)"
   ]
  },
  {
   "cell_type": "code",
   "execution_count": null,
   "metadata": {},
   "outputs": [],
   "source": [
    "test_d7 = \"\"\"\n",
    "190: 10 19\n",
    "3267: 81 40 27\n",
    "83: 17 5\n",
    "156: 15 6\n",
    "7290: 6 8 6 15\n",
    "161011: 16 10 13\n",
    "192: 17 8 14\n",
    "21037: 9 7 18 13\n",
    "292: 11 6 16 20\n",
    "\"\"\""
   ]
  },
  {
   "cell_type": "code",
   "execution_count": null,
   "metadata": {},
   "outputs": [],
   "source": [
    "equations = mapt(lambda x:(int(x[0]),mapt(lambda x:int(x),x[1].strip().split())),(mapt(lambda x:x.split(':'),Input(7))))\n",
    "#equations = mapt(lambda x:(int(x[0]),mapt(lambda x:int(x),x[1].strip().split())),(mapt(lambda x:x.split(':'),test_d7.strip().split(\"\\n\"))))\n",
    "#equations"
   ]
  },
  {
   "cell_type": "code",
   "execution_count": null,
   "metadata": {},
   "outputs": [],
   "source": [
    "debug = False\n",
    "\n",
    "def make_tree_path(s ,root_name=\"R\")->List:\n",
    "    \"\"\" '++++' --> 'R/+/+/+/+' \"\"\"\n",
    "    return \"\".join(list(intersperse('/',root_name+s)))\n",
    "    \n",
    "def make_tree(op_num,operators:List):\n",
    "    \"\"\"  \"\"\"\n",
    "    prod_iter = product (\"\".join(operators),repeat=op_num)\n",
    "    path_str = list(mapt(lambda x:\"\".join(x),prod_iter))\n",
    "    if debug : print(path_str) \n",
    "    return list_to_tree([make_tree_path(x) for x in path_str])\n",
    "\n",
    "def populate_tree(operands_list, operators_dict):\n",
    "    \"\"\" \"\"\"\n",
    "    root = make_tree(len(operands_list)-1, operators_dict.keys())\n",
    "    for node in levelorder_iter(root) :\n",
    "        if node.is_root :\n",
    "            node.set_attrs({\"res\": operands_list[0]})\n",
    "        else :    \n",
    "            node.set_attrs({\"res\": 0})\n",
    "    #root.hshow()\n",
    "    for node in levelorder_iter(root) :\n",
    "        if not node.is_root :\n",
    "            op = operators_dict[node.node_name]\n",
    "            op1 = node.parent.get_attr(\"res\")\n",
    "            op2 = operands_list[node.depth-1]\n",
    "            res = op(op1,op2)\n",
    "            #print(\"{}{}{}\".format(op1,node.node_name,op2))\n",
    "            node.set_attrs({\"res\":res})\n",
    "    return root\n",
    "\n",
    "def all_res_equation(root):\n",
    "    for node in levelorder_iter(root) :\n",
    "        if node.is_leaf :\n",
    "            yield node.get_attr(\"res\")\n",
    "\n",
    "if debug :\n",
    "    root = populate_tree([81,40,27])\n",
    "    root.show(attr_list=[\"res\"])\n",
    "\n",
    "operators = {\"+\":operator.add,\"*\":operator.mul}\n",
    "true_equations_res = list()\n",
    "for res,operands in equations :\n",
    "    all_res = list(all_res_equation(populate_tree(operands,operators)))\n",
    "    if debug : print(res,all_res)\n",
    "    if res in all_res :\n",
    "        true_equations_res.append(res)\n",
    "\n",
    "true_equations_res\n",
    "res_a = sum(true_equations_res)\n",
    "res_a"
   ]
  },
  {
   "cell_type": "code",
   "execution_count": null,
   "metadata": {},
   "outputs": [],
   "source": [
    "submit(res_a, part=\"a\", day=7, year=2024)"
   ]
  },
  {
   "cell_type": "markdown",
   "metadata": {},
   "source": [
    "### Part 2\n",
    "\n",
    "add the concatenation operator (||) combines the digits from its left and right inputs into a single number.  \n",
    "For example, **12 || 345** would become **12345**. All operators are still evaluated left-to-right."
   ]
  },
  {
   "cell_type": "code",
   "execution_count": null,
   "metadata": {},
   "outputs": [],
   "source": [
    "operators.update({\"|\": lambda x,y: int(str(x)+str(y))})\n",
    "true_equations_res = list()\n",
    "for res,operands in equations :\n",
    "    all_res = list(all_res_equation(populate_tree(operands,operators)))\n",
    "    if debug : print(res,all_res)\n",
    "    if res in all_res :\n",
    "        true_equations_res.append(res)\n",
    "\n",
    "true_equations_res\n",
    "res_b = sum(true_equations_res)\n",
    "res_b"
   ]
  },
  {
   "cell_type": "code",
   "execution_count": null,
   "metadata": {},
   "outputs": [],
   "source": [
    "submit(res_b, part=\"b\", day=7, year=2024)"
   ]
  },
  {
   "cell_type": "markdown",
   "metadata": {},
   "source": [
    "[home](#home)\n",
    "# Day 8\n",
    "[Resonant Collinearity](https://adventofcode.com/2024/day/8)  \n",
    "\n",
    "How many unique locations within the bounds of the map contain an antinode ?  \n",
    "\n",
    "Each antenna is tuned to a specific frequency indicated by a **single** *lowercase letter*, *uppercase letter*, or *digit*.  \n",
    "\n",
    "An antinode occurs at any point that is perfectly in line with two antennas of the same frequency - but only when one of the antennas is twice as far away as the other.  \n",
    "\n",
    "However, antinodes can occur at locations that contain antennas\n"
   ]
  },
  {
   "cell_type": "code",
   "execution_count": null,
   "metadata": {},
   "outputs": [],
   "source": [
    "get_in_file(8,2024)"
   ]
  },
  {
   "cell_type": "code",
   "execution_count": null,
   "metadata": {},
   "outputs": [],
   "source": [
    "test_d8_1 = \"\"\"\n",
    "..........\n",
    "...#......\n",
    "#.........\n",
    "....a.....\n",
    "........a.\n",
    ".....a....\n",
    "..#.......\n",
    "......#...\n",
    "..........\n",
    "..........\n",
    "\"\"\""
   ]
  },
  {
   "cell_type": "code",
   "execution_count": null,
   "metadata": {},
   "outputs": [],
   "source": [
    "test_d8_2 = \"\"\"\n",
    "......#....#\n",
    "...#....0...\n",
    "....#0....#.\n",
    "..#....0....\n",
    "....0....#..\n",
    ".#....A.....\n",
    "...#........\n",
    "#......#....\n",
    "........A...\n",
    ".........A..\n",
    "..........#.\n",
    "..........#.\n",
    "\"\"\""
   ]
  },
  {
   "cell_type": "code",
   "execution_count": null,
   "metadata": {},
   "outputs": [],
   "source": [
    "test_d8_3 = \"\"\"\n",
    "#.........\n",
    "..#.a.a.#.\n",
    "..........\n",
    "a.........\n",
    "..........\n",
    "..........\n",
    "a.........\n",
    "..........\n",
    "..........\n",
    "#....#aa#.\n",
    "\"\"\""
   ]
  },
  {
   "cell_type": "code",
   "execution_count": null,
   "metadata": {},
   "outputs": [],
   "source": [
    "p = lambda x:tuple(x)\n",
    "in_part_A = mapt(p,Input(8))\n",
    "#in_part_A = mapt(p,test_d8_1.rstrip().split())\n",
    "#in_part_A = mapt(p,test_d8_2.rstrip().split())\n",
    "#in_part_A = mapt(p,test_d8_3.rstrip().split())\n",
    "MpA = np.matrix(in_part_A)\n",
    "MpA.shape, MpA.size"
   ]
  },
  {
   "cell_type": "code",
   "execution_count": null,
   "metadata": {},
   "outputs": [],
   "source": [
    "def isChrValid(c:str)->bool:\n",
    "    return len(c) == 1 and c.isalnum()\n",
    "\n",
    "def isChrAntenna(c:str)->bool:\n",
    "    return isChrValid(c)\n",
    "\n",
    "def isChrAntinode(c:str)->bool:\n",
    "    return c == '#'\n"
   ]
  },
  {
   "cell_type": "code",
   "execution_count": null,
   "metadata": {},
   "outputs": [],
   "source": [
    "class Line(namedtuple('Line',['p1','p2'])):\n",
    "    __hash__ = tuple.__hash__\n",
    "    def __eq__(self,other)->bool:\n",
    "        return self.p1==other.p1 and self.p2==other.p2 or (self.p1==other.p2 and self.p2==other.p1)\n",
    "    def __repr__(self) -> str:\n",
    "        return f'<Line{tuple.__repr__(self)}, len={self.length()}, m={self.m()}>'\n",
    "    def length(self):\n",
    "        # row,col\n",
    "        y1,x1 = self.p1\n",
    "        y2,x2 = self.p2\n",
    "        return abs(y1-y2) , abs(x1-x2)\n",
    "    def m(self):\n",
    "        \"\"\" m = 0 orizz \"\"\"\n",
    "        y1,x1 = self.p1\n",
    "        y2,x2 = self.p2\n",
    "        if y2 == y1 :\n",
    "            return math.nan\n",
    "        m = (x2-x1)/(y2-y1)\n",
    "        return m\n",
    "    def min_manhattan(self,p):\n",
    "        \"\"\"return point in line nearest to p\"\"\"\n",
    "        y1,x1 = self.p1\n",
    "        y2,x2 = self.p2\n",
    "        y,x = p\n",
    "        m_p1_p = abs(x1-x)+abs(y1-y)\n",
    "        m_p2_p = abs(x2-x)+abs(y2-y)\n",
    "        if m_p1_p < m_p2_p:\n",
    "            return self.p1\n",
    "        return self.p2\n",
    "    \n",
    "    \n",
    "Line((0,0),(2,2)).length() == Line((2,2),(0,0)).length()\n",
    "print(Line((0,0),(0,2)))\n",
    "print(Line((0,0),(2,0)))\n",
    "print(Line((0,0),(2,0)).min_manhattan((4,0)))"
   ]
  },
  {
   "cell_type": "code",
   "execution_count": null,
   "metadata": {},
   "outputs": [],
   "source": [
    "def get_lines(M)->dict:\n",
    "    freq_dict = {}\n",
    "    lines_dict = {}\n",
    "    for freq in mapt(str,set(M.A1)):\n",
    "        #print(f'find freq {freq}')\n",
    "        if isChrAntenna(freq) :\n",
    "            freq_dict[freq] = [(int(x),int(y)) for (x,y) in np.argwhere(M == freq)]\n",
    "            lines_dict[freq] = [Line(p1,p2) for (p1,p2) in list(combinations(freq_dict[freq],2))]\n",
    "        else :\n",
    "            print(f'not a freq {freq}')\n",
    "    return lines_dict\n",
    "\n",
    "def get_antinodes(M,freq_lines:dict):\n",
    "    anodes_dict = {}\n",
    "    for freq,llines in freq_lines.items() :\n",
    "        anodes = set()\n",
    "        point_lines = set()\n",
    "        for l in llines :\n",
    "            L = l.length()\n",
    "            point_lines.update({l.p1,l.p2})\n",
    "            #print(l)\n",
    "            if l.m() >= 0 or l.m()==math.nan  :\n",
    "                if isValid(M.shape,a:=add_tuple(l.p1 , L)) :\n",
    "                    anodes.add(a)\n",
    "                if isValid(M.shape,a:=add_tuple(l.p2 , L)) :\n",
    "                    anodes.add(a)\n",
    "                if isValid(M.shape,a:=sub_tuple(l.p1 , L)) :\n",
    "                    anodes.add(a)\n",
    "                if isValid(M.shape,a:=sub_tuple(l.p2 , L)) :\n",
    "                    anodes.add(a)\n",
    "            else : # l.m() < 0 :\n",
    "                K = (L[0],-L[1])\n",
    "                if isValid(M.shape,a:=add_tuple(l.p1 , K)) :\n",
    "                    anodes.add(a)\n",
    "                if isValid(M.shape,a:=add_tuple(l.p2 , K)) :\n",
    "                    anodes.add(a)\n",
    "                if isValid(M.shape,a:=sub_tuple(l.p1 , K)) :\n",
    "                    anodes.add(a)\n",
    "                if isValid(M.shape,a:=sub_tuple(l.p2 , K)) :\n",
    "                    anodes.add(a)\n",
    "            anodes.difference_update(point_lines)\n",
    "            #print(s)\n",
    "            anodes_dict[freq] = anodes\n",
    "    return anodes_dict\n",
    "        \n",
    "antinodes = get_antinodes(MpA,get_lines(MpA))\n",
    "#antinodes"
   ]
  },
  {
   "cell_type": "code",
   "execution_count": null,
   "metadata": {},
   "outputs": [],
   "source": [
    "res_a = len(set(collapse(antinodes.values(),levels=1)))\n",
    "res_a"
   ]
  },
  {
   "cell_type": "code",
   "execution_count": null,
   "metadata": {},
   "outputs": [],
   "source": [
    "submit(res_a, part=\"a\", day=8, year=2024)"
   ]
  },
  {
   "cell_type": "markdown",
   "metadata": {},
   "source": [
    "### Part 2"
   ]
  },
  {
   "cell_type": "code",
   "execution_count": null,
   "metadata": {},
   "outputs": [],
   "source": [
    "test_d8_4 = \"\"\"\n",
    "T....#....\n",
    "...T......\n",
    ".T....#...\n",
    ".........#\n",
    "..#.......\n",
    "..........\n",
    "...#......\n",
    "..........\n",
    "....#.....\n",
    "..........\n",
    "\"\"\"\n",
    "\n",
    "test_d8_5 = \"\"\"\n",
    "##....#....#\n",
    ".#.#....0...\n",
    "..#.#0....#.\n",
    "..##...0....\n",
    "....0....#..\n",
    ".#...#A....#\n",
    "...#..#.....\n",
    "#....#.#....\n",
    "..#.....A...\n",
    "....#....A..\n",
    ".#........#.\n",
    "...#......##\n",
    "\"\"\"\n",
    "p = lambda x:tuple(x)\n",
    "in_part_A = mapt(p,test_d8_4.rstrip().split())\n",
    "#in_part_A = mapt(p,test_d8_5.rstrip().split())\n",
    "MpA = np.matrix(in_part_A)\n",
    "MpA.shape, MpA.size"
   ]
  },
  {
   "cell_type": "code",
   "execution_count": null,
   "metadata": {},
   "outputs": [],
   "source": [
    "def get_lines(M)->dict:\n",
    "    freq_dict = {}\n",
    "    lines_dict = {}\n",
    "    for freq in mapt(str,set(M.A1)):\n",
    "        #print(f'find freq {freq}')\n",
    "        if isChrAntenna(freq) :\n",
    "            freq_dict[freq] = [(int(x),int(y)) for (x,y) in np.argwhere(M == freq)]\n",
    "            lines_dict[freq] = [Line(p1,p2) for (p1,p2) in list(combinations(freq_dict[freq],2))]\n",
    "        else :\n",
    "            print(f'not a freq {freq}')\n",
    "    return lines_dict\n",
    "\n",
    "# an antinode occurs at any grid position exactly in line with at least two antennas of the same frequency,\n",
    "# regardless of distance. This means that some of the new antinodes will occur at the position of each antenna\n",
    "# (unless that antenna is the only one of its frequency).\n",
    "\n",
    "def get_anodes_from_line(M,l:Line)->Set:\n",
    "    line_anodes = set()\n",
    "    point_lines = set()\n",
    "    point_lines.update({l.p1,l.p2})\n",
    "    L = l.length()\n",
    "    if l.m() >= 0 or l.m()==math.nan  :\n",
    "        if isValid(M.shape,a:=add_tuple(l.p1 , L)) :\n",
    "            line_anodes.add(a)\n",
    "        if isValid(M.shape,a:=add_tuple(l.p2 , L)) :\n",
    "            line_anodes.add(a)\n",
    "        if isValid(M.shape,a:=sub_tuple(l.p1 , L)) :\n",
    "            line_anodes.add(a)\n",
    "        if isValid(M.shape,a:=sub_tuple(l.p2 , L)) :\n",
    "            line_anodes.add(a)\n",
    "    else : # l.m() < 0 :\n",
    "        K = (L[0],-L[1])\n",
    "        if isValid(M.shape,a:=add_tuple(l.p1 , K)) :\n",
    "            line_anodes.add(a)\n",
    "        if isValid(M.shape,a:=add_tuple(l.p2 , K)) :\n",
    "            line_anodes.add(a)\n",
    "        if isValid(M.shape,a:=sub_tuple(l.p1 , K)) :\n",
    "            line_anodes.add(a)\n",
    "        if isValid(M.shape,a:=sub_tuple(l.p2 , K)) :\n",
    "            line_anodes.add(a)\n",
    "    line_anodes.update(point_lines)\n",
    "    return line_anodes\n",
    "\n",
    "def get_antinodes(M,freq_lines:dict):\n",
    "    anodes_dict = {}\n",
    "    for freq,llines in freq_lines.items() :\n",
    "        freq_anodes = set()\n",
    "        for line in llines :\n",
    "            print(line)\n",
    "            point_lines = set()\n",
    "            anodes_lines = deque()\n",
    "            anodes_lines.append(line)\n",
    "            while(len(anodes_lines)) :\n",
    "                curr_line = anodes_lines.pop()\n",
    "                point_lines.add(curr_line)\n",
    "                new_anodes_set = get_anodes_from_line(MpA,curr_line)\n",
    "                freq_anodes.update(new_anodes_set)\n",
    "                #make a new line with one old line point nearest to a new anode\n",
    "                for anode in new_anodes_set :\n",
    "                    nearest = curr_line.min_manhattan(anode)\n",
    "                    new_line = Line(nearest,anode)\n",
    "                    if new_line not in point_lines :\n",
    "                        print(\"new line\",new_line)\n",
    "                        point_lines.add(curr_line)\n",
    "                        anodes_lines.append(new_line)\n",
    "                \n",
    "            \n",
    "            anodes_dict[freq] = freq_anodes\n",
    "    return anodes_dict\n",
    "        \n",
    "antinodes = get_antinodes(MpA,get_lines(MpA))\n",
    "#antinodes"
   ]
  },
  {
   "cell_type": "code",
   "execution_count": null,
   "metadata": {},
   "outputs": [],
   "source": [
    "res_b = len(set(collapse(antinodes.values(),levels=1)))\n",
    "res_b"
   ]
  },
  {
   "cell_type": "code",
   "execution_count": null,
   "metadata": {},
   "outputs": [],
   "source": [
    "submit(res_b, part=\"b\", day=8, year=2024)"
   ]
  },
  {
   "cell_type": "markdown",
   "metadata": {},
   "source": [
    "[home](#home)\n",
    "# Day 9\n",
    "[Disk Fragmenter](https://adventofcode.com/2024/day/9)  \n",
    "\n",
    "20000 / 2 = 10000 ==> numero di iD  \n",
    "\n",
    "The Unicode standard describes how characters are represented by code points. A code point value is an integer in the range 0 to 0x10FFFF (about 1.1 million values, the actual number assigned is less than that). In the standard and in this document, a code point is written using the notation U+265E to mean the character with value 0x265e (9,822 in decimal).\n",
    "\n",
    "One-character Unicode strings can also be created with the chr() built-in function, which takes integers and returns a Unicode string of length 1 that contains the corresponding code point. The reverse operation is the built-in ord() function that takes a one-character Unicode string and returns the code point value  \n",
    "\n",
    "# magic is HERE !!!! \".\" will be a valid block_iD\n",
    "# so choose one outside iDs range that is [0..input_len/2]"
   ]
  },
  {
   "cell_type": "code",
   "execution_count": null,
   "metadata": {},
   "outputs": [],
   "source": [
    "get_in_file(9,2024)"
   ]
  },
  {
   "cell_type": "code",
   "execution_count": null,
   "metadata": {},
   "outputs": [],
   "source": [
    "debug = False\n",
    "p = lambda x: list(x.strip())\n",
    "in_part_A, = Input(9,line_parser=p)\n",
    "#in_part_A = list(\"2333133121414131402\")\n",
    "disk_map = mapt(lambda y: int(y) , in_part_A+['0'])\n",
    "len(disk_map)"
   ]
  },
  {
   "cell_type": "code",
   "execution_count": null,
   "metadata": {},
   "outputs": [],
   "source": [
    "# magic is HERE !!!! \".\" will be a valid block_iD\n",
    "# so choose on outside iDs range that is input len / 2\n",
    "max_iD = len(disk_map)/2\n",
    "dot_iD = int(max_iD+1)\n",
    "tod_iD = int(max_iD+2)\n",
    "if len(disk_map) < 100  : \n",
    "    dot_iD = '.'\n",
    "    tod_iD = '+'\n",
    "dot_iD, tod_iD"
   ]
  },
  {
   "cell_type": "code",
   "execution_count": null,
   "metadata": {},
   "outputs": [],
   "source": [
    "def get_disk(diskMap:Tuple)->str: \n",
    "    return collapse([([iD]*f_n,[dot_iD]*e_n) for iD,(f_n,e_n) in zip(count(),batched(diskMap,2))])\n",
    "    \n",
    "tuple(get_disk(disk_map))"
   ]
  },
  {
   "cell_type": "code",
   "execution_count": null,
   "metadata": {},
   "outputs": [],
   "source": [
    "def swp(l:List,i1,i2):\n",
    "    #print(\"swp [{}]={} [{}]={}\".format(i1,l[i1],i2,l[i2]))            \n",
    "    tmp = l[i1]\n",
    "    l[i1] = l[i2]\n",
    "    l[i2] = tmp\n",
    "\n",
    "def compact(disk_gtor:Generator)->List:\n",
    "    disk_list = list(disk_gtor)   \n",
    "    it_ele = enumerate(disk_list)\n",
    "    it_rev = reversed(list(enumerate(disk_list)))\n",
    "    for i,e in it_ele :\n",
    "        if e == dot_iD : \n",
    "            # start from the end find the first (last) id_file to move \n",
    "            j,r = next(it_rev)\n",
    "            while r == dot_iD :\n",
    "                j,r = next(it_rev)\n",
    "            if (i<j) :\n",
    "                swp(disk_list,i,j)\n",
    "            else :\n",
    "                break\n",
    "    return disk_list\n",
    "    \n",
    "\n",
    "print([x for x in get_disk(disk_map)])\n",
    "res_list = compact(get_disk(disk_map))\n",
    "print(res_list)\n",
    "# If a block contains free space, skip it instead\n",
    "res_a = sum([x*i for x,i in zip(res_list,count()) if x!= dot_iD])\n",
    "res_a"
   ]
  },
  {
   "cell_type": "code",
   "execution_count": null,
   "metadata": {},
   "outputs": [],
   "source": [
    "submit(res_a, part=\"a\", day=9, year=2024)"
   ]
  },
  {
   "cell_type": "markdown",
   "metadata": {},
   "source": [
    "### Part 2  \n",
    "\n",
    "attempt to move whole files to the leftmost span of free space blocks that could fit the file.  \n",
    "\n",
    "Attempt to move each file exactly once in order of decreasing file ID number starting with the file with the highest file ID number  \n",
    "\n",
    "If there is no span of free space to the left of a file that is large enough to fit the file, the file does not move.\n"
   ]
  },
  {
   "cell_type": "code",
   "execution_count": null,
   "metadata": {},
   "outputs": [],
   "source": [
    "def move_inplace(lst:List, f_blk:List, f_blk_idx, e_blk_idx)->List:\n",
    "    \"\"\"\n",
    "    f_blk = file block NNNN , N unique for each file\n",
    "    e_blk_idx = leftmost empty block index\n",
    "    \"\"\"\n",
    "    lst[e_blk_idx:e_blk_idx+len(f_blk)] = f_blk\n",
    "    lst[f_blk_idx:f_blk_idx+len(f_blk)] = [tod_iD]*len(f_blk)\n",
    "    #print(\"head {} file {} body {} free {} tail {}\".format(head,f_blk,body,free_blk,tail))\n",
    "                        \n",
    "def compact(disk_gtor:Generator)->List:\n",
    "    disk_list = list(disk_gtor)\n",
    "    gby_rev = groupby([x for x in reversed(disk_list)])\n",
    "    for file_iD,file_blk in gby_rev :\n",
    "        file_blk = list(file_blk)\n",
    "        file_len = len(file_blk)\n",
    "        f_blk_idx = disk_list.index(file_blk[0])\n",
    "        if file_iD != dot_iD :\n",
    "            print(\"try move\",file_blk, f_blk_idx)\n",
    "            # Attempt to move whole files to the leftmost span of free space blocks that could fit the file\n",
    "            # Attempt to move each file exactly once in order of decreasing file ID number starting with the file with the highest file ID number\n",
    "            # If there is no span of free space to the left of a file that is large enough to fit the file, the file does not move\n",
    "            # !!! OPTIMIZATION !!! use disk_list[:f_blk_idx] instead of disk_list  \n",
    "            gby_ele = groupby([x for x in disk_list[:f_blk_idx]])\n",
    "            e_blk_idx = 0\n",
    "            for iD,blk in gby_ele :\n",
    "                blk_len = len(list(blk))\n",
    "                if (iD == dot_iD) and (file_len <= blk_len) and (e_blk_idx < f_blk_idx) :\n",
    "                    # fit --> move file block\n",
    "                    print(\"*** fit len({})<=len({}) idx_empty {} idx_file {}\".format(file_len,blk_len,e_blk_idx, f_blk_idx))\n",
    "                    move_inplace(disk_list,file_blk,f_blk_idx,e_blk_idx)\n",
    "                    break\n",
    "                e_blk_idx += blk_len\n",
    "    return [dot_iD if x == tod_iD else x for x in disk_list]\n",
    "\n",
    "res_list = compact(get_disk(disk_map))\n",
    "res_list\n"
   ]
  },
  {
   "cell_type": "code",
   "execution_count": null,
   "metadata": {},
   "outputs": [],
   "source": [
    "res_b = sum([x*i for x,i in zip(res_list,count()) if x!= dot_iD])\n",
    "res_b\n"
   ]
  },
  {
   "cell_type": "code",
   "execution_count": null,
   "metadata": {},
   "outputs": [],
   "source": [
    "submit(res_b, part=\"b\", day=9, year=2024)"
   ]
  },
  {
   "cell_type": "markdown",
   "metadata": {},
   "source": [
    "[home](#home)\n",
    "# Day 10\n",
    "[Hoof It](https://adventofcode.com/2024/day/)  \n",
    "\n",
    "A *hiking trail* is any path that starts at height 0, ends at height 9, and **always increases by a height of exactly 1 at each step**  \n",
    "Hiking trails never include diagonal steps - only up, down, left, or right  \n",
    "A *trailhead* is any position that starts one or more *hiking trails* - here, these positions will always have height 0.  \n",
    "A *trailhead*'s score is the number of 9-height positions reachable from that trailhead via a hiking trail."
   ]
  },
  {
   "cell_type": "code",
   "execution_count": null,
   "metadata": {},
   "outputs": [],
   "source": [
    "get_in_file(10,2024)"
   ]
  },
  {
   "cell_type": "code",
   "execution_count": null,
   "metadata": {},
   "outputs": [],
   "source": [
    "test_d10 = \"\"\"\n",
    "89010123\n",
    "78121874\n",
    "87430965\n",
    "96549874\n",
    "45678903\n",
    "32019012\n",
    "01329801\n",
    "10456732\n",
    "\"\"\"\n",
    "test_d10_x1 = \"\"\"\n",
    "99099999\n",
    "99129999\n",
    "99439999\n",
    "99549999\n",
    "99678999\n",
    "\"\"\"\n",
    "test_d10_x2 = \"\"\"\n",
    "9999909\n",
    "9943219\n",
    "9959929\n",
    "9965439\n",
    "9979949\n",
    "1187659\n",
    "1191111\n",
    "\"\"\""
   ]
  },
  {
   "cell_type": "code",
   "execution_count": null,
   "metadata": {},
   "outputs": [],
   "source": [
    "#in_part_A = mapt(lambda y:(mapt(lambda z: int(z), y)), mapt(lambda x:tuple(x),test_d10.strip().split(\"\\n\")))\n",
    "#in_part_A = mapt(lambda y:(mapt(lambda z: int(z), y)), mapt(lambda x:tuple(x),test_d10_x1.strip().split(\"\\n\")))\n",
    "#in_part_A = mapt(lambda y:(mapt(lambda z: int(z), y)), mapt(lambda x:tuple(x),test_d10_x2.strip().split(\"\\n\")))\n",
    "in_part_A = mapt(lambda y:(mapt(lambda z: int(z), y)),Input(10))\n",
    "MpA = np.matrix(in_part_A)\n",
    "MpA.shape, MpA.size"
   ]
  },
  {
   "cell_type": "code",
   "execution_count": null,
   "metadata": {},
   "outputs": [],
   "source": [
    "summit = 9\n",
    "trailheads = tuple(np.argwhere(MpA == 0).tolist())\n",
    "summits = tuple(np.argwhere(MpA == 9).tolist())"
   ]
  },
  {
   "cell_type": "code",
   "execution_count": null,
   "metadata": {},
   "outputs": [],
   "source": [
    "def get_trailheads_trees(_trailheads:Tuple, M:np.ndarray)->Tuple[Node]:\n",
    "    _trailheads_trees = mapt(lambda x: Node(tuple(x), sep='/', height=0, coor=tuple(x)),_trailheads)\n",
    "    q = deque()\n",
    "    for trail in _trailheads_trees :\n",
    "        #q.clear()\n",
    "        s = set()\n",
    "        q.append(trail)\n",
    "        while len(q) > 0 :\n",
    "            curr_node = q.pop()\n",
    "            for ij in [(-1,0),(1,0),(0,-1),(0,1)] :\n",
    "                next_pos = add_tuple(curr_node.coor,ij)\n",
    "                #print(\"*\",next_pos)\n",
    "                if isValid(M.shape,next_pos) :\n",
    "                    dH = M[next_pos] - M[curr_node.coor]\n",
    "                    if dH == 1 and (next_pos not in s) :\n",
    "                        #print(\"append {} to {}\".format( next_pos, curr_node.coor))\n",
    "                        q.append(Node(tuple(next_pos), sep='/', height=M[next_pos], coor=next_pos, parent=curr_node))\n",
    "                        s.add(next_pos)\n",
    "    return _trailheads_trees\n",
    "\n",
    "trailheads_trees = get_trailheads_trees(trailheads, MpA)"
   ]
  },
  {
   "cell_type": "code",
   "execution_count": null,
   "metadata": {},
   "outputs": [],
   "source": [
    "res_a = sum(mapt(lambda x: len([l for l in x.leaves if l.height==9]), trailheads_trees))\n",
    "res_a"
   ]
  },
  {
   "cell_type": "code",
   "execution_count": null,
   "metadata": {},
   "outputs": [],
   "source": [
    "submit(res_a, part=\"a\", day=10, year=2024)"
   ]
  },
  {
   "cell_type": "markdown",
   "metadata": {},
   "source": [
    "### Part 2\n",
    "\n",
    "A trailhead's *rating* is the number of distinct hiking trails which begin at that trailhead"
   ]
  },
  {
   "cell_type": "code",
   "execution_count": null,
   "metadata": {},
   "outputs": [],
   "source": [
    "def get_trailheads_trees(_trailheads:Tuple, M:np.ndarray)->Tuple[Node]:\n",
    "    _trailheads_trees = mapt(lambda x: Node(tuple(x), sep='/', height=0, coor=tuple(x)),_trailheads)\n",
    "    q = deque()\n",
    "    for trail in _trailheads_trees :\n",
    "        #q.clear()\n",
    "        s = set()\n",
    "        q.append(trail)\n",
    "        while len(q) > 0 :\n",
    "            curr_node = q.pop()\n",
    "            for ij in [(-1,0),(1,0),(0,-1),(0,1)] :\n",
    "                next_pos = add_tuple(curr_node.coor,ij)\n",
    "                #print(\"*\",next_pos)\n",
    "                if isValid(M.shape,next_pos) :\n",
    "                    dH = M[next_pos] - M[curr_node.coor]\n",
    "                    if dH == 1 and (next_pos not in s) :\n",
    "                        #print(\"append {} to {}\".format( next_pos, curr_node.coor))\n",
    "                        q.append(Node(tuple(next_pos), sep='/', height=M[next_pos], coor=next_pos, parent=curr_node))\n",
    "                        #s.add(next_pos)\n",
    "    return _trailheads_trees\n",
    "\n",
    "trailheads_trees = get_trailheads_trees(trailheads, MpA)"
   ]
  },
  {
   "cell_type": "code",
   "execution_count": null,
   "metadata": {},
   "outputs": [],
   "source": [
    "trailheads_trees[0].show(attr_list=[\"height\"])"
   ]
  },
  {
   "cell_type": "code",
   "execution_count": null,
   "metadata": {},
   "outputs": [],
   "source": [
    "mapt(lambda x: len([l for l in x.leaves if l.height==9]), trailheads_trees)"
   ]
  },
  {
   "cell_type": "code",
   "execution_count": null,
   "metadata": {},
   "outputs": [],
   "source": [
    "res_b = sum(mapt(lambda x: len([l for l in x.leaves if l.height==9]), trailheads_trees))\n",
    "res_b"
   ]
  },
  {
   "cell_type": "code",
   "execution_count": null,
   "metadata": {},
   "outputs": [],
   "source": [
    "submit(res_b, part=\"b\", day=10, year=2024)"
   ]
  },
  {
   "cell_type": "markdown",
   "metadata": {},
   "source": [
    "[home](#home)\n",
    "# Day 11\n",
    "[Plutonian Pebbles](https://adventofcode.com/2024/day/11)  "
   ]
  },
  {
   "cell_type": "code",
   "execution_count": 3,
   "metadata": {},
   "outputs": [],
   "source": [
    "get_in_file(11,2024)"
   ]
  },
  {
   "cell_type": "code",
   "execution_count": null,
   "metadata": {},
   "outputs": [],
   "source": [
    "in_part_A, = mapt(lambda y:(mapt(lambda z: int(z), str.split(y.strip()))),Input(11))\n",
    "in_part_A"
   ]
  },
  {
   "cell_type": "code",
   "execution_count": null,
   "metadata": {},
   "outputs": [],
   "source": [
    "def stone_gtor(num:int)->Generator:\n",
    "    \"\"\" return stone number\"\"\"\n",
    "    num_s = str(num)\n",
    "    if num == 0 :\n",
    "        yield 1,\n",
    "    elif (l:=len(num_s))%2 == 0 :\n",
    "        # // integer division , >>1 is faster than //2 \n",
    "        left = int(num_s[:l>>1])\n",
    "        right = int(num_s[l>>1:])\n",
    "        yield left,right\n",
    "    else :\n",
    "        yield num*2024,\n",
    "        \n",
    "def count_stones(loops:int,init_stones:Tuple)->int:\n",
    "    stones = deque(init_stones)\n",
    "    for i in range(loops) :\n",
    "        print(\"= {} = stones {}\".format(i,len(stones)))\n",
    "        for j in range(len(stones)) :\n",
    "            #print(\"--\",j)\n",
    "            for s in next(stone_gtor(stones.popleft())):\n",
    "                #print(\"append\",s)\n",
    "                stones.append(s)\n",
    "    return len(stones)\n"
   ]
  },
  {
   "cell_type": "code",
   "execution_count": null,
   "metadata": {},
   "outputs": [],
   "source": [
    "#in_part_A = (125,17)\n",
    "res_a = count_stones(25,in_part_A)\n",
    "res_a"
   ]
  },
  {
   "cell_type": "code",
   "execution_count": null,
   "metadata": {},
   "outputs": [],
   "source": [
    "submit(res_a, part=\"a\", day=11, year=2024)"
   ]
  },
  {
   "cell_type": "markdown",
   "metadata": {},
   "source": [
    "### Part 2"
   ]
  },
  {
   "cell_type": "code",
   "execution_count": null,
   "metadata": {},
   "outputs": [],
   "source": [
    "def stone_gtor(num:int)->Generator:\n",
    "    \"\"\" return stone number\"\"\"\n",
    "    num_s = str(num)\n",
    "    \n",
    "    if num == 0 :\n",
    "        yield 1,\n",
    "    elif (l:=len(num_s)) % 2 == 0:\n",
    "        try :\n",
    "            left = int(num_s[:l>>1])\n",
    "            right = int(num_s[l>>1:])\n",
    "            yield left,right\n",
    "        except ValueError :\n",
    "            print(num)\n",
    "    else :\n",
    "        yield num*2024,\n",
    "        \n",
    "def count_stones(loops:int,init_stones:Tuple)->int:\n",
    "    stones = Counter(init_stones) \n",
    "    for i in range(loops) :\n",
    "        new = Counter()\n",
    "        for num,cnt in stones.items() :\n",
    "            #print(k,v)\n",
    "            for s in next(stone_gtor(num)) :\n",
    "                new.update({s:cnt})\n",
    "        stones = new\n",
    "        print(\"= {} = stones {}\".format(i,stones.total()))\n",
    "        \n",
    "    return stones.total()"
   ]
  },
  {
   "cell_type": "code",
   "execution_count": null,
   "metadata": {},
   "outputs": [],
   "source": [
    "res_b = count_stones(75,in_part_A)\n",
    "res_b\n",
    "    "
   ]
  },
  {
   "cell_type": "code",
   "execution_count": null,
   "metadata": {},
   "outputs": [],
   "source": [
    "# (7568, 155731, 0, 972, 1, 6919238, 80646, 22)\n",
    "%load_ext line_profiler\n",
    "%lprun -T lprof0 -f stone_gtor -f count_stones count_stones(75, in_part_A)"
   ]
  },
  {
   "cell_type": "code",
   "execution_count": null,
   "metadata": {},
   "outputs": [],
   "source": [
    "import timeit\n",
    "timeit.timeit('l >> 1', setup='l = 172387**99')"
   ]
  },
  {
   "cell_type": "code",
   "execution_count": null,
   "metadata": {},
   "outputs": [],
   "source": [
    "timeit.timeit('l//2', setup='l = 172387**99')"
   ]
  },
  {
   "cell_type": "code",
   "execution_count": null,
   "metadata": {},
   "outputs": [],
   "source": [
    "timeit.timeit('l & 0x0', setup='l = 172387**99')"
   ]
  },
  {
   "cell_type": "code",
   "execution_count": null,
   "metadata": {},
   "outputs": [],
   "source": [
    "timeit.timeit('(l % 2) == 0', setup='l = 172387**99')"
   ]
  },
  {
   "cell_type": "code",
   "execution_count": null,
   "metadata": {},
   "outputs": [],
   "source": [
    "(l & 0x1) == 0"
   ]
  },
  {
   "cell_type": "code",
   "execution_count": null,
   "metadata": {},
   "outputs": [],
   "source": [
    "submit(res_b, part=\"b\", day=11, year=2024)"
   ]
  },
  {
   "cell_type": "markdown",
   "metadata": {},
   "source": [
    "[home](#home)\n",
    "# Day 12\n",
    "[Garden Groups](https://adventofcode.com/2024/day/12)  \n",
    "\n",
    "Each *garden plot* grows only a single type of plant and is indicated by a single letter on your map.  \n",
    "\n",
    "When *multiple garden plots* are growing the same type of plant and are *touching* (horizontally or vertically), they form a **region**  \n",
    "\n",
    "The **area** of a *region* is simply the number of garden plots the region contains.  \n",
    "\n",
    "Each garden plot is a square and so has *four sides*. The **perimeter of a region is the *number of sides* of garden plots in the region that *do not touch* another garden plot in the same region**\n",
    "\n",
    "Plants of the same type can appear in multiple separate regions, and regions can even appear within other regions\n",
    "\n",
    "\n"
   ]
  },
  {
   "cell_type": "code",
   "execution_count": null,
   "metadata": {},
   "outputs": [],
   "source": [
    "get_in_file(12,2024)"
   ]
  },
  {
   "cell_type": "code",
   "execution_count": 6,
   "metadata": {},
   "outputs": [],
   "source": [
    "test_d12_1 = \"\"\"\n",
    "RRRRIICCFF\n",
    "RRRRIICCCF\n",
    "VVRRRCCFFF\n",
    "VVRCCCJFFF\n",
    "VVVVCJJCFE\n",
    "VVIVCCJJEE\n",
    "VVIIICJJEE\n",
    "MIIIIIJJEE\n",
    "MIIISIJEEE\n",
    "MMMISSJEEE\n",
    "\"\"\"\n",
    "test_d12_2 = \"\"\"\n",
    "AAAA\n",
    "BBCD\n",
    "BBCC\n",
    "EEEC\n",
    "\"\"\"\n",
    "test_d12_3 = \"\"\"\n",
    "OOOOO\n",
    "OXOXO\n",
    "OOOOO\n",
    "OXOXO\n",
    "OOOOO\n",
    "\"\"\"\n",
    "test_d12_4 = \"\"\" \n",
    "EEEEE\n",
    "EXXXX\n",
    "EEEEE\n",
    "EXXXX\n",
    "EEEEE\n",
    "\"\"\"\n",
    "test_d12_5 = \"\"\"\n",
    "AAAAAA\n",
    "AAABBA\n",
    "AAABBA\n",
    "ABBAAA\n",
    "ABBAAA\n",
    "AAAAAA\n",
    "\"\"\""
   ]
  },
  {
   "cell_type": "code",
   "execution_count": null,
   "metadata": {},
   "outputs": [],
   "source": [
    "p = lambda x:tuple(x)\n",
    "in_part_A = mapt(p,Input(12))\n",
    "#in_part_A = mapt(p,test_d12_1.rstrip().split())\n",
    "#in_part_A = mapt(p,test_d12_2.rstrip().split())\n",
    "#in_part_A = mapt(p,test_d12_3.rstrip().split())\n",
    "in_part_A = mapt(p,test_d12_4.rstrip().split())\n",
    "MpA = np.matrix(in_part_A)\n",
    "MpA.shape, MpA.size"
   ]
  },
  {
   "cell_type": "code",
   "execution_count": 8,
   "metadata": {},
   "outputs": [],
   "source": [
    "def get_regions(input)->List[Set]:\n",
    "    \"\"\" regions = dict of list of set {k:[{},{},...,{}]}\"\"\"\n",
    "    regions = dict()\n",
    "    garden_plots = dict()\n",
    "    M = np.matrix(input)\n",
    "    \n",
    "    for t in set(flatten(input)) :\n",
    "        garden_plots[t] = [(int(x),int(y)) for (x,y) in np.argwhere(M == t)]\n",
    "    for plot_type in garden_plots :\n",
    "        regions[plot_type] =  []\n",
    "        plots_set = set(garden_plots[plot_type])\n",
    "        while len(plots_set) :\n",
    "            #print(plots_set)\n",
    "            plot = plots_set.pop()\n",
    "            tmp_set = set([plot])\n",
    "            curr_set = set([plot])\n",
    "            while len(tmp_set) :\n",
    "                tmp_plot = tmp_set.pop()\n",
    "                for ij in [(-1,0),(1,0),(0,-1),(0,1)] :\n",
    "                    side_plot = add_tuple(tmp_plot,ij)\n",
    "                    #print(\"*\",next_pos)\n",
    "                    if isValid(M.shape,side_plot) and M[side_plot]==plot_type and side_plot not in curr_set :\n",
    "                        tmp_set.add(side_plot)\n",
    "                        curr_set.add(side_plot)\n",
    "            regions[plot_type].append(curr_set)\n",
    "            plots_set.difference_update(curr_set)\n",
    "    return regions,M\n",
    "    \n",
    "def get_area(_region:Set)->int:\n",
    "    return len(_region)\n",
    "\n",
    "def get_perimeter(_type,_region:Set,M)->int:\n",
    "    \"\"\" \n",
    "    Each garden plot is a square and so has four sides.\n",
    "    The perimeter of a region is the number of sides of garden plots in the region that do not touch another garden plot in the same region\n",
    "    for each plot with coor (i,j) in a region :\n",
    "        4 - ( num sametype plot adj(i,j) )\n",
    "    \"\"\"\n",
    "    perimeter = 0\n",
    "    for plot in _region:\n",
    "        num_side = 4\n",
    "        for ij in [(-1,0),(1,0),(0,-1),(0,1)] :\n",
    "            side_plot = add_tuple(plot,ij)\n",
    "            #print(\"*\",next_pos)\n",
    "            if isValid(M.shape,side_plot) and M[side_plot]==_type :\n",
    "                num_side -= 1\n",
    "        perimeter += num_side\n",
    "    return perimeter\n",
    "\n",
    "def get_prices(_regions:Dict,M)->list:\n",
    "    prices = []\n",
    "    for k,_regions_list in _regions.items() :\n",
    "        for _region in _regions_list :\n",
    "            A = get_area(_region)\n",
    "            p = get_perimeter(k,_region,M)\n",
    "            prices.append(A * p)\n",
    "            #print(\"{}: A={} p={} price {}\".format(k,A,p,A*p))\n",
    "    return prices\n"
   ]
  },
  {
   "cell_type": "code",
   "execution_count": 9,
   "metadata": {},
   "outputs": [],
   "source": [
    "assert( sum(get_prices(*get_regions(mapt(p,test_d12_1.rstrip().split())))) == 1930 )\n",
    "assert( sum(get_prices(*get_regions(mapt(p,test_d12_3.rstrip().split())))) ==  772 )"
   ]
  },
  {
   "cell_type": "code",
   "execution_count": null,
   "metadata": {},
   "outputs": [],
   "source": [
    "res_a = sum(get_prices(*get_regions(in_part_A)))\n",
    "res_a"
   ]
  },
  {
   "cell_type": "code",
   "execution_count": null,
   "metadata": {},
   "outputs": [],
   "source": [
    "submit(res_a, part=\"a\", day=12, year=2024)"
   ]
  },
  {
   "cell_type": "markdown",
   "metadata": {},
   "source": [
    "### Part 2"
   ]
  },
  {
   "cell_type": "code",
   "execution_count": 12,
   "metadata": {},
   "outputs": [],
   "source": [
    "def get_perimeter_plots(_type,_region:Set,M)->Set:\n",
    "    \"\"\" \n",
    "    Each garden plot is a square and so has four sides.\n",
    "    The perimeter of a region is the number of sides of garden plots in the region that do not touch another garden plot in the same region\n",
    "    \n",
    "    \"\"\"\n",
    "    perimeter = set()\n",
    "    for plot in _region:\n",
    "        for ij in [(-1,0),(1,0),(0,-1),(0,1)] :\n",
    "            side_plot = add_tuple(plot,ij)\n",
    "            if isValid(M.shape,side_plot) and M[side_plot]==_type :\n",
    "                perimeter.add(side_plot)\n",
    "    return perimeter\n",
    "\n",
    "def get_sides(_type,_region:Set,M)->Set:\n",
    "    \"\"\" \n",
    "    Each garden plot is a square and so has four sides.\n",
    "    The perimeter of a region is the number of sides of garden plots in the region that do not touch another garden plot in the same region\n",
    "    \"\"\"\n",
    "    _pp = get_perimeter_plots(_type,_region,M)\n",
    "    for plot in _pp:\n",
    "        for ij in [(-1,0),(1,0),(0,-1),(0,1)] :\n",
    "            side_plot = add_tuple(plot,ij)\n",
    "            #print(\"*\",next_pos)\n",
    "            if isValid(M.shape,side_plot) and M[side_plot]==_type :\n",
    "                num_side -= 1\n",
    "        perimeter += num_side\n",
    "    return perimeter\n",
    "\n",
    "\n",
    "def get_prices(_regions:Dict,M)->list:\n",
    "    prices = []\n",
    "    for k,_regions_list in _regions.items() :\n",
    "        for _region in _regions_list :\n",
    "            A = get_area(_region)\n",
    "            s = get_sides(k,_region,M)\n",
    "            prices.append(A * s)\n",
    "            print(\"{}: A={} p={} price {}\".format(k,A,s,A*s))\n",
    "    return prices"
   ]
  },
  {
   "cell_type": "code",
   "execution_count": null,
   "metadata": {},
   "outputs": [],
   "source": [
    "#in_part_A = mapt(p,test_d12_4.rstrip().split())\n",
    "in_part_A = mapt(p,test_d12_5.rstrip().split())\n",
    "regions,MpA = get_regions(in_part_A)\n",
    "regions\n"
   ]
  },
  {
   "cell_type": "code",
   "execution_count": null,
   "metadata": {},
   "outputs": [],
   "source": [
    "pp = get_perimeter_plots('E',regions['E'][0],MpA)\n",
    "pp"
   ]
  },
  {
   "cell_type": "code",
   "execution_count": null,
   "metadata": {},
   "outputs": [],
   "source": [
    "len(pp) == len(regions['E'][0])"
   ]
  },
  {
   "cell_type": "code",
   "execution_count": null,
   "metadata": {},
   "outputs": [],
   "source": [
    "assert( sum(get_prices(*get_regions(mapt(p,test_d12_4.rstrip().split())))) == 236 )\n",
    "assert( sum(get_prices(*get_regions(mapt(p,test_d12_5.rstrip().split())))) == 368 )"
   ]
  },
  {
   "cell_type": "code",
   "execution_count": null,
   "metadata": {},
   "outputs": [],
   "source": [
    "res_b = sum(get_prices(*get_regions(in_part_A)))\n",
    "res_b"
   ]
  },
  {
   "cell_type": "code",
   "execution_count": null,
   "metadata": {},
   "outputs": [],
   "source": [
    "#submit(res_b, part=\"b\", day=12, year=2024)"
   ]
  },
  {
   "cell_type": "markdown",
   "metadata": {},
   "source": [
    "[home](#home)\n",
    "# Day 13\n",
    "[Claw Contraption](https://adventofcode.com/2024/day/13)  \n"
   ]
  },
  {
   "cell_type": "code",
   "execution_count": 2,
   "metadata": {},
   "outputs": [],
   "source": [
    "get_in_file(13,2024)"
   ]
  },
  {
   "cell_type": "code",
   "execution_count": 3,
   "metadata": {},
   "outputs": [],
   "source": [
    "test_d13 = \"\"\"\\\n",
    "Button A: X+94, Y+34\n",
    "Button B: X+22, Y+67\n",
    "Prize: X=8400, Y=5400\n",
    "\n",
    "Button A: X+26, Y+66\n",
    "Button B: X+67, Y+21\n",
    "Prize: X=12748, Y=12176\n",
    "\n",
    "Button A: X+17, Y+86\n",
    "Button B: X+84, Y+37\n",
    "Prize: X=7870, Y=6450\n",
    "\n",
    "Button A: X+69, Y+23\n",
    "Button B: X+27, Y+71\n",
    "Prize: X=18641, Y=10279\\\n",
    "\"\"\""
   ]
  },
  {
   "cell_type": "code",
   "execution_count": 5,
   "metadata": {},
   "outputs": [],
   "source": [
    "in_part_A = parse(13,parser=str,sep=\"\\n\\n\")\n",
    "#in_part_A = test_d13.split(\"\\n\\n\")\n"
   ]
  },
  {
   "cell_type": "code",
   "execution_count": 6,
   "metadata": {},
   "outputs": [],
   "source": [
    "#regex = r\"\"\"Button A: X\\+(?P<x1>\\d+), Y\\+(?P<y1>\\d+)\\nButton B: X\\+(?P<x2>\\d+), Y\\+(?P<y2>\\d+)\\nPrize: X=(?P<c1>\\d+), Y=(?P<c2>\\d+)\"\"\"\n",
    "regex = r\"\"\"Button A: X\\+(\\d+), Y\\+(\\d+)\\nButton B: X\\+(\\d+), Y\\+(\\d+)\\nPrize: X=(\\d+), Y=(\\d+)\"\"\""
   ]
  },
  {
   "cell_type": "code",
   "execution_count": null,
   "metadata": {},
   "outputs": [],
   "source": [
    "eq = mapt(lambda z: mapt(lambda y: int(y), z), [x[0] for x in [re.findall(regex, line) for line in in_part_A]])\n",
    "eq"
   ]
  },
  {
   "cell_type": "code",
   "execution_count": 40,
   "metadata": {},
   "outputs": [],
   "source": [
    "def solve_eq(t:Tuple):\n",
    "    \"\"\"\n",
    "        Button A: X+94, Y+34\n",
    "        Button B: X+22, Y+67\n",
    "        Prize: X=8400, Y=5400\n",
    "        \n",
    "        94*x + 22*y = 8400\n",
    "        34*y + 67*y = 5400\n",
    "        \n",
    "        a1*x + b1*y = c1\n",
    "        a2*x + b2*y = c2\n",
    "    \"\"\"\n",
    "    a1,a2,b1,b2,c1,c2 = t\n",
    "    D  = (a1*b2)-(a2*b1)\n",
    "    Dx = (c1*b2)-(c2*b1)  \n",
    "    Dy = (a1*c2)-(a2*c1)\n",
    "    if D == 0 :\n",
    "        return 0\n",
    "    x = Dx//D\n",
    "    y = Dy//D\n",
    "    #print(\">>\",x,y,c1,c2)\n",
    "    if ((a1*x)+(b1*y),(a2*x)+(b2*y)) == (c1,c2) :\n",
    "        return 3*x+y\n",
    "    else :\n",
    "        return 0\n",
    "     "
   ]
  },
  {
   "cell_type": "code",
   "execution_count": null,
   "metadata": {},
   "outputs": [],
   "source": [
    "res_a = sum(mapt(solve_eq, eq))\n",
    "res_a"
   ]
  },
  {
   "cell_type": "code",
   "execution_count": null,
   "metadata": {},
   "outputs": [],
   "source": [
    "submit(res_a, part=\"a\", day=13, year=2024)"
   ]
  },
  {
   "cell_type": "markdown",
   "metadata": {},
   "source": [
    "### Part 2"
   ]
  },
  {
   "cell_type": "code",
   "execution_count": 42,
   "metadata": {},
   "outputs": [],
   "source": [
    "def solve_eq_2(t:Tuple):\n",
    "    \"\"\"\n",
    "        Button A: X+94, Y+34\n",
    "        Button B: X+22, Y+67\n",
    "        Prize: X=(10**13)+8400, Y=(10**13)+5400\n",
    "        \n",
    "        94*x + 22*y = (10**13)+8400\n",
    "        34*y + 67*y = (10**13)+5400\n",
    "        \n",
    "        a1*x + b1*y = c1\n",
    "        a2*x + b2*y = c2\n",
    "    \"\"\"\n",
    "    a1,a2,b1,b2,c1,c2 = t\n",
    "    c1 += 10**13\n",
    "    c2 += 10**13\n",
    "    D  = (a1*b2)-(a2*b1)\n",
    "    Dx = (c1*b2)-(c2*b1)  \n",
    "    Dy = (a1*c2)-(a2*c1)\n",
    "    if D == 0 :\n",
    "        return 0\n",
    "    x = Dx//D\n",
    "    y = Dy//D\n",
    "    #print(\">>\",x,y,c1,c2)\n",
    "    if ((a1*x)+(b1*y),(a2*x)+(b2*y)) == (c1,c2) :\n",
    "        return 3*x+y\n",
    "    else :\n",
    "        return 0"
   ]
  },
  {
   "cell_type": "code",
   "execution_count": null,
   "metadata": {},
   "outputs": [],
   "source": [
    "res_b = sum(mapt(solve_eq_2, eq))\n",
    "res_b"
   ]
  },
  {
   "cell_type": "code",
   "execution_count": null,
   "metadata": {},
   "outputs": [],
   "source": [
    "submit(res_b, part=\"b\", day=13, year=2024)"
   ]
  },
  {
   "cell_type": "markdown",
   "metadata": {},
   "source": [
    "[home](#home)\n",
    "# Day 14\n",
    "[Restroom Redoubt](https://adventofcode.com/2024/day/14)  "
   ]
  },
  {
   "cell_type": "code",
   "execution_count": 2,
   "metadata": {},
   "outputs": [],
   "source": [
    "get_in_file(14,2024)"
   ]
  },
  {
   "cell_type": "code",
   "execution_count": 3,
   "metadata": {},
   "outputs": [],
   "source": [
    "test_d14 = \"\"\"\n",
    "p=0,4 v=3,-3\n",
    "p=6,3 v=-1,-3\n",
    "p=10,3 v=-1,2\n",
    "p=2,0 v=2,-1\n",
    "p=0,0 v=1,3\n",
    "p=3,0 v=-2,-2\n",
    "p=7,6 v=-1,-3\n",
    "p=3,0 v=-1,-2\n",
    "p=9,3 v=2,3\n",
    "p=7,3 v=-1,2\n",
    "p=2,4 v=2,-3\n",
    "p=9,5 v=-3,-3\n",
    "\"\"\""
   ]
  },
  {
   "cell_type": "code",
   "execution_count": null,
   "metadata": {},
   "outputs": [],
   "source": [
    "#in_part_A = test_d14.strip().split(\"\\n\")\n",
    "#maxX,maxY = 11,7\n",
    "in_part_A = Input(14)\n",
    "maxX,maxY = 101,103\n",
    "in_part_A"
   ]
  },
  {
   "cell_type": "code",
   "execution_count": 6,
   "metadata": {},
   "outputs": [],
   "source": [
    "regex = r\"\"\"p=(-?\\d+),(-?\\d+) v=(-?\\d+),(-?\\d+)\"\"\"\n",
    "\n",
    "class Robot(namedtuple('Robot','px py vx vy')):\n",
    "    def __repr__(self) -> str:\n",
    "        return f'<Robot{tuple.__repr__(self)}>'\n",
    "    def move(self,sec:int,maxx:int,maxy:int):\n",
    "        # Return a new instance of the named tuple replacing specified fields with new values\n",
    "        return self._replace(px=(self.px+(self.vx*sec))%maxx ,py=(self.py+(self.vy*sec))%maxy)\n",
    "    def quad(self,maxx:int,maxy:int):\n",
    "        x1 = ((maxx-1)/2)-1\n",
    "        x2 = ((maxx-1)/2)+1\n",
    "        y1 = ((maxy-1)/2)-1\n",
    "        y2 = ((maxy-1)/2)+1\n",
    "        if self.px <= x1 and self.py <= y1 :\n",
    "            return 1\n",
    "        elif self.px >= x2 and self.py <= y1 :\n",
    "            return 2\n",
    "        elif self.px <= x1 and self.py >= y2 :\n",
    "            return 3\n",
    "        elif self.px >= x2 and self.py >= y2 :\n",
    "            return 4\n",
    "        else :\n",
    "            return None\n",
    "        "
   ]
  },
  {
   "cell_type": "code",
   "execution_count": null,
   "metadata": {},
   "outputs": [],
   "source": [
    "pos_vel = mapt(lambda z: mapt(lambda y: int(y), z), [x[0] for x in [re.findall(regex, line) for line in in_part_A]])\n",
    "pos_vel"
   ]
  },
  {
   "cell_type": "code",
   "execution_count": null,
   "metadata": {},
   "outputs": [],
   "source": [
    "robots = [Robot(*t) for t in pos_vel]\n",
    "len(robots)"
   ]
  },
  {
   "cell_type": "code",
   "execution_count": null,
   "metadata": {},
   "outputs": [],
   "source": [
    "robots_cnt = Counter([r.quad(maxX,maxY) for r in [r.move(100,maxX,maxY) for r in robots] if r.quad(maxX,maxY)])\n",
    "robots_cnt.total()"
   ]
  },
  {
   "cell_type": "code",
   "execution_count": null,
   "metadata": {},
   "outputs": [],
   "source": [
    "res_a = math.prod(robots_cnt.values())\n",
    "res_a"
   ]
  },
  {
   "cell_type": "code",
   "execution_count": null,
   "metadata": {},
   "outputs": [],
   "source": [
    "submit(res_a, part=\"a\", day=14, year=2024)"
   ]
  },
  {
   "cell_type": "markdown",
   "metadata": {},
   "source": [
    "### Part 2  \n",
    "\n",
    "Easter egg: very rarely, most of the robots should arrange themselves into a picture of a Christmas tree  \n",
    "\n",
    "hint : All coordinates being mod 103 in one and mod 101 in another direction means that you're guaranteed to loop back to the start after lcm(101, 103) = 103 * 101 iterations."
   ]
  },
  {
   "cell_type": "code",
   "execution_count": 10,
   "metadata": {},
   "outputs": [],
   "source": [
    "from PIL import Image\n",
    "\n",
    "def move_robots(i,_robots):\n",
    "    return [r.move(i,maxX,maxY) for r in _robots]\n",
    "\n",
    "def robots_mat(_robots):\n",
    "    Z = np.zeros([maxY, maxX], dtype=np.uint8)\n",
    "    for r in _robots :\n",
    "        Z[(r.py,r.px)] += 1\n",
    "    return Z    \n",
    "\n",
    "def robots_img(_robots):\n",
    "    Z = np.zeros([maxY, maxX, 3], dtype=np.uint8)\n",
    "    for r in _robots :\n",
    "        Z[(r.py,r.px)] = 255\n",
    "    return Image.fromarray(Z)\n"
   ]
  },
  {
   "cell_type": "code",
   "execution_count": null,
   "metadata": {},
   "outputs": [],
   "source": [
    "robots = [Robot(*t) for t in pos_vel]\n",
    "img = Image.fromarray(np.zeros([maxX, maxY, 3], dtype=np.uint8))\n",
    "h = display(img,display_id=True)    \n",
    "#for i in range(1,125) :\n",
    "for i in range(23+(101*70), 10403, 101) :\n",
    "    img = robots_img(move_robots(i,robots))\n",
    "    h.update(img)\n",
    "    print(i,end='\\r')\n",
    "    time.sleep(0.5)"
   ]
  },
  {
   "cell_type": "code",
   "execution_count": null,
   "metadata": {},
   "outputs": [],
   "source": [
    "23+(101*70)"
   ]
  },
  {
   "cell_type": "code",
   "execution_count": null,
   "metadata": {},
   "outputs": [],
   "source": [
    "img = robots_img(move_robots(7093,robots))\n",
    "display(img,display_id=True)"
   ]
  },
  {
   "cell_type": "code",
   "execution_count": null,
   "metadata": {},
   "outputs": [],
   "source": [
    "M = robots_mat(move_robots(23+(101*70),robots))\n",
    "sY,sX = M.sum(axis=0),M.sum(axis=1)\n",
    "print(sY)\n",
    "print(sX)"
   ]
  },
  {
   "cell_type": "code",
   "execution_count": null,
   "metadata": {},
   "outputs": [],
   "source": [
    "submit(7093, part=\"b\", day=14, year=2024)"
   ]
  },
  {
   "cell_type": "markdown",
   "metadata": {},
   "source": [
    "[home](#home)\n",
    "# Day 15\n",
    "[Warehouse Woes](https://adventofcode.com/2024/day/15)  "
   ]
  },
  {
   "cell_type": "code",
   "execution_count": 2,
   "metadata": {},
   "outputs": [],
   "source": [
    "get_in_file(15,2024)"
   ]
  },
  {
   "cell_type": "code",
   "execution_count": 116,
   "metadata": {},
   "outputs": [],
   "source": [
    "warehouse = \"\"\"\n",
    "##########\n",
    "#..O..O.O#\n",
    "#......O.#\n",
    "#.OO..O.O#\n",
    "#..O@..O.#\n",
    "#O#..O...#\n",
    "#O..O..O.#\n",
    "#.OO.O.OO#\n",
    "#....O...#\n",
    "##########\n",
    "\"\"\"\n",
    "\n",
    "moves = \"\"\"\n",
    "<vv>^<v^>v>^vv^v>v<>v^v<v<^vv<<<^><<><>>v<vvv<>^v^>^<<<><<v<<<v^vv^v>^\n",
    "vvv<<^>^v^^><<>>><>^<<><^vv^^<>vvv<>><^^v>^>vv<>v<<<<v<^v>^<^^>>>^<v<v\n",
    "><>vv>v^v^<>><>>>><^^>vv>v<^^^>>v^v^<^^>v^^>v^<^v>v<>>v^v^<v>v^^<^^vv<\n",
    "<<v<^>>^^^^>>>v^<>vvv^><v<<<>^^^vv^<vvv>^>v<^^^^v<>^>vvvv><>>v^<<^^^^^\n",
    "^><^><>>><>^^<<^^v>>><^<v>^<vv>>v>>>^v><>^v><<<<v>>v<v<v>vvv>^<><<>^><\n",
    "^>><>^v<><^vvv<^^<><v<<<<<><^v<<<><<<^^<v<^^^><^>>^<v^><<<^>>^v<v^v<v^\n",
    ">^>>^v>vv>^<<^v<>><<><<v<<v><>v<^vv<<<>^^v^>^^>>><<^v>>v^v><^^>>^<>vv^\n",
    "<><^^>^^^<><vvvvv^v<v<<>^v<v>v<<^><<><<><<<^^<<<^<<>><<><^^^>^^<>^>v<>\n",
    "^^>vv<^v^v<vv>^<><v<^v>^^^>>>^^vvv^>vvv<>>>^<^>>>>>^<<^v>^vvv<>^<><<v>\n",
    "v^^>>><<^^<>>^v^<v^vv<>v^<<>^<^v^v><^<<<><<^<v><v<>vv>>v><v^<vv<>v^<<^\n",
    "\"\"\""
   ]
  },
  {
   "cell_type": "code",
   "execution_count": null,
   "metadata": {},
   "outputs": [],
   "source": [
    "warehouse,moves = parse(15,sep=\"\\n\\n\")"
   ]
  },
  {
   "cell_type": "code",
   "execution_count": null,
   "metadata": {},
   "outputs": [],
   "source": [
    "md = {'^':(-1,0), 'v':(1,0), '>':(0,1), '<':(0,-1)}\n",
    "\n",
    "def get_robot_pos(M):\n",
    "   return mapt(int,tuple(np.argwhere(M == '@')[0])) \n",
    "\n",
    "def get_box_pos(M):\n",
    "   return mapt(lambda x: (int(x[0]),int(x[1])),mapt(tuple,np.argwhere(M == 'O'))) \n",
    "   \n",
    "def GPS(r,c):\n",
    "   \"\"\" GoodsPositioningSystem \"\"\"\n",
    "   return 100 * r + c\n",
    "\n",
    "def move_goods(_warehouse, _moves) :\n",
    "   M = np.matrix(mapt(lambda x:tuple(x), _warehouse.strip().split()))\n",
    "   _moves = \"\".join(_moves.split())\n",
    "   print(f'matrix {M.shape} moves {len(_moves)}') \n",
    "   for m in _moves :\n",
    "      robo_pos = get_robot_pos(M)\n",
    "      next_pos = add_tuple(md[m], robo_pos)\n",
    "      if M[next_pos] == '#' :\n",
    "         # next move\n",
    "         continue\n",
    "      elif M[next_pos] == '.' :\n",
    "         M[next_pos] = '@'\n",
    "         M[robo_pos] = '.'\n",
    "      elif M[next_pos] == 'O' :\n",
    "         free_pos = next_pos\n",
    "         while M[free_pos] == 'O' :\n",
    "            free_pos = add_tuple(md[m], free_pos)\n",
    "         if M[free_pos] == '.' :\n",
    "            M[free_pos] = 'O'\n",
    "            M[next_pos] = '@'\n",
    "            M[robo_pos] = '.'\n",
    "      else :\n",
    "         raise UserWarning\n",
    "   return M\n",
    "\n",
    "get_robot_pos(MpA)"
   ]
  },
  {
   "cell_type": "code",
   "execution_count": null,
   "metadata": {},
   "outputs": [],
   "source": [
    "get_robot_pos(move_goods(warehouse,moves))"
   ]
  },
  {
   "cell_type": "code",
   "execution_count": null,
   "metadata": {},
   "outputs": [],
   "source": [
    "res_a = sum([GPS(*rc) for rc in get_box_pos(move_goods(warehouse,moves))])\n",
    "res_a"
   ]
  },
  {
   "cell_type": "code",
   "execution_count": null,
   "metadata": {},
   "outputs": [],
   "source": [
    "submit(res_a, part=\"a\", day=15, year=2024)"
   ]
  },
  {
   "cell_type": "markdown",
   "metadata": {},
   "source": [
    "### Part 2  "
   ]
  },
  {
   "cell_type": "code",
   "execution_count": 96,
   "metadata": {},
   "outputs": [],
   "source": [
    "warehouse = \"\"\"\n",
    "#######\n",
    "#...#.#\n",
    "#.....#\n",
    "#..OO@#\n",
    "#..O..#\n",
    "#.....#\n",
    "#######\n",
    "\"\"\"\n",
    "\n",
    "moves = \"\"\"\n",
    "<vv<<^^<<^^\n",
    "\"\"\""
   ]
  },
  {
   "cell_type": "code",
   "execution_count": null,
   "metadata": {},
   "outputs": [],
   "source": [
    "def resize_warehouse(_warehouse):\n",
    "    resized = \"\"\n",
    "    rows =_warehouse.split()\n",
    "    cols = len(rows[0])\n",
    "    for sym in \"\".join(rows) :\n",
    "        if sym == '#' :\n",
    "            resized += \"##\"\n",
    "        elif sym == 'O' :\n",
    "            resized += \"[]\"\n",
    "        elif sym == '.' :\n",
    "            resized += \"..\"\n",
    "        elif sym == '@' :\n",
    "            resized += \"@.\"\n",
    "        else :\n",
    "            raise RuntimeError\n",
    "    return sliced(resized,cols*2)\n",
    "\n",
    "tuple(resize_warehouse(warehouse))"
   ]
  },
  {
   "cell_type": "code",
   "execution_count": null,
   "metadata": {},
   "outputs": [],
   "source": [
    "class Box(namedtuple('Box',['side','pos'])):\n",
    "    def __hash__(self):\n",
    "        i, j = self.pos\n",
    "        if self.side == '[':\n",
    "            return hash((i, j))\n",
    "        else:\n",
    "            # Normalize to the same hash as '['\n",
    "            return hash((i, j - 1))  \n",
    "    def __eq__(self,other)->bool:\n",
    "        if self.side == other.side :\n",
    "            return self.pos == other.pos\n",
    "        else :\n",
    "            i,j = self.pos\n",
    "            m,n = other.pos\n",
    "            if self.side == '[' :\n",
    "                return (i,j) == (m,n-1)\n",
    "            else :\n",
    "                return (i,j) == (m,n+1)\n",
    "    def near_pos(self,dir):\n",
    "        i,j = self.pos\n",
    "        match dir:\n",
    "            case '>':\n",
    "                return [(i,j+1)] if self.side == ']' else [(i,j+2)]\n",
    "            case '<':\n",
    "                return [(i,j-2)] if self.side == ']' else [(i,j-1)]\n",
    "            case '^':\n",
    "                return [(i-1,j),(i-1,j-1)] if self.side == ']' else [(i-1,j),(i-1,j+1)]\n",
    "            case 'v':\n",
    "                return [(i+1,j),(i+1,j-1)] if self.side == ']' else [(i+1,j),(i+1,j+1)]\n",
    "    def move(self,dir,M):    \n",
    "        i,j = self.pos\n",
    "        match dir:\n",
    "            case '>':\n",
    "                if self.side == ']' :\n",
    "                    M[(i,j+1)] = ']'\n",
    "                    M[(i,j)] = '['\n",
    "                    M[(i,j-1)] = '.'  \n",
    "                else : # '['\n",
    "                    M[(i,j+2)] = ']'\n",
    "                    M[(i,j+1)] = '[' \n",
    "                    M[(i,j)] = '.' \n",
    "            case '<':\n",
    "                if self.side == ']' :\n",
    "                    M[(i,j-1)] = ']'\n",
    "                    M[(i,j-2)] = '['\n",
    "                    M[(i,j)] = '.'  \n",
    "                else : # '['\n",
    "                    M[(i,j)] = ']'\n",
    "                    M[(i,j-1)] = '[' \n",
    "                    M[(i,j+1)] = '.' \n",
    "            case '^':\n",
    "                if self.side == ']' :\n",
    "                    M[(i-1,j)] = ']'\n",
    "                    M[(i-1,j-1)] = '[' \n",
    "                    M[(i,j)] = '.'\n",
    "                    M[(i,j-1)] = '.'\n",
    "                else : # '['\n",
    "                    M[(i-1,j+1)] = ']'\n",
    "                    M[(i-1,j)] = '[' \n",
    "                    M[(i,j)] = '.'\n",
    "                    M[(i,j+1)] = '.'\n",
    "            case 'v':\n",
    "                if self.side == ']' :\n",
    "                    M[(i+1,j)] = ']'\n",
    "                    M[(i+1,j-1)] = '[' \n",
    "                    M[(i,j)] = '.'\n",
    "                    M[(i,j-1)] = '.'\n",
    "                else : # '['\n",
    "                    M[(i+1,j+1)] = ']'\n",
    "                    M[(i+1,j)] = '[' \n",
    "                    M[(i,j)] = '.'\n",
    "                    M[(i,j+1)] = '.'\n",
    "            case 'v':\n",
    "                pass\n",
    "            \n",
    "    \n",
    "assert( Box('[',(1,1)) == Box('[',(1,1)) )\n",
    "assert( Box('[',(1,1)) == Box(']',(1,2)) )\n",
    "assert( Box(']',(1,1)) == Box('[',(1,0)) )\n",
    "\n",
    "s = set()\n",
    "s.add(Box('[',(1,1)))\n",
    "s.add(Box(']',(1,2)))\n",
    "s.add(Box(']',(2,1)))\n",
    "s.add(Box('[',(2,0)))\n",
    "\n",
    "print(s)\n",
    "\n",
    "s.add(Box('[',(2,2)))\n",
    "s.add(Box('[',(2,4)))\n",
    "s.add(Box('[',(2,6)))\n",
    "s.add(Box('[',(3,1)))\n",
    "s.add(Box('[',(4,1)))\n",
    "\n",
    "sorted(list(s), key=lambda box: box.pos[0])"
   ]
  },
  {
   "cell_type": "code",
   "execution_count": 130,
   "metadata": {},
   "outputs": [],
   "source": [
    "def move_goods(_warehouse, _moves) :\n",
    "    #M = np.matrix(mapt(lambda x:tuple(x), _warehouse.strip().split()))\n",
    "    M = np.matrix(mapt(lambda x:tuple(x), resize_warehouse(_warehouse)))\n",
    "    _moves = \"\".join(_moves.split())\n",
    "    print(f'matrix {M.shape} moves {len(_moves)}') \n",
    "    for m in _moves :\n",
    "        robo_pos = get_robot_pos(M)\n",
    "        #print(f'robot_pos {robo_pos}')\n",
    "        next_pos = add_tuple(md[m], robo_pos)\n",
    "        match M[next_pos] : \n",
    "            case '.' :\n",
    "                # robot moves -> swap \n",
    "                M[next_pos] = '@'\n",
    "                M[robo_pos] = '.'\n",
    "            case '[' | ']' :\n",
    "                # add all the boxes along the move direction to the goods set\n",
    "                goods = set()\n",
    "                deq = deque()\n",
    "                deq.append(Box(M[next_pos],next_pos))\n",
    "                while len(deq) :\n",
    "                    box = deq.pop()\n",
    "                    goods.add(box)\n",
    "                    #print(box)\n",
    "                    for pos in box.near_pos(m) :\n",
    "                        if isValid(M.shape,pos) and M[pos] in \"[]\" :\n",
    "                            deq.append(Box(M[pos],pos))\n",
    "                # for all boxes in goods check if box could be moved i.e near_pos != #\n",
    "                push_boxes = True\n",
    "                for box in goods :\n",
    "                    for pos in box.near_pos(m) :\n",
    "                        if M[pos] == '#':\n",
    "                            push_boxes = False\n",
    "                            break\n",
    "                if push_boxes :\n",
    "                    match m :\n",
    "                        case '>' :\n",
    "                            for box in list(reversed(sorted(list(goods), key=lambda box: box.pos[1]))) :\n",
    "                                box.move(m,M)\n",
    "                        case '<' :\n",
    "                            for box in sorted(list(goods), key=lambda box: box.pos[1]) :\n",
    "                                box.move(m,M)\n",
    "                        case 'v' :\n",
    "                            for box in list(reversed(sorted(list(goods), key=lambda box: box.pos[0]))) :\n",
    "                                box.move(m,M)\n",
    "                        case '^' :\n",
    "                            for box in sorted(list(goods), key=lambda box: box.pos[0]) :\n",
    "                                box.move(m,M)\n",
    "                    M[next_pos] = '@'\n",
    "                    M[robo_pos] = '.'       \n",
    "            case '#' | _ :\n",
    "                # next move\n",
    "                continue\n",
    "    return M\n"
   ]
  },
  {
   "cell_type": "code",
   "execution_count": null,
   "metadata": {},
   "outputs": [],
   "source": [
    "M = move_goods(warehouse,moves)\n",
    "print(M)"
   ]
  },
  {
   "cell_type": "code",
   "execution_count": null,
   "metadata": {},
   "outputs": [],
   "source": [
    "get_robot_pos(M)"
   ]
  },
  {
   "cell_type": "code",
   "execution_count": 132,
   "metadata": {},
   "outputs": [],
   "source": [
    "def get_box_pos(M):\n",
    "   return mapt(lambda x: (int(x[0]),int(x[1])),mapt(tuple,np.argwhere(M == '['))) \n"
   ]
  },
  {
   "cell_type": "code",
   "execution_count": null,
   "metadata": {},
   "outputs": [],
   "source": [
    "warehouse,moves = parse(15,sep=\"\\n\\n\")\n",
    "res_b = sum([GPS(*rc) for rc in get_box_pos(move_goods(warehouse,moves))])\n",
    "res_b"
   ]
  },
  {
   "cell_type": "code",
   "execution_count": null,
   "metadata": {},
   "outputs": [],
   "source": [
    "submit(res_b, part=\"b\", day=15, year=2024)"
   ]
  },
  {
   "cell_type": "markdown",
   "metadata": {},
   "source": [
    "[home](#home)\n",
    "# Day 16\n",
    "[Reindeer Maze](https://adventofcode.com/2024/day/16)  "
   ]
  },
  {
   "cell_type": "code",
   "execution_count": 2,
   "metadata": {},
   "outputs": [],
   "source": [
    "get_in_file(16,2024)"
   ]
  },
  {
   "cell_type": "code",
   "execution_count": 2,
   "metadata": {},
   "outputs": [],
   "source": [
    "maze_str = \"\"\"\n",
    "###############\n",
    "#.......#....E#\n",
    "#.#.###.#.###.#\n",
    "#.....#.#...#.#\n",
    "#.###.#####.#.#\n",
    "#.#.#.......#.#\n",
    "#.#.#####.###.#\n",
    "#...........#.#\n",
    "###.#.#####.#.#\n",
    "#...#.....#.#.#\n",
    "#.#.#.###.#.#.#\n",
    "#.....#...#.#.#\n",
    "#.###.#.#.#.#.#\n",
    "#S..#.....#...#\n",
    "###############\n",
    "\"\"\""
   ]
  },
  {
   "cell_type": "code",
   "execution_count": 3,
   "metadata": {},
   "outputs": [
    {
     "data": {
      "text/plain": [
       "(15, 15)"
      ]
     },
     "execution_count": 3,
     "metadata": {},
     "output_type": "execute_result"
    }
   ],
   "source": [
    "Maze = np.matrix(mapt(lambda x:tuple(x), maze_str.strip().split()))\n",
    "#Maze = np.matrix(mapt(lambda x:tuple(x), Input(16)))\n",
    "Maze.shape"
   ]
  },
  {
   "cell_type": "code",
   "execution_count": 7,
   "metadata": {},
   "outputs": [
    {
     "data": {
      "text/plain": [
       "((1, 13), (13, 1))"
      ]
     },
     "execution_count": 7,
     "metadata": {},
     "output_type": "execute_result"
    }
   ],
   "source": [
    "def get_start_end(M):\n",
    "   _ = lambda x : mapt(int,tuple(np.argwhere(M == x)[0]))\n",
    "   return _('S'),_('E')  \n",
    "\n",
    "S,E = get_start_end(Maze)\n",
    "S,E"
   ]
  },
  {
   "cell_type": "code",
   "execution_count": 5,
   "metadata": {},
   "outputs": [],
   "source": [
    "from astar import *\n",
    "\n",
    "class ReindeerMazeGrid(SquareGrid):\n",
    "    def __init__(self, width: int, height: int):\n",
    "        super().__init__(width, height)\n",
    "        self.weights: dict[GridLocation, float] = {}\n",
    "    \n",
    "    def cost(self, from_node: GridLocation, to_node: GridLocation) -> float:\n",
    "        return self.weights.get(to_node, 1)"
   ]
  },
  {
   "cell_type": "code",
   "execution_count": 6,
   "metadata": {},
   "outputs": [
    {
     "name": "stdout",
     "output_type": "stream",
     "text": [
      "_____________________________________________\n",
      "#############################################\n",
      "### .  .  .  .  .  .  . ### .  .  .  .  A ###\n",
      "### . ### . ######### . ### . ######### . ###\n",
      "### .  .  .  .  . ### . ### .  .  . ### . ###\n",
      "### . ######### . ############### . ### . ###\n",
      "### . ### . ### .  .  .  .  .  .  . ### . ###\n",
      "### . ### . ############### . ######### . ###\n",
      "### .  .  .  .  .  .  .  .  .  .  . ### . ###\n",
      "######### . ### . ############### . ### . ###\n",
      "### .  .  . ### .  .  .  .  . ### . ### . ###\n",
      "### . ### . ### . ######### . ### . ### . ###\n",
      "### .  .  .  .  . ### .  .  . ### . ### . ###\n",
      "### . ######### . ### . ### . ### . ### . ###\n",
      "### Z  .  . ### .  .  .  .  . ### .  .  . ###\n",
      "#############################################\n",
      "~~~~~~~~~~~~~~~~~~~~~~~~~~~~~~~~~~~~~~~~~~~~~\n",
      "_____________________________________________\n",
      "#############################################\n",
      "### .  .  .  .  .  .  . ### >  >  >  >  A ###\n",
      "### . ### . ######### . ### ^ ######### ^ ###\n",
      "### .  .  .  .  . ### . ### ^  <  < ### ^ ###\n",
      "### . ######### v ############### ^ ### ^ ###\n",
      "### . ### . ### >  >  >  >  >  >  ^ ### ^ ###\n",
      "### v ### v ############### ^ ######### ^ ###\n",
      "### >  >  >  >  >  >  >  >  ^  <  . ### ^ ###\n",
      "######### ^ ### ^ ############### . ### ^ ###\n",
      "### >  >  ^ ### .  .  .  .  . ### . ### ^ ###\n",
      "### ^ ### ^ ### . ######### . ### . ### ^ ###\n",
      "### ^  <  .  .  . ### .  .  . ### v ### ^ ###\n",
      "### ^ ######### . ### . ### . ### v ### ^ ###\n",
      "### Z  .  . ### .  .  .  .  . ### >  >  ^ ###\n",
      "#############################################\n",
      "~~~~~~~~~~~~~~~~~~~~~~~~~~~~~~~~~~~~~~~~~~~~~\n",
      "\n",
      "_____________________________________________\n",
      "#############################################\n",
      "### .  .  .  .  .  .  . ### @  @  @  @  @ ###\n",
      "### . ### . ######### . ### @ ######### . ###\n",
      "### .  .  .  .  . ### . ### @  @  @ ### . ###\n",
      "### . ######### . ############### @ ### . ###\n",
      "### . ### . ### .  .  .  .  @  @  @ ### . ###\n",
      "### . ### . ############### @ ######### . ###\n",
      "### .  .  @  @  @  @  @  @  @  .  . ### . ###\n",
      "######### @ ### . ############### . ### . ###\n",
      "### @  @  @ ### .  .  .  .  . ### . ### . ###\n",
      "### @ ### . ### . ######### . ### . ### . ###\n",
      "### @  .  .  .  . ### .  .  . ### . ### . ###\n",
      "### @ ######### . ### . ### . ### . ### . ###\n",
      "### @  .  . ### .  .  .  .  . ### .  .  . ###\n",
      "#############################################\n",
      "~~~~~~~~~~~~~~~~~~~~~~~~~~~~~~~~~~~~~~~~~~~~~\n"
     ]
    }
   ],
   "source": [
    "swp = lambda t: t[::-1]\n",
    "#Maze[Maze == '#'] = 1\n",
    "#Maze[Maze == '.'] = 0\n",
    "maze = ReindeerMazeGrid(*Maze.shape[::-1])\n",
    "maze.walls = [(int(r), int(c)) for r, c in zip(*np.where(Maze == '#'))]\n",
    "start, goal = get_start_end(Maze)\n",
    "draw_grid(maze, start=start, goal=goal)\n",
    "came_from, cost_so_far = a_star_search(maze, start, goal)\n",
    "draw_grid(maze, point_to=came_from, start=start, goal=goal)\n",
    "print()\n",
    "draw_grid(maze, path=reconstruct_path(came_from, start=start, goal=goal))"
   ]
  },
  {
   "cell_type": "code",
   "execution_count": null,
   "metadata": {},
   "outputs": [],
   "source": [
    "start, goal = (1, 4), (8, 3)\n",
    "start, goal = get_start_end(Maze)\n",
    "came_from, cost_so_far = a_star_search(diagram4, start, goal)\n",
    "draw_grid(diagram4, point_to=came_from, start=start, goal=goal)\n",
    "print()\n",
    "draw_grid(diagram4, path=reconstruct_path(came_from, start=start, goal=goal))"
   ]
  },
  {
   "cell_type": "code",
   "execution_count": 8,
   "metadata": {},
   "outputs": [
    {
     "data": {
      "text/plain": [
       "(2, 1)"
      ]
     },
     "execution_count": 8,
     "metadata": {},
     "output_type": "execute_result"
    }
   ],
   "source": [
    "swp = lambda t: t[::-1]\n",
    "swp((1,2))"
   ]
  },
  {
   "cell_type": "code",
   "execution_count": null,
   "metadata": {},
   "outputs": [],
   "source": []
  }
 ],
 "metadata": {
  "kernelspec": {
   "display_name": "aoc_24",
   "language": "python",
   "name": "python3"
  },
  "language_info": {
   "codemirror_mode": {
    "name": "ipython",
    "version": 3
   },
   "file_extension": ".py",
   "mimetype": "text/x-python",
   "name": "python",
   "nbconvert_exporter": "python",
   "pygments_lexer": "ipython3",
   "version": "3.13.1"
  },
  "orig_nbformat": 4
 },
 "nbformat": 4,
 "nbformat_minor": 2
}
