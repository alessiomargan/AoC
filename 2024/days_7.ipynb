{
 "cells": [
  {
   "cell_type": "code",
   "execution_count": null,
   "metadata": {},
   "outputs": [],
   "source": [
    "import sys  \n",
    "sys.path.insert(1, '..')\n",
    "from aoc_utils import *\n",
    "from bigtree import list_to_binarytree, dict_to_tree, inorder_iter, levelorder_iter\n",
    "\n",
    "def isValid(np_shape: tuple, index: tuple):\n",
    "    index = np.array(index)\n",
    "    return (index >= 0).all() and (index < np_shape).all()"
   ]
  },
  {
   "cell_type": "markdown",
   "metadata": {},
   "source": [
    "### “i.e.” Latin \"id est\" => “that is.”  \n",
    "### “e.g.” Latin \"exempli gratia\" => “for example.”"
   ]
  },
  {
   "attachments": {},
   "cell_type": "markdown",
   "metadata": {},
   "source": [
    "# Home\n",
    "\n",
    "Each day's work will consist of three tasks:\n",
    "- **Input**: Parse the day's input file with the function `parse(day, parser, sep)`, which treats the input as a sequence of *entries*, separated by `sep` (default newline); applies `parser` to each entry; and returns the results as a tuple. (Note: `ints` and `atoms` are useful `parser` functions (as are `int` and `str`).)\n",
    "- **Part 1**: Write code to compute the answer to Part 1, and submit the answer to the AoC site. Use the function `answer` to record the correct answer and serve as a regression test when I re-run the notebook.\n",
    "- **Part 2**: Repeat coding and `answer` for Part 2.\n",
    "\n",
    "1. [Day 1](#day-1)\n",
    "2. [Day 2](#day-2)\n",
    "3. [Day 3](#day-3)\n",
    "4. [Day 4](#day-4)\n",
    "5. [Day 5](#day-5)\n",
    "6. [Day 6](#day-6)\n",
    "7. [Day 7](#day-7)\n",
    "8. [Day 8](#day-8)\n",
    "9. [Day 9](#day-9)\n",
    "10. [Day 10](#day-10)\n",
    "11. [Day 11](#day-11)\n",
    "12. [Day 12](#day-12)\n",
    "13. [Day 13](#day-13)\n"
   ]
  },
  {
   "cell_type": "markdown",
   "metadata": {},
   "source": [
    "[home](#home)\n",
    "# Day 7\n",
    "[Bridge Repair](https://adventofcode.com/2024/day/7)  \n"
   ]
  },
  {
   "cell_type": "code",
   "execution_count": null,
   "metadata": {},
   "outputs": [],
   "source": [
    "get_in_file(7,2024)"
   ]
  },
  {
   "cell_type": "code",
   "execution_count": null,
   "metadata": {},
   "outputs": [],
   "source": [
    "test_d7 = \"\"\"\n",
    "190: 10 19\n",
    "3267: 81 40 27\n",
    "83: 17 5\n",
    "156: 15 6\n",
    "7290: 6 8 6 15\n",
    "161011: 16 10 13\n",
    "192: 17 8 14\n",
    "21037: 9 7 18 13\n",
    "292: 11 6 16 20\n",
    "\"\"\""
   ]
  },
  {
   "cell_type": "code",
   "execution_count": null,
   "metadata": {},
   "outputs": [],
   "source": [
    "equations = mapt(lambda x:(int(x[0]),mapt(lambda x:int(x),x[1].strip().split())),(mapt(lambda x:x.split(':'),Input(7))))\n",
    "#equations = mapt(lambda x:(int(x[0]),mapt(lambda x:int(x),x[1].strip().split())),(mapt(lambda x:x.split(':'),test_d7.strip().split(\"\\n\"))))\n",
    "equations"
   ]
  },
  {
   "cell_type": "code",
   "execution_count": null,
   "metadata": {},
   "outputs": [],
   "source": [
    "operator_dict = {'+':operator.add,'*':operator.mul}\n",
    "eq_dict = {}\n",
    "for res,operands in equations:\n",
    "    assert(len(operands)>1)\n",
    "    op_num = len(operands)-1\n",
    "    z = sum([pow(2,x) for x in range(len(operands)-1)])\n",
    "    l1 = \"\".join(['R'] + list(ncycles(('+','*'),z)))\n",
    "    l2 = \"\".join(['R'] + list(ncycles(('*','+'),z)))\n",
    "    eq_dict[res] = (operands,l1,l2)\n",
    "\n",
    "eq_dict"
   ]
  },
  {
   "cell_type": "code",
   "execution_count": null,
   "metadata": {},
   "outputs": [
    {
     "data": {
      "text/plain": [
       "False"
      ]
     },
     "execution_count": 264,
     "metadata": {},
     "output_type": "execute_result"
    }
   ],
   "source": [
    "def test_eq(test_res,operands,plus_tree_str,star_tree_str):\n",
    "    \" return list of equation result if found in any leaf \"\n",
    "    leaf_res = []\n",
    "    for tree_str in (plus_tree_str,star_tree_str) :\n",
    "        root = list_to_binarytree(tree_str)\n",
    "        #root.hshow()\n",
    "        for node in inorder_iter(root) :\n",
    "            if node.is_root :\n",
    "                node.set_attrs({\"res\": operands[0]})\n",
    "            else :    \n",
    "                node.set_attrs({\"res\": 0})\n",
    "        #root.show(attr_list=[\"res\"])\n",
    "\n",
    "        for node in levelorder_iter(root) :\n",
    "            if not node.is_root :\n",
    "                op = operator_dict[node.node_name]\n",
    "                op1 = node.parent.get_attr(\"res\")\n",
    "                op2 = operands[node.depth-1]\n",
    "                res = op(op1,op2)\n",
    "                #print(\"{}{}{}\".format(op1,node.node_name,op2))\n",
    "                node.set_attrs({\"res\":res})\n",
    "                if test_res == res :\n",
    "                    return True\n",
    "            #if node.is_leaf :\n",
    "            #    leaf_res.append(res)\n",
    "        #root.show(attr_list=[\"res\"])\n",
    "        #return leaf_res\n",
    "        return False\n",
    "\n",
    "test_eq(23674716437852,*eq_dict[23674716437852])"
   ]
  },
  {
   "cell_type": "code",
   "execution_count": 266,
   "metadata": {},
   "outputs": [
    {
     "data": {
      "text/plain": [
       "1038838603451"
      ]
     },
     "execution_count": 266,
     "metadata": {},
     "output_type": "execute_result"
    }
   ],
   "source": [
    "res_a = 0\n",
    "for (res,other) in eq_dict.items() :\n",
    "    if test_eq(res,*other):\n",
    "       res_a+=res\n",
    "res_a "
   ]
  },
  {
   "cell_type": "code",
   "execution_count": null,
   "metadata": {},
   "outputs": [],
   "source": [
    "res_a = sum([res for (res,other) in eq_dict.items() if res in test_eq(*other)])\n",
    "res_a"
   ]
  },
  {
   "cell_type": "code",
   "execution_count": 267,
   "metadata": {},
   "outputs": [
    {
     "name": "stderr",
     "output_type": "stream",
     "text": [
      "wrong answer: That's not the right answer; your answer is too high.  If you're stuck, make sure you're using the full input data; there are also some general tips on the about page, or you can ask for hints on the subreddit.  Please wait one minute before trying again. [Return to Day 7]\n"
     ]
    },
    {
     "name": "stdout",
     "output_type": "stream",
     "text": [
      "\u001b[31mThat's not the right answer; your answer is too high.  If you're stuck, make sure you're using the full input data; there are also some general tips on the about page, or you can ask for hints on the subreddit.  Please wait one minute before trying again. [Return to Day 7]\u001b[0m\n"
     ]
    },
    {
     "data": {
      "text/plain": [
       "<urllib3.response.HTTPResponse at 0x72c47405f160>"
      ]
     },
     "execution_count": 267,
     "metadata": {},
     "output_type": "execute_result"
    }
   ],
   "source": [
    "submit(res_a, part=\"a\", day=7, year=2024)"
   ]
  },
  {
   "cell_type": "code",
   "execution_count": null,
   "metadata": {},
   "outputs": [],
   "source": [
    "#res,operands = (190, (10, 19))\n",
    "#res,operands = (190, (2, 3, 4))\n",
    "#res,operands = (190, (2, 3, 4, 5))\n",
    "res,operands = (16081284068081, (54, 3, 7, 1, 7, 2, 2, 5, 90, 86, 94))\n",
    "# 081284068081: 54 3 7 1 7 2 2 5 90 86 94\n",
    "z = sum([pow(2,x) for x in range(len(operands))])\n",
    "l = ['R'] + list(ncycles(('+','*'),z))\n",
    "l = \"\".join(l)\n",
    "print(\"leaves={} len(l)={} l={}\".format(z,len(l),l))\n",
    "root = list_to_binarytree(l)\n",
    "root.hshow()"
   ]
  },
  {
   "cell_type": "code",
   "execution_count": null,
   "metadata": {},
   "outputs": [],
   "source": [
    "1038 838 357 435"
   ]
  },
  {
   "cell_type": "code",
   "execution_count": null,
   "metadata": {},
   "outputs": [],
   "source": [
    "1038 838 603 451"
   ]
  },
  {
   "cell_type": "code",
   "execution_count": null,
   "metadata": {},
   "outputs": [],
   "source": []
  },
  {
   "cell_type": "code",
   "execution_count": null,
   "metadata": {},
   "outputs": [],
   "source": [
    "def make_tree_path(s:str)->dict:\n",
    "    k = \"R/\"+\"\".join(list(intersperse('/',s)))\n",
    "    return {k:dict(res=0)}\n",
    "\n",
    "eq_dict = {}\n",
    "eq_path_trees = {}\n",
    "for res,operands in equations:\n",
    "    op_num = len(operands)-1\n",
    "    prod_iter = product (op.keys(),repeat=op_num)\n",
    "    p = list(prod_iter)\n",
    "    print(p)\n",
    "    path_str = list(mapt(lambda x:\"\".join(x),p))\n",
    "    print(path_str)\n",
    "    path_dict = dict(R=dict(res=0))\n",
    "    for d in mapt(lambda x: make_tree_path(x),path_str) :\n",
    "        path_dict.update(d)\n",
    "    eq_path_trees[res] = path_dict\n"
   ]
  },
  {
   "cell_type": "markdown",
   "metadata": {},
   "source": []
  }
 ],
 "metadata": {
  "kernelspec": {
   "display_name": "Python 3",
   "language": "python",
   "name": "python3"
  },
  "language_info": {
   "codemirror_mode": {
    "name": "ipython",
    "version": 3
   },
   "file_extension": ".py",
   "mimetype": "text/x-python",
   "name": "python",
   "nbconvert_exporter": "python",
   "pygments_lexer": "ipython3",
   "version": "3.13.0"
  },
  "orig_nbformat": 4
 },
 "nbformat": 4,
 "nbformat_minor": 2
}
