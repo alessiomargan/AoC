{
 "cells": [
  {
   "cell_type": "code",
   "execution_count": null,
   "metadata": {},
   "outputs": [],
   "source": [
    "%run ../aoc_utils.py"
   ]
  },
  {
   "attachments": {},
   "cell_type": "markdown",
   "metadata": {},
   "source": [
    "# Home\n",
    "\n",
    "Each day's work will consist of three tasks:\n",
    "- **Input**: Parse the day's input file with the function `parse(day, parser, sep)`, which treats the input as a sequence of *entries*, separated by `sep` (default newline); applies `parser` to each entry; and returns the results as a tuple. (Note: `ints` and `atoms` are useful `parser` functions (as are `int` and `str`).)\n",
    "- **Part 1**: Write code to compute the answer to Part 1, and submit the answer to the AoC site. Use the function `answer` to record the correct answer and serve as a regression test when I re-run the notebook.\n",
    "- **Part 2**: Repeat coding and `answer` for Part 2.\n",
    "\n",
    "1. [Day 1](#day-1)\n",
    "2. [Day 2](#day-2)\n",
    "3. [Day 3](#day-3)\n",
    "4. [Day 4](#day-4)\n",
    "5. [Day 5](#day-5)\n",
    "6. [Day 6](#day-6)\n",
    "7. [Day 7](#day-7)\n",
    "8. [Day 8](#day-8)\n",
    "9. [Day 9](#day-9)\n",
    "10. [Day 10](#day-10)\n",
    "11. [Day 11](#day-11)\n",
    "12. [Day 12](#day-12)\n",
    "13. [Day 13](#day-13)\n"
   ]
  },
  {
   "cell_type": "markdown",
   "metadata": {},
   "source": [
    "[home](#home)\n",
    "# Day 1\n",
    "[Trebouchet](https://adventofcode.com/2023/day/1)  \n",
    "```\n",
    "For example:\n",
    "\n",
    "1abc2\n",
    "pqr3stu8vwx\n",
    "a1b2c3d4e5f\n",
    "treb7uchet\n",
    "\n",
    "In this example, the calibration values of these four lines are 12, 38, 15, and 77. Adding these together produces 142.\n",
    "Consider your entire calibration document. What is the sum of all of the calibration values?\n",
    "```"
   ]
  },
  {
   "cell_type": "code",
   "execution_count": null,
   "metadata": {},
   "outputs": [],
   "source": [
    "get_in_file(1,2023)\n",
    "# input 1 part a\n",
    "in1_a = Input(1, line_parser=digits)\n",
    "# calb value is first and last digit in tuple\n",
    "calib_val_f = lambda x : int(str(x[0])+str(x[-1]))\n",
    "\n",
    "calibs = [10*t[0]+t[-1] for t in in1_a]\n",
    "calibs = [calib_val_f(t) for t in in1_a]\n",
    "\n",
    "sum_cal = sum(calibs) \n",
    "sum_cal"
   ]
  },
  {
   "cell_type": "code",
   "execution_count": null,
   "metadata": {},
   "outputs": [],
   "source": [
    "submit(sum_cal, part=\"a\", day=1, year=2023)"
   ]
  },
  {
   "cell_type": "markdown",
   "metadata": {},
   "source": [
    "### Part 2\n",
    "```\n",
    "It looks like some of the digits are actually spelled out with letters: one, two, three, four, five, six, seven, eight, and nine also count as valid \"digits\"  \n",
    "\n",
    "two1nine  \n",
    "eightwothree  \n",
    "abcone2threexyz  \n",
    "xtwone3four  \n",
    "4nineeightseven2  \n",
    "zoneight234  \n",
    "7pqrstsixteen  \n",
    "```\n"
   ]
  },
  {
   "cell_type": "code",
   "execution_count": null,
   "metadata": {},
   "outputs": [],
   "source": [
    "digi_word = {'zero':'0','one':'1','two':'2','three':'3','four':'4','five':'5',\n",
    "             'six':'6','seven':'7','eight':'8','nine':'9'}\n",
    "\n",
    "sticazzi = {'zerone':'01',\n",
    "            'oneight':'18',\n",
    "            'twone':'21',\n",
    "            'threeight':'38',\n",
    "            'fiveight':'58',\n",
    "            'sevenine':'79',\n",
    "            'eightwo':'82'}\n",
    "\n",
    "\n",
    "def word2digi(s):\n",
    "    s.strip()\n",
    "    # prma sticazzi ....\n",
    "    for k,v in sticazzi.items():\n",
    "        s = s.replace(k,v)\n",
    "    for k,v in digi_word.items():\n",
    "        s = s.replace(k,v)\n",
    "    return digits(s)\n",
    "\n",
    "in2 = Input(1, line_parser=word2digi)\n",
    "\n",
    "sum_cal = sum([calib_val_f(t) for t in in2]) \n",
    "\n",
    "sum_cal"
   ]
  },
  {
   "cell_type": "code",
   "execution_count": null,
   "metadata": {},
   "outputs": [],
   "source": [
    "[word2digi(s) for s in ('oneight','twone','eightwo','eighteightsrfcxtvg7three1two9nineeightwolqn')]"
   ]
  },
  {
   "cell_type": "code",
   "execution_count": null,
   "metadata": {},
   "outputs": [],
   "source": [
    "submit(sum_cal, part=\"b\", day=1, year=2023)"
   ]
  },
  {
   "cell_type": "markdown",
   "metadata": {},
   "source": [
    "[home](#home)\n",
    "# Day 2\n",
    "[Cube Conundrum](https://adventofcode.com/2023/day/2)  "
   ]
  },
  {
   "cell_type": "code",
   "execution_count": null,
   "metadata": {},
   "outputs": [],
   "source": [
    "get_in_file(2,2023)"
   ]
  },
  {
   "cell_type": "code",
   "execution_count": null,
   "metadata": {},
   "outputs": [],
   "source": [
    "# first split on ';' then split the iteritems on ',' \n",
    "data_splitter = lambda x : mapt(lambda y : y.split(','), str.rstrip(x).split(';'))\n",
    "\n",
    "def parse_game(ln:str)->Tuple[int,List[Dict[str,int]]]:\n",
    "    id, data = ln.strip().split(':')\n",
    "    id, = ints(id)\n",
    "    sc = list()\n",
    "    for sub_cubes in data_splitter(data) :\n",
    "        d = defaultdict(int)\n",
    "        for cubes in sub_cubes :\n",
    "            if 'red' in cubes :\n",
    "                d['R']= ints(cubes)[0]\n",
    "            if 'green' in cubes :\n",
    "                d['G']= ints(cubes)[0]\n",
    "            if 'blue' in cubes :\n",
    "                d['B']= ints(cubes)[0]\n",
    "        sc.append(d)        \n",
    "    return id,sc\n",
    "\n",
    "s='Game 3: 8 green, 6 blue, 20 red; 5 blue, 4 red, 13 green; 5 green, 1 red'\n",
    "parse_game(s)\n",
    "\n"
   ]
  },
  {
   "cell_type": "code",
   "execution_count": null,
   "metadata": {},
   "outputs": [],
   "source": [
    "in2 = Input(2, line_parser=parse_game)\n",
    "in2[:2]"
   ]
  },
  {
   "cell_type": "code",
   "execution_count": null,
   "metadata": {},
   "outputs": [],
   "source": [
    "def possible(ld:List[dict])->bool:\n",
    "    '''R:12 G:13 B:14'''\n",
    "    f = lambda x: x['R'] <= 12 and x['G'] <= 13 and x['B'] <= 14\n",
    "    return reduce(operator.and_, mapt(f, ld))\n"
   ]
  },
  {
   "cell_type": "code",
   "execution_count": null,
   "metadata": {},
   "outputs": [],
   "source": [
    "in2[3]"
   ]
  },
  {
   "cell_type": "code",
   "execution_count": null,
   "metadata": {},
   "outputs": [],
   "source": [
    "possible(in2[3][1])"
   ]
  },
  {
   "cell_type": "code",
   "execution_count": null,
   "metadata": {},
   "outputs": [],
   "source": [
    "sum_ids = sum([k for k,v in in2 if possible(v)])\n",
    "sum_ids    "
   ]
  },
  {
   "cell_type": "code",
   "execution_count": null,
   "metadata": {},
   "outputs": [],
   "source": [
    "submit(sum_ids, part=\"a\", day=2, year=2023)"
   ]
  },
  {
   "cell_type": "markdown",
   "metadata": {},
   "source": [
    "### Part 2"
   ]
  },
  {
   "cell_type": "code",
   "execution_count": null,
   "metadata": {},
   "outputs": [],
   "source": [
    "def make_RBG_set(t:Tuple[int,List[Dict[str,int]]]) -> Tuple[int,Dict[str,Set]]:\n",
    "    id,ld = t \n",
    "    d = dict()\n",
    "    d['R'] = set()\n",
    "    d['G'] = set()\n",
    "    d['B'] = set()\n",
    "    for _d in ld :\n",
    "        for k in d.keys() :\n",
    "            d[k].add(_d[k])\n",
    "    return (id,d)\n",
    "\n",
    "def max_RBG_set(t:Tuple[int,Dict[str,Set]]) -> Tuple[int,Dict[str,int]]:\n",
    "    id,rbg_dict = t\n",
    "    rbg_max_dict = dict()\n",
    "    for k,v in rbg_dict.items():\n",
    "        rbg_max_dict[k] = max(v)\n",
    "    return id,rbg_max_dict"
   ]
  },
  {
   "cell_type": "code",
   "execution_count": null,
   "metadata": {},
   "outputs": [],
   "source": [
    "ret = make_RBG_set(in2[0])\n",
    "print(ret)\n",
    "ret = max_RBG_set(ret)\n",
    "print(ret)\n",
    "ret = list(ret[1].values())\n",
    "print(ret)\n",
    "reduce(operator.mul,ret)"
   ]
  },
  {
   "cell_type": "code",
   "execution_count": null,
   "metadata": {},
   "outputs": [],
   "source": [
    "power = sum(mapt(lambda x : reduce(operator.mul,list(max_RBG_set(make_RBG_set(x))[1].values())), in2))\n",
    "power"
   ]
  },
  {
   "cell_type": "code",
   "execution_count": null,
   "metadata": {},
   "outputs": [],
   "source": [
    "submit(power, part=\"b\", day=2, year=2023)"
   ]
  },
  {
   "cell_type": "markdown",
   "metadata": {},
   "source": [
    "[home](#home)\n",
    "# Day 3\n",
    "[Gear Ratio](https://adventofcode.com/2023/day/3)  \n",
    "```\n",
    "The engine schematic (your puzzle input) consists of a visual representation of the engine. There are lots of numbers and symbols you don't really understand, but apparently any number adjacent to a symbol, even diagonally, is a \"part number\" and should be included in your sum. (Periods (.) do not count as a symbol.)\n",
    "```  "
   ]
  },
  {
   "cell_type": "code",
   "execution_count": null,
   "metadata": {},
   "outputs": [],
   "source": [
    "# Here is an example engine schematic:\n",
    "test = '''\n",
    "467..114..\n",
    "...*......\n",
    "..35..633.\n",
    "......#...\n",
    "617*......\n",
    ".....+.58.\n",
    "..592.....\n",
    "......755.\n",
    "...$.*....\n",
    ".664.598..\n",
    "'''"
   ]
  },
  {
   "cell_type": "code",
   "execution_count": null,
   "metadata": {},
   "outputs": [],
   "source": [
    "get_in_file(3,2023)"
   ]
  },
  {
   "cell_type": "code",
   "execution_count": null,
   "metadata": {},
   "outputs": [],
   "source": [
    "string.digits"
   ]
  },
  {
   "cell_type": "code",
   "execution_count": null,
   "metadata": {},
   "outputs": [],
   "source": [
    "line_parser = lambda x : list(x.strip())\n",
    "in3 = Input(3, line_parser=line_parser)\n",
    "in_test = mapt(lambda x : list(x), list(test.strip().split('\\n')))"
   ]
  },
  {
   "cell_type": "code",
   "execution_count": null,
   "metadata": {},
   "outputs": [],
   "source": [
    "inM = np.array(in_test)\n",
    "print(f\"input shape {inM.shape}\")"
   ]
  },
  {
   "cell_type": "code",
   "execution_count": null,
   "metadata": {},
   "outputs": [],
   "source": [
    "inM[0]"
   ]
  },
  {
   "cell_type": "code",
   "execution_count": null,
   "metadata": {},
   "outputs": [],
   "source": [
    "inM[:,0]"
   ]
  },
  {
   "cell_type": "code",
   "execution_count": null,
   "metadata": {},
   "outputs": [],
   "source": [
    "inM[inM in string.digits]"
   ]
  },
  {
   "cell_type": "code",
   "execution_count": null,
   "metadata": {},
   "outputs": [],
   "source": []
  }
 ],
 "metadata": {
  "kernelspec": {
   "display_name": "aoc",
   "language": "python",
   "name": "python3"
  },
  "language_info": {
   "codemirror_mode": {
    "name": "ipython",
    "version": 3
   },
   "file_extension": ".py",
   "mimetype": "text/x-python",
   "name": "python",
   "nbconvert_exporter": "python",
   "pygments_lexer": "ipython3",
   "version": "3.12.0"
  },
  "orig_nbformat": 4,
  "vscode": {
   "interpreter": {
    "hash": "8c882ba18197fb304f766651e24370ea456a1989c1c279f22d9ce54f375ecc6f"
   }
  }
 },
 "nbformat": 4,
 "nbformat_minor": 2
}
