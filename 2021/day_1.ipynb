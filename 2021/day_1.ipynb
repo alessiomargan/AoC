{
 "cells": [
  {
   "cell_type": "code",
   "execution_count": null,
   "metadata": {},
   "outputs": [],
   "source": [
    "%run ../utils"
   ]
  },
  {
   "cell_type": "code",
   "execution_count": null,
   "metadata": {},
   "outputs": [],
   "source": [
    "from aocd import get_data, submit\n",
    "\n",
    "with open( f\"input/input1.txt\", \"w\") as f:\n",
    "    f.write( get_data(day=1, year=2021) )\n",
    "\n",
    "incr = Counter([1 if b > a else -1 for a,b in pairwise(Input(1,int))])[1] \n",
    "\n",
    "submit(incr, part=\"a\", day=1, year=2021)"
   ]
  },
  {
   "cell_type": "code",
   "execution_count": null,
   "metadata": {},
   "outputs": [],
   "source": [
    "sw = [c+b+a for a,b,c in sliding_window(Input(1,int),3)] \n",
    "incr = Counter([1 if b > a else -1 for a,b in pairwise(sw)])[1]\n",
    "submit(incr, part=\"b\", day=1, year=2021)"
   ]
  },
  {
   "cell_type": "code",
   "execution_count": null,
   "metadata": {},
   "outputs": [],
   "source": []
  }
 ],
 "metadata": {
  "interpreter": {
   "hash": "2a2dbedcade76137bd4b02e68471641a7c3e00d6aa0c62804fd350fa1a729d65"
  },
  "kernelspec": {
   "display_name": "Python 3.9.7 64-bit ('data-science': conda)",
   "language": "python",
   "name": "python3"
  },
  "language_info": {
   "codemirror_mode": {
    "name": "ipython",
    "version": 3
   },
   "file_extension": ".py",
   "mimetype": "text/x-python",
   "name": "python",
   "nbconvert_exporter": "python",
   "pygments_lexer": "ipython3",
   "version": "3.10.0"
  }
 },
 "nbformat": 4,
 "nbformat_minor": 2
}
