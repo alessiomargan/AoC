{
 "cells": [
  {
   "cell_type": "code",
   "execution_count": 4,
   "metadata": {},
   "outputs": [],
   "source": [
    "import sys\n",
    "sys.path.append(\"../\")\n",
    "from aoc_utils import *"
   ]
  },
  {
   "cell_type": "code",
   "execution_count": 5,
   "metadata": {},
   "outputs": [],
   "source": [
    "from aocd import get_data, submit\n",
    "\n",
    "def get_in_file(day):\n",
    "    with open( f\"input/input{day}.txt\", \"w\") as f:\n",
    "        f.write( get_data(day=day, year=2021) )"
   ]
  },
  {
   "cell_type": "markdown",
   "metadata": {},
   "source": [
    "Each day's work will consist of three tasks:\n",
    "- **Input**: Parse the day's input file with the function `parse(day, parser, sep)`, which treats the input as a sequence of *entries*, separated by `sep` (default newline); applies `parser` to each entry; and returns the results as a tuple. (Note: `ints` and `atoms` are useful `parser` functions (as are `int` and `str`).)\n",
    "- **Part 1**: Write code to compute the answer to Part 1, and submit the answer to the AoC site. Use the function `answer` to record the correct answer and serve as a regression test when I re-run the notebook.\n",
    "- **Part 2**: Repeat coding and `answer` for Part 2.\n"
   ]
  },
  {
   "cell_type": "code",
   "execution_count": 6,
   "metadata": {},
   "outputs": [],
   "source": [
    "def parse(day, parser=str, sep='\\n') -> tuple:\n",
    "    \"\"\"Split the day's input file into entries separated by `sep`, and apply `parser` to each.\"\"\"\n",
    "    entries = open(f'input/input{day}.txt').read().rstrip().split(sep)\n",
    "    return mapt(parser, entries)"
   ]
  },
  {
   "cell_type": "markdown",
   "metadata": {},
   "source": [
    "# [Day 1](https://adventofcode.com/2021/day/1): Sonar Sweep\n",
    "\n",
    "count the number of times a depth measurement increases from the previous measurement"
   ]
  },
  {
   "cell_type": "code",
   "execution_count": null,
   "metadata": {},
   "outputs": [],
   "source": [
    "get_in_file(1)\n",
    "in1 = parse(1, int)\n",
    "incr = Counter([1 if b > a else -1 for a, b in pairwise(in1)])[1] \n",
    "submit(incr, part=\"a\", day=1, year=2021)"
   ]
  },
  {
   "cell_type": "markdown",
   "metadata": {},
   "source": [
    "### Part Two\n",
    "\n",
    "consider sums of a three-measurement sliding window"
   ]
  },
  {
   "cell_type": "code",
   "execution_count": null,
   "metadata": {},
   "outputs": [],
   "source": [
    "sw = [c+b+a for a,b,c in sliding_window(in1, 3)] \n",
    "incr = Counter([1 if b > a else -1 for a,b in pairwise(sw)])[1]\n",
    "submit(incr, part=\"b\", day=1, year=2021)"
   ]
  },
  {
   "cell_type": "markdown",
   "metadata": {},
   "source": [
    "# [Day 2](https://adventofcode.com/2021/day/2): Dive!\n",
    "\n",
    "- forward X increases the horizontal position by X units.\n",
    "- down X increases the depth by X units.\n",
    "- up X decreases the depth by X units."
   ]
  },
  {
   "cell_type": "code",
   "execution_count": null,
   "metadata": {},
   "outputs": [],
   "source": [
    "get_in_file(2)\n",
    "parse_in = lambda x : { k:int(v) for (k,v) in [str.split(x)] }\n",
    "in2 = Input(2, parse_in)"
   ]
  },
  {
   "cell_type": "code",
   "execution_count": null,
   "metadata": {},
   "outputs": [],
   "source": [
    "c = Counter()\n",
    "[c.update(d) for d in in2]; c"
   ]
  },
  {
   "cell_type": "code",
   "execution_count": null,
   "metadata": {},
   "outputs": [],
   "source": [
    "course = c['forward']*(c['down']-c['up'])\n",
    "submit(course, part=\"a\", day=2, year=2021)"
   ]
  },
  {
   "cell_type": "markdown",
   "metadata": {},
   "source": [
    "### Part Two\n",
    "\n",
    "- down X increases your aim by X units.\n",
    "- up X decreases your aim by X units.\n",
    "- forward X does two things:\n",
    "    - It increases your horizontal position by X units.\n",
    "    - It increases your depth by your aim multiplied by X."
   ]
  },
  {
   "cell_type": "code",
   "execution_count": null,
   "metadata": {},
   "outputs": [],
   "source": [
    "aim = 0\n",
    "horiz = 0\n",
    "depth = 0\n",
    "for d in in2 :\n",
    "    for k,v in d.items() :\n",
    "        if k == 'down':\n",
    "            aim += v\n",
    "        if k == 'up':\n",
    "            aim -= v\n",
    "        if k == 'forward':\n",
    "            horiz += v\n",
    "            depth += aim * v\n",
    "\n",
    "aim, horiz, depth\n",
    "submit(horiz*depth, part=\"b\", day=2, year=2021)"
   ]
  },
  {
   "cell_type": "markdown",
   "metadata": {},
   "source": [
    "# [Day 3](https://adventofcode.com/2021/day/3): Binary Diagnostic\n",
    "\n",
    "Each bit in the gamma rate can be determined by finding the most common bit in the corresponding position of all numbers in the diagnostic report\n",
    "\n",
    "The epsilon rate is calculated in a similar way; rather than use the most common bit, the least common bit from each position is used\n",
    "\n",
    "The power consumption can then be found by multiplying the gamma rate by the epsilon rate."
   ]
  },
  {
   "cell_type": "code",
   "execution_count": null,
   "metadata": {},
   "outputs": [],
   "source": [
    "get_in_file(3)\n",
    "parse_in = lambda x : mapt(int, list(str.strip(x)))\n",
    "in3 = Input(3, parse_in)"
   ]
  },
  {
   "cell_type": "code",
   "execution_count": null,
   "metadata": {},
   "outputs": [],
   "source": [
    "inT = np.array(in3).T\n",
    "print(f\"input Transposed shape {inT.shape}\")\n",
    "bits_counter = mapt( lambda x : Counter(x.tolist()).most_common(), inT ); bits_counter"
   ]
  },
  {
   "cell_type": "code",
   "execution_count": null,
   "metadata": {},
   "outputs": [],
   "source": [
    "gamma_rate_bits = mapt( lambda x : Counter(x.tolist()).most_common()[0][0], inT )\n",
    "print (f\"gamma_rate_bits {gamma_rate_bits}\")\n",
    "gamma_rate = int(\"\".join(map(str,gamma_rate_bits)), 2); gamma_rate"
   ]
  },
  {
   "cell_type": "code",
   "execution_count": null,
   "metadata": {},
   "outputs": [],
   "source": [
    "epsilon_rate_bits = mapt( lambda x : Counter(x.tolist()).most_common()[-1][0], inT )\n",
    "print (f\"epsilon_rate_bits {epsilon_rate_bits}\")\n",
    "epsilon_rate = int(\"\".join(map(str,epsilon_rate_bits)), 2); epsilon_rate"
   ]
  },
  {
   "cell_type": "code",
   "execution_count": null,
   "metadata": {},
   "outputs": [],
   "source": [
    "submit(gamma_rate*epsilon_rate, part=\"a\", day=3, year=2021)"
   ]
  },
  {
   "cell_type": "markdown",
   "metadata": {},
   "source": [
    "### Part Two\n",
    "\n",
    "The bit criteria depends on which type of rating value you want to find:\n",
    "\n",
    "- To find oxygen generator rating, determine the most common value (0 or 1) in the current bit position, and keep only numbers with that bit in that position. If 0 and 1 are equally common, keep values with a 1 in the position being considered.\n",
    "- To find CO2 scrubber rating, determine the least common value (0 or 1) in the current bit position, and keep only numbers with that bit in that position. If 0 and 1 are equally common, keep values with a 0 in the position being considered."
   ]
  },
  {
   "cell_type": "code",
   "execution_count": null,
   "metadata": {},
   "outputs": [],
   "source": [
    "\n",
    "def Oxy_bit_criteria(x) :\n",
    "    c = Counter(x.tolist())\n",
    "    #print (c)\n",
    "    if c[0] == c[1]:\n",
    "        return 1\n",
    "    return c.most_common()[0][0]\n",
    "\n",
    "def CO2_bit_criteria(x) :\n",
    "    c = Counter(x.tolist())\n",
    "    #print (c)\n",
    "    if c[0] == c[1]:\n",
    "        return 0\n",
    "    return c.most_common()[-1][0]\n",
    "\n",
    "def calc_rate(input, bit_fun_criteria) :\n",
    "\n",
    "    col = 0\n",
    "    inM = np.array(input)\n",
    "\n",
    "    while ( inM.shape[0] > 1 ) :\n",
    "        # find criteria bit in column \"col\"\n",
    "        criteria_bit = mapt( bit_fun_criteria, inM.T )[col]\n",
    "        #print (f\"col {col} criteria bit {criteria_bit}\")\n",
    "        # get a boolean vector which select rows that have \"most_common_bit\" at column \"col\" \n",
    "        row_selector = inM[:,col] == criteria_bit\n",
    "        # filter all the rows using boolean vector \"row_selector\" \n",
    "        inM = inM[row_selector,:]\n",
    "        col += 1\n",
    "\n",
    "    return inM[0]"
   ]
  },
  {
   "cell_type": "code",
   "execution_count": null,
   "metadata": {},
   "outputs": [],
   "source": [
    "oxygen_generator_rating = int(\"\".join(map(str, calc_rate(in3, Oxy_bit_criteria))), 2); oxygen_generator_rating"
   ]
  },
  {
   "cell_type": "code",
   "execution_count": null,
   "metadata": {},
   "outputs": [],
   "source": [
    "co2_scrubber_rating = int(\"\".join(map(str, calc_rate(in3, CO2_bit_criteria))), 2); co2_scrubber_rating"
   ]
  },
  {
   "cell_type": "code",
   "execution_count": null,
   "metadata": {},
   "outputs": [],
   "source": [
    "submit(oxygen_generator_rating*co2_scrubber_rating, part=\"b\", day=3, year=2021)"
   ]
  },
  {
   "cell_type": "markdown",
   "metadata": {},
   "source": [
    "# [Day 4](https://adventofcode.com/2021/day/4): Giant Squid\n",
    "\n",
    "Bingo is played on a set of boards each consisting of a 5x5 grid of numbers. Numbers are chosen at random, and the chosen number is marked on all boards on which it appears. (Numbers may not appear on all boards.) If all numbers in any row or any column of a board are marked, that board wins. (Diagonals don't count.)"
   ]
  },
  {
   "cell_type": "code",
   "execution_count": null,
   "metadata": {},
   "outputs": [],
   "source": [
    "get_in_file(4)\n",
    "\n",
    "in4 = parse(4, ints, sep=\"\\n\\n\")\n",
    "\n",
    "def bingo_score(input) :\n",
    "    order, *boards = input\n",
    "    boardsM = mapt(lambda b: np.array(b).reshape(5,5), boards)\n",
    "    boardsK = mapt(lambda b: np.full((5,5), False), boards)\n",
    "    it_order = iter(order)\n",
    "    tmpK = list()\n",
    "    drawn = list()\n",
    "    bingo = False\n",
    "\n",
    "    while not bingo :\n",
    "        draw = next(it_order)\n",
    "        for bM,bK in zip(boardsM, boardsK) :\n",
    "            # mask elem is True where \"draw\" is in bM\n",
    "            mask = np.isin(bM, draw)\n",
    "            bK = bK | mask\n",
    "            # If all numbers in any row or any column of a board are marked\n",
    "            # that board wins\n",
    "            if ( np.any(np.all(bK, axis=0)) or \n",
    "                 np.any(np.all(bK, axis=1)) ) :\n",
    "                bingo = True\n",
    "                break\n",
    "            \n",
    "            tmpK.append(bK)\n",
    "        #\n",
    "        drawn.append(draw)\n",
    "        boardsK = tmpK\n",
    "        tmpK = list()\n",
    "\n",
    "    return (draw,drawn,bM,bK)\n",
    "\n",
    "d,D,M,K = bingo_score(in4)\n",
    "print (M)\n",
    "#print (D)\n",
    "#print (K)\n",
    "#print (np.logical_not(K))\n",
    "score = np.sum(M[np.logical_not(K)])*d\n"
   ]
  },
  {
   "cell_type": "code",
   "execution_count": null,
   "metadata": {},
   "outputs": [],
   "source": [
    "submit(score, part=\"a\", day=4, year=2021)"
   ]
  },
  {
   "cell_type": "markdown",
   "metadata": {},
   "source": [
    "### Part Two\n",
    "\n",
    "... figure out which board will win last"
   ]
  },
  {
   "cell_type": "markdown",
   "metadata": {},
   "source": []
  },
  {
   "cell_type": "code",
   "execution_count": null,
   "metadata": {},
   "outputs": [],
   "source": [
    "def win_boards(input) :\n",
    "    order, *boards = input\n",
    "    boardsM = mapt(lambda b: np.array(b).reshape(5,5), boards)\n",
    "    boardsK = mapt(lambda b: np.full((5,5), False), boards)\n",
    "    it_order = iter(order)\n",
    "    tmpK = list()\n",
    "    tmpM = list()\n",
    "    drawn = list()\n",
    "    bingo = False\n",
    "    bingo_boards = list()\n",
    "\n",
    "    while True :\n",
    "        try :\n",
    "            draw = next(it_order)\n",
    "            for bM,bK in zip(boardsM, boardsK) :\n",
    "                # mask elem is True where \"draw\" is in bM\n",
    "                mask = np.isin(bM, draw)\n",
    "                bK = bK | mask\n",
    "                # If all numbers in any row or any column of a board are marked\n",
    "                # that board wins\n",
    "                if ( np.any(np.all(bK, axis=0)) or \n",
    "                    np.any(np.all(bK, axis=1)) ) :\n",
    "                    bingo_boards.append((draw,bM,bK))\n",
    "                else:\n",
    "                    tmpK.append(bK)\n",
    "                    tmpM.append(bM)\n",
    "            #\n",
    "            drawn.append(draw)\n",
    "            boardsK = tmpK\n",
    "            boardsM = tmpM\n",
    "            tmpK = list()\n",
    "            tmpM = list()\n",
    "        except (StopIteration) :\n",
    "            break\n",
    "\n",
    "    return bingo_boards\n",
    "\n",
    "d,M,K = win_boards(in4)[-1]\n",
    "\n",
    "score = np.sum(M[np.logical_not(K)])*d"
   ]
  },
  {
   "cell_type": "code",
   "execution_count": null,
   "metadata": {},
   "outputs": [],
   "source": [
    "submit(score, part=\"b\", day=4, year=2021)"
   ]
  },
  {
   "cell_type": "markdown",
   "metadata": {},
   "source": [
    "# [Day 5](https://adventofcode.com/2021/day/5): Hydrothermal Venture"
   ]
  },
  {
   "cell_type": "code",
   "execution_count": null,
   "metadata": {},
   "outputs": [],
   "source": [
    "get_in_file(5)\n",
    "\n",
    "in5 = parse(5, ints)"
   ]
  },
  {
   "cell_type": "code",
   "execution_count": null,
   "metadata": {},
   "outputs": [],
   "source": [
    "class Point(namedtuple('Point', ['x', 'y'])):\n",
    "    pass\n",
    "\"\"\"\n",
    "    def __eq__(self, other):\n",
    "        return ((self.x, self.y) == (other.x, other.y))\n",
    "    def __ne__(self, other):\n",
    "        return not (self == other)\n",
    "    def __lt__(self, other):\n",
    "        return ((self.last, self.first) < (other.last, other.first))\n",
    "\"\"\"    \n",
    "\n",
    "class Segment(namedtuple('Segment', ['p1', 'p2'])):\n",
    "    def is_V(self):\n",
    "        return self.p1.x == self.p2.x\n",
    "    def is_H(self):\n",
    "        return self.p1.y == self.p2.y\n",
    "    def is_D(self):\n",
    "        return (abs(self.p1.x - self.p2.x) == abs(self.p1.y - self.p2.y))\n",
    "    def min_x(self):\n",
    "        return min(self.p1.x ,self.p2.x)\n",
    "    def min_y(self):\n",
    "        return min(self.p1.y ,self.p2.y)\n",
    "    def max_x(self):\n",
    "        return max(self.p1.x ,self.p2.x)\n",
    "    def max_y(self):\n",
    "        return max(self.p1.y ,self.p2.y)\n",
    "    def slope(self):\n",
    "        return (self.p2.y - self.p1.y)/(self.p2.x - self.p1.x)\n",
    "    def get_points(self):\n",
    "        if ( self.is_V() ) :\n",
    "            return mapt(lambda y: Point(self.p1.x,y), range(self.min_y(),self.max_y()+1))\n",
    "        if ( self.is_H() ) :\n",
    "            return mapt(lambda x: Point(x,self.p1.y), range(self.min_x(),self.max_x()+1))\n",
    "        if ( self.is_D() ) :\n",
    "            if self.slope() > 0 :\n",
    "                return mapt(lambda z: Point(z[0],z[1]),\n",
    "                            zip(range(self.min_x(),self.max_x()+1),\n",
    "                                range(self.min_y(),self.max_y()+1)))\n",
    "            else :\n",
    "                return mapt(lambda z: Point(z[0],z[1]),\n",
    "                            zip(range(self.max_x(),self.min_x()-1, -1),\n",
    "                                range(self.min_y(),self.max_y()+1)))\n"
   ]
  },
  {
   "cell_type": "code",
   "execution_count": null,
   "metadata": {},
   "outputs": [],
   "source": [
    "lines = [Segment(Point(x1,x2),Point(y1,y2)) for (x1,x2,y1,y2) in in5]\n",
    "HV_lines = [line for line in lines if line.is_H() or line.is_V()]"
   ]
  },
  {
   "cell_type": "code",
   "execution_count": null,
   "metadata": {},
   "outputs": [],
   "source": [
    "maxx = max([seg.max_x() for seg in HV_lines])\n",
    "maxy = max([seg.max_y() for seg in HV_lines])\n",
    "maxx,maxy"
   ]
  },
  {
   "cell_type": "code",
   "execution_count": null,
   "metadata": {},
   "outputs": [],
   "source": [
    "pts_cnt = Counter()\n",
    "mapt(lambda x: pts_cnt.update(Counter(x.get_points())), HV_lines)\n",
    "# ... number of points where at least two lines overlap ==> >= 2\n",
    "pts_num = len([v for v in pts_cnt.values() if v > 1])\n",
    "pts_num = len([v for k,v in pts_cnt.most_common() if v > 1])\n",
    "pts_num"
   ]
  },
  {
   "cell_type": "code",
   "execution_count": null,
   "metadata": {},
   "outputs": [],
   "source": [
    "submit(pts_num, part=\"a\", day=5, year=2021)"
   ]
  },
  {
   "cell_type": "markdown",
   "metadata": {},
   "source": [
    "### Part Two"
   ]
  },
  {
   "cell_type": "code",
   "execution_count": null,
   "metadata": {},
   "outputs": [],
   "source": [
    "test1 = [Segment(Point(1,1),Point(3,3)),Segment(Point(4,4),Point(2,2)),\n",
    "         Segment(Point(0,1),Point(3,4)),Segment(Point(2,3),Point(0,1)),\n",
    "         Segment(Point(9,7),Point(7,9))]\n",
    "for t in test1 :\n",
    "    t.is_D()\n",
    "    print (t.slope(), t.get_points())\n"
   ]
  },
  {
   "cell_type": "code",
   "execution_count": null,
   "metadata": {},
   "outputs": [],
   "source": [
    "D_lines = [line for line in lines if line.is_D()]\n",
    "pts_cnt = Counter()\n",
    "mapt(lambda x: pts_cnt.update(Counter(x.get_points())), chain(HV_lines,D_lines))\n",
    "pts_num = len([v for k,v in pts_cnt.most_common() if v > 1])\n",
    "pts_num"
   ]
  },
  {
   "cell_type": "code",
   "execution_count": null,
   "metadata": {},
   "outputs": [],
   "source": [
    "submit(pts_num, part=\"b\", day=5, year=2021)"
   ]
  },
  {
   "cell_type": "markdown",
   "metadata": {},
   "source": [
    "# [Day 6](https://adventofcode.com/2021/day/6): Lanternfish\n"
   ]
  },
  {
   "cell_type": "code",
   "execution_count": 7,
   "metadata": {},
   "outputs": [],
   "source": [
    "get_in_file(6)\n",
    "in6 = parse(6, ints)"
   ]
  },
  {
   "cell_type": "code",
   "execution_count": 8,
   "metadata": {},
   "outputs": [],
   "source": [
    "init_state, = in6\n",
    "init_test = 3,4,3,1,2"
   ]
  },
  {
   "cell_type": "code",
   "execution_count": 9,
   "metadata": {},
   "outputs": [],
   "source": [
    "def population (in_s, days) :\n",
    "    D = deque()\n",
    "    curr_state = in_s \n",
    "    while days > 0 :\n",
    "        print (f\"...days {days} len(curr_state)={curr_state}\")\n",
    "        c = Counter(curr_state)\n",
    "        next_state = list(map(lambda x: 6 if x == 0 else x-1 , curr_state))\n",
    "        next_state += c[0]*[8]\n",
    "        #D.append(next_state)\n",
    "        days -= 1\n",
    "        curr_state = next_state\n",
    "    return next_state"
   ]
  },
  {
   "cell_type": "code",
   "execution_count": 11,
   "metadata": {},
   "outputs": [
    {
     "name": "stdout",
     "output_type": "stream",
     "text": [
      "...days 80\n",
      "...days 79\n",
      "...days 78\n",
      "...days 77\n",
      "...days 76\n",
      "...days 75\n",
      "...days 74\n",
      "...days 73\n",
      "...days 72\n",
      "...days 71\n",
      "...days 70\n",
      "...days 69\n",
      "...days 68\n",
      "...days 67\n",
      "...days 66\n",
      "...days 65\n",
      "...days 64\n",
      "...days 63\n",
      "...days 62\n",
      "...days 61\n",
      "...days 60\n",
      "...days 59\n",
      "...days 58\n",
      "...days 57\n",
      "...days 56\n",
      "...days 55\n",
      "...days 54\n",
      "...days 53\n",
      "...days 52\n",
      "...days 51\n",
      "...days 50\n",
      "...days 49\n",
      "...days 48\n",
      "...days 47\n",
      "...days 46\n",
      "...days 45\n",
      "...days 44\n",
      "...days 43\n",
      "...days 42\n",
      "...days 41\n",
      "...days 40\n",
      "...days 39\n",
      "...days 38\n",
      "...days 37\n",
      "...days 36\n",
      "...days 35\n",
      "...days 34\n",
      "...days 33\n",
      "...days 32\n",
      "...days 31\n",
      "...days 30\n",
      "...days 29\n",
      "...days 28\n",
      "...days 27\n",
      "...days 26\n",
      "...days 25\n",
      "...days 24\n",
      "...days 23\n",
      "...days 22\n",
      "...days 21\n",
      "...days 20\n",
      "...days 19\n",
      "...days 18\n",
      "...days 17\n",
      "...days 16\n",
      "...days 15\n",
      "...days 14\n",
      "...days 13\n",
      "...days 12\n",
      "...days 11\n",
      "...days 10\n",
      "...days 9\n",
      "...days 8\n",
      "...days 7\n",
      "...days 6\n",
      "...days 5\n",
      "...days 4\n",
      "...days 3\n",
      "...days 2\n",
      "...days 1\n",
      "after 80 days 5934\n"
     ]
    }
   ],
   "source": [
    "days = 80;  print (f\"after {days} days {len(population(init_test, days))}\" )\n",
    "#days = 256; print (f\"after {days} days {len(population(init_test, days))}\" )"
   ]
  },
  {
   "cell_type": "code",
   "execution_count": 14,
   "metadata": {},
   "outputs": [
    {
     "name": "stdout",
     "output_type": "stream",
     "text": [
      "Part a already solved with same answer: 353079\n"
     ]
    }
   ],
   "source": [
    "state = population(init_state,80)\n",
    "submit(len(state), part=\"a\", day=6, year=2021)"
   ]
  },
  {
   "cell_type": "markdown",
   "metadata": {},
   "source": [
    "### Part Two\n",
    "\n",
    "How many lanternfish would there be after 256 days?"
   ]
  },
  {
   "cell_type": "markdown",
   "metadata": {},
   "source": []
  },
  {
   "cell_type": "code",
   "execution_count": null,
   "metadata": {},
   "outputs": [],
   "source": []
  }
 ],
 "metadata": {
  "interpreter": {
   "hash": "2a2dbedcade76137bd4b02e68471641a7c3e00d6aa0c62804fd350fa1a729d65"
  },
  "kernelspec": {
   "display_name": "Python 3.9.7 64-bit ('data-science': conda)",
   "language": "python",
   "name": "python3"
  },
  "language_info": {
   "codemirror_mode": {
    "name": "ipython",
    "version": 3
   },
   "file_extension": ".py",
   "mimetype": "text/x-python",
   "name": "python",
   "nbconvert_exporter": "python",
   "pygments_lexer": "ipython3",
   "version": "3.10.0"
  }
 },
 "nbformat": 4,
 "nbformat_minor": 2
}
