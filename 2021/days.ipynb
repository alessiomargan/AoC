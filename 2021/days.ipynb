{
 "cells": [
  {
   "cell_type": "code",
   "execution_count": null,
   "metadata": {},
   "outputs": [],
   "source": [
    "import sys\n",
    "sys.path.append(\"../\")\n",
    "from aoc_utils import *"
   ]
  },
  {
   "cell_type": "markdown",
   "metadata": {},
   "source": [
    "<a id='home'></a>\n",
    "Each day's work will consist of three tasks:\n",
    "- **Input**: Parse the day's input file with the function `parse(day, parser, sep)`, which treats the input as a sequence of *entries*, separated by `sep` (default newline); applies `parser` to each entry; and returns the results as a tuple. (Note: `ints` and `atoms` are useful `parser` functions (as are `int` and `str`).)\n",
    "- **Part 1**: Write code to compute the answer to Part 1, and submit the answer to the AoC site. Use the function `answer` to record the correct answer and serve as a regression test when I re-run the notebook.\n",
    "- **Part 2**: Repeat coding and `answer` for Part 2.\n",
    "<br>\n",
    "1. [Day 1](#day_1)\n",
    "2. [Day 2](#day_2)\n",
    "3. [Day 3](#day_3)\n",
    "4. [Day 4](#day_4)\n",
    "5. [Day 5](#day_5)\n",
    "6. [Day 6](#day_6)\n",
    "7. [Day 7](#day_7)\n",
    "8. [Day 8](#day_8)\n",
    "9. [Day 9](#day_9)\n",
    "10. [Day 10](#day_10)"
   ]
  },
  {
   "cell_type": "markdown",
   "metadata": {},
   "source": [
    "<a id='day_1'></a>\n",
    "[home](#home)\n",
    "# [Day 1](https://adventofcode.com/2021/day/1): Sonar Sweep\n",
    "\n",
    "count the number of times a depth measurement increases from the previous measurement\n"
   ]
  },
  {
   "cell_type": "code",
   "execution_count": null,
   "metadata": {},
   "outputs": [],
   "source": [
    "get_in_file(1)\n",
    "in1 = parse(1, int)\n",
    "incr = Counter([1 if b > a else -1 for a, b in pairwise(in1)])[1] \n",
    "submit(incr, part=\"a\", day=1, year=2021)"
   ]
  },
  {
   "cell_type": "markdown",
   "metadata": {},
   "source": [
    "### Part Two\n",
    "\n",
    "consider sums of a three-measurement sliding window"
   ]
  },
  {
   "cell_type": "code",
   "execution_count": null,
   "metadata": {},
   "outputs": [],
   "source": [
    "sw = [c+b+a for a,b,c in sliding_window(in1, 3)] \n",
    "incr = Counter([1 if b > a else -1 for a,b in pairwise(sw)])[1]\n",
    "submit(incr, part=\"b\", day=1, year=2021)"
   ]
  },
  {
   "cell_type": "markdown",
   "metadata": {},
   "source": [
    "<a id='day_2'></a>\n",
    "[home](#home)\n",
    "# [Day 2](https://adventofcode.com/2021/day/2): Dive!\n",
    "\n",
    "- forward X increases the horizontal position by X units.\n",
    "- down X increases the depth by X units.\n",
    "- up X decreases the depth by X units.\n"
   ]
  },
  {
   "cell_type": "code",
   "execution_count": null,
   "metadata": {},
   "outputs": [],
   "source": [
    "get_in_file(2)\n",
    "parse_in = lambda x : { k:int(v) for (k,v) in [str.split(x)] }\n",
    "in2 = Input(2, parse_in)"
   ]
  },
  {
   "cell_type": "code",
   "execution_count": null,
   "metadata": {},
   "outputs": [],
   "source": [
    "c = Counter()\n",
    "[c.update(d) for d in in2]; c"
   ]
  },
  {
   "cell_type": "code",
   "execution_count": null,
   "metadata": {},
   "outputs": [],
   "source": [
    "course = c['forward']*(c['down']-c['up'])\n",
    "submit(course, part=\"a\", day=2, year=2021)"
   ]
  },
  {
   "cell_type": "markdown",
   "metadata": {},
   "source": [
    "### Part Two\n",
    "\n",
    "- down X increases your aim by X units.\n",
    "- up X decreases your aim by X units.\n",
    "- forward X does two things:\n",
    "    - It increases your horizontal position by X units.\n",
    "    - It increases your depth by your aim multiplied by X."
   ]
  },
  {
   "cell_type": "code",
   "execution_count": null,
   "metadata": {},
   "outputs": [],
   "source": [
    "aim = 0\n",
    "horiz = 0\n",
    "depth = 0\n",
    "for d in in2 :\n",
    "    for k,v in d.items() :\n",
    "        if k == 'down':\n",
    "            aim += v\n",
    "        if k == 'up':\n",
    "            aim -= v\n",
    "        if k == 'forward':\n",
    "            horiz += v\n",
    "            depth += aim * v\n",
    "\n",
    "aim, horiz, depth\n",
    "submit(horiz*depth, part=\"b\", day=2, year=2021)"
   ]
  },
  {
   "cell_type": "markdown",
   "metadata": {},
   "source": [
    "<a id='day_3'></a>\n",
    "[home](#home)\n",
    "# [Day 3](https://adventofcode.com/2021/day/3): Binary Diagnostic\n",
    "\n",
    "Each bit in the gamma rate can be determined by finding the most common bit in the corresponding position of all numbers in the diagnostic report\n",
    "\n",
    "The epsilon rate is calculated in a similar way; rather than use the most common bit, the least common bit from each position is used\n",
    "\n",
    "The power consumption can then be found by multiplying the gamma rate by the epsilon rate."
   ]
  },
  {
   "cell_type": "code",
   "execution_count": null,
   "metadata": {},
   "outputs": [],
   "source": [
    "get_in_file(3)\n",
    "parse_in = lambda x : mapt(int, list(str.strip(x)))\n",
    "in3 = Input(3, parse_in)"
   ]
  },
  {
   "cell_type": "code",
   "execution_count": null,
   "metadata": {},
   "outputs": [],
   "source": [
    "inT = np.array(in3).T\n",
    "print(f\"input Transposed shape {inT.shape}\")\n",
    "bits_counter = mapt( lambda x : Counter(x.tolist()).most_common(), inT ); bits_counter"
   ]
  },
  {
   "cell_type": "code",
   "execution_count": null,
   "metadata": {},
   "outputs": [],
   "source": [
    "gamma_rate_bits = mapt( lambda x : Counter(x.tolist()).most_common()[0][0], inT )\n",
    "print (f\"gamma_rate_bits {gamma_rate_bits}\")\n",
    "gamma_rate = int(\"\".join(map(str,gamma_rate_bits)), 2); gamma_rate"
   ]
  },
  {
   "cell_type": "code",
   "execution_count": null,
   "metadata": {},
   "outputs": [],
   "source": [
    "epsilon_rate_bits = mapt( lambda x : Counter(x.tolist()).most_common()[-1][0], inT )\n",
    "print (f\"epsilon_rate_bits {epsilon_rate_bits}\")\n",
    "epsilon_rate = int(\"\".join(map(str,epsilon_rate_bits)), 2); epsilon_rate"
   ]
  },
  {
   "cell_type": "code",
   "execution_count": null,
   "metadata": {},
   "outputs": [],
   "source": [
    "submit(gamma_rate*epsilon_rate, part=\"a\", day=3, year=2021)"
   ]
  },
  {
   "cell_type": "markdown",
   "metadata": {},
   "source": [
    "### Part Two\n",
    "\n",
    "The bit criteria depends on which type of rating value you want to find:\n",
    "\n",
    "- To find oxygen generator rating, determine the most common value (0 or 1) in the current bit position, and keep only numbers with that bit in that position. If 0 and 1 are equally common, keep values with a 1 in the position being considered.\n",
    "- To find CO2 scrubber rating, determine the least common value (0 or 1) in the current bit position, and keep only numbers with that bit in that position. If 0 and 1 are equally common, keep values with a 0 in the position being considered."
   ]
  },
  {
   "cell_type": "code",
   "execution_count": null,
   "metadata": {},
   "outputs": [],
   "source": [
    "\n",
    "def Oxy_bit_criteria(x) :\n",
    "    c = Counter(x.tolist())\n",
    "    #print (c)\n",
    "    if c[0] == c[1]:\n",
    "        return 1\n",
    "    return c.most_common()[0][0]\n",
    "\n",
    "def CO2_bit_criteria(x) :\n",
    "    c = Counter(x.tolist())\n",
    "    #print (c)\n",
    "    if c[0] == c[1]:\n",
    "        return 0\n",
    "    return c.most_common()[-1][0]\n",
    "\n",
    "def calc_rate(input, bit_fun_criteria) :\n",
    "\n",
    "    col = 0\n",
    "    inM = np.array(input)\n",
    "\n",
    "    while ( inM.shape[0] > 1 ) :\n",
    "        # find criteria bit in column \"col\"\n",
    "        criteria_bit = mapt( bit_fun_criteria, inM.T )[col]\n",
    "        #print (f\"col {col} criteria bit {criteria_bit}\")\n",
    "        # get a boolean vector which select rows that have \"most_common_bit\" at column \"col\" \n",
    "        row_selector = inM[:,col] == criteria_bit\n",
    "        # filter all the rows using boolean vector \"row_selector\" \n",
    "        inM = inM[row_selector,:]\n",
    "        col += 1\n",
    "\n",
    "    return inM[0]"
   ]
  },
  {
   "cell_type": "code",
   "execution_count": null,
   "metadata": {},
   "outputs": [],
   "source": [
    "oxygen_generator_rating = int(\"\".join(map(str, calc_rate(in3, Oxy_bit_criteria))), 2); oxygen_generator_rating"
   ]
  },
  {
   "cell_type": "code",
   "execution_count": null,
   "metadata": {},
   "outputs": [],
   "source": [
    "co2_scrubber_rating = int(\"\".join(map(str, calc_rate(in3, CO2_bit_criteria))), 2); co2_scrubber_rating"
   ]
  },
  {
   "cell_type": "code",
   "execution_count": null,
   "metadata": {},
   "outputs": [],
   "source": [
    "submit(oxygen_generator_rating*co2_scrubber_rating, part=\"b\", day=3, year=2021)"
   ]
  },
  {
   "cell_type": "markdown",
   "metadata": {},
   "source": [
    "<a id='day_4'></a>\n",
    "[home](#home)\n",
    "# [Day 4](https://adventofcode.com/2021/day/4): Giant Squid\n",
    "\n",
    "Bingo is played on a set of boards each consisting of a 5x5 grid of numbers. Numbers are chosen at random, and the chosen number is marked on all boards on which it appears. (Numbers may not appear on all boards.) If all numbers in any row or any column of a board are marked, that board wins. (Diagonals don't count.)"
   ]
  },
  {
   "cell_type": "code",
   "execution_count": null,
   "metadata": {},
   "outputs": [],
   "source": [
    "get_in_file(4)\n",
    "\n",
    "in4 = parse(4, ints, sep=\"\\n\\n\")\n",
    "\n",
    "def bingo_score(input) :\n",
    "    order, *boards = input\n",
    "    boardsM = mapt(lambda b: np.array(b).reshape(5,5), boards)\n",
    "    boardsK = mapt(lambda b: np.full((5,5), False), boards)\n",
    "    it_order = iter(order)\n",
    "    tmpK = list()\n",
    "    drawn = list()\n",
    "    bingo = False\n",
    "\n",
    "    while not bingo :\n",
    "        draw = next(it_order)\n",
    "        for bM,bK in zip(boardsM, boardsK) :\n",
    "            # mask elem is True where \"draw\" is in bM\n",
    "            mask = np.isin(bM, draw)\n",
    "            bK = bK | mask\n",
    "            # If all numbers in any row or any column of a board are marked\n",
    "            # that board wins\n",
    "            if ( np.any(np.all(bK, axis=0)) or \n",
    "                 np.any(np.all(bK, axis=1)) ) :\n",
    "                bingo = True\n",
    "                break\n",
    "            \n",
    "            tmpK.append(bK)\n",
    "        #\n",
    "        drawn.append(draw)\n",
    "        boardsK = tmpK\n",
    "        tmpK = list()\n",
    "\n",
    "    return (draw,drawn,bM,bK)\n",
    "\n",
    "d,D,M,K = bingo_score(in4)\n",
    "print (M)\n",
    "#print (D)\n",
    "#print (K)\n",
    "#print (np.logical_not(K))\n",
    "score = np.sum(M[np.logical_not(K)])*d\n"
   ]
  },
  {
   "cell_type": "code",
   "execution_count": null,
   "metadata": {},
   "outputs": [],
   "source": [
    "submit(score, part=\"a\", day=4, year=2021)"
   ]
  },
  {
   "cell_type": "markdown",
   "metadata": {},
   "source": [
    "### Part Two\n",
    "\n",
    "... figure out which board will win last"
   ]
  },
  {
   "cell_type": "markdown",
   "metadata": {},
   "source": []
  },
  {
   "cell_type": "code",
   "execution_count": null,
   "metadata": {},
   "outputs": [],
   "source": [
    "def win_boards(input) :\n",
    "    order, *boards = input\n",
    "    boardsM = mapt(lambda b: np.array(b).reshape(5,5), boards)\n",
    "    boardsK = mapt(lambda b: np.full((5,5), False), boards)\n",
    "    it_order = iter(order)\n",
    "    tmpK = list()\n",
    "    tmpM = list()\n",
    "    drawn = list()\n",
    "    bingo = False\n",
    "    bingo_boards = list()\n",
    "\n",
    "    while True :\n",
    "        try :\n",
    "            draw = next(it_order)\n",
    "            for bM,bK in zip(boardsM, boardsK) :\n",
    "                # mask elem is True where \"draw\" is in bM\n",
    "                mask = np.isin(bM, draw)\n",
    "                bK = bK | mask\n",
    "                # If all numbers in any row or any column of a board are marked\n",
    "                # that board wins\n",
    "                if ( np.any(np.all(bK, axis=0)) or \n",
    "                    np.any(np.all(bK, axis=1)) ) :\n",
    "                    bingo_boards.append((draw,bM,bK))\n",
    "                else:\n",
    "                    tmpK.append(bK)\n",
    "                    tmpM.append(bM)\n",
    "            #\n",
    "            drawn.append(draw)\n",
    "            boardsK = tmpK\n",
    "            boardsM = tmpM\n",
    "            tmpK = list()\n",
    "            tmpM = list()\n",
    "        except (StopIteration) :\n",
    "            break\n",
    "\n",
    "    return bingo_boards\n",
    "\n",
    "d,M,K = win_boards(in4)[-1]\n",
    "\n",
    "score = np.sum(M[np.logical_not(K)])*d"
   ]
  },
  {
   "cell_type": "code",
   "execution_count": null,
   "metadata": {},
   "outputs": [],
   "source": [
    "submit(score, part=\"b\", day=4, year=2021)"
   ]
  },
  {
   "cell_type": "markdown",
   "metadata": {},
   "source": [
    "<a id='day_5'></a>\n",
    "[home](#home)\n",
    "# [Day 5](https://adventofcode.com/2021/day/5): Hydrothermal Venture"
   ]
  },
  {
   "cell_type": "code",
   "execution_count": null,
   "metadata": {},
   "outputs": [],
   "source": [
    "get_in_file(5)\n",
    "\n",
    "in5 = parse(5, ints)"
   ]
  },
  {
   "cell_type": "code",
   "execution_count": null,
   "metadata": {},
   "outputs": [],
   "source": [
    "class Point(namedtuple('Point', ['x', 'y'])):\n",
    "    pass\n",
    "\n",
    "class Segment(namedtuple('Segment', ['p1', 'p2'])):\n",
    "    def is_V(self):\n",
    "        return self.p1.x == self.p2.x\n",
    "    def is_H(self):\n",
    "        return self.p1.y == self.p2.y\n",
    "    def is_D(self):\n",
    "        return (abs(self.p1.x - self.p2.x) == abs(self.p1.y - self.p2.y))\n",
    "    def min_x(self):\n",
    "        return min(self.p1.x ,self.p2.x)\n",
    "    def min_y(self):\n",
    "        return min(self.p1.y ,self.p2.y)\n",
    "    def max_x(self):\n",
    "        return max(self.p1.x ,self.p2.x)\n",
    "    def max_y(self):\n",
    "        return max(self.p1.y ,self.p2.y)\n",
    "    def slope(self):\n",
    "        return (self.p2.y - self.p1.y)/(self.p2.x - self.p1.x)\n",
    "    def get_points(self):\n",
    "        if ( self.is_V() ) :\n",
    "            return mapt(lambda y: Point(self.p1.x,y), range(self.min_y(),self.max_y()+1))\n",
    "        if ( self.is_H() ) :\n",
    "            return mapt(lambda x: Point(x,self.p1.y), range(self.min_x(),self.max_x()+1))\n",
    "        if ( self.is_D() ) :\n",
    "            if self.slope() > 0 :\n",
    "                return mapt(lambda z: Point(z[0],z[1]),\n",
    "                            zip(range(self.min_x(),self.max_x()+1),\n",
    "                                range(self.min_y(),self.max_y()+1)))\n",
    "            else :\n",
    "                return mapt(lambda z: Point(z[0],z[1]),\n",
    "                            zip(range(self.max_x(),self.min_x()-1, -1),\n",
    "                                range(self.min_y(),self.max_y()+1)))\n"
   ]
  },
  {
   "cell_type": "code",
   "execution_count": null,
   "metadata": {},
   "outputs": [],
   "source": [
    "lines = [Segment(Point(x1,x2),Point(y1,y2)) for (x1,x2,y1,y2) in in5]\n",
    "HV_lines = [line for line in lines if line.is_H() or line.is_V()]"
   ]
  },
  {
   "cell_type": "code",
   "execution_count": null,
   "metadata": {},
   "outputs": [],
   "source": [
    "maxx = max([seg.max_x() for seg in HV_lines])\n",
    "maxy = max([seg.max_y() for seg in HV_lines])\n",
    "maxx,maxy"
   ]
  },
  {
   "cell_type": "code",
   "execution_count": null,
   "metadata": {},
   "outputs": [],
   "source": [
    "pts_cnt = Counter()\n",
    "mapt(lambda x: pts_cnt.update(Counter(x.get_points())), HV_lines)\n",
    "# ... number of points where at least two lines overlap ==> >= 2\n",
    "pts_num = len([v for v in pts_cnt.values() if v > 1])\n",
    "pts_num = len([v for k,v in pts_cnt.most_common() if v > 1])\n",
    "pts_num"
   ]
  },
  {
   "cell_type": "code",
   "execution_count": null,
   "metadata": {},
   "outputs": [],
   "source": [
    "submit(pts_num, part=\"a\", day=5, year=2021)"
   ]
  },
  {
   "cell_type": "markdown",
   "metadata": {},
   "source": [
    "### Part Two"
   ]
  },
  {
   "cell_type": "code",
   "execution_count": null,
   "metadata": {},
   "outputs": [],
   "source": [
    "test1 = [Segment(Point(1,1),Point(3,3)),Segment(Point(4,4),Point(2,2)),\n",
    "         Segment(Point(0,1),Point(3,4)),Segment(Point(2,3),Point(0,1)),\n",
    "         Segment(Point(9,7),Point(7,9))]\n",
    "for t in test1 :\n",
    "    t.is_D()\n",
    "    print (t.slope(), t.get_points())\n"
   ]
  },
  {
   "cell_type": "code",
   "execution_count": null,
   "metadata": {},
   "outputs": [],
   "source": [
    "D_lines = [line for line in lines if line.is_D()]\n",
    "pts_cnt = Counter()\n",
    "mapt(lambda x: pts_cnt.update(Counter(x.get_points())), chain(HV_lines,D_lines))\n",
    "pts_num = len([v for k,v in pts_cnt.most_common() if v > 1])\n",
    "pts_num"
   ]
  },
  {
   "cell_type": "code",
   "execution_count": null,
   "metadata": {},
   "outputs": [],
   "source": [
    "submit(pts_num, part=\"b\", day=5, year=2021)"
   ]
  },
  {
   "cell_type": "markdown",
   "metadata": {},
   "source": [
    "<a id='day_6'></a>\n",
    "[home](#home)\n",
    "# [Day 6](https://adventofcode.com/2021/day/6): Lanternfish\n"
   ]
  },
  {
   "cell_type": "code",
   "execution_count": null,
   "metadata": {},
   "outputs": [],
   "source": [
    "get_in_file(6)\n",
    "in6 = parse(6, ints)"
   ]
  },
  {
   "cell_type": "code",
   "execution_count": null,
   "metadata": {},
   "outputs": [],
   "source": [
    "init_state, = in6\n",
    "init_test = 3,4,3,1,2"
   ]
  },
  {
   "cell_type": "code",
   "execution_count": null,
   "metadata": {},
   "outputs": [],
   "source": [
    "def population (in_s, days, verbose=False) :\n",
    "    curr_state = in_s \n",
    "    while days > 0 :\n",
    "        if verbose :\n",
    "            print (f\"...days {days} len(curr_state) = {len(curr_state)}\")\n",
    "        c = Counter(curr_state)\n",
    "        # Each day, a 0 becomes a 6 and adds a new 8 to the end of the list\n",
    "        next_state = list(map(lambda x: 6 if x == 0 else x-1 , curr_state))\n",
    "        # count 0s and append 8s as list\n",
    "        #next_state += c[0]*[8]\n",
    "        #next_state.extend(c[0]*[8])\n",
    "        #curr_state = next_state\n",
    "        # ------\n",
    "        curr_state = next_state + c[0]*[8]\n",
    "        #curr_state = [*next_state, *(c[0]*[8])]\n",
    "        #curr_state = list(chain(next_state, c[0]*[8]))\n",
    "        days -= 1\n",
    "        \n",
    "    return len(curr_state)"
   ]
  },
  {
   "cell_type": "code",
   "execution_count": null,
   "metadata": {},
   "outputs": [],
   "source": [
    "days = 80\n",
    "population_80d = population(init_state, days)\n",
    "print (f\"after {days} days there would be {population_80d} lanternfish\" )\n",
    "#days = 256; print (f\"after {days} days {population(init_test, days)}\" )"
   ]
  },
  {
   "cell_type": "code",
   "execution_count": null,
   "metadata": {},
   "outputs": [],
   "source": [
    "cnt = population(init_state, 80)\n",
    "submit(cnt, part=\"a\", day=6, year=2021)\n",
    "len(cnt)"
   ]
  },
  {
   "cell_type": "markdown",
   "metadata": {},
   "source": [
    "### Part Two\n",
    "\n",
    "How many lanternfish would there be after 256 days?"
   ]
  },
  {
   "cell_type": "code",
   "execution_count": null,
   "metadata": {},
   "outputs": [],
   "source": [
    "%load_ext line_profiler"
   ]
  },
  {
   "cell_type": "code",
   "execution_count": null,
   "metadata": {},
   "outputs": [],
   "source": [
    "def s1(S: list) -> list :\n",
    "    '''using list comprehention '''\n",
    "    return [ 6 if x == 0 else x-1 for x in S ]\n",
    "\n",
    "def s2(S: list) -> list :\n",
    "    ''' using list generator '''\n",
    "    return list(( 6 if x == 0 else x-1 for x in S ))\n",
    "\n",
    "def s3(S: list) -> list :\n",
    "    ''' using trivial for '''\n",
    "    res = list()\n",
    "    for s in S :\n",
    "        if s == 0 :\n",
    "            res.append(6)\n",
    "        else :\n",
    "            res.append(s-1)\n",
    "    return res \n",
    "\n",
    "def s4(S: list) -> Generator :\n",
    "    ''' using generator '''\n",
    "    return ( 6 if x == 0 else x-1 for x in S )\n",
    "\n",
    "def sc(S: list) -> Iterator :\n",
    "    ''' '''\n",
    "    dq = deque()\n",
    "    #print(f\"split {len(S)}\")\n",
    "    for i,c in zip(count_from(),chunks(S,64)):\n",
    "        #chunk = list(c)\n",
    "        #print(f\"{i}) {chunk} -> {s1(chunk)}\")\n",
    "        dq.append(s4(c))\n",
    "    return chain.from_iterable(dq)\n",
    "\n",
    "def population (in_s: list, days: int, S_func: callable =s1, verbose: bool =False) -> int :\n",
    "    verbose = False\n",
    "    curr_state = in_s\n",
    "    print (f\"S_func {S_func.__name__} {S_func.__doc__}\" )\n",
    "    while days > 0 :\n",
    "        if verbose :\n",
    "            print (f\"...days {days} len(curr_state) = {len(curr_state)}\")\n",
    "        c = Counter(curr_state)\n",
    "        # Each day, a 0 becomes a 6 and adds a new 8 to the end of the list\n",
    "        #--- OLD ==> too much time for mem allocation/deallocation of huge lists ---#\n",
    "        next_state = list(S_func(curr_state))\n",
    "        # count 0s and append 8s list\n",
    "        curr_state = next_state + c[0]*[8]\n",
    "        days -= 1\n",
    "        \n",
    "    return len(curr_state)"
   ]
  },
  {
   "cell_type": "code",
   "execution_count": null,
   "metadata": {},
   "outputs": [],
   "source": [
    "days = 80\n",
    "#population2_80d = population(init_test, days, sc)\n",
    "population2_80d = population(init_state, days, sc)\n",
    "#assert(population2_80d==population_80d)\n",
    "print (f\"after {days} days there would be {population2_80d} lanternfishes\" )"
   ]
  },
  {
   "cell_type": "code",
   "execution_count": null,
   "metadata": {},
   "outputs": [],
   "source": [
    "def better_population (in_s: list, days: int, verbose: bool =False) -> int :\n",
    "\n",
    "    cS = Counter(in_s)\n",
    "    days = days\n",
    "    cnt = 0\n",
    "    while cnt < days :\n",
    "        if verbose :\n",
    "            print (f\"day {cnt} {cS.most_common()}\")\n",
    "        # subtract 1 to all Counter keys \n",
    "        tmp = Counter()\n",
    "        for k in cS.keys() :\n",
    "            if k == 0 :\n",
    "                tmp[6] += cS[k]\n",
    "            else :\n",
    "                tmp[k-1] += cS[k]\n",
    "        if cS[0] :\n",
    "            tmp[8] += cS[0]\n",
    "        cS = tmp        \n",
    "        cnt += 1\n",
    "\n",
    "    return cS.total()\n"
   ]
  },
  {
   "cell_type": "code",
   "execution_count": null,
   "metadata": {},
   "outputs": [],
   "source": [
    "days = 256\n",
    "better_population_256d = better_population(init_state, days)\n",
    "print (f\"after {days} days there would be {better_population_256d} lanternfishes\" )\n",
    "submit(better_population_256d, part=\"b\", day=6, year=2021)"
   ]
  },
  {
   "cell_type": "code",
   "execution_count": null,
   "metadata": {},
   "outputs": [],
   "source": [
    "import os\n",
    "pname = \"lp_population_\"\n",
    "for d in range(140,145,5) :\n",
    "    %lprun -T lp_file -f s3 -f population population(init_test,d,s4)\n",
    "    os.rename('lp_file',pname+str(d))\n",
    "    \n",
    "%lprun -T lp_file -f better_population better_population(init_state,256)"
   ]
  },
  {
   "cell_type": "markdown",
   "metadata": {},
   "source": [
    "<a id='day_7'></a>\n",
    "[home](#home)\n",
    "# [Day 7](https://adventofcode.com/2021/day/7): The Treachery of Whales"
   ]
  },
  {
   "cell_type": "code",
   "execution_count": null,
   "metadata": {},
   "outputs": [],
   "source": [
    "get_in_file(7)\n",
    "in7, = parse(7, ints)"
   ]
  },
  {
   "cell_type": "code",
   "execution_count": null,
   "metadata": {},
   "outputs": [],
   "source": [
    "cntr = Counter(in7)\n",
    "print (f\"input size {len(in7)} \\\n",
    "  min,max {min(in7),max(in7)} \\\n",
    "  mean {mean(in7)} \\\n",
    "  median {median(in7)} \\\n",
    "  mode {mode(in7)} \\\n",
    "\\n{len(cntr)} {cntr.most_common(10)}\")"
   ]
  },
  {
   "cell_type": "code",
   "execution_count": null,
   "metadata": {},
   "outputs": [],
   "source": [
    "for t in (mean(in7),median(in7),mode(in7)):\n",
    "    print (sum([abs(round(x-t)) for x in in7]))"
   ]
  },
  {
   "cell_type": "code",
   "execution_count": null,
   "metadata": {},
   "outputs": [],
   "source": [
    "fuel4median = sum([abs(round(x-median(in7))) for x in in7])\n",
    "submit(fuel4median, part=\"a\", day=7, year=2021)"
   ]
  },
  {
   "cell_type": "markdown",
   "metadata": {},
   "source": [
    "### Part Two"
   ]
  },
  {
   "cell_type": "code",
   "execution_count": null,
   "metadata": {},
   "outputs": [],
   "source": [
    "def best_horiz_pos(pos_list) :\n",
    "    crab_cntr = Counter(pos_list)\n",
    "    m,M = min(pos_list),max(pos_list)\n",
    "    bhp = Counter()\n",
    "    for target in range(m,M+1) : \n",
    "        for crab_pos, crabs in crab_cntr.most_common() :\n",
    "            bhp[target] += sum(range(abs(target-crab_pos)+1))*crabs\n",
    "\n",
    "    return bhp\n"
   ]
  },
  {
   "cell_type": "code",
   "execution_count": null,
   "metadata": {},
   "outputs": [],
   "source": [
    "bhp = best_horiz_pos(in7)\n",
    "best_crabs_horiz_pos,fuel = bhp.most_common()[-1]\n",
    "submit(fuel, part=\"B\", day=7, year=2021)"
   ]
  },
  {
   "cell_type": "markdown",
   "metadata": {},
   "source": [
    "<a id='day_8'></a>\n",
    "[home](#home)\n",
    "# [Day 8](https://adventofcode.com/2021/day/8): Seven Segment Search\n",
    "\n",
    "Each entry consists of ten unique signal patterns, a | delimiter, and finally the four digit output value"
   ]
  },
  {
   "cell_type": "code",
   "execution_count": null,
   "metadata": {},
   "outputs": [],
   "source": [
    "get_in_file(8)\n",
    "in8 = parse(8,lambda x: x.split(\"|\"))\n",
    "seg2num = dict(zip([6,2,5,5,4,5,6,3,7,6],list(range(10))))"
   ]
  },
  {
   "cell_type": "code",
   "execution_count": null,
   "metadata": {},
   "outputs": [],
   "source": [
    "out_values = [str.split(y) for x,y in in8 ]"
   ]
  },
  {
   "cell_type": "code",
   "execution_count": null,
   "metadata": {},
   "outputs": [],
   "source": [
    "out_values_2347 = [digit for display_values in out_values for digit in display_values if len(digit) in set({2,4,3,7})]"
   ]
  },
  {
   "cell_type": "code",
   "execution_count": null,
   "metadata": {},
   "outputs": [],
   "source": [
    "submit(len(out_values_2347), part=\"a\", day=8, year=2021)"
   ]
  },
  {
   "cell_type": "markdown",
   "metadata": {},
   "source": [
    "### Part Two"
   ]
  },
  {
   "cell_type": "code",
   "execution_count": null,
   "metadata": {},
   "outputs": [],
   "source": [
    "def sort_seg(seg :set):\n",
    "    return  \"\".join(sorted(seg))\n",
    "\n",
    "def rule_L6 (L3: set, L4: set, L6: list[set] ) :\n",
    "\n",
    "    l6 = dict()\n",
    "    # find 6 in L6 : for each seg_set in L6 if L3 not in seg_Set ==> 6\n",
    "    for x in L6 :\n",
    "        if not L3.issubset(x) :\n",
    "            l6[6] = sort_seg(x)\n",
    "            #print(x)\n",
    "            L6.remove(x)\n",
    "    #print (L6) \n",
    "    a,b = L6\n",
    "    amb = a-b\n",
    "    if ( amb.issubset(L4) ) :\n",
    "        l6[9] = sort_seg(a)\n",
    "        l6[0] = sort_seg(b)\n",
    "    else :\n",
    "        l6[0] = sort_seg(a)\n",
    "        l6[9] = sort_seg(b)\n",
    "\n",
    "    return l6\n",
    "\n",
    "\n",
    "def rule_L5 (L2: set, L4: set, L5: list[set] ) :\n",
    "\n",
    "    l5 = dict()\n",
    "    # find 3 in L5 : for each seg_set in L5 if L2 in seg_Set ==> 3\n",
    "    for x in L5 :\n",
    "        if L2.issubset(x) :\n",
    "            l5[3] = sort_seg(x)\n",
    "            #print(x)\n",
    "            L5.remove(x)\n",
    "    #print (L5) \n",
    "    a,b = L5\n",
    "    amb = a-b\n",
    "    if ( amb.issubset(L4) ) :\n",
    "        l5[5] = sort_seg(a)\n",
    "        l5[2] = sort_seg(b)\n",
    "    else :\n",
    "        l5[2] = sort_seg(a)\n",
    "        l5[5] = sort_seg(b)\n",
    "        \n",
    "    return l5\n",
    "\n",
    "\n",
    "def display_inference(in_lines):\n",
    "\n",
    "    pattern_output_lines = [(str.split(x),str.split(y)) for x,y in in_lines ]  \n",
    "    all_data = list()\n",
    "    sum_outputs = 0\n",
    "\n",
    "    for patterns,outputs in pattern_output_lines :\n",
    "        base = dict()\n",
    "        other = dict()\n",
    "        display = dict()\n",
    "        for pattern in patterns :\n",
    "            s_pattern = sort_seg(pattern)\n",
    "            if ( len(s_pattern) in set({2,4,3,7}) ) :\n",
    "                base[len(s_pattern)] = s_pattern\n",
    "                display[seg2num[len(s_pattern)]] = s_pattern\n",
    "            else :\n",
    "                try : other[len(s_pattern)].append(s_pattern)\n",
    "                except KeyError : other[len(s_pattern)] = [s_pattern]\n",
    "        #\n",
    "        L2 = set(base[2])\n",
    "        L3 = set(base[3])\n",
    "        L4 = set(base[4])\n",
    "        L5 = list(map(set,other[5]))\n",
    "        L6 = list(map(set,other[6]))\n",
    "        display.update(rule_L6(L3,L4,L6))\n",
    "        display.update(rule_L5(L2,L4,L5))\n",
    "        \n",
    "        dswap = dict((v,k) for k,v in display.items())\n",
    "        out_sorted = list(map(sort_seg,outputs))\n",
    "        sum_outputs = int(\"\".join([str(dswap[osor]) for osor in out_sorted ]))\n",
    "        \n",
    "        #all_data.append((base,other,display,dswap,out_sorted))\n",
    "        all_data.append((display,out_sorted,sum_outputs))\n",
    "    \n",
    "    return all_data\n"
   ]
  },
  {
   "cell_type": "code",
   "execution_count": null,
   "metadata": {},
   "outputs": [],
   "source": [
    "\n",
    "res = 0\n",
    "for d,ov,s in display_inference(in8) :\n",
    "    res += s\n",
    "res    "
   ]
  },
  {
   "cell_type": "code",
   "execution_count": null,
   "metadata": {},
   "outputs": [],
   "source": [
    "submit(res, part=\"b\", day=8, year=2021)"
   ]
  },
  {
   "cell_type": "markdown",
   "metadata": {},
   "source": []
  },
  {
   "cell_type": "markdown",
   "metadata": {},
   "source": [
    "<a id='day_9'></a>\n",
    "[home](#home)\n",
    "# [Day 9](https://adventofcode.com/2021/day/9): Smoke Basin\n",
    "Find the low points - the locations that are lower than any of its adjacent locations.<br>\n",
    "Most locations have four adjacent locations (up, down, left, and right);<br>\n",
    "locations on the edge or corner of the map have three or two adjacent locations, respectively."
   ]
  },
  {
   "cell_type": "code",
   "execution_count": null,
   "metadata": {},
   "outputs": [],
   "source": [
    "get_in_file(9)\n",
    "p = lambda x: mapt(int,x)\n",
    "in9 = parse(9,p)\n",
    "\n",
    "test_in = \"\"\"\\\n",
    "2199943210\n",
    "3987894921\n",
    "9856789892\n",
    "8767896789\n",
    "9899965678\n",
    "\"\"\"\n",
    "\n",
    "in_test = mapt(p,test_in.rstrip().split())\n"
   ]
  },
  {
   "cell_type": "code",
   "execution_count": null,
   "metadata": {},
   "outputs": [],
   "source": [
    "def get_adj(i,j,M):\n",
    "    \"\"\"\n",
    "          | i-1,j |\n",
    "    ------------------------\n",
    "    i,j-1 | i  ,j | i,j+1\n",
    "    ------------------------\n",
    "          | i+1,j |  \n",
    "    \"\"\"\n",
    "    I,J = M.shape\n",
    "    I -= 1\n",
    "    J -= 1\n",
    "    adj = {}\n",
    "    if ( i == 0 ) :\n",
    "        if ( j == 0) :\n",
    "            adj[i,j+1] = M[i][j+1]\n",
    "            adj[i+1,j] = M[i+1][j]\n",
    "        elif ( j == J ) :\n",
    "            adj[i+1,j] = M[i+1][j]\n",
    "            adj[i,j-1] = M[i][j-1]\n",
    "        else :\n",
    "            adj[i,j+1] = M[i][j+1]\n",
    "            adj[i+1,j] = M[i+1][j]\n",
    "            adj[i,j-1] = M[i][j-1]\n",
    "    elif ( i == I ) :\n",
    "        if ( j == 0) :\n",
    "            adj[i-1,j] = M[i-1][j]\n",
    "            adj[i,j+1] = M[i][j+1]\n",
    "        elif ( j == J ) :\n",
    "            adj[i-1,j] = M[i-1][j]\n",
    "            adj[i,j-1] = M[i][j-1]\n",
    "        else :\n",
    "            adj[i-1,j] = M[i-1][j]\n",
    "            adj[i,j+1] = M[i][j+1]\n",
    "            adj[i,j-1] = M[i][j-1]\n",
    "    elif ( j == 0 ) :\n",
    "            adj[i-1,j] = M[i-1][j]\n",
    "            adj[i,j+1] = M[i][j+1]\n",
    "            adj[i+1,j] = M[i+1][j]\n",
    "    elif ( j == J ) :\n",
    "            adj[i-1,j] = M[i-1][j]\n",
    "            adj[i+1,j] = M[i+1][j]\n",
    "            adj[i,j-1] = M[i][j-1]\n",
    "    else :\n",
    "            adj[i-1,j] = M[i-1][j]\n",
    "            adj[i,j+1] = M[i][j+1]\n",
    "            adj[i+1,j] = M[i+1][j]\n",
    "            adj[i,j-1] = M[i][j-1]\n",
    "\n",
    "    return adj"
   ]
  },
  {
   "cell_type": "code",
   "execution_count": null,
   "metadata": {},
   "outputs": [],
   "source": [
    "def get_low_points(inP):\n",
    "    M = np.array(inP)\n",
    "    print(M.shape)\n",
    "    minSet = set()\n",
    "    for ij in np.ndindex(M.shape):\n",
    "        adj = get_adj(*ij,M)\n",
    "        if min(adj.values()) > M[ij] :\n",
    "            # remove any adj(i,j) points from minSet\n",
    "            minSet.difference_update(adj.keys())\n",
    "            # add (i,j) point to minSet\n",
    "            minSet.add(ij)\n",
    "    low_points = dict()\n",
    "    for pt in minSet :\n",
    "        low_points[pt]  = M[pt]\n",
    "    return low_points\n",
    "\n"
   ]
  },
  {
   "cell_type": "code",
   "execution_count": null,
   "metadata": {},
   "outputs": [],
   "source": [
    "def risk_level(lps: dict) -> int :\n",
    "    return sum(mapt(lambda x: x+1, lps.values()))"
   ]
  },
  {
   "cell_type": "code",
   "execution_count": null,
   "metadata": {},
   "outputs": [],
   "source": [
    "lp = get_low_points(in9)\n",
    "print(lp)\n",
    "risk = risk_level(lp)\n",
    "risk"
   ]
  },
  {
   "cell_type": "code",
   "execution_count": null,
   "metadata": {},
   "outputs": [],
   "source": [
    "submit(risk, part=\"a\", day=9, year=2021)"
   ]
  },
  {
   "cell_type": "markdown",
   "metadata": {},
   "source": [
    "### Part Two\n",
    "\n",
    "A basin is all locations that eventually flow downward to a single low point.<br>\n",
    "Therefore, every low point has a basin"
   ]
  },
  {
   "cell_type": "code",
   "execution_count": null,
   "metadata": {},
   "outputs": [],
   "source": [
    "def get_basin_points(inP, pt: tuple) -> set:\n",
    "    M = np.array(inP)\n",
    "    tmpSet = set()\n",
    "    tmpSet.add(pt)\n",
    "    basinSet = set()\n",
    "    basinSet.add(pt)\n",
    "    while len(tmpSet) :\n",
    "        pt = tmpSet.pop()\n",
    "        adj = get_adj(*pt,M)\n",
    "        for pt in adj :\n",
    "            if M[pt] < 9 and pt not in basinSet :\n",
    "                #print(f\"add {pt}\")\n",
    "                basinSet.add(pt)\n",
    "                tmpSet.add(pt)\n",
    "    return basinSet\n",
    "        "
   ]
  },
  {
   "cell_type": "code",
   "execution_count": null,
   "metadata": {},
   "outputs": [],
   "source": [
    "get_basin_points(in_test, (0,1))"
   ]
  },
  {
   "cell_type": "code",
   "execution_count": null,
   "metadata": {},
   "outputs": [],
   "source": [
    "for lp in get_low_points(in_test).keys() :\n",
    "    bp = get_basin_points(in_test, lp)\n",
    "    print(len(bp),bp)"
   ]
  },
  {
   "cell_type": "code",
   "execution_count": null,
   "metadata": {},
   "outputs": [],
   "source": [
    "bp_len = list()\n",
    "for lp in get_low_points(in9).keys() :\n",
    "    bp_len.append(len(get_basin_points(in9, lp)))\n",
    "bp_len.sort()\n",
    "bp_len[-3:]\n"
   ]
  },
  {
   "cell_type": "code",
   "execution_count": null,
   "metadata": {},
   "outputs": [],
   "source": [
    "submit(np.prod(bp_len[-3:]), part=\"b\", day=9, year=2021)"
   ]
  },
  {
   "cell_type": "markdown",
   "metadata": {},
   "source": [
    "<a id='day_10'></a>\n",
    "[home](#home)\n",
    "# [Day 10](https://adventofcode.com/2021/day/10): Syntax Scoring"
   ]
  },
  {
   "cell_type": "code",
   "execution_count": 109,
   "metadata": {},
   "outputs": [],
   "source": [
    "get_in_file(10)\n",
    "#p = lambda x: mapt(int,x)\n",
    "in10 = parse(10)"
   ]
  },
  {
   "cell_type": "code",
   "execution_count": null,
   "metadata": {},
   "outputs": [],
   "source": []
  }
 ],
 "metadata": {
  "interpreter": {
   "hash": "6f7c9588779c538e354753eb65ea9a76c6e83d7cdd7f7f7ca683cc0765d156fa"
  },
  "kernelspec": {
   "display_name": "Python 3.10.1 64-bit ('aoc': conda)",
   "name": "python3"
  },
  "language_info": {
   "codemirror_mode": {
    "name": "ipython",
    "version": 3
   },
   "file_extension": ".py",
   "mimetype": "text/x-python",
   "name": "python",
   "nbconvert_exporter": "python",
   "pygments_lexer": "ipython3",
   "version": "3.10.1"
  }
 },
 "nbformat": 4,
 "nbformat_minor": 2
}
