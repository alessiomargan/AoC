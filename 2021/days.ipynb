{
 "cells": [
  {
   "cell_type": "code",
   "execution_count": 2,
   "metadata": {},
   "outputs": [],
   "source": [
    "import sys\n",
    "sys.path.append(\"../\")\n",
    "from aoc_utils import *"
   ]
  },
  {
   "cell_type": "markdown",
   "metadata": {},
   "source": [
    "<a id='home'></a>\n",
    "Each day's work will consist of three tasks:\n",
    "- **Input**: Parse the day's input file with the function `parse(day, parser, sep)`, which treats the input as a sequence of *entries*, separated by `sep` (default newline); applies `parser` to each entry; and returns the results as a tuple. (Note: `ints` and `atoms` are useful `parser` functions (as are `int` and `str`).)\n",
    "- **Part 1**: Write code to compute the answer to Part 1, and submit the answer to the AoC site. Use the function `answer` to record the correct answer and serve as a regression test when I re-run the notebook.\n",
    "- **Part 2**: Repeat coding and `answer` for Part 2.\n",
    "<br>\n",
    "1. [Day 1](#day_1)\n",
    "2. [Day 2](#day_2)\n",
    "3. [Day 3](#day_3)\n",
    "4. [Day 4](#day_4)\n",
    "5. [Day 5](#day_5)\n",
    "6. [Day 6](#day_6)`\n",
    "7. [Day 7](#day_7)\n",
    "8. [Day 8](#day_8)\n",
    "9. [Day 9](#day_9)\n",
    "10. [Day 10](#day_10)\n",
    "11. [Day 11](#day_11)\n",
    "12. [Day 12](#day_12)\n",
    "13. [Day 13](#day_13)\n",
    "14. [Day 14](#day_14)\n",
    "15. [Day 15](#day_15)"
   ]
  },
  {
   "cell_type": "markdown",
   "metadata": {},
   "source": [
    "<a id='day_1'></a>\n",
    "[home](#home)\n",
    "# [Day 1](https://adventofcode.com/2021/day/1): Sonar Sweep\n",
    "\n",
    "count the number of times a depth measurement increases from the previous measurement\n"
   ]
  },
  {
   "cell_type": "code",
   "execution_count": 3,
   "metadata": {},
   "outputs": [
    {
     "name": "stdout",
     "output_type": "stream",
     "text": [
      "Part a already solved with same answer: 1288\n"
     ]
    }
   ],
   "source": [
    "get_in_file(1,2021)\n",
    "in1 = parse(1, int)\n",
    "incr = Counter([1 if b > a else -1 for a, b in pairwise(in1)])[1] \n",
    "submit(incr, part=\"a\", day=1, year=2021)"
   ]
  },
  {
   "cell_type": "markdown",
   "metadata": {},
   "source": [
    "### Part Two\n",
    "\n",
    "consider sums of a three-measurement sliding window"
   ]
  },
  {
   "cell_type": "code",
   "execution_count": null,
   "metadata": {},
   "outputs": [],
   "source": [
    "sw = [c+b+a for a,b,c in sliding_window(in1, 3)] \n",
    "incr = Counter([1 if b > a else -1 for a,b in pairwise(sw)])[1]\n",
    "submit(incr, part=\"b\", day=1, year=2021)"
   ]
  },
  {
   "cell_type": "markdown",
   "metadata": {},
   "source": [
    "<a id='day_2'></a>\n",
    "[home](#home)\n",
    "# [Day 2](https://adventofcode.com/2021/day/2): Dive!\n",
    "\n",
    "- forward X increases the horizontal position by X units.\n",
    "- down X increases the depth by X units.\n",
    "- up X decreases the depth by X units.\n"
   ]
  },
  {
   "cell_type": "code",
   "execution_count": null,
   "metadata": {},
   "outputs": [],
   "source": [
    "get_in_file(2,2021)\n",
    "parse_in = lambda x : { k:int(v) for (k,v) in [str.split(x)] }\n",
    "in2 = Input(2, parse_in)"
   ]
  },
  {
   "cell_type": "code",
   "execution_count": null,
   "metadata": {},
   "outputs": [],
   "source": [
    "c = Counter()\n",
    "[c.update(d) for d in in2]; c"
   ]
  },
  {
   "cell_type": "code",
   "execution_count": null,
   "metadata": {},
   "outputs": [],
   "source": [
    "course = c['forward']*(c['down']-c['up'])\n",
    "submit(course, part=\"a\", day=2, year=2021)"
   ]
  },
  {
   "cell_type": "markdown",
   "metadata": {},
   "source": [
    "### Part Two\n",
    "\n",
    "- down X increases your aim by X units.\n",
    "- up X decreases your aim by X units.\n",
    "- forward X does two things:\n",
    "    - It increases your horizontal position by X units.\n",
    "    - It increases your depth by your aim multiplied by X."
   ]
  },
  {
   "cell_type": "code",
   "execution_count": null,
   "metadata": {},
   "outputs": [],
   "source": [
    "aim = 0\n",
    "horiz = 0\n",
    "depth = 0\n",
    "for d in in2 :\n",
    "    for k,v in d.items() :\n",
    "        if k == 'down':\n",
    "            aim += v\n",
    "        if k == 'up':\n",
    "            aim -= v\n",
    "        if k == 'forward':\n",
    "            horiz += v\n",
    "            depth += aim * v\n",
    "\n",
    "aim, horiz, depth\n",
    "submit(horiz*depth, part=\"b\", day=2, year=2021)"
   ]
  },
  {
   "cell_type": "markdown",
   "metadata": {},
   "source": [
    "<a id='day_3'></a>\n",
    "[home](#home)\n",
    "# [Day 3](https://adventofcode.com/2021/day/3): Binary Diagnostic\n",
    "\n",
    "Each bit in the gamma rate can be determined by finding the most common bit in the corresponding position of all numbers in the diagnostic report\n",
    "\n",
    "The epsilon rate is calculated in a similar way; rather than use the most common bit, the least common bit from each position is used\n",
    "\n",
    "The power consumption can then be found by multiplying the gamma rate by the epsilon rate."
   ]
  },
  {
   "cell_type": "code",
   "execution_count": null,
   "metadata": {},
   "outputs": [],
   "source": [
    "get_in_file(3,2021)\n",
    "parse_in = lambda x : mapt(int, list(str.strip(x)))\n",
    "in3 = Input(3, parse_in)"
   ]
  },
  {
   "cell_type": "code",
   "execution_count": null,
   "metadata": {},
   "outputs": [],
   "source": [
    "inT = np.array(in3).T\n",
    "print(f\"input Transposed shape {inT.shape}\")\n",
    "bits_counter = mapt( lambda x : Counter(x.tolist()).most_common(), inT ); bits_counter"
   ]
  },
  {
   "cell_type": "code",
   "execution_count": null,
   "metadata": {},
   "outputs": [],
   "source": [
    "gamma_rate_bits = mapt( lambda x : Counter(x.tolist()).most_common()[0][0], inT )\n",
    "print (f\"gamma_rate_bits {gamma_rate_bits}\")\n",
    "gamma_rate = int(\"\".join(map(str,gamma_rate_bits)), 2); gamma_rate"
   ]
  },
  {
   "cell_type": "code",
   "execution_count": null,
   "metadata": {},
   "outputs": [],
   "source": [
    "epsilon_rate_bits = mapt( lambda x : Counter(x.tolist()).most_common()[-1][0], inT )\n",
    "print (f\"epsilon_rate_bits {epsilon_rate_bits}\")\n",
    "epsilon_rate = int(\"\".join(map(str,epsilon_rate_bits)), 2); epsilon_rate"
   ]
  },
  {
   "cell_type": "code",
   "execution_count": null,
   "metadata": {},
   "outputs": [],
   "source": [
    "submit(gamma_rate*epsilon_rate, part=\"a\", day=3, year=2021)"
   ]
  },
  {
   "cell_type": "markdown",
   "metadata": {},
   "source": [
    "### Part Two\n",
    "\n",
    "The bit criteria depends on which type of rating value you want to find:\n",
    "\n",
    "- To find oxygen generator rating, determine the most common value (0 or 1) in the current bit position, and keep only numbers with that bit in that position. If 0 and 1 are equally common, keep values with a 1 in the position being considered.\n",
    "- To find CO2 scrubber rating, determine the least common value (0 or 1) in the current bit position, and keep only numbers with that bit in that position. If 0 and 1 are equally common, keep values with a 0 in the position being considered."
   ]
  },
  {
   "cell_type": "code",
   "execution_count": null,
   "metadata": {},
   "outputs": [],
   "source": [
    "\n",
    "def Oxy_bit_criteria(x) :\n",
    "    c = Counter(x.tolist())\n",
    "    #print (c)\n",
    "    if c[0] == c[1]:\n",
    "        return 1\n",
    "    return c.most_common()[0][0]\n",
    "\n",
    "def CO2_bit_criteria(x) :\n",
    "    c = Counter(x.tolist())\n",
    "    #print (c)\n",
    "    if c[0] == c[1]:\n",
    "        return 0\n",
    "    return c.most_common()[-1][0]\n",
    "\n",
    "def calc_rate(input, bit_fun_criteria) :\n",
    "\n",
    "    col = 0\n",
    "    inM = np.array(input)\n",
    "\n",
    "    while ( inM.shape[0] > 1 ) :\n",
    "        # find criteria bit in column \"col\"\n",
    "        criteria_bit = mapt( bit_fun_criteria, inM.T )[col]\n",
    "        #print (f\"col {col} criteria bit {criteria_bit}\")\n",
    "        # get a boolean vector which select rows that have \"most_common_bit\" at column \"col\" \n",
    "        row_selector = inM[:,col] == criteria_bit\n",
    "        # filter all the rows using boolean vector \"row_selector\" \n",
    "        inM = inM[row_selector,:]\n",
    "        col += 1\n",
    "\n",
    "    return inM[0]"
   ]
  },
  {
   "cell_type": "code",
   "execution_count": null,
   "metadata": {},
   "outputs": [],
   "source": [
    "oxygen_generator_rating = int(\"\".join(map(str, calc_rate(in3, Oxy_bit_criteria))), 2); oxygen_generator_rating"
   ]
  },
  {
   "cell_type": "code",
   "execution_count": null,
   "metadata": {},
   "outputs": [],
   "source": [
    "co2_scrubber_rating = int(\"\".join(map(str, calc_rate(in3, CO2_bit_criteria))), 2); co2_scrubber_rating"
   ]
  },
  {
   "cell_type": "code",
   "execution_count": null,
   "metadata": {},
   "outputs": [],
   "source": [
    "submit(oxygen_generator_rating*co2_scrubber_rating, part=\"b\", day=3, year=2021)"
   ]
  },
  {
   "cell_type": "markdown",
   "metadata": {},
   "source": [
    "<a id='day_4'></a>\n",
    "[home](#home)\n",
    "# [Day 4](https://adventofcode.com/2021/day/4): Giant Squid\n",
    "\n",
    "Bingo is played on a set of boards each consisting of a 5x5 grid of numbers. Numbers are chosen at random, and the chosen number is marked on all boards on which it appears. (Numbers may not appear on all boards.) If all numbers in any row or any column of a board are marked, that board wins. (Diagonals don't count.)"
   ]
  },
  {
   "cell_type": "code",
   "execution_count": 4,
   "metadata": {},
   "outputs": [
    {
     "name": "stdout",
     "output_type": "stream",
     "text": [
      "[[51 18 87 35 55]\n",
      " [52 85 79 56 82]\n",
      " [83 26 24 29 43]\n",
      " [80 76  4 45 13]\n",
      " [11 12 99 94 47]]\n"
     ]
    }
   ],
   "source": [
    "get_in_file(4,2021)\n",
    "\n",
    "in4 = parse(4, ints, sep=\"\\n\\n\")\n",
    "\n",
    "def bingo_score(input) :\n",
    "    order, *boards = input\n",
    "    boardsM = mapt(lambda b: np.array(b).reshape(5,5), boards)\n",
    "    boardsK = mapt(lambda b: np.full((5,5), False), boards)\n",
    "    it_order = iter(order)\n",
    "    tmpK = list()\n",
    "    drawn = list()\n",
    "    bingo = False\n",
    "\n",
    "    while not bingo :\n",
    "        draw = next(it_order)\n",
    "        for bM,bK in zip(boardsM, boardsK) :\n",
    "            # mask elem is True where \"draw\" is in bM\n",
    "            mask = np.isin(bM, draw)\n",
    "            bK = bK | mask\n",
    "            # If all numbers in any row or any column of a board are marked\n",
    "            # that board wins\n",
    "            if ( np.any(np.all(bK, axis=0)) or \n",
    "                 np.any(np.all(bK, axis=1)) ) :\n",
    "                bingo = True\n",
    "                break\n",
    "            \n",
    "            tmpK.append(bK)\n",
    "        #\n",
    "        drawn.append(draw)\n",
    "        boardsK = tmpK\n",
    "        tmpK = list()\n",
    "\n",
    "    return (draw,drawn,bM,bK)\n",
    "\n",
    "d,D,M,K = bingo_score(in4)\n",
    "print (M)\n",
    "#print (D)\n",
    "#print (K)\n",
    "#print (np.logical_not(K))\n",
    "score = np.sum(M[np.logical_not(K)])*d\n"
   ]
  },
  {
   "cell_type": "code",
   "execution_count": null,
   "metadata": {},
   "outputs": [],
   "source": [
    "submit(score, part=\"a\", day=4, year=2021)"
   ]
  },
  {
   "cell_type": "markdown",
   "metadata": {},
   "source": [
    "### Part Two\n",
    "\n",
    "... figure out which board will win last"
   ]
  },
  {
   "cell_type": "code",
   "execution_count": null,
   "metadata": {},
   "outputs": [],
   "source": [
    "def win_boards(input) :\n",
    "    order, *boards = input\n",
    "    boardsM = mapt(lambda b: np.array(b).reshape(5,5), boards)\n",
    "    boardsK = mapt(lambda b: np.full((5,5), False), boards)\n",
    "    it_order = iter(order)\n",
    "    tmpK = list()\n",
    "    tmpM = list()\n",
    "    drawn = list()\n",
    "    bingo = False\n",
    "    bingo_boards = list()\n",
    "\n",
    "    while True :\n",
    "        try :\n",
    "            draw = next(it_order)\n",
    "            for bM,bK in zip(boardsM, boardsK) :\n",
    "                # mask elem is True where \"draw\" is in bM\n",
    "                mask = np.isin(bM, draw)\n",
    "                bK = bK | mask\n",
    "                # If all numbers in any row or any column of a board are marked\n",
    "                # that board wins\n",
    "                if ( np.any(np.all(bK, axis=0)) or \n",
    "                    np.any(np.all(bK, axis=1)) ) :\n",
    "                    bingo_boards.append((draw,bM,bK))\n",
    "                else:\n",
    "                    tmpK.append(bK)\n",
    "                    tmpM.append(bM)\n",
    "            #\n",
    "            drawn.append(draw)\n",
    "            boardsK = tmpK\n",
    "            boardsM = tmpM\n",
    "            tmpK = list()\n",
    "            tmpM = list()\n",
    "        except (StopIteration) :\n",
    "            break\n",
    "\n",
    "    return bingo_boards\n",
    "\n",
    "d,M,K = win_boards(in4)[-1]\n",
    "\n",
    "score = np.sum(M[np.logical_not(K)])*d"
   ]
  },
  {
   "cell_type": "code",
   "execution_count": null,
   "metadata": {},
   "outputs": [],
   "source": [
    "submit(score, part=\"b\", day=4, year=2021)"
   ]
  },
  {
   "cell_type": "markdown",
   "metadata": {},
   "source": [
    "<a id='day_5'></a>\n",
    "[home](#home)\n",
    "# [Day 5](https://adventofcode.com/2021/day/5): Hydrothermal Venture"
   ]
  },
  {
   "cell_type": "code",
   "execution_count": null,
   "metadata": {},
   "outputs": [],
   "source": [
    "get_in_file(5,2021)\n",
    "\n",
    "in5 = parse(5, ints)"
   ]
  },
  {
   "cell_type": "code",
   "execution_count": null,
   "metadata": {},
   "outputs": [],
   "source": [
    "class Point(namedtuple('Point', ['x', 'y'])):\n",
    "    pass\n",
    "\n",
    "class Segment(namedtuple('Segment', ['p1', 'p2'])):\n",
    "    def is_V(self):\n",
    "        return self.p1.x == self.p2.x\n",
    "    def is_H(self):\n",
    "        return self.p1.y == self.p2.y\n",
    "    def is_D(self):\n",
    "        return (abs(self.p1.x - self.p2.x) == abs(self.p1.y - self.p2.y))\n",
    "    def min_x(self):\n",
    "        return min(self.p1.x ,self.p2.x)\n",
    "    def min_y(self):\n",
    "        return min(self.p1.y ,self.p2.y)\n",
    "    def max_x(self):\n",
    "        return max(self.p1.x ,self.p2.x)\n",
    "    def max_y(self):\n",
    "        return max(self.p1.y ,self.p2.y)\n",
    "    def slope(self):\n",
    "        return (self.p2.y - self.p1.y)/(self.p2.x - self.p1.x)\n",
    "    def get_points(self):\n",
    "        if ( self.is_V() ) :\n",
    "            return mapt(lambda y: Point(self.p1.x,y), range(self.min_y(),self.max_y()+1))\n",
    "        if ( self.is_H() ) :\n",
    "            return mapt(lambda x: Point(x,self.p1.y), range(self.min_x(),self.max_x()+1))\n",
    "        if ( self.is_D() ) :\n",
    "            if self.slope() > 0 :\n",
    "                return mapt(lambda z: Point(z[0],z[1]),\n",
    "                            zip(range(self.min_x(),self.max_x()+1),\n",
    "                                range(self.min_y(),self.max_y()+1)))\n",
    "            else :\n",
    "                return mapt(lambda z: Point(z[0],z[1]),\n",
    "                            zip(range(self.max_x(),self.min_x()-1, -1),\n",
    "                                range(self.min_y(),self.max_y()+1)))\n"
   ]
  },
  {
   "cell_type": "code",
   "execution_count": null,
   "metadata": {},
   "outputs": [],
   "source": [
    "lines = [Segment(Point(x1,x2),Point(y1,y2)) for (x1,x2,y1,y2) in in5]\n",
    "HV_lines = [line for line in lines if line.is_H() or line.is_V()]"
   ]
  },
  {
   "cell_type": "code",
   "execution_count": null,
   "metadata": {},
   "outputs": [],
   "source": [
    "maxx = max([seg.max_x() for seg in HV_lines])\n",
    "maxy = max([seg.max_y() for seg in HV_lines])\n",
    "maxx,maxy"
   ]
  },
  {
   "cell_type": "code",
   "execution_count": null,
   "metadata": {},
   "outputs": [],
   "source": [
    "pts_cnt = Counter()\n",
    "mapt(lambda x: pts_cnt.update(Counter(x.get_points())), HV_lines)\n",
    "# ... number of points where at least two lines overlap ==> >= 2\n",
    "pts_num = len([v for v in pts_cnt.values() if v > 1])\n",
    "pts_num = len([v for k,v in pts_cnt.most_common() if v > 1])\n",
    "pts_num"
   ]
  },
  {
   "cell_type": "code",
   "execution_count": null,
   "metadata": {},
   "outputs": [],
   "source": [
    "submit(pts_num, part=\"a\", day=5, year=2021)"
   ]
  },
  {
   "cell_type": "markdown",
   "metadata": {},
   "source": [
    "### Part Two"
   ]
  },
  {
   "cell_type": "code",
   "execution_count": null,
   "metadata": {},
   "outputs": [],
   "source": [
    "test1 = [Segment(Point(1,1),Point(3,3)),Segment(Point(4,4),Point(2,2)),\n",
    "         Segment(Point(0,1),Point(3,4)),Segment(Point(2,3),Point(0,1)),\n",
    "         Segment(Point(9,7),Point(7,9))]\n",
    "for t in test1 :\n",
    "    t.is_D()\n",
    "    print (t.slope(), t.get_points())\n"
   ]
  },
  {
   "cell_type": "code",
   "execution_count": null,
   "metadata": {},
   "outputs": [],
   "source": [
    "D_lines = [line for line in lines if line.is_D()]\n",
    "pts_cnt = Counter()\n",
    "mapt(lambda x: pts_cnt.update(Counter(x.get_points())), chain(HV_lines,D_lines))\n",
    "pts_num = len([v for k,v in pts_cnt.most_common() if v > 1])\n",
    "pts_num"
   ]
  },
  {
   "cell_type": "code",
   "execution_count": null,
   "metadata": {},
   "outputs": [],
   "source": [
    "submit(pts_num, part=\"b\", day=5, year=2021)"
   ]
  },
  {
   "cell_type": "markdown",
   "metadata": {},
   "source": [
    "<a id='day_6'></a>\n",
    "[home](#home)\n",
    "# [Day 6](https://adventofcode.com/2021/day/6): Lanternfish\n"
   ]
  },
  {
   "cell_type": "code",
   "execution_count": null,
   "metadata": {},
   "outputs": [],
   "source": [
    "get_in_file(6,2021)\n",
    "in6 = parse(6, ints)"
   ]
  },
  {
   "cell_type": "code",
   "execution_count": null,
   "metadata": {},
   "outputs": [],
   "source": [
    "init_state, = in6\n",
    "init_test = 3,4,3,1,2"
   ]
  },
  {
   "cell_type": "code",
   "execution_count": null,
   "metadata": {},
   "outputs": [],
   "source": [
    "def population (in_s, days, verbose=False) :\n",
    "    curr_state = in_s \n",
    "    while days > 0 :\n",
    "        if verbose :\n",
    "            print (f\"...days {days} len(curr_state) = {len(curr_state)}\")\n",
    "        c = Counter(curr_state)\n",
    "        # Each day, a 0 becomes a 6 and adds a new 8 to the end of the list\n",
    "        next_state = list(map(lambda x: 6 if x == 0 else x-1 , curr_state))\n",
    "        # count 0s and append 8s as list\n",
    "        #next_state += c[0]*[8]\n",
    "        #next_state.extend(c[0]*[8])\n",
    "        #curr_state = next_state\n",
    "        # ------\n",
    "        curr_state = next_state + c[0]*[8]\n",
    "        #curr_state = [*next_state, *(c[0]*[8])]\n",
    "        #curr_state = list(chain(next_state, c[0]*[8]))\n",
    "        days -= 1\n",
    "        \n",
    "    return len(curr_state)"
   ]
  },
  {
   "cell_type": "code",
   "execution_count": null,
   "metadata": {},
   "outputs": [],
   "source": [
    "days = 80\n",
    "population_80d = population(init_state, days)\n",
    "print (f\"after {days} days there would be {population_80d} lanternfish\" )\n",
    "#days = 256; print (f\"after {days} days {population(init_test, days)}\" )"
   ]
  },
  {
   "cell_type": "code",
   "execution_count": null,
   "metadata": {},
   "outputs": [],
   "source": [
    "cnt = population(init_state, 80)\n",
    "submit(cnt, part=\"a\", day=6, year=2021)"
   ]
  },
  {
   "cell_type": "markdown",
   "metadata": {},
   "source": [
    "### Part Two\n",
    "\n",
    "How many lanternfish would there be after 256 days?"
   ]
  },
  {
   "cell_type": "code",
   "execution_count": null,
   "metadata": {},
   "outputs": [],
   "source": [
    "def s1(S: list) -> list :\n",
    "    '''using list comprehention '''\n",
    "    return [ 6 if x == 0 else x-1 for x in S ]\n",
    "\n",
    "def s2(S: list) -> list :\n",
    "    ''' using list generator '''\n",
    "    return list(( 6 if x == 0 else x-1 for x in S ))\n",
    "\n",
    "def s3(S: list) -> list :\n",
    "    ''' using trivial for '''\n",
    "    res = list()\n",
    "    for s in S :\n",
    "        if s == 0 :\n",
    "            res.append(6)\n",
    "        else :\n",
    "            res.append(s-1)\n",
    "    return res \n",
    "\n",
    "def s4(S: list) -> Generator :\n",
    "    ''' using generator '''\n",
    "    return ( 6 if x == 0 else x-1 for x in S )\n",
    "\n",
    "def sc(S: list) -> Iterator :\n",
    "    ''' '''\n",
    "    dq = deque()\n",
    "    #print(f\"split {len(S)}\")\n",
    "    for i,c in zip(count_from(),chunks(S,64)):\n",
    "        #chunk = list(c)\n",
    "        #print(f\"{i}) {chunk} -> {s1(chunk)}\")\n",
    "        dq.append(s4(c))\n",
    "    return chain.from_iterable(dq)\n",
    "\n",
    "def population (in_s: list, days: int, S_func: callable =s1, verbose: bool =False) -> int :\n",
    "    verbose = False\n",
    "    curr_state = in_s\n",
    "    print (f\"S_func {S_func.__name__} {S_func.__doc__}\" )\n",
    "    while days > 0 :\n",
    "        if verbose :\n",
    "            print (f\"...days {days} len(curr_state) = {len(curr_state)}\")\n",
    "        c = Counter(curr_state)\n",
    "        # Each day, a 0 becomes a 6 and adds a new 8 to the end of the list\n",
    "        #--- OLD ==> too much time for mem allocation/deallocation of huge lists ---#\n",
    "        next_state = list(S_func(curr_state))\n",
    "        # count 0s and append 8s list\n",
    "        curr_state = next_state + c[0]*[8]\n",
    "        days -= 1\n",
    "        \n",
    "    return len(curr_state)"
   ]
  },
  {
   "cell_type": "code",
   "execution_count": null,
   "metadata": {},
   "outputs": [],
   "source": [
    "days = 80\n",
    "#population2_80d = population(init_test, days, sc)\n",
    "population2_80d = population(init_state, days, sc)\n",
    "#assert(population2_80d==population_80d)\n",
    "print (f\"after {days} days there would be {population2_80d} lanternfishes\" )"
   ]
  },
  {
   "cell_type": "code",
   "execution_count": null,
   "metadata": {},
   "outputs": [],
   "source": [
    "def better_population (in_s: list, days: int, verbose: bool =False) -> int :\n",
    "\n",
    "    cS = Counter(in_s)\n",
    "    days = days\n",
    "    cnt = 0\n",
    "    while cnt < days :\n",
    "        if verbose :\n",
    "            print (f\"day {cnt} {cS.most_common()}\")\n",
    "        # subtract 1 to all Counter keys \n",
    "        tmp = Counter()\n",
    "        for k in cS.keys() :\n",
    "            if k == 0 :\n",
    "                tmp[6] += cS[k]\n",
    "            else :\n",
    "                tmp[k-1] += cS[k]\n",
    "        if cS[0] :\n",
    "            tmp[8] += cS[0]\n",
    "        cS = tmp        \n",
    "        cnt += 1\n",
    "\n",
    "    return cS.total()\n"
   ]
  },
  {
   "cell_type": "code",
   "execution_count": null,
   "metadata": {},
   "outputs": [],
   "source": [
    "days = 256\n",
    "better_population_256d = better_population(init_state, days)\n",
    "print (f\"after {days} days there would be {better_population_256d} lanternfishes\" )\n",
    "submit(better_population_256d, part=\"b\", day=6, year=2021)"
   ]
  },
  {
   "cell_type": "code",
   "execution_count": null,
   "metadata": {},
   "outputs": [],
   "source": [
    "%load_ext line_profiler\n",
    "pname = \"lp_population_\"\n",
    "for d in range(140,145,5) :\n",
    "    %lprun -T lp_file -f s3 -f population population(init_test,d,s4)\n",
    "    os.rename('lp_file',pname+str(d))\n",
    "    \n",
    "%lprun -T lp_file -f better_population better_population(init_state,256)"
   ]
  },
  {
   "cell_type": "markdown",
   "metadata": {},
   "source": [
    "<a id='day_7'></a>\n",
    "[home](#home)\n",
    "# [Day 7](https://adventofcode.com/2021/day/7): The Treachery of Whales"
   ]
  },
  {
   "cell_type": "code",
   "execution_count": null,
   "metadata": {},
   "outputs": [],
   "source": [
    "get_in_file(7,2021)\n",
    "in7, = parse(7, ints)"
   ]
  },
  {
   "cell_type": "code",
   "execution_count": null,
   "metadata": {},
   "outputs": [],
   "source": [
    "cntr = Counter(in7)\n",
    "print (f\"input size {len(in7)} \\\n",
    "  min,max {min(in7),max(in7)} \\\n",
    "  mean {mean(in7)} \\\n",
    "  median {median(in7)} \\\n",
    "  mode {mode(in7)} \\\n",
    "\\n{len(cntr)} {cntr.most_common(10)}\")"
   ]
  },
  {
   "cell_type": "code",
   "execution_count": null,
   "metadata": {},
   "outputs": [],
   "source": [
    "for t in (mean(in7),median(in7),mode(in7)):\n",
    "    print (sum([abs(round(x-t)) for x in in7]))"
   ]
  },
  {
   "cell_type": "code",
   "execution_count": null,
   "metadata": {},
   "outputs": [],
   "source": [
    "fuel4median = sum([abs(round(x-median(in7))) for x in in7])\n",
    "submit(fuel4median, part=\"a\", day=7, year=2021)"
   ]
  },
  {
   "cell_type": "markdown",
   "metadata": {},
   "source": [
    "### Part Two"
   ]
  },
  {
   "cell_type": "code",
   "execution_count": null,
   "metadata": {},
   "outputs": [],
   "source": [
    "def best_horiz_pos(pos_list) :\n",
    "    crab_cntr = Counter(pos_list)\n",
    "    m,M = min(pos_list),max(pos_list)\n",
    "    bhp = Counter()\n",
    "    for target in range(m,M+1) : \n",
    "        for crab_pos, crabs in crab_cntr.most_common() :\n",
    "            bhp[target] += sum(range(abs(target-crab_pos)+1))*crabs\n",
    "\n",
    "    return bhp\n"
   ]
  },
  {
   "cell_type": "code",
   "execution_count": null,
   "metadata": {},
   "outputs": [],
   "source": [
    "bhp = best_horiz_pos(in7)\n",
    "best_crabs_horiz_pos,fuel = bhp.most_common()[-1]\n",
    "submit(fuel, part=\"B\", day=7, year=2021)"
   ]
  },
  {
   "cell_type": "markdown",
   "metadata": {},
   "source": [
    "<a id='day_8'></a>\n",
    "[home](#home)\n",
    "# [Day 8](https://adventofcode.com/2021/day/8): Seven Segment Search\n",
    "\n",
    "Each entry consists of ten unique signal patterns, a | delimiter, and finally the four digit output value"
   ]
  },
  {
   "cell_type": "code",
   "execution_count": null,
   "metadata": {},
   "outputs": [],
   "source": [
    "get_in_file(8,2021)\n",
    "in8 = parse(8,lambda x: x.split(\"|\"))\n",
    "seg2num = dict(zip([6,2,5,5,4,5,6,3,7,6],list(range(10))))"
   ]
  },
  {
   "cell_type": "code",
   "execution_count": null,
   "metadata": {},
   "outputs": [],
   "source": [
    "out_values = [str.split(y) for x,y in in8 ]"
   ]
  },
  {
   "cell_type": "code",
   "execution_count": null,
   "metadata": {},
   "outputs": [],
   "source": [
    "out_values_2347 = [digit for display_values in out_values for digit in display_values if len(digit) in set({2,4,3,7})]"
   ]
  },
  {
   "cell_type": "code",
   "execution_count": null,
   "metadata": {},
   "outputs": [],
   "source": [
    "submit(len(out_values_2347), part=\"a\", day=8, year=2021)"
   ]
  },
  {
   "cell_type": "markdown",
   "metadata": {},
   "source": [
    "### Part Two"
   ]
  },
  {
   "cell_type": "code",
   "execution_count": null,
   "metadata": {},
   "outputs": [],
   "source": [
    "def sort_seg(seg :set):\n",
    "    return  \"\".join(sorted(seg))\n",
    "\n",
    "def rule_L6 (L3: set, L4: set, L6: list[set] ) :\n",
    "\n",
    "    l6 = dict()\n",
    "    # find 6 in L6 : for each seg_set in L6 if L3 not in seg_Set ==> 6\n",
    "    for x in L6 :\n",
    "        if not L3.issubset(x) :\n",
    "            l6[6] = sort_seg(x)\n",
    "            #print(x)\n",
    "            L6.remove(x)\n",
    "    #print (L6) \n",
    "    a,b = L6\n",
    "    amb = a-b\n",
    "    if ( amb.issubset(L4) ) :\n",
    "        l6[9] = sort_seg(a)\n",
    "        l6[0] = sort_seg(b)\n",
    "    else :\n",
    "        l6[0] = sort_seg(a)\n",
    "        l6[9] = sort_seg(b)\n",
    "\n",
    "    return l6\n",
    "\n",
    "\n",
    "def rule_L5 (L2: set, L4: set, L5: list[set] ) :\n",
    "\n",
    "    l5 = dict()\n",
    "    # find 3 in L5 : for each seg_set in L5 if L2 in seg_Set ==> 3\n",
    "    for x in L5 :\n",
    "        if L2.issubset(x) :\n",
    "            l5[3] = sort_seg(x)\n",
    "            #print(x)\n",
    "            L5.remove(x)\n",
    "    #print (L5) \n",
    "    a,b = L5\n",
    "    amb = a-b\n",
    "    if ( amb.issubset(L4) ) :\n",
    "        l5[5] = sort_seg(a)\n",
    "        l5[2] = sort_seg(b)\n",
    "    else :\n",
    "        l5[2] = sort_seg(a)\n",
    "        l5[5] = sort_seg(b)\n",
    "        \n",
    "    return l5\n",
    "\n",
    "\n",
    "def display_inference(in_lines):\n",
    "\n",
    "    pattern_output_lines = [(str.split(x),str.split(y)) for x,y in in_lines ]  \n",
    "    all_data = list()\n",
    "    sum_outputs = 0\n",
    "\n",
    "    for patterns,outputs in pattern_output_lines :\n",
    "        base = dict()\n",
    "        other = dict()\n",
    "        display = dict()\n",
    "        for pattern in patterns :\n",
    "            s_pattern = sort_seg(pattern)\n",
    "            if ( len(s_pattern) in set({2,4,3,7}) ) :\n",
    "                base[len(s_pattern)] = s_pattern\n",
    "                display[seg2num[len(s_pattern)]] = s_pattern\n",
    "            else :\n",
    "                try : other[len(s_pattern)].append(s_pattern)\n",
    "                except KeyError : other[len(s_pattern)] = [s_pattern]\n",
    "        #\n",
    "        L2 = set(base[2])\n",
    "        L3 = set(base[3])\n",
    "        L4 = set(base[4])\n",
    "        L5 = list(map(set,other[5]))\n",
    "        L6 = list(map(set,other[6]))\n",
    "        display.update(rule_L6(L3,L4,L6))\n",
    "        display.update(rule_L5(L2,L4,L5))\n",
    "        \n",
    "        dswap = dict((v,k) for k,v in display.items())\n",
    "        out_sorted = list(map(sort_seg,outputs))\n",
    "        sum_outputs = int(\"\".join([str(dswap[osor]) for osor in out_sorted ]))\n",
    "        \n",
    "        #all_data.append((base,other,display,dswap,out_sorted))\n",
    "        all_data.append((display,out_sorted,sum_outputs))\n",
    "    \n",
    "    return all_data\n"
   ]
  },
  {
   "cell_type": "code",
   "execution_count": null,
   "metadata": {},
   "outputs": [],
   "source": [
    "\n",
    "res = 0\n",
    "for d,ov,s in display_inference(in8) :\n",
    "    res += s\n",
    "res    "
   ]
  },
  {
   "cell_type": "code",
   "execution_count": null,
   "metadata": {},
   "outputs": [],
   "source": [
    "submit(res, part=\"b\", day=8, year=2021)"
   ]
  },
  {
   "cell_type": "markdown",
   "metadata": {},
   "source": [
    "<a id='day_9'></a>\n",
    "[home](#home)\n",
    "# [Day 9](https://adventofcode.com/2021/day/9): Smoke Basin\n",
    "Find the low points - the locations that are lower than any of its adjacent locations.<br>\n",
    "Most locations have four adjacent locations (up, down, left, and right);<br>\n",
    "locations on the edge or corner of the map have three or two adjacent locations, respectively."
   ]
  },
  {
   "cell_type": "markdown",
   "metadata": {},
   "source": []
  },
  {
   "cell_type": "code",
   "execution_count": null,
   "metadata": {},
   "outputs": [],
   "source": [
    "get_in_file(9,2021)\n",
    "p = lambda x: mapt(int,x)\n",
    "in9 = parse(9,p)\n",
    "\n",
    "test_in = \"\"\"\\\n",
    "2199943210\n",
    "3987894921\n",
    "9856789892\n",
    "8767896789\n",
    "9899965678\n",
    "\"\"\"\n",
    "\n",
    "in_test = mapt(p,test_in.rstrip().split())\n"
   ]
  },
  {
   "cell_type": "code",
   "execution_count": null,
   "metadata": {},
   "outputs": [],
   "source": [
    "def get_low_points(inP):\n",
    "    M = np.array(inP)\n",
    "    print(M.shape)\n",
    "    minSet = set()\n",
    "    for ij in np.ndindex(M.shape):\n",
    "        adj = get_adj(*ij,M,False)\n",
    "        #adj = get_adj_(*ij,M)\n",
    "        if min(adj.values()) > M[ij] :\n",
    "            # remove any adj(i,j) points from minSet\n",
    "            minSet.difference_update(adj.keys())\n",
    "            # add (i,j) point to minSet\n",
    "            minSet.add(ij)\n",
    "    low_points = dict()\n",
    "    for pt in minSet :\n",
    "        low_points[pt] = M[pt]\n",
    "    return low_points"
   ]
  },
  {
   "cell_type": "code",
   "execution_count": null,
   "metadata": {},
   "outputs": [],
   "source": [
    "def risk_level(lps: dict) -> int :\n",
    "    return sum(mapt(lambda x: x+1, lps.values()))"
   ]
  },
  {
   "cell_type": "code",
   "execution_count": null,
   "metadata": {},
   "outputs": [],
   "source": [
    "lp = get_low_points(in9)\n",
    "print(lp)\n",
    "risk = risk_level(lp)\n",
    "risk"
   ]
  },
  {
   "cell_type": "code",
   "execution_count": null,
   "metadata": {},
   "outputs": [],
   "source": [
    "submit(risk, part=\"a\", day=9, year=2021)"
   ]
  },
  {
   "cell_type": "markdown",
   "metadata": {},
   "source": [
    "### Part Two\n",
    "\n",
    "A basin is all locations that eventually flow downward to a single low point.<br>\n",
    "Therefore, every low point has a basin"
   ]
  },
  {
   "cell_type": "code",
   "execution_count": null,
   "metadata": {},
   "outputs": [],
   "source": [
    "def get_basin_points(inP, pt: tuple) -> set:\n",
    "    M = np.array(inP)\n",
    "    tmpSet = set()\n",
    "    tmpSet.add(pt)\n",
    "    basinSet = set()\n",
    "    basinSet.add(pt)\n",
    "    while len(tmpSet) :\n",
    "        pt = tmpSet.pop()\n",
    "        adj = get_adj(*pt,M,False)\n",
    "        for pt in adj :\n",
    "            if M[pt] < 9 and pt not in basinSet :\n",
    "                #print(f\"add {pt}\")\n",
    "                basinSet.add(pt)\n",
    "                tmpSet.add(pt)\n",
    "    return basinSet\n",
    "        "
   ]
  },
  {
   "cell_type": "code",
   "execution_count": null,
   "metadata": {},
   "outputs": [],
   "source": [
    "get_basin_points(in_test, (0,1))"
   ]
  },
  {
   "cell_type": "code",
   "execution_count": null,
   "metadata": {},
   "outputs": [],
   "source": [
    "for lp in get_low_points(in_test).keys() :\n",
    "    bp = get_basin_points(in_test, lp)\n",
    "    print(len(bp),bp)"
   ]
  },
  {
   "cell_type": "code",
   "execution_count": null,
   "metadata": {},
   "outputs": [],
   "source": [
    "bp_len = list()\n",
    "for lp in get_low_points(in9).keys() :\n",
    "    bp_len.append(len(get_basin_points(in9, lp)))\n",
    "bp_len.sort()\n",
    "bp_len[-3:]\n"
   ]
  },
  {
   "cell_type": "code",
   "execution_count": null,
   "metadata": {},
   "outputs": [],
   "source": [
    "submit(np.prod(bp_len[-3:]), part=\"b\", day=9, year=2021)"
   ]
  },
  {
   "cell_type": "markdown",
   "metadata": {},
   "source": [
    "<a id='day_10'></a>\n",
    "[home](#home)\n",
    "# [Day 10](https://adventofcode.com/2021/day/10): Syntax Scoring\n",
    "\n",
    "There are one or more chunks on each line, and chunks contain zero or more other chunks.<br>\n",
    "Adjacent chunks are not separated by any delimiter;<br>\n",
    "if one chunk stops, the next chunk (if any) can immediately start.<br>\n",
    "Every chunk must open and close with one of four legal pairs of matching characters:\n",
    "\n",
    "- If a chunk opens with (, it must close with ).\n",
    "- If a chunk opens with [, it must close with ].\n",
    "- If a chunk opens with {, it must close with }.\n",
    "- If a chunk opens with <, it must close with >.\n",
    "\n",
    "A corrupted line is one where a chunk closes with the wrong character - that is, where the characters it opens and closes with do not form one of the four legal pairs listed above.\n"
   ]
  },
  {
   "cell_type": "code",
   "execution_count": null,
   "metadata": {},
   "outputs": [],
   "source": [
    "get_in_file(10,2021)\n",
    "in10 = parse(10)\n",
    "\n",
    "OC = \"([{<\"\n",
    "CC = \")]}>\"\n",
    "error_score = {')':3, ']':57, '}':1197, '>':25137 }\n",
    "\n",
    "test_in = \"\"\"\\\n",
    "[({(<(())[]>[[{[]{<()<>>\n",
    "[(()[<>])]({[<{<<[]>>(\n",
    "{([(<{}[<>[]}>{[]{[(<()>\n",
    "(((({<>}<{<{<>}{[]{[]{}\n",
    "[[<[([]))<([[{}[[()]]]\n",
    "[{[{({}]{}}([{[{{{}}([]\n",
    "{<[[]]>}<{[{[{[]{()[[[]\n",
    "[<(<(<(<{}))><([]([]()\n",
    "<{([([[(<>()){}]>(<<{{\n",
    "<{([{{}}[<[[[<>{}]]]>[]]\n",
    "\"\"\"\n",
    "\n",
    "in_test = test_in.rstrip().split()"
   ]
  },
  {
   "cell_type": "code",
   "execution_count": null,
   "metadata": {},
   "outputs": [],
   "source": [
    "def close_chars_idx(line: str) -> list:\n",
    "    cc_idx = list()\n",
    "    for cc in CC :\n",
    "        cc_idx += [i for i, chr in enumerate(line) if chr == cc]\n",
    "    return sorted(cc_idx)\n",
    "\n",
    "def open_chars_idx(line: str) -> list:\n",
    "    oc_idx = list()\n",
    "    for oc in OC :\n",
    "        oc_idx += [i for i, chr in enumerate(line) if chr == oc]\n",
    "    return sorted(oc_idx)\n",
    "\n",
    "def remove_openclose_chars(idx, line: str) -> str:\n",
    "    return line[:idx-1]+line[idx+1:]\n",
    "\n",
    "def open_char(ch):\n",
    "    return OC[CC.find(ch)]\n",
    "\n",
    "def close_char(ch):\n",
    "    return CC[OC.find(ch)]\n",
    "\n",
    "def corrupted(inP) -> tuple:\n",
    "    illegal = str()\n",
    "    expected = str()\n",
    "    for line in inP :\n",
    "        # get closing chars indexes\n",
    "        ccs_idx = close_chars_idx(line)\n",
    "        while len(ccs_idx) > 0 :\n",
    "            #print(line)\n",
    "            #print(ccs_idx)\n",
    "            # get first closing\n",
    "            c_idx = ccs_idx.pop(0)\n",
    "            if line[c_idx-1] != open_char(line[c_idx]) :\n",
    "                illegal += line[c_idx]\n",
    "                expected += close_char(line[c_idx-1])\n",
    "            line = remove_openclose_chars(c_idx,line)\n",
    "            # adjust closing chars indexes\n",
    "            ccs_idx = [x-2 for x in ccs_idx]\n",
    "    return illegal,expected\n",
    "        "
   ]
  },
  {
   "cell_type": "code",
   "execution_count": null,
   "metadata": {},
   "outputs": [],
   "source": [
    "#ill,expect = corrupted(in_test)\n",
    "ill,expect = corrupted(in10)\n",
    "syntax_error_score = sum([error_score[ch]*cnt for (ch,cnt) in Counter(ill).most_common()])"
   ]
  },
  {
   "cell_type": "code",
   "execution_count": null,
   "metadata": {},
   "outputs": [],
   "source": [
    "submit(syntax_error_score, part=\"a\", day=10, year=2021)"
   ]
  },
  {
   "cell_type": "markdown",
   "metadata": {},
   "source": [
    "### Part Two\n",
    "\n",
    "Now, discard the corrupted lines. The remaining lines are incomplete.\n",
    "Incomplete are missing some closing characters at the end of the line.<br>\n",
    "You just need to figure out the sequence of closing characters that complete all open chunks in the line.<br>\n",
    "\n",
    "You can only use closing characters (), ], }, or >), and you must add them in the correct order so that only legal pairs are formed and all chunks end up closed."
   ]
  },
  {
   "cell_type": "code",
   "execution_count": null,
   "metadata": {},
   "outputs": [],
   "source": [
    "def is_line_corrupted(line:str) -> bool:\n",
    "    ccs_idx = close_chars_idx(line)\n",
    "    while len(ccs_idx) > 0 :\n",
    "        #print(line)\n",
    "        #print(ccs_idx)\n",
    "        c_idx = ccs_idx.pop(0)\n",
    "        if line[c_idx-1] != open_char(line[c_idx]) :\n",
    "            return True\n",
    "        line = remove_openclose_chars(c_idx,line)\n",
    "        ccs_idx = [x-2 for x in ccs_idx]\n",
    "    return False"
   ]
  },
  {
   "cell_type": "code",
   "execution_count": null,
   "metadata": {},
   "outputs": [],
   "source": [
    "#incomplete = list(filter(lambda x: not is_line_corrupted(x), in_test))\n",
    "incomplete = list(filter(lambda x: not is_line_corrupted(x), in10))"
   ]
  },
  {
   "cell_type": "code",
   "execution_count": null,
   "metadata": {},
   "outputs": [],
   "source": [
    "def complete(inP) -> str:\n",
    "    missing = list()\n",
    "    for line in inP :\n",
    "        ml = str()\n",
    "        ocs_idx = open_chars_idx(line)\n",
    "        while len(ocs_idx) > 0 :\n",
    "            #print(line)\n",
    "            # get last opening \n",
    "            o_idx = ocs_idx.pop()\n",
    "            # last opening miss its closing\n",
    "            if line[-1] == line[o_idx] :\n",
    "                ml += close_char(line[o_idx])\n",
    "                line = line[:-1]\n",
    "            else :\n",
    "                line = remove_openclose_chars(o_idx+1,line)\n",
    "            #ocs_idx = [x-2 for x in ocs_idx]\n",
    "        missing.append(ml)\n",
    "    return missing\n",
    "    \n",
    "complete_score = {')':1, ']':2, '}':3, '>':4 }    "
   ]
  },
  {
   "cell_type": "code",
   "execution_count": null,
   "metadata": {},
   "outputs": [],
   "source": [
    "def calc_middle_score(complete_chunks: list) -> int:\n",
    "    scores = list()\n",
    "    for cs in complete_chunks :\n",
    "        ts = 0\n",
    "        for c in cs :\n",
    "            ts = ts*5+complete_score[c]\n",
    "        scores.append(ts)\n",
    "    scores.sort()\n",
    "    print(scores)\n",
    "    return scores[math.floor(len(scores)/2)]\n"
   ]
  },
  {
   "cell_type": "code",
   "execution_count": null,
   "metadata": {},
   "outputs": [],
   "source": [
    "score = calc_middle_score(complete(incomplete))\n",
    "score"
   ]
  },
  {
   "cell_type": "code",
   "execution_count": null,
   "metadata": {},
   "outputs": [],
   "source": [
    "submit(score, part=\"b\", day=10, year=2021)"
   ]
  },
  {
   "cell_type": "markdown",
   "metadata": {},
   "source": [
    "<a id='day_11'></a>\n",
    "[home](#home)\n",
    "# [Day 11](https://adventofcode.com/2021/day/11): Dumbo Octopus\n",
    "\n",
    "\n",
    "You can model the energy levels and flashes of light in steps.<br>\n",
    "During a single step, the following occurs:\n",
    "- First, the energy level of each octopus increases by 1.\n",
    "- Then, any octopus with an energy level greater than 9 flashes.<br>\n",
    "  This increases the energy level of all adjacent octopuses by 1, including octopuses that are diagonally adjacent.<br>\n",
    "  If this causes an octopus to have an energy level greater than 9, it also flashes.<br>\n",
    "  This process continues as long as new octopuses keep having their energy level increased beyond 9. (An octopus can only flash at most once per step.)\n",
    "- Finally, any octopus that flashed during this step has its energy level set to 0, as it used all of its energy to flash."
   ]
  },
  {
   "cell_type": "code",
   "execution_count": null,
   "metadata": {},
   "outputs": [],
   "source": [
    "get_in_file(11,2021)\n",
    "p = lambda x: mapt(int,x)\n",
    "in11 = parse(11, p)\n",
    "\n",
    "test_in = \"\"\"\n",
    "5483143223\n",
    "2745854711\n",
    "5264556173\n",
    "6141336146\n",
    "6357385478\n",
    "4167524645\n",
    "2176841721\n",
    "6882881134\n",
    "4846848554\n",
    "5283751526\n",
    "\"\"\"\n",
    "in_test = mapt(p,test_in.rstrip().split())\n",
    "\n",
    "test_10 = \"\"\"\n",
    "0481112976\n",
    "0031112009\n",
    "0041112504\n",
    "0081111406\n",
    "0099111306\n",
    "0093511233\n",
    "0442361130\n",
    "5532252350\n",
    "0532250600\n",
    "0032240000\n",
    "\"\"\"\n",
    "_10_test = mapt(p,test_10.rstrip().split())\n",
    "\n",
    "dummy = \"\"\"\n",
    "11111\n",
    "19991\n",
    "19191\n",
    "19991\n",
    "11111\n",
    "\"\"\"\n",
    "in_dummy = mapt(p,dummy.rstrip().split())\n"
   ]
  },
  {
   "cell_type": "code",
   "execution_count": null,
   "metadata": {},
   "outputs": [],
   "source": [
    "def get_cells_gt_value(value, inM) :\n",
    "    # It returns a tuple of arrays one for each dimension.\n",
    "    # Like in our case it’s a two dimension array, so numpy.where() will returns a tuple of two arrays\n",
    "    rIdx,cIdx = np.where(inM > value)\n",
    "    # Length of both the arrays will be same. So to get the list of exact coordinates we can zip these arrays\n",
    "    return zip(rIdx,cIdx)\n"
   ]
  },
  {
   "cell_type": "code",
   "execution_count": null,
   "metadata": {},
   "outputs": [],
   "source": [
    "def do_flashing(inP, cnt=1000) :\n",
    "    M = np.matrix(inP)\n",
    "    ones = np.ones(M.shape, dtype=int)\n",
    "    Mn = M\n",
    "    while cnt > 0 :\n",
    "        cnt -= 1\n",
    "        Mn += ones\n",
    "        flashing = set(get_cells_gt_value(9,Mn))\n",
    "        flashed = set()\n",
    "        #print(f\"flashing {flashing}\")\n",
    "        while len(flashing) :\n",
    "            fl = flashing.pop()\n",
    "            flashed.add(fl)\n",
    "            adj = get_adj(*fl,Mn)\n",
    "            #print (f\"adj({fl})={adj}\")\n",
    "            for ij in adj.keys() :\n",
    "                if ij not in flashing and ij not in flashed:\n",
    "                    Mn[ij] += 1\n",
    "                    if Mn[ij] > 9 :\n",
    "                        flashing.add(ij)\n",
    "        for ij in flashed :\n",
    "            Mn[ij] = 0\n",
    "        yield len(flashed)"
   ]
  },
  {
   "cell_type": "code",
   "execution_count": null,
   "metadata": {},
   "outputs": [],
   "source": [
    "g = do_flashing(in11)\n",
    "#g = do_flashing(in_dummy)"
   ]
  },
  {
   "cell_type": "code",
   "execution_count": null,
   "metadata": {},
   "outputs": [],
   "source": [
    "flashes = 0\n",
    "for i in range(100) :\n",
    "    flashes += next(g)\n",
    "flashes"
   ]
  },
  {
   "cell_type": "code",
   "execution_count": null,
   "metadata": {},
   "outputs": [],
   "source": [
    "submit(flashes, part=\"a\", day=11, year=2021)"
   ]
  },
  {
   "cell_type": "markdown",
   "metadata": {},
   "source": [
    "### Part Two\n",
    "\n",
    "What is the first step during which all octopuses flash?"
   ]
  },
  {
   "cell_type": "code",
   "execution_count": null,
   "metadata": {},
   "outputs": [],
   "source": [
    "M = np.matrix(in11)\n",
    "g = do_flashing(in11)\n",
    "steps = 1\n",
    "while next(g) != M.size :\n",
    "    steps += 1\n",
    "steps"
   ]
  },
  {
   "cell_type": "code",
   "execution_count": null,
   "metadata": {},
   "outputs": [],
   "source": [
    "submit(steps, part=\"b\", day=11, year=2021)"
   ]
  },
  {
   "cell_type": "markdown",
   "metadata": {},
   "source": [
    "<a id='day_12'></a>\n",
    "[home](#home)\n",
    "# [Day 12](https://adventofcode.com/2021/day/12): Passage Pathing\n",
    "\n",
    "[Graph_theory](https://en.wikipedia.org/wiki/Graph_theory)\n",
    "```\n",
    "    start\n",
    "    /   \\\n",
    "c--A-----b--d\n",
    "    \\   /\n",
    "     end\n",
    "\n",
    "dict({node:set(nodes)})\n",
    "```\n",
    "Your goal is to find the number of distinct paths that start at `start`, end at `end`, and don't visit small caves more than once.<br>\n",
    "So, all paths you find should visit small caves at most once, and can visit big caves any number of times."
   ]
  },
  {
   "cell_type": "code",
   "execution_count": null,
   "metadata": {},
   "outputs": [],
   "source": [
    "get_in_file(12,2021)\n",
    "p = lambda x: x.split('-')\n",
    "in12 = parse(12,p)\n",
    "\n",
    "t1 = \"\"\"\n",
    "start-A\n",
    "start-b\n",
    "A-c\n",
    "A-b\n",
    "b-d\n",
    "A-end\n",
    "b-end\n",
    "\"\"\"\n",
    "in_t1 = mapt(p,t1.rstrip().split())\n",
    "\n",
    "t2 = \"\"\"\n",
    "dc-end\n",
    "HN-start\n",
    "start-kj\n",
    "dc-start\n",
    "dc-HN\n",
    "LN-dc\n",
    "HN-end\n",
    "kj-sa\n",
    "kj-HN\n",
    "kj-dc\n",
    "\"\"\"\n",
    "in_t2 = mapt(p,t2.rstrip().split())\n",
    "\n",
    "def make_graph(inP) :\n",
    "    _G = defaultdict(set)\n",
    "    for v1,v2 in inP :\n",
    "        _G[v1].add(v2)\n",
    "        _G[v2].add(v1)\n",
    "    return _G"
   ]
  },
  {
   "cell_type": "code",
   "execution_count": null,
   "metadata": {},
   "outputs": [],
   "source": [
    "def find_all_paths(graph, start, end, path=[]):\n",
    "    \"\"\"\n",
    "    https://www.python.org/doc/essays/graphs/\n",
    "    add condition str.isupper(node) for visit big caves any number of times\n",
    "    \"\"\"\n",
    "    path = path + [start]\n",
    "    if start == end:\n",
    "        return [path]\n",
    "    if start not in graph:\n",
    "        return []\n",
    "    paths = []\n",
    "    for node in graph[start]:\n",
    "        if node not in path or str.isupper(node):\n",
    "            newpaths = find_all_paths(graph, node, end, path)\n",
    "            for newpath in newpaths:\n",
    "                paths.append(newpath)\n",
    "    return paths"
   ]
  },
  {
   "cell_type": "code",
   "execution_count": null,
   "metadata": {},
   "outputs": [],
   "source": [
    "G = make_graph(in12)\n",
    "paths = find_all_paths(G,\"start\",\"end\")\n",
    "len(paths)"
   ]
  },
  {
   "cell_type": "code",
   "execution_count": null,
   "metadata": {},
   "outputs": [],
   "source": [
    "submit(len(paths), part=\"a\", day=12, year=2021)"
   ]
  },
  {
   "cell_type": "markdown",
   "metadata": {},
   "source": [
    "### Part Two\n",
    "\n",
    "Big caves can be visited any number of times<br>\n",
    "A single small cave can be visited at most twice, and the remaining small caves can be visited at most once.<br>\n",
    "However, the caves named `start` and `end` can only be visited exactly once each:\n",
    " - once you leave the `start` cave, you may not return to it\n",
    " - once you reach the `end` cave, the path must end immediately\n",
    " "
   ]
  },
  {
   "cell_type": "code",
   "execution_count": null,
   "metadata": {},
   "outputs": [],
   "source": [
    "def check_lower(path, node):\n",
    "    if node in ['start','end'] :\n",
    "        return False\n",
    "    low_nodes = Counter([n for n in path if n.islower() and n not in ['start','end']])\n",
    "    #print(f\"node {node} low node {low_nodes}\")\n",
    "    [(k,c)] = low_nodes.most_common(1)\n",
    "    # return True ==> add the lower node to path\n",
    "    # if no lower node in path has cnt >= 2 \n",
    "    return c < 2\n",
    "\n",
    "def find_all_paths(graph, start, end, path=[]):\n",
    "    \"\"\"\n",
    "    https://www.python.org/doc/essays/graphs/\n",
    "    \n",
    "    \"\"\"\n",
    "    path = path + [start]\n",
    "    if start == end:\n",
    "        return [path]\n",
    "    if start not in graph:\n",
    "        return []\n",
    "    paths = []\n",
    "    for node in graph[start]:\n",
    "        if node not in path or str.isupper(node) or check_lower(path,node):\n",
    "            newpaths = find_all_paths(graph, node, end, path)\n",
    "            for newpath in newpaths:\n",
    "                paths.append(newpath)\n",
    "    return paths"
   ]
  },
  {
   "cell_type": "code",
   "execution_count": null,
   "metadata": {},
   "outputs": [],
   "source": [
    "#G = make_graph(in_t1)\n",
    "#G = make_graph(in_t2)\n",
    "G = make_graph(in12)\n",
    "paths = find_all_paths(G,\"start\",\"end\")\n",
    "len(paths) #, paths"
   ]
  },
  {
   "cell_type": "code",
   "execution_count": null,
   "metadata": {},
   "outputs": [],
   "source": [
    "submit(len(paths), part=\"b\", day=12, year=2021)"
   ]
  },
  {
   "cell_type": "markdown",
   "metadata": {},
   "source": [
    "<a id='day_13'></a>\n",
    "[home](#home)\n",
    "# [Day 13](https://adventofcode.com/2021/day/13): Transparent Origami"
   ]
  },
  {
   "cell_type": "code",
   "execution_count": null,
   "metadata": {},
   "outputs": [],
   "source": [
    "get_in_file(13)\n",
    "dots_str, fold_str = parse(13,sep=\"\\n\\n\")\n",
    "\n",
    "dots = mapt(ints, dots_str.rstrip().split(\"\\n\"))\n",
    "fold_instr = [(x[0],int(x[1])) for x in re.findall(\"(\\w)=(\\d+)\",fold_str)] "
   ]
  },
  {
   "cell_type": "code",
   "execution_count": null,
   "metadata": {},
   "outputs": [],
   "source": [
    "maxx = max([p[0] for p in dots])\n",
    "maxy = max([p[1] for p in dots])\n",
    "dotsM = np.zeros((maxy+1,maxx+1),dtype=np.int8)\n",
    "for (x,y) in dots :\n",
    "    dotsM[y][x] = 1\n",
    "dotsM.shape\n"
   ]
  },
  {
   "cell_type": "code",
   "execution_count": null,
   "metadata": {},
   "outputs": [],
   "source": [
    "def sym_x(i,j,x):\n",
    "    return (i,-j+2*x)\n",
    "\n",
    "def sym_y(i,j,y):\n",
    "    return (-i+2*y,j)\n",
    "\n",
    "def fold (M, direction:str, value):\n",
    "    I,J = M.shape\n",
    "    if direction == \"x\":\n",
    "        rows = I\n",
    "        cols = value\n",
    "        sym_fuc = sym_x\n",
    "    elif direction == \"y\":\n",
    "        rows = value\n",
    "        cols = J\n",
    "        sym_fuc = sym_y\n",
    "    else :\n",
    "        raise RuntimeError \n",
    "\n",
    "    newM = np.zeros((rows,cols), dtype=np.int8)\n",
    "    for i in range(rows) :\n",
    "        for j in range(cols) :\n",
    "            try : sym = M[sym_fuc(i,j,value)]\n",
    "            except IndexError: sym = 0\n",
    "            newM[i][j] = 1 if M[i][j] + sym > 0 else 0\n",
    "\n",
    "    return newM "
   ]
  },
  {
   "cell_type": "code",
   "execution_count": null,
   "metadata": {},
   "outputs": [],
   "source": [
    "folded = fold(dotsM, *fold_instr[0])\n",
    "(folded>0).sum()"
   ]
  },
  {
   "cell_type": "code",
   "execution_count": null,
   "metadata": {},
   "outputs": [],
   "source": [
    "submit((folded>0).sum(), part=\"a\", day=13, year=2021)"
   ]
  },
  {
   "cell_type": "markdown",
   "metadata": {},
   "source": [
    "### Part Two"
   ]
  },
  {
   "cell_type": "code",
   "execution_count": null,
   "metadata": {},
   "outputs": [],
   "source": [
    "dq = deque(fold_instr)\n",
    "to_fold = dotsM\n",
    "while len(dq) :\n",
    "    instr = dq.popleft()\n",
    "    to_fold = fold(to_fold, *instr)\n",
    "    print(instr)\n",
    "    print(to_fold.shape)\n"
   ]
  },
  {
   "cell_type": "code",
   "execution_count": null,
   "metadata": {},
   "outputs": [],
   "source": [
    "to_fold"
   ]
  },
  {
   "cell_type": "code",
   "execution_count": null,
   "metadata": {},
   "outputs": [],
   "source": [
    "np.hsplit(to_fold,8)"
   ]
  },
  {
   "cell_type": "code",
   "execution_count": null,
   "metadata": {},
   "outputs": [],
   "source": [
    "submit(\"CJCKBRPB\", part=\"b\", day=13, year=2021)"
   ]
  },
  {
   "cell_type": "markdown",
   "metadata": {},
   "source": [
    "<a id='day_14'></a>\n",
    "[home](#home)\n",
    "# [Day 14](https://adventofcode.com/2021/day/14): Extended Polymerization\n",
    "\n",
    "The first line is the polymer template - this is the starting point of the process.\n",
    "The following section defines the pair insertion rules.</br>\n",
    "A rule like AB -> C means that when elements A and B are immediately adjacent, element C should be inserted between them.<br/>\n",
    "These insertions all happen simultaneously."
   ]
  },
  {
   "cell_type": "code",
   "execution_count": null,
   "metadata": {},
   "outputs": [],
   "source": [
    "get_in_file(14)\n",
    "polymer_template, rules_str = parse(14,sep=\"\\n\\n\")\n",
    "\n",
    "t1 = \"\"\"\\\n",
    "NNCB\n",
    "\n",
    "CH -> B\n",
    "HH -> N\n",
    "CB -> H\n",
    "NH -> C\n",
    "HB -> C\n",
    "HC -> B\n",
    "HN -> C\n",
    "NN -> C\n",
    "BH -> H\n",
    "NC -> B\n",
    "NB -> B\n",
    "BN -> B\n",
    "BB -> N\n",
    "BC -> B\n",
    "CC -> N\n",
    "CN -> C    \n",
    "\"\"\"\n",
    "polymer_template, rules_str = t1.rstrip().split(\"\\n\\n\")\n",
    "\n",
    "rules_poly = dict([r.split(\" -> \") for r in rules_str.rstrip().split(\"\\n\")])"
   ]
  },
  {
   "cell_type": "code",
   "execution_count": null,
   "metadata": {},
   "outputs": [],
   "source": [
    "def polymer_gen(templ_poly: str, rules : dict, step):\n",
    "    templ = templ_poly\n",
    "    polymer = \"\"\n",
    "    cnt = 0\n",
    "    while cnt < step :\n",
    "        cnt += 1\n",
    "        polymer = templ[0]\n",
    "        for p1,p2 in pairwise(templ):\n",
    "            k = \"\".join((p1,p2))\n",
    "            polymer += \"\".join((rules[k],p2))\n",
    "        print(f\"step {cnt} len(polymer) {len(polymer)}\")\n",
    "        yield polymer\n",
    "        templ = polymer    \n"
   ]
  },
  {
   "cell_type": "code",
   "execution_count": null,
   "metadata": {},
   "outputs": [],
   "source": [
    "poly_cnt = Counter(list(polymer_gen(polymer_template, rules_poly, 10))[-1])\n",
    "poly_cnt"
   ]
  },
  {
   "cell_type": "code",
   "execution_count": null,
   "metadata": {},
   "outputs": [],
   "source": [
    "(M,C),(m,c)= poly_cnt.most_common()[0],poly_cnt.most_common()[-1]\n",
    "C,c"
   ]
  },
  {
   "cell_type": "code",
   "execution_count": null,
   "metadata": {},
   "outputs": [],
   "source": [
    "submit(C-c, part=\"a\", day=14, year=2021)"
   ]
  },
  {
   "cell_type": "markdown",
   "metadata": {},
   "source": [
    "### Part Two"
   ]
  },
  {
   "cell_type": "code",
   "execution_count": null,
   "metadata": {},
   "outputs": [],
   "source": [
    "def next_polymer(start_poly: str, rules : dict):\n",
    "    polymer = start_poly[0]\n",
    "    for p1,p2 in pairwise(start_poly):\n",
    "        k = \"\".join((p1,p2))\n",
    "        polymer += \"\".join((rules[k],p2))\n",
    "    print(f\"len(polymer) {len(polymer)}\")\n",
    "    return polymer    "
   ]
  },
  {
   "cell_type": "code",
   "execution_count": null,
   "metadata": {},
   "outputs": [],
   "source": [
    "polymer = polymer_template\n",
    "for i in range(30) :\n",
    "    polymer = next_polymer(polymer, rules_poly)\n",
    "    \n",
    "poly_cnt = Counter(polymer)\n",
    "poly_cnt"
   ]
  },
  {
   "cell_type": "code",
   "execution_count": null,
   "metadata": {},
   "outputs": [],
   "source": [
    "%load_ext line_profiler\n",
    "pname = \"lp_polimer_\"\n",
    "#for d in range(20,25) :\n",
    "#    %lprun -T lp_file -f s3 -f population population(init_test,d,s4)\n",
    "#    os.rename('lp_file',pname+str(d))\n",
    "    \n",
    "%lprun -T lp_polimer -f get_polymer get_polymer(polymer_template, rules_poly, 23)"
   ]
  },
  {
   "cell_type": "markdown",
   "metadata": {},
   "source": [
    "<a id='day_15'></a>\n",
    "[home](#home)\n",
    "# [Day 15](https://adventofcode.com/2021/day/15): Chiton\n",
    "\n",
    "You start in the top left position, your destination is the bottom right position, and you cannot move diagonally.<br>\n",
    "The number at each position is its risk level;<br>\n",
    "to determine the total risk of an entire path, add up the risk levels of each position you enter<br>\n",
    "(that is, don't count the risk level of your starting position unless you enter it; leaving it adds no risk to your total)<br>\n",
    "Your goal is to find a path with the lowest total risk"
   ]
  },
  {
   "cell_type": "code",
   "execution_count": null,
   "metadata": {},
   "outputs": [],
   "source": [
    "get_in_file(15)\n",
    "p = lambda x: mapt(int,x)\n",
    "in15 = parse(15,p)\n",
    "\n",
    "test_in = \"\"\"\\\n",
    "1163751742\n",
    "1381373672\n",
    "2136511328\n",
    "3694931569\n",
    "7463417111\n",
    "1319128137\n",
    "1359912421\n",
    "3125421639\n",
    "1293138521\n",
    "2311944581\n",
    "\"\"\"\n",
    "test_in = \"\"\"\\\n",
    "123\n",
    "456\n",
    "789\n",
    "\"\"\"\n",
    "in_test = mapt(p,test_in.rstrip().split())\n",
    "testM = np.matrix(in_test)"
   ]
  },
  {
   "cell_type": "code",
   "execution_count": null,
   "metadata": {},
   "outputs": [],
   "source": [
    "from anytree import Node, RenderTree, AsciiStyle, Resolver, ResolverError\n",
    "\n",
    "def build_tree(start : tuple, M) -> Node:\n",
    "    auxM = np.zeros(M.shape,dtype=np.int8)\n",
    "    auxM[start] = M[start]\n",
    "    dq = deque()\n",
    "    root = Node(str(start), ij=start, risk=0, sum_risk=0)\n",
    "    dq.append(root)\n",
    "    while len(dq) > 0 :\n",
    "        curr_node = dq.pop()\n",
    "        #print(f'curr node {curr_node}')\n",
    "        adj = get_adj(*curr_node.ij,M,False)\n",
    "        #print(f'adj {adj}')\n",
    "        m = min(adj.values())\n",
    "        for ij,risk in adj.items():\n",
    "            nodes_name = \"/\".join([\"\"]+[str(node.name) for node in curr_node.path])\n",
    "            #print(nodes_name)\n",
    "            if str(ij) not in nodes_name :\n",
    "                n = Node(str(ij), ij=ij, risk=risk, sum_risk=risk+curr_node.risk, parent=curr_node)\n",
    "                dq.append(n)\n",
    "    \n",
    "    return root\n",
    "        "
   ]
  },
  {
   "cell_type": "code",
   "execution_count": null,
   "metadata": {},
   "outputs": [],
   "source": [
    "root = build_tree((0,0), testM)\n",
    "print(RenderTree(root, style=AsciiStyle()))"
   ]
  },
  {
   "cell_type": "code",
   "execution_count": null,
   "metadata": {},
   "outputs": [],
   "source": [
    "test_in = \"\"\"\\\n",
    "123\n",
    "456\n",
    "789\n",
    "\"\"\"\n",
    "\n",
    "in_test = mapt(p,test_in.rstrip().split())\n",
    "M = np.array(in_test)\n",
    "for ij in np.ndindex(M.shape):\n",
    "    print(f'ij {ij} M[ij]={M[ij]}')\n",
    "    adj = get_adj(*ij,M,False)\n",
    "    print(f'adj {adj}')\n"
   ]
  }
 ],
 "metadata": {
  "kernelspec": {
   "display_name": "Python 3.10.4 ('aoc')",
   "language": "python",
   "name": "python3"
  },
  "language_info": {
   "codemirror_mode": {
    "name": "ipython",
    "version": 3
   },
   "file_extension": ".py",
   "mimetype": "text/x-python",
   "name": "python",
   "nbconvert_exporter": "python",
   "pygments_lexer": "ipython3",
   "version": "3.10.4"
  },
  "vscode": {
   "interpreter": {
    "hash": "8c882ba18197fb304f766651e24370ea456a1989c1c279f22d9ce54f375ecc6f"
   }
  }
 },
 "nbformat": 4,
 "nbformat_minor": 2
}
