{
 "cells": [
  {
   "cell_type": "code",
   "execution_count": null,
   "metadata": {},
   "outputs": [],
   "source": [
    "import sys\n",
    "sys.path.append(\"../\")\n",
    "from aoc_utils import *"
   ]
  },
  {
   "cell_type": "markdown",
   "metadata": {},
   "source": [
    "# Home\n",
    "\n",
    "Each day's work will consist of three tasks:\n",
    "- **Input**: Parse the day's input file with the function `parse(day, parser, sep)`, which treats the input as a sequence of *entries*, separated by `sep` (default newline); applies `parser` to each entry; and returns the results as a tuple. (Note: `ints` and `atoms` are useful `parser` functions (as are `int` and `str`).)\n",
    "- **Part 1**: Write code to compute the answer to Part 1, and submit the answer to the AoC site. Use the function `answer` to record the correct answer and serve as a regression test when I re-run the notebook.\n",
    "- **Part 2**: Repeat coding and `answer` for Part 2.\n",
    "\n",
    "1. [Day 1](#day-1)\n",
    "2. [Day 2](#day-2)\n",
    "3. [Day 3](#day-3)\n",
    "4. [Day 4](#day-4)\n",
    "5. [Day 5](#day-5)\n",
    "6. [Day 6](#day-6)\n",
    "7. [Day 7](#day-7)\n"
   ]
  },
  {
   "cell_type": "markdown",
   "metadata": {},
   "source": [
    "[home](#home)\n",
    "# Day 1\n",
    "[Calorie Counting](https://adventofcode.com/2022/day/1)\n",
    "\n",
    "Find the Elf carrying the most Calories.  \n",
    "How many total Calories is that Elf carrying ?\n"
   ]
  },
  {
   "cell_type": "code",
   "execution_count": null,
   "metadata": {},
   "outputs": [],
   "source": [
    "get_in_file(1,2022)\n",
    "in1 = parse(1, ints, sep='\\n\\n')\n",
    "\n",
    "elves_food = [sum(elf_food) for elf_food in in1]\n",
    "max_food_cal = max(elves_food)\n",
    "max_food_cal"
   ]
  },
  {
   "cell_type": "code",
   "execution_count": null,
   "metadata": {},
   "outputs": [],
   "source": [
    "submit(max_food_cal, part=\"a\", day=1, year=2022)"
   ]
  },
  {
   "cell_type": "markdown",
   "metadata": {},
   "source": [
    "### Part 2\n",
    "Find the top three Elves carrying the most Calories.<br>\n",
    "How many Calories are those Elves carrying in total ?"
   ]
  },
  {
   "cell_type": "code",
   "execution_count": null,
   "metadata": {},
   "outputs": [],
   "source": [
    "top_three = sorted(elves_food)[-3:]\n",
    "top_three"
   ]
  },
  {
   "cell_type": "code",
   "execution_count": null,
   "metadata": {},
   "outputs": [],
   "source": [
    "submit(sum(top_three), part=\"b\", day=1, year=2022)"
   ]
  },
  {
   "cell_type": "markdown",
   "metadata": {},
   "source": [
    "[home](#home)\n",
    "# Day 2\n",
    "[Rock Paper Scissors](https://adventofcode.com/2022/day/2)\n",
    "\n",
    "Win Rock Paper Scissors tournament  \n",
    "What would your total score be if everything goes exactly according to your strategy guide?\n",
    "\n",
    "The first column is what your opponent is going to play:\n",
    "- A for Rock\n",
    "- B for Paper\n",
    "- C for Scissors\n",
    "\n",
    "The second column is what you should play in response:\n",
    "- X Rock\n",
    "- Y Paper\n",
    "- Z Scissors"
   ]
  },
  {
   "cell_type": "code",
   "execution_count": null,
   "metadata": {},
   "outputs": [],
   "source": [
    "get_in_file(2,2022)\n",
    "#B Y\n",
    "#A Z\n",
    "#...\n",
    "#line_parser = lambda x: \"\".join(str.split(x))\n",
    "line_parser = lambda x: tuple(str.split(x))\n",
    "#line_parser = lambda x: str.strip(x)\n",
    "in2 = Input(2, line_parser)\n",
    "#(('B','Y'),('A','Z')...)"
   ]
  },
  {
   "cell_type": "markdown",
   "metadata": {},
   "source": [
    "The score for a single round is the sum of :\n",
    "- score of your shape :\n",
    "    - 1 for Rock\n",
    "    - 2 for Paper\n",
    "    - 3 for Scissors\n",
    "- score of your outcome :\n",
    "    - 0 lost\n",
    "    - 3 draw\n",
    "    - 6 win\n"
   ]
  },
  {
   "cell_type": "code",
   "execution_count": null,
   "metadata": {},
   "outputs": [],
   "source": [
    "my_shape_score = {'X':1, 'Y':2, 'Z':3}\n",
    "other_shape_score = {'A':1, 'B':2, 'C':3}\n",
    "outcome_score = {'lost':0, 'draw':3, 'win':6}\n",
    "comb = product('ABC','XYZ')\n",
    "score_comb = [3,6,0,\n",
    "              0,3,6,\n",
    "              6,0,3]\n",
    "outcome_look_up = dict(zip(comb,score_comb))\n",
    "rounds = [ my_shape_score[x[1]] + outcome_look_up[x] for x in in2]\n",
    "sum(rounds)"
   ]
  },
  {
   "cell_type": "code",
   "execution_count": null,
   "metadata": {},
   "outputs": [],
   "source": [
    "submit(sum(rounds), part=\"a\", day=2, year=2022)"
   ]
  },
  {
   "cell_type": "markdown",
   "metadata": {},
   "source": [
    "### Part 2\n",
    "\n",
    "Now the second column says how the round needs to end:\n",
    "- X loose\n",
    "- Y draw\n",
    "- Z win"
   ]
  },
  {
   "cell_type": "code",
   "execution_count": null,
   "metadata": {},
   "outputs": [],
   "source": [
    "outcome_score = {'X':0, 'Y':3, 'Z':6}\n",
    "comb = product('ABC','XYZ')\n",
    "score_comb = [3,1,2,\n",
    "              1,2,3,\n",
    "              2,3,1]\n",
    "my_shape_look_up = dict(zip(comb,score_comb)) \n",
    "rounds = [ my_shape_look_up[x] + outcome_score[x[1]] for x in in2]"
   ]
  },
  {
   "cell_type": "code",
   "execution_count": null,
   "metadata": {},
   "outputs": [],
   "source": [
    "submit(sum(rounds), part=\"b\", day=2, year=2022)"
   ]
  },
  {
   "cell_type": "markdown",
   "metadata": {},
   "source": [
    "[home](#home)\n",
    "# Day 3\n",
    "[Rucksack Reorganization](https://adventofcode.com/2022/day/3)\n",
    "\n",
    "One Elf has the important job of loading all of the rucksacks with supplies for the jungle journey.  \n",
    "Each rucksack has two large compartments. All items of a given type are meant to go into exactly one of the two compartments.  \n",
    "The Elf that did the packing failed to follow this rule for exactly **one item** type per rucksack.  \n",
    "Find the item type that appears in both compartments of each rucksack.  \n",
    "What is the sum of the priorities of those item types?"
   ]
  },
  {
   "cell_type": "code",
   "execution_count": null,
   "metadata": {},
   "outputs": [],
   "source": [
    "get_in_file(3,2022)\n",
    "in3 = Input(3)\n",
    "#in3 = Input(3, file_template='test/test{}.txt')"
   ]
  },
  {
   "cell_type": "markdown",
   "metadata": {},
   "source": [
    "To help prioritize item rearrangement, every item type can be converted to a priority:\n",
    "\n",
    "- Lowercase item types a through z have priorities 1 through 26.\n",
    "- Uppercase item types A through Z have priorities 27 through 52."
   ]
  },
  {
   "cell_type": "code",
   "execution_count": null,
   "metadata": {},
   "outputs": [],
   "source": [
    "# priority map\n",
    "prio = dict(zip(string.ascii_letters,range(1,len(string.ascii_letters)+1)))\n",
    "\n",
    "def common_item(ln:str) -> chr :\n",
    "    assert(len(ln)%2==0)\n",
    "    # split in two\n",
    "    st_half , nd_half = ln[:len(ln)//2],ln[len(ln)//2:]\n",
    "    # intersection must give only one elem \n",
    "    return (set(st_half) & set(nd_half)).pop()\n",
    "\n",
    "priority_items = mapt(lambda x : prio[x], mapt(common_item, in3))"
   ]
  },
  {
   "cell_type": "code",
   "execution_count": null,
   "metadata": {},
   "outputs": [],
   "source": [
    "submit(sum(priority_items), part=\"a\", day=3, year=2022)"
   ]
  },
  {
   "cell_type": "markdown",
   "metadata": {},
   "source": [
    "### Part 2\n",
    "For safety, the Elves are divided into groups of three.  \n",
    "Every Elf carries a badge that identifies their group.  \n",
    "For efficiency, within each group of three Elves, the badge is the **only item type carried by all three Elves**.  \n",
    "The only way to tell which item type is the right one is by finding the one item type that is **common between all three Elves** in each group.  \n",
    "Find the item type that corresponds to the badges of each three-Elf group.  \n",
    "What is the sum of the priorities of those item types?"
   ]
  },
  {
   "cell_type": "code",
   "execution_count": null,
   "metadata": {},
   "outputs": [],
   "source": [
    "\n",
    "priority_items = mapt(lambda y : prio[y.pop()], mapt(lambda x: reduce(set.intersection, [set(e) for e in x]), grouper(in3, 3, incomplete='strict')))"
   ]
  },
  {
   "cell_type": "code",
   "execution_count": null,
   "metadata": {},
   "outputs": [],
   "source": [
    "submit(sum(priority_items), part=\"b\", day=3, year=2022)"
   ]
  },
  {
   "cell_type": "markdown",
   "metadata": {},
   "source": [
    "[home](#home)\n",
    "# Day 4\n",
    "[Camp Cleanup](https://adventofcode.com/2022/day/4)\n",
    "\n",
    "In how many assignment pairs does one range fully contain the other?"
   ]
  },
  {
   "cell_type": "code",
   "execution_count": null,
   "metadata": {},
   "outputs": [],
   "source": [
    "from typing import Tuple, List\n",
    "day=4\n",
    "get_in_file(day,2022)\n",
    "# first split on ',' then split the iteritems on '-' \n",
    "line_parser = lambda x : mapt(lambda y : y.split('-'), str.rstrip(x).split(','))\n",
    "in4 = Input(day, line_parser=line_parser)\n",
    "#in4 = Input(day, line_parser=line_parser, file_template='test/test{}.txt')\n",
    "\n",
    "def make_sets ( pairs : Tuple[List[chr]] ) -> Tuple[set] :\n",
    "    st_pair, nd_pair = pairs\n",
    "    x1, x2 = mapt(int, st_pair)\n",
    "    st_set = set(range(x1,x2+1))\n",
    "    y1, y2 = mapt(int, nd_pair)\n",
    "    nd_set = set(range(y1,y2+1))\n",
    "    return st_set,nd_set\n"
   ]
  },
  {
   "cell_type": "code",
   "execution_count": null,
   "metadata": {},
   "outputs": [],
   "source": [
    "def fully_contain( pairs : Tuple[List[chr]] ) -> bool:\n",
    "    st_set, nd_set = make_sets(pairs)\n",
    "    return st_set.issubset(nd_set) or nd_set.issubset(st_set)\n",
    "\n",
    "#Count how many times the predicate is true\n",
    "quantify(in4, fully_contain)"
   ]
  },
  {
   "cell_type": "code",
   "execution_count": null,
   "metadata": {},
   "outputs": [],
   "source": [
    "submit(quantify(in4, fully_contain), part=\"a\", day=4, year=2022)"
   ]
  },
  {
   "cell_type": "markdown",
   "metadata": {},
   "source": [
    "### Part 2\n",
    "\n",
    "In how many assignment pairs do the ranges overlap?"
   ]
  },
  {
   "cell_type": "code",
   "execution_count": null,
   "metadata": {},
   "outputs": [],
   "source": [
    "def overlap( pairs : Tuple[List[chr]] ) -> bool:\n",
    "    st_set, nd_set = make_sets(pairs)\n",
    "    return len(st_set.intersection(nd_set)) > 0\n",
    "\n",
    "#Count how many times the predicate is true\n",
    "quantify(in4, overlap)"
   ]
  },
  {
   "cell_type": "code",
   "execution_count": null,
   "metadata": {},
   "outputs": [],
   "source": [
    "submit(quantify(in4, overlap), part=\"b\", day=4, year=2022)"
   ]
  },
  {
   "cell_type": "markdown",
   "metadata": {},
   "source": [
    "[home](#home)\n"
   ]
  },
  {
   "cell_type": "markdown",
   "metadata": {},
   "source": [
    "# Day 5\n",
    "[Supply Stacks](https://adventofcode.com/2022/day/5)"
   ]
  },
  {
   "cell_type": "code",
   "execution_count": null,
   "metadata": {},
   "outputs": [],
   "source": [
    "day=5\n",
    "get_in_file(day,2022)\n",
    "# drawing of the starting stacks of crates\n",
    "# rearrangement procedure  \n",
    "line_parser = lambda x: x.split('\\n\\n')\n",
    "start_stack, moves = parse(5, sep='\\n\\n')\n"
   ]
  },
  {
   "cell_type": "markdown",
   "metadata": {},
   "source": [
    "### modify **start_stack** as dict  "
   ]
  },
  {
   "cell_type": "code",
   "execution_count": null,
   "metadata": {},
   "outputs": [],
   "source": [
    "start_stack.split('\\n')"
   ]
  },
  {
   "cell_type": "code",
   "execution_count": null,
   "metadata": {},
   "outputs": [],
   "source": [
    "keys, *values = tuple(reversed(mapt(lambda x : tuple(compress(x, cycle((0,1,0,0)))), start_stack.split('\\n'))))\n",
    "values"
   ]
  },
  {
   "cell_type": "code",
   "execution_count": null,
   "metadata": {},
   "outputs": [],
   "source": [
    "transpose_tuples = tuple(zip(*values))\n",
    "transpose_tuples"
   ]
  },
  {
   "cell_type": "code",
   "execution_count": null,
   "metadata": {},
   "outputs": [],
   "source": [
    "ss_dict = dict(zip(map(int, keys), mapt(lambda x: str.strip(''.join(x)), transpose_tuples)))\n",
    "ss_dict"
   ]
  },
  {
   "cell_type": "markdown",
   "metadata": {},
   "source": [
    "### .... put all together"
   ]
  },
  {
   "cell_type": "code",
   "execution_count": null,
   "metadata": {},
   "outputs": [],
   "source": [
    "def top_crates_900x(start_stack:str, moves:str, part='a' ) -> str:\n",
    "    keys, *values = tuple(reversed(mapt(lambda x : tuple(compress(x, cycle((0,1,0,0)))), start_stack.split('\\n'))))\n",
    "    transpose_tuples = tuple(zip(*values))\n",
    "    ss_dict = dict(zip(map(int, keys), mapt(lambda x: str.strip(''.join(x)), transpose_tuples)))\n",
    "    moves_list = moves.split('\\n')\n",
    "    for mv in mapt(ints, moves_list) :\n",
    "        how_many, src, dest = mv\n",
    "        if part == 'a':\n",
    "            ss_dict[dest] = ss_dict[dest] + ss_dict[src][-how_many:][::-1]\n",
    "        else:\n",
    "            ss_dict[dest] = ss_dict[dest] + ss_dict[src][-how_many:]\n",
    "        ss_dict[src] = ss_dict[src][:-how_many]\n",
    "\n",
    "    pp.pprint(ss_dict)\n",
    "    return ''.join(mapt(lambda x: x[-1:], ss_dict.values()))"
   ]
  },
  {
   "cell_type": "code",
   "execution_count": null,
   "metadata": {},
   "outputs": [],
   "source": [
    "top_crates = top_crates_900x(start_stack, moves)"
   ]
  },
  {
   "cell_type": "code",
   "execution_count": null,
   "metadata": {},
   "outputs": [],
   "source": [
    "submit(top_crates, part=\"a\", day=5, year=2022)"
   ]
  },
  {
   "cell_type": "markdown",
   "metadata": {},
   "source": [
    "### Part 2\n",
    "\n",
    "The CrateMover 9001 is notable for many new and exciting features ... and the ability to pick up and move multiple crates at once"
   ]
  },
  {
   "cell_type": "code",
   "execution_count": null,
   "metadata": {},
   "outputs": [],
   "source": [
    "top_crates = top_crates_900x(start_stack, moves, part='b')"
   ]
  },
  {
   "cell_type": "code",
   "execution_count": null,
   "metadata": {},
   "outputs": [],
   "source": [
    "submit(top_crates, part=\"b\", day=5, year=2022)"
   ]
  },
  {
   "cell_type": "markdown",
   "metadata": {},
   "source": [
    "[home](#home)\n",
    "# Day 6\n",
    "[link](https://adventofcode.com/2022/day/6)"
   ]
  },
  {
   "cell_type": "code",
   "execution_count": null,
   "metadata": {},
   "outputs": [],
   "source": []
  },
  {
   "cell_type": "code",
   "execution_count": null,
   "metadata": {},
   "outputs": [],
   "source": []
  },
  {
   "cell_type": "code",
   "execution_count": null,
   "metadata": {},
   "outputs": [],
   "source": []
  }
 ],
 "metadata": {
  "kernelspec": {
   "display_name": "Python 3.10.4 ('aoc')",
   "language": "python",
   "name": "python3"
  },
  "language_info": {
   "codemirror_mode": {
    "name": "ipython",
    "version": 3
   },
   "file_extension": ".py",
   "mimetype": "text/x-python",
   "name": "python",
   "nbconvert_exporter": "python",
   "pygments_lexer": "ipython3",
   "version": "3.10.4"
  },
  "orig_nbformat": 4,
  "vscode": {
   "interpreter": {
    "hash": "8c882ba18197fb304f766651e24370ea456a1989c1c279f22d9ce54f375ecc6f"
   }
  }
 },
 "nbformat": 4,
 "nbformat_minor": 2
}
