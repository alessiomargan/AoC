{
 "cells": [
  {
   "cell_type": "code",
   "execution_count": null,
   "metadata": {},
   "outputs": [],
   "source": [
    "%run ../aoc_utils.py \n",
    "#import sys\n",
    "#sys.path.append(\"../\")\n",
    "#from aoc_utils import *"
   ]
  },
  {
   "cell_type": "markdown",
   "metadata": {},
   "source": [
    "# Home\n",
    "\n",
    "Each day's work will consist of three tasks:\n",
    "- **Input**: Parse the day's input file with the function `parse(day, parser, sep)`, which treats the input as a sequence of *entries*, separated by `sep` (default newline); applies `parser` to each entry; and returns the results as a tuple. (Note: `ints` and `atoms` are useful `parser` functions (as are `int` and `str`).)\n",
    "- **Part 1**: Write code to compute the answer to Part 1, and submit the answer to the AoC site. Use the function `answer` to record the correct answer and serve as a regression test when I re-run the notebook.\n",
    "- **Part 2**: Repeat coding and `answer` for Part 2.\n",
    "\n",
    "1. [Day 1](#day-1)\n",
    "2. [Day 2](#day-2)\n",
    "3. [Day 3](#day-3)\n",
    "4. [Day 4](#day-4)\n",
    "5. [Day 5](#day-5)\n",
    "6. [Day 6](#day-6)\n",
    "7. [Day 7](#day-7)\n",
    "8. [Day 8](#day-8)\n",
    "9. [Day 9](#day-9)\n",
    "10. [Day 10](#day-10)\n",
    "11. [Day 11](#day-11)\n"
   ]
  },
  {
   "cell_type": "markdown",
   "metadata": {},
   "source": [
    "[home](#home)\n",
    "# Day 1\n",
    "[Calorie Counting](https://adventofcode.com/2022/day/1)\n",
    "\n",
    "Find the Elf carrying the most Calories.  \n",
    "How many total Calories is that Elf carrying ?\n"
   ]
  },
  {
   "cell_type": "code",
   "execution_count": null,
   "metadata": {},
   "outputs": [],
   "source": [
    "get_in_file(1,2022)\n",
    "in1 = parse(1, ints, sep='\\n\\n')\n",
    "\n",
    "elves_food = [sum(elf_food) for elf_food in in1]\n",
    "max_food_cal = max(elves_food)\n",
    "max_food_cal"
   ]
  },
  {
   "cell_type": "code",
   "execution_count": null,
   "metadata": {},
   "outputs": [],
   "source": [
    "submit(max_food_cal, part=\"a\", day=1, year=2022)"
   ]
  },
  {
   "cell_type": "markdown",
   "metadata": {},
   "source": [
    "### Part 2\n",
    "Find the top three Elves carrying the most Calories.<br>\n",
    "How many Calories are those Elves carrying in total ?"
   ]
  },
  {
   "cell_type": "code",
   "execution_count": null,
   "metadata": {},
   "outputs": [],
   "source": [
    "top_three = sorted(elves_food)[-3:]\n",
    "top_three"
   ]
  },
  {
   "cell_type": "code",
   "execution_count": null,
   "metadata": {},
   "outputs": [],
   "source": [
    "submit(sum(top_three), part=\"b\", day=1, year=2022)"
   ]
  },
  {
   "cell_type": "markdown",
   "metadata": {},
   "source": [
    "[home](#home)\n",
    "# Day 2\n",
    "[Rock Paper Scissors](https://adventofcode.com/2022/day/2)\n",
    "\n",
    "Win Rock Paper Scissors tournament  \n",
    "What would your total score be if everything goes exactly according to your strategy guide?\n",
    "\n",
    "The first column is what your opponent is going to play:\n",
    "- A for Rock\n",
    "- B for Paper\n",
    "- C for Scissors\n",
    "\n",
    "The second column is what you should play in response:\n",
    "- X Rock\n",
    "- Y Paper\n",
    "- Z Scissors"
   ]
  },
  {
   "cell_type": "code",
   "execution_count": null,
   "metadata": {},
   "outputs": [],
   "source": [
    "get_in_file(2,2022)\n",
    "#B Y\n",
    "#A Z\n",
    "#...\n",
    "#line_parser = lambda x: \"\".join(str.split(x))\n",
    "line_parser = lambda x: tuple(str.split(x))\n",
    "#line_parser = lambda x: str.strip(x)\n",
    "in2 = Input(2, line_parser)\n",
    "#(('B','Y'),('A','Z')...)"
   ]
  },
  {
   "cell_type": "markdown",
   "metadata": {},
   "source": [
    "The score for a single round is the sum of :\n",
    "- score of your shape :\n",
    "    - 1 for Rock\n",
    "    - 2 for Paper\n",
    "    - 3 for Scissors\n",
    "- score of your outcome :\n",
    "    - 0 lost\n",
    "    - 3 draw\n",
    "    - 6 win\n"
   ]
  },
  {
   "cell_type": "code",
   "execution_count": null,
   "metadata": {},
   "outputs": [],
   "source": [
    "my_shape_score = {'X':1, 'Y':2, 'Z':3}\n",
    "other_shape_score = {'A':1, 'B':2, 'C':3}\n",
    "outcome_score = {'lost':0, 'draw':3, 'win':6}\n",
    "comb = product('ABC','XYZ')\n",
    "score_comb = [3,6,0,\n",
    "              0,3,6,\n",
    "              6,0,3]\n",
    "outcome_look_up = dict(zip(comb,score_comb))\n",
    "rounds = [ my_shape_score[x[1]] + outcome_look_up[x] for x in in2]\n",
    "sum(rounds)"
   ]
  },
  {
   "cell_type": "code",
   "execution_count": null,
   "metadata": {},
   "outputs": [],
   "source": [
    "submit(sum(rounds), part=\"a\", day=2, year=2022)"
   ]
  },
  {
   "cell_type": "markdown",
   "metadata": {},
   "source": [
    "### Part 2\n",
    "\n",
    "Now the second column says how the round needs to end:\n",
    "- X loose\n",
    "- Y draw\n",
    "- Z win"
   ]
  },
  {
   "cell_type": "code",
   "execution_count": null,
   "metadata": {},
   "outputs": [],
   "source": [
    "outcome_score = {'X':0, 'Y':3, 'Z':6}\n",
    "comb = product('ABC','XYZ')\n",
    "score_comb = [3,1,2,\n",
    "              1,2,3,\n",
    "              2,3,1]\n",
    "my_shape_look_up = dict(zip(comb,score_comb)) \n",
    "rounds = [ my_shape_look_up[x] + outcome_score[x[1]] for x in in2]"
   ]
  },
  {
   "cell_type": "code",
   "execution_count": null,
   "metadata": {},
   "outputs": [],
   "source": [
    "submit(sum(rounds), part=\"b\", day=2, year=2022)"
   ]
  },
  {
   "cell_type": "markdown",
   "metadata": {},
   "source": [
    "[home](#home)\n",
    "# Day 3\n",
    "[Rucksack Reorganization](https://adventofcode.com/2022/day/3)\n",
    "\n",
    "One Elf has the important job of loading all of the rucksacks with supplies for the jungle journey.  \n",
    "Each rucksack has two large compartments. All items of a given type are meant to go into exactly one of the two compartments.  \n",
    "The Elf that did the packing failed to follow this rule for exactly **one item** type per rucksack.  \n",
    "Find the item type that appears in both compartments of each rucksack.  \n",
    "What is the sum of the priorities of those item types?"
   ]
  },
  {
   "cell_type": "code",
   "execution_count": null,
   "metadata": {},
   "outputs": [],
   "source": [
    "get_in_file(3,2022)\n",
    "in3 = Input(3)\n",
    "#in3 = Input(3, file_template='test/test{}.txt')"
   ]
  },
  {
   "cell_type": "markdown",
   "metadata": {},
   "source": [
    "To help prioritize item rearrangement, every item type can be converted to a priority:\n",
    "\n",
    "- Lowercase item types a through z have priorities 1 through 26.\n",
    "- Uppercase item types A through Z have priorities 27 through 52."
   ]
  },
  {
   "cell_type": "code",
   "execution_count": null,
   "metadata": {},
   "outputs": [],
   "source": [
    "# priority map\n",
    "prio = dict(zip(string.ascii_letters,range(1,len(string.ascii_letters)+1)))\n",
    "\n",
    "def common_item(ln:str) -> chr :\n",
    "    assert(len(ln)%2==0)\n",
    "    # split in two\n",
    "    st_half , nd_half = ln[:len(ln)//2],ln[len(ln)//2:]\n",
    "    # intersection must give only one elem \n",
    "    return (set(st_half) & set(nd_half)).pop()\n",
    "\n",
    "priority_items = mapt(lambda x : prio[x], mapt(common_item, in3))"
   ]
  },
  {
   "cell_type": "code",
   "execution_count": null,
   "metadata": {},
   "outputs": [],
   "source": [
    "submit(sum(priority_items), part=\"a\", day=3, year=2022)"
   ]
  },
  {
   "cell_type": "markdown",
   "metadata": {},
   "source": [
    "### Part 2\n",
    "For safety, the Elves are divided into groups of three.  \n",
    "Every Elf carries a badge that identifies their group.  \n",
    "For efficiency, within each group of three Elves, the badge is the **only item type carried by all three Elves**.  \n",
    "The only way to tell which item type is the right one is by finding the one item type that is **common between all three Elves** in each group.  \n",
    "Find the item type that corresponds to the badges of each three-Elf group.  \n",
    "What is the sum of the priorities of those item types?"
   ]
  },
  {
   "cell_type": "code",
   "execution_count": null,
   "metadata": {},
   "outputs": [],
   "source": [
    "\n",
    "priority_items = mapt(lambda y : prio[y.pop()], mapt(lambda x: reduce(set.intersection, [set(e) for e in x]), grouper(in3, 3, incomplete='strict')))"
   ]
  },
  {
   "cell_type": "code",
   "execution_count": null,
   "metadata": {},
   "outputs": [],
   "source": [
    "submit(sum(priority_items), part=\"b\", day=3, year=2022)"
   ]
  },
  {
   "cell_type": "markdown",
   "metadata": {},
   "source": [
    "[home](#home)\n",
    "# Day 4\n",
    "[Camp Cleanup](https://adventofcode.com/2022/day/4)\n",
    "\n",
    "In how many assignment pairs does one range fully contain the other?"
   ]
  },
  {
   "cell_type": "code",
   "execution_count": null,
   "metadata": {},
   "outputs": [],
   "source": [
    "from typing import Tuple, List\n",
    "day=4\n",
    "get_in_file(day,2022)\n",
    "# first split on ',' then split the iteritems on '-' \n",
    "line_parser = lambda x : mapt(lambda y : y.split('-'), str.rstrip(x).split(','))\n",
    "in4 = Input(day, line_parser=line_parser)\n",
    "#in4 = Input(day, line_parser=line_parser, file_template='test/test{}.txt')\n",
    "\n",
    "def make_sets ( pairs : Tuple[List[chr]] ) -> Tuple[set] :\n",
    "    st_pair, nd_pair = pairs\n",
    "    x1, x2 = mapt(int, st_pair)\n",
    "    st_set = set(range(x1,x2+1))\n",
    "    y1, y2 = mapt(int, nd_pair)\n",
    "    nd_set = set(range(y1,y2+1))\n",
    "    return st_set,nd_set\n"
   ]
  },
  {
   "cell_type": "code",
   "execution_count": null,
   "metadata": {},
   "outputs": [],
   "source": [
    "def fully_contain( pairs : Tuple[List[chr]] ) -> bool:\n",
    "    st_set, nd_set = make_sets(pairs)\n",
    "    return st_set.issubset(nd_set) or nd_set.issubset(st_set)\n",
    "\n",
    "#Count how many times the predicate is true\n",
    "quantify(in4, fully_contain)"
   ]
  },
  {
   "cell_type": "code",
   "execution_count": null,
   "metadata": {},
   "outputs": [],
   "source": [
    "submit(quantify(in4, fully_contain), part=\"a\", day=4, year=2022)"
   ]
  },
  {
   "cell_type": "markdown",
   "metadata": {},
   "source": [
    "### Part 2\n",
    "\n",
    "In how many assignment pairs do the ranges overlap?"
   ]
  },
  {
   "cell_type": "code",
   "execution_count": null,
   "metadata": {},
   "outputs": [],
   "source": [
    "def overlap( pairs : Tuple[List[chr]] ) -> bool:\n",
    "    st_set, nd_set = make_sets(pairs)\n",
    "    return len(st_set.intersection(nd_set)) > 0\n",
    "\n",
    "#Count how many times the predicate is true\n",
    "quantify(in4, overlap)"
   ]
  },
  {
   "cell_type": "code",
   "execution_count": null,
   "metadata": {},
   "outputs": [],
   "source": [
    "submit(quantify(in4, overlap), part=\"b\", day=4, year=2022)"
   ]
  },
  {
   "cell_type": "markdown",
   "metadata": {},
   "source": [
    "[home](#home)\n"
   ]
  },
  {
   "cell_type": "markdown",
   "metadata": {},
   "source": [
    "# Day 5\n",
    "[Supply Stacks](https://adventofcode.com/2022/day/5)"
   ]
  },
  {
   "cell_type": "code",
   "execution_count": null,
   "metadata": {},
   "outputs": [],
   "source": [
    "day=5\n",
    "get_in_file(day,2022)\n",
    "# drawing of the starting stacks of crates\n",
    "# rearrangement procedure  \n",
    "line_parser = lambda x: x.split('\\n\\n')\n",
    "start_stack, moves = parse(5, sep='\\n\\n')\n"
   ]
  },
  {
   "cell_type": "markdown",
   "metadata": {},
   "source": [
    "### modify **start_stack** as dict  "
   ]
  },
  {
   "cell_type": "code",
   "execution_count": null,
   "metadata": {},
   "outputs": [],
   "source": [
    "start_stack.split('\\n')"
   ]
  },
  {
   "cell_type": "code",
   "execution_count": null,
   "metadata": {},
   "outputs": [],
   "source": [
    "keys, *values = tuple(reversed(mapt(lambda x : tuple(compress(x, cycle((0,1,0,0)))), start_stack.split('\\n'))))\n",
    "values"
   ]
  },
  {
   "cell_type": "code",
   "execution_count": null,
   "metadata": {},
   "outputs": [],
   "source": [
    "transpose_tuples = tuple(zip(*values))\n",
    "transpose_tuples"
   ]
  },
  {
   "cell_type": "code",
   "execution_count": null,
   "metadata": {},
   "outputs": [],
   "source": [
    "ss_dict = dict(zip(map(int, keys), mapt(lambda x: str.strip(''.join(x)), transpose_tuples)))\n",
    "ss_dict"
   ]
  },
  {
   "cell_type": "markdown",
   "metadata": {},
   "source": [
    "### .... put all together"
   ]
  },
  {
   "cell_type": "code",
   "execution_count": null,
   "metadata": {},
   "outputs": [],
   "source": [
    "def top_crates_900x(start_stack:str, moves:str, part='a' ) -> str:\n",
    "    keys, *values = tuple(reversed(mapt(lambda x : tuple(compress(x, cycle((0,1,0,0)))), start_stack.split('\\n'))))\n",
    "    transpose_tuples = tuple(zip(*values))\n",
    "    ss_dict = dict(zip(map(int, keys), mapt(lambda x: str.strip(''.join(x)), transpose_tuples)))\n",
    "    moves_list = moves.split('\\n')\n",
    "    for mv in mapt(ints, moves_list) :\n",
    "        how_many, src, dest = mv\n",
    "        if part == 'a':\n",
    "            ss_dict[dest] = ss_dict[dest] + ss_dict[src][-how_many:][::-1]\n",
    "        else:\n",
    "            ss_dict[dest] = ss_dict[dest] + ss_dict[src][-how_many:]\n",
    "        ss_dict[src] = ss_dict[src][:-how_many]\n",
    "\n",
    "    pp.pprint(ss_dict)\n",
    "    return ''.join(mapt(lambda x: x[-1:], ss_dict.values()))"
   ]
  },
  {
   "cell_type": "code",
   "execution_count": null,
   "metadata": {},
   "outputs": [],
   "source": [
    "top_crates = top_crates_900x(start_stack, moves)"
   ]
  },
  {
   "cell_type": "code",
   "execution_count": null,
   "metadata": {},
   "outputs": [],
   "source": [
    "submit(top_crates, part=\"a\", day=5, year=2022)"
   ]
  },
  {
   "cell_type": "markdown",
   "metadata": {},
   "source": [
    "### Part 2\n",
    "\n",
    "The CrateMover 9001 is notable for many new and exciting features ... and the ability to pick up and move multiple crates at once"
   ]
  },
  {
   "cell_type": "code",
   "execution_count": null,
   "metadata": {},
   "outputs": [],
   "source": [
    "top_crates = top_crates_900x(start_stack, moves, part='b')"
   ]
  },
  {
   "cell_type": "code",
   "execution_count": null,
   "metadata": {},
   "outputs": [],
   "source": [
    "submit(top_crates, part=\"b\", day=5, year=2022)"
   ]
  },
  {
   "cell_type": "markdown",
   "metadata": {},
   "source": [
    "[home](#home)\n",
    "# Day 6\n",
    "[Tuning Trouble](https://adventofcode.com/2022/day/6)\n",
    "\n",
    "detects a start-of-packet marker in the datastream.  \n",
    "The start of a packet is indicated by a sequence of **4** characters that are all different.  \n",
    "How many characters need to be processed before the first *start-of-packet* marker is detected?"
   ]
  },
  {
   "cell_type": "code",
   "execution_count": null,
   "metadata": {},
   "outputs": [],
   "source": [
    "day=6\n",
    "get_in_file(day,2022)\n",
    "in6, = Input(day, file_template='test/test{}.txt')\n",
    "in6, = Input(day)"
   ]
  },
  {
   "cell_type": "markdown",
   "metadata": {},
   "source": [
    "Changed in version 3.7: As a dict subclass, Counter inherited the capability to remember insertion order."
   ]
  },
  {
   "cell_type": "code",
   "execution_count": null,
   "metadata": {},
   "outputs": [],
   "source": [
    "def device_subroutine( buffer:str, seq_len: int):\n",
    "    '''\n",
    "    detects a char sequnce marker in the datastream\n",
    "    return how many characters need to be processed before the first sequence is found\n",
    "    '''\n",
    "    list_of_seq = [\"\".join(c.keys()) for c in \\\n",
    "                    mapt(lambda seq: Counter(seq), sliding_window(buffer,seq_len)) if len(c) >= seq_len]\n",
    "    first_seq = list_of_seq[0]\n",
    "    return buffer.find(first_seq) + len(first_seq)"
   ]
  },
  {
   "cell_type": "code",
   "execution_count": null,
   "metadata": {},
   "outputs": [],
   "source": [
    "char_processed = device_subroutine(in6, 4)"
   ]
  },
  {
   "cell_type": "code",
   "execution_count": null,
   "metadata": {},
   "outputs": [],
   "source": [
    "submit(char_processed, part=\"a\", day=6, year=2022)"
   ]
  },
  {
   "cell_type": "markdown",
   "metadata": {},
   "source": [
    "### Part 2\n",
    "\n",
    "A start-of-message marker is just like a start-of-packet marker, except it consists of **14** distinct characters rather than 4.  \n",
    "How many characters need to be processed before the first *start-of-message* marker is detected?"
   ]
  },
  {
   "cell_type": "code",
   "execution_count": null,
   "metadata": {},
   "outputs": [],
   "source": [
    "char_processed = device_subroutine(in6, 14)"
   ]
  },
  {
   "cell_type": "code",
   "execution_count": null,
   "metadata": {},
   "outputs": [],
   "source": [
    "submit(char_processed, part=\"b\", day=6, year=2022)"
   ]
  },
  {
   "cell_type": "markdown",
   "metadata": {},
   "source": [
    "[home](#home)\n",
    "# Day 7\n",
    "[No Space Left On Device](https://adventofcode.com/2022/day/7)\n",
    "\n",
    "Within the terminal output, lines that begin with **$** are commands you execute:\n",
    "- **cd** means change directory :\n",
    "    - cd x\n",
    "    - cd ..\n",
    "    - cd /\n",
    "- **ls** means list :\n",
    "    - 123 abc means file name abc of size 123\n",
    "    - dir xyz\n",
    "\n",
    "Find all of the directories with a total size of at most 100000.  \n",
    "What is the sum of the total sizes of those directories?\n",
    "\n"
   ]
  },
  {
   "cell_type": "code",
   "execution_count": null,
   "metadata": {},
   "outputs": [],
   "source": [
    "day=7\n",
    "get_in_file(day,2022)\n",
    "in7 = Input(day, file_template='test/test{}.txt')\n",
    "in7 = Input(day)"
   ]
  },
  {
   "cell_type": "code",
   "execution_count": null,
   "metadata": {},
   "outputs": [],
   "source": [
    "regex_input = \"\"\"\\\n",
    "\\$ (?P<cmd>cd|ls)\\ ?(?P<cd_dirname>\\w+|/|\\.\\.)?|\\\n",
    "(?P<fsize>\\d+) (?P<fname>\\w+)\\.?(?P<fext>\\w+)?|\\\n",
    "dir (?P<dirname>\\w+)\\\n",
    "\"\"\"\n",
    "\n",
    "regex_match = [re.match(regex_input,line) for line in in7]\n",
    "#pp.pprint(regex_match)"
   ]
  },
  {
   "cell_type": "code",
   "execution_count": null,
   "metadata": {},
   "outputs": [],
   "source": [
    "fs = dict({'/':{}})\n",
    "push_pop_dirs = deque()\n",
    "curr_dir = fs['/']\n",
    "push_pop_dirs.append('/')\n",
    "\n",
    "for mo in regex_match[1:] :\n",
    "   print(\"-->\", mo.groups())\n",
    "   cmd,cd_dir,fsize,fname,fext,dirname = mo.groups()\n",
    "   filename = fname+'.'+fext if fext != None else fname\n",
    "   if cmd is not None :\n",
    "      if cmd == 'cd' :\n",
    "         if cd_dir == '..' :\n",
    "            push_pop_dirs.pop()\n",
    "            tmp = fs\n",
    "            for k in push_pop_dirs :\n",
    "               curr_dir = tmp[k]\n",
    "               tmp = tmp[k]\n",
    "         else :\n",
    "            push_pop_dirs.append(cd_dir)\n",
    "            curr_dir = curr_dir[cd_dir]\n",
    "      elif cmd == 'ls' :\n",
    "         assert( len(curr_dir) == 0 )\n",
    "      else :\n",
    "         assert(0)\n",
    "      \n",
    "   elif fsize != None and int(fsize) > 0 :\n",
    "      curr_dir[filename] = int(fsize)\n",
    "   \n",
    "   elif dirname != None :\n",
    "      curr_dir[dirname] = {}\n",
    "\n",
    "pp.pprint(fs)\n",
    "   "
   ]
  },
  {
   "cell_type": "markdown",
   "metadata": {},
   "source": [
    "[how-to-flatten-a-dictionary-in-python](https://www.freecodecamp.org/news/how-to-flatten-a-dictionary-in-python-in-4-different-ways/)"
   ]
  },
  {
   "cell_type": "code",
   "execution_count": null,
   "metadata": {},
   "outputs": [],
   "source": [
    "from collections.abc import MutableMapping\n",
    "\n",
    "def flatten_dict(d: MutableMapping, parent_key: str = '', sep: str ='.') -> MutableMapping:\n",
    "    items = []\n",
    "    for k, v in d.items():\n",
    "        new_key = parent_key + sep + k if parent_key else k\n",
    "        if isinstance(v, MutableMapping):\n",
    "            items.extend(flatten_dict(v, new_key, sep=sep).items())\n",
    "        else:\n",
    "            items.append((new_key, v))\n",
    "    return dict(items)\n",
    "\n",
    "flatten_dict(fs,sep=' ')"
   ]
  },
  {
   "cell_type": "markdown",
   "metadata": {},
   "source": [
    "remember ... directory names are not unique, they can have the same name in different locations !"
   ]
  },
  {
   "cell_type": "code",
   "execution_count": null,
   "metadata": {},
   "outputs": [],
   "source": [
    "test ='/ vvsg mmrfrj wcmwrtjn ptsd tcjgpqj hcmj.nvp'.split()[:-1]\n",
    "test"
   ]
  },
  {
   "cell_type": "code",
   "execution_count": null,
   "metadata": {},
   "outputs": [],
   "source": [
    "def abc(l:list):\n",
    "    acc = ''\n",
    "    for e in l:\n",
    "        #print(e)\n",
    "        acc +=e\n",
    "        yield acc\n",
    "\n",
    "test_f = list(abc(test))\n",
    "test_f"
   ]
  },
  {
   "cell_type": "code",
   "execution_count": null,
   "metadata": {},
   "outputs": [],
   "source": [
    "dir_size = defaultdict(int)\n",
    "for k,v in flatten_dict(fs,sep=' ').items() :\n",
    "    for d in abc(k.split()[:-1]) :\n",
    "        dir_size[d] += v\n",
    "dir_size"
   ]
  },
  {
   "cell_type": "markdown",
   "metadata": {},
   "source": [
    "Find all of the directories with a total size of at most 100000. What is the sum of the total sizes of those directories?"
   ]
  },
  {
   "cell_type": "code",
   "execution_count": null,
   "metadata": {},
   "outputs": [],
   "source": [
    "tot_sizes = sum([x for x in dir_size.values() if x <= 100000 ])\n",
    "tot_sizes"
   ]
  },
  {
   "cell_type": "code",
   "execution_count": null,
   "metadata": {},
   "outputs": [],
   "source": [
    "submit(tot_sizes, part=\"a\", day=7, year=2022)"
   ]
  },
  {
   "cell_type": "markdown",
   "metadata": {},
   "source": [
    "### Part 2"
   ]
  },
  {
   "cell_type": "code",
   "execution_count": null,
   "metadata": {},
   "outputs": [],
   "source": [
    "need = 30*1000*1000\n",
    "unused = (70*1000*1000) - 48729145\n",
    "to_free = need - unused"
   ]
  },
  {
   "cell_type": "code",
   "execution_count": null,
   "metadata": {},
   "outputs": [],
   "source": [
    "dir_to_del = min([x for x in dir_size.values() if x >= to_free ])"
   ]
  },
  {
   "cell_type": "code",
   "execution_count": null,
   "metadata": {},
   "outputs": [],
   "source": [
    "submit(dir_to_del, part=\"b\", day=7, year=2022)"
   ]
  },
  {
   "cell_type": "markdown",
   "metadata": {},
   "source": [
    "[home](#home)\n",
    "# Day 8\n",
    "[Treetop Tree House](https://adventofcode.com/2022/day/8)\n",
    "\n",
    "A tree is visible if all of the other trees between it and an edge of the grid are shorter than it. Only consider trees in the same row or column  \n",
    "All of the trees around the edge of the grid are visible - since they are already on the edge, there are no trees to block the view."
   ]
  },
  {
   "cell_type": "code",
   "execution_count": null,
   "metadata": {},
   "outputs": [],
   "source": [
    "day=8\n",
    "get_in_file(day,2022)\n",
    "in8_test = Input(day, line_parser=lambda x: mapt(int,x.rstrip()), file_template='test/test{}.txt')\n",
    "in8 = Input(day, line_parser=lambda x: mapt(int,x.rstrip()))"
   ]
  },
  {
   "cell_type": "code",
   "execution_count": null,
   "metadata": {},
   "outputs": [],
   "source": [
    "def is_in_edge(m,i,j):\n",
    "    R,C = m.shape\n",
    "    return i in [0,R-1] or j in [0,C-1]\n",
    "\n",
    "def is_taller(m,i,j):\n",
    "    R,C = m.shape\n",
    "    v = m[(i,j)]\n",
    "    # row parts left right\n",
    "    row = list(m[i])\n",
    "    r1 = row[:j]\n",
    "    r2 = row[j+1:]\n",
    "    # col parts up down\n",
    "    col = list(m[:,j])\n",
    "    c1 = col[:i]\n",
    "    c2 = col[i+1:]\n",
    "    max_other =  mapt(lambda x: max(set(x)),[r1,r2,c1,c2])\n",
    "    # Count how many times the predicate is true\n",
    "    # so is v taller if is greater than at least one max(set) \n",
    "    return quantify(max_other, lambda x: x>=v) != len(max_other)\n",
    "\n",
    "M = np.array(in8,dtype=np.int64)\n",
    "#print(M.shape)\n",
    "visible = set()\n",
    "edge = set()\n",
    "interior = set()\n",
    "for rc in np.ndindex(M.shape) :\n",
    "    if is_in_edge(M,*rc) :\n",
    "        edge.add(rc)\n",
    "    elif is_taller(M,*rc) :\n",
    "        interior.add(rc)\n",
    "\n",
    "visible = edge | interior \n",
    "#pp.pprint(s)\n",
    "print(len(visible))"
   ]
  },
  {
   "cell_type": "code",
   "execution_count": null,
   "metadata": {},
   "outputs": [],
   "source": [
    "submit(len(visible), part=\"a\", day=8, year=2022)"
   ]
  },
  {
   "cell_type": "markdown",
   "metadata": {},
   "source": [
    "To measure the viewing distance from a given tree, look up, down, left, and right from that tree  \n",
    "stop if you reach an edge or at the first tree that is the same height or taller than the tree under consideration  \n",
    "(If a tree is right on the edge, at least one of its viewing distances will be zero.)\n",
    "\n",
    "A tree's scenic score is found by multiplying together its viewing distance in each of the four directions\n",
    "\n",
    "What is the highest scenic score possible for any tree?"
   ]
  },
  {
   "cell_type": "code",
   "execution_count": null,
   "metadata": {},
   "outputs": [],
   "source": [
    "def scenic_score(m,s,i,j):\n",
    "    R,C = m.shape\n",
    "    ptv = m[(i,j)]\n",
    "    # row parts left right\n",
    "    row = list(m[i])\n",
    "    # left part reversed\n",
    "    r1 = row[:j][::-1]\n",
    "    r2 = row[j+1:]\n",
    "    # col parts up down\n",
    "    col = list(m[:,j])\n",
    "    # up part reversed\n",
    "    c1 = col[:i][::-1]\n",
    "    c2 = col[i+1:]\n",
    "    score = list()\n",
    "    for view in [c1,r1,c2,r2] :\n",
    "        tmp = list()\n",
    "        for v in view:\n",
    "            if ptv > v:\n",
    "                tmp.append(v)\n",
    "            if ptv <= v:\n",
    "                tmp.append(v)\n",
    "                break\n",
    "        score.append(len(tmp))\n",
    "\n",
    "    print('{} : {} -> {}'.format((i,j),score,np.prod(score)))\n",
    "    s[(i,j)] = np.prod(score)\n",
    "\n",
    "M = np.array(in8,dtype=np.int64)\n",
    "S = np.zeros(M.shape, dtype=np.int64)\n",
    "#print(M.shape)\n",
    "for rc in np.ndindex(M.shape) :\n",
    "    if not is_in_edge(M,*rc) :\n",
    "        scenic_score(M,S,*rc)\n"
   ]
  },
  {
   "cell_type": "code",
   "execution_count": null,
   "metadata": {},
   "outputs": [],
   "source": [
    "#print(S)\n",
    "np.max(S)"
   ]
  },
  {
   "cell_type": "code",
   "execution_count": null,
   "metadata": {},
   "outputs": [],
   "source": [
    "\n",
    "submit(np.max(S), part=\"b\", day=8, year=2022)"
   ]
  },
  {
   "cell_type": "markdown",
   "metadata": {},
   "source": [
    "[home](#home)\n",
    "# Day 9\n",
    "[Rope Bridge](https://adventofcode.com/2022/day/9)\n",
    "\n",
    "by following a hypothetical series of motions (your puzzle input) for the **head**, you can determine how the **tail** will move  \n",
    "the head (H) and tail (T) must always be touching (diagonally adjacent and even overlapping both count as touching)  \n",
    "\n",
    "After each step, you'll need to update the position of the tail if the step means the head is no longer adjacent to the tail  \n",
    "\n",
    "If the head is ever two steps directly up, down, left, or right from the tail, the tail must also move one step in that direction so it remains close enough  \n",
    "\n",
    "if the head and tail aren't touching and aren't in the same row or column, the tail always moves one step diagonally"
   ]
  },
  {
   "cell_type": "code",
   "execution_count": null,
   "metadata": {},
   "outputs": [],
   "source": [
    "day=9\n",
    "get_in_file(day,2022)\n",
    "in9_test = Input(day, line_parser=lambda x: x.rstrip().split(), file_template='test/test{}.txt')\n",
    "in9 = Input(day, line_parser=lambda x: x.rstrip().split())"
   ]
  },
  {
   "cell_type": "code",
   "execution_count": null,
   "metadata": {},
   "outputs": [],
   "source": [
    "import operator\n",
    "\n",
    "mv_atom = {\n",
    "    'R':(0,1), 'L':(0,-1), 'D':(1,0), 'U':(-1,0),\n",
    "    'E':(-1,1), 'C':(1,1), 'Z':(1,-1), 'Q':(-1,-1) \n",
    "}\n",
    "mv_atom = dict(zip('QUELSRZDC',list(product([-1,0,1],repeat=2))))\n",
    "\n",
    "pred = lambda x: (abs(x[0])>1 or abs(x[1])>1) and (abs(x[0])-abs(x[1]))\n",
    "mv_look_up = dict(zip(filter(pred, product([-2,-1,0,1,2],repeat=2)),'QUEQELRZCZDC'))\n",
    "\n",
    "def add_tuple(t1,t2) : \n",
    "    return tuple(map(operator.add, t1, t2))\n",
    "def sub_tuple(t1,t2) : \n",
    "    return tuple(map(operator.sub, t1, t2))\n",
    "\n",
    "def adjacent(head_pos,tail_pos):\n",
    "    return sub_tuple(head_pos,tail_pos) in product([-1,0,1],repeat=2)\n",
    "    return head_pos in product([-1,0,1],repeat=2)\n",
    "\n",
    "# initial state\n",
    "H_mv = ''\n",
    "T_mv = ''\n",
    "H_pos = (0,0)\n",
    "T_pos = (0,0)\n",
    "old_T_pos = (0,0)\n",
    "\n",
    "for move in in9:\n",
    "    direction, steps = move\n",
    "    steps = int(steps)\n",
    "    for stp in direction*steps :\n",
    "        H_mv += stp\n",
    "        H_pos = add_tuple(H_pos,mv_atom[stp])\n",
    "        if adjacent(H_pos,T_pos) :\n",
    "            #print('step({}) H{} T{}'.format(stp,H_pos,T_pos))\n",
    "            pass\n",
    "        else :\n",
    "            # update tail pos if head pos is not adjacent to tail\n",
    "            # r c relative to head pos minus tail pos \n",
    "            r,c = sub_tuple(H_pos,T_pos) \n",
    "            # - if H is ever 2 steps directly up, down, left, or right from T\n",
    "            #   T must also move one step in that direction\n",
    "            # - if H and T aren't touching and aren't in the same row or column,\n",
    "            #   T always moves one step diagonally\n",
    "            # mv_look_up tells which move T should do to become adjacent to H\n",
    "            t_stp = mv_look_up[(r,c)]\n",
    "            T_mv += t_stp\n",
    "            old_T_pos = T_pos\n",
    "            T_pos = add_tuple(T_pos,mv_atom[t_stp])\n",
    "            #print('step({}) H{} T{}->{}'.format(stp,H_pos,old_T_pos,T_pos))\n",
    "\n"
   ]
  },
  {
   "cell_type": "code",
   "execution_count": null,
   "metadata": {},
   "outputs": [],
   "source": [
    "tmp=start = (0,0)\n",
    "pos = [start]\n",
    "for mv in mapt(lambda x: mv_atom[x],T_mv):\n",
    "    tmp = add_tuple(tmp,mv)\n",
    "    pos.append(tmp)\n",
    "\n",
    "#print(pos)\n",
    "counter_tail_pos=Counter(pos)\n",
    "print(counter_tail_pos.total(),len(list(counter_tail_pos)))"
   ]
  },
  {
   "cell_type": "code",
   "execution_count": null,
   "metadata": {},
   "outputs": [],
   "source": [
    "submit(len(list(counter_tail_pos)), part=\"a\", day=9, year=2022)"
   ]
  },
  {
   "cell_type": "markdown",
   "metadata": {},
   "source": [
    "### Part 2\n",
    "\n",
    "Rather than **2** knots, you now must simulate a rope consisting of **10** knots.  \n",
    "One knot is still the H of the rope and moves according to the series of motions.  \n",
    "Each knot further down the rope follows the knot in front of it using the same rules as before."
   ]
  },
  {
   "cell_type": "code",
   "execution_count": null,
   "metadata": {},
   "outputs": [],
   "source": [
    "in9_test = Input(day, line_parser=lambda x: x.rstrip().split(), file_template='test/test{}_1.txt')\n",
    "\n",
    "pred = lambda x: (abs(x[0])>1 or abs(x[1])>1) \n",
    "mv_look_up = dict(zip(filter(pred, product([-2,-1,0,1,2],repeat=2)),'QQUEE'+'QE'+'LR'+'ZC'+'ZZDCC'))\n",
    "\n",
    "# initial state\n",
    "H_mv = ''\n",
    "T_mv = {'1':'','2':'','3':'','4':'','5':'','6':'','7':'','8':'','9':''}\n",
    "Knots_pos = {\n",
    "    'H':(0,0),\n",
    "    '1':(0,0),'2':(0,0),'3':(0,0),\n",
    "    '4':(0,0),'5':(0,0),'6':(0,0),\n",
    "    '7':(0,0),'8':(0,0),'9':(0,0)\n",
    "}\n",
    "old_T_pos = (0,0)\n",
    "\n",
    "for move in in9:\n",
    "    direction, steps = move\n",
    "    steps = int(steps)\n",
    "    for stp in direction*steps :\n",
    "        H_mv += stp\n",
    "        Knots_pos['H'] = add_tuple(Knots_pos['H'],mv_atom[stp])\n",
    "        # sliding_window('H123456789', 2) --> H1 12 23 45 ...\n",
    "        for pred,succ in sliding_window(Knots_pos.keys(),2) :\n",
    "            if not adjacent(Knots_pos[pred],Knots_pos[succ]) :\n",
    "                # update tail pos if head pos is not adjacent to tail\n",
    "                # r c relative to head pos minus tail pos \n",
    "                r,c = sub_tuple(Knots_pos[pred],Knots_pos[succ]) \n",
    "                # - if H is ever 2 steps directly up, down, left, or right from T\n",
    "                #   T must also move one step in that direction\n",
    "                # - if H and T aren't touching and aren't in the same row or column,\n",
    "                #   T always moves one step diagonally\n",
    "                # mv_look_up tells which move T should do to become adjacent to H\n",
    "                t_stp = mv_look_up[(r,c)]\n",
    "                T_mv[succ] += t_stp\n",
    "                #old_T_pos = T_pos\n",
    "                Knots_pos[succ] = add_tuple(Knots_pos[succ],mv_atom[t_stp])\n",
    "                #print('step({}) H{} T{}->{}'.format(stp,H_pos,old_T_pos,T_pos))\n",
    "                #print('step({}) pair({},{}) {}'.format(stp,pred,succ,Knots_pos))\n",
    "                \n",
    "    print('steps({}{}) {}'.format(direction,steps,Knots_pos))\n",
    "            \n",
    "\n",
    "                \n"
   ]
  },
  {
   "cell_type": "code",
   "execution_count": null,
   "metadata": {},
   "outputs": [],
   "source": [
    "tmp=start = (0,0)\n",
    "pos = [start]\n",
    "for mv in mapt(lambda x: mv_atom[x],T_mv['9']):\n",
    "    tmp = add_tuple(tmp,mv)\n",
    "    pos.append(tmp)\n",
    "\n",
    "#print(pos)\n",
    "counter_tail_pos=Counter(pos)\n",
    "print(counter_tail_pos.total(),len(list(counter_tail_pos)))"
   ]
  },
  {
   "cell_type": "code",
   "execution_count": null,
   "metadata": {},
   "outputs": [],
   "source": [
    "submit(len(list(counter_tail_pos)), part=\"b\", day=9, year=2022)"
   ]
  },
  {
   "cell_type": "markdown",
   "metadata": {},
   "source": [
    "[home](#home)\n",
    "# Day 10\n",
    "[Cathode-Ray Tube](https://adventofcode.com/2022/day/10)\n",
    "\n",
    "The CPU has a single register, **X**, which starts with the value **1**  \n",
    "It supports only two instructions:\n",
    " - addx V takes **two cycles** to complete. After two cycles, the X register is increased by the value V. (V can be negative.)\n",
    " - noop takes **one cycle** to complete. It has no other effect"
   ]
  },
  {
   "cell_type": "code",
   "execution_count": null,
   "metadata": {},
   "outputs": [],
   "source": [
    "day=10\n",
    "get_in_file(day,2022)\n",
    "in10_test = Input(day, line_parser=lambda x: x.rstrip().split(), file_template='test/test{}_1.txt')\n",
    "in10 = Input(day, line_parser=lambda x: x.rstrip().split())"
   ]
  },
  {
   "cell_type": "code",
   "execution_count": null,
   "metadata": {},
   "outputs": [],
   "source": [
    "sample_cycles = [20,60,100,140,180,220]\n",
    "    \n",
    "def get_X_signals(parse_input) :\n",
    "    X = 1\n",
    "    X_signal = list([X])\n",
    "    for instr in parse_input :\n",
    "        try :\n",
    "            cmd,value = instr\n",
    "            value=int(value)\n",
    "        except ValueError :\n",
    "            cmd,value = *instr, None\n",
    "        #print (cmd,value)\n",
    "\n",
    "        if cmd == 'noop' :\n",
    "            X_signal.append(X)\n",
    "        elif cmd == 'addx' :\n",
    "            X_signal.append(X)\n",
    "            X_signal.append(X)\n",
    "            X += value   \n",
    "    return X_signal\n",
    "\n",
    "print(len(get_X_signals(in10)))"
   ]
  },
  {
   "cell_type": "code",
   "execution_count": null,
   "metadata": {},
   "outputs": [],
   "source": [
    "X_signal = get_X_signals(in10)\n",
    "signals = mapt(lambda x: X_signal[x], sample_cycles)\n",
    "signal_strengths = mapt(lambda x,y: x*y, signals,sample_cycles)\n",
    "signal_strengths"
   ]
  },
  {
   "cell_type": "code",
   "execution_count": null,
   "metadata": {},
   "outputs": [],
   "source": [
    "submit(sum(signal_strengths), part=\"a\", day=10, year=2022)"
   ]
  },
  {
   "cell_type": "markdown",
   "metadata": {},
   "source": [
    "### Part 2\n",
    "It seems like the X register controls the horizontal position of a **sprite**  \n",
    "The sprite is 3 pixels wide, and the X register sets the horizontal position of the **middle** of that sprite  \n",
    "The CRT draws a single pixel during each cycle\n",
    "\n",
    "Cycle   1 -> ######################################## <- Cycle  40  \n",
    "Cycle  41 -> ######################################## <- Cycle  80  \n",
    "Cycle  81 -> ######################################## <- Cycle 120  \n",
    "Cycle 121 -> ######################################## <- Cycle 160  \n",
    "Cycle 161 -> ######################################## <- Cycle 200  \n",
    "Cycle 201 -> ######################################## <- Cycle 240  \n",
    "\n",
    "If the sprite is positioned such that one of its three pixels is the pixel currently being drawn, the screen produces a lit pixel (#); otherwise, the screen leaves the pixel dark (.).\n",
    "\n",
    "\n"
   ]
  },
  {
   "cell_type": "code",
   "execution_count": null,
   "metadata": {},
   "outputs": [],
   "source": [
    "X_signal = get_X_signals(in10)\n",
    "pixels = np.zeros((6,40),dtype=np.int16)\n",
    "\n",
    "for pixel_pos,stride_x in zip(range(len(X_signal[1:])),X_signal[1:]) :\n",
    "    # CRT\n",
    "    #if the sprite is positioned such that one of its three pixels is the pixel currently being drawn\n",
    "    stride_pixels = set((stride_x-1,stride_x,stride_x+1))\n",
    "    i,j = int(pixel_pos/40), pixel_pos%40\n",
    "    #print(\"pp {} in {}  {}\".format(pixel_pos%40, stride_pixels,(i,j)))\n",
    "    if pixel_pos%40 in stride_pixels :\n",
    "        pixels[(i,j)] = 1"
   ]
  },
  {
   "cell_type": "code",
   "execution_count": null,
   "metadata": {},
   "outputs": [],
   "source": [
    "from matplotlib import pyplot as plt\n",
    "fig, axes = plt.subplots(1,8, figsize=(6,5))\n",
    "\n",
    "img_data = list()\n",
    "for a,b in sliding_window(range(0,45,5),2) :\n",
    "    img_data.append(pixels[:,a:b])\n",
    "\n",
    "for i,ax in enumerate(axes.flat):\n",
    "    ax.imshow(img_data[i])\n",
    "    "
   ]
  },
  {
   "cell_type": "code",
   "execution_count": null,
   "metadata": {},
   "outputs": [],
   "source": [
    "submit(\"BACEKLHF\", part=\"b\", day=10, year=2022)"
   ]
  },
  {
   "cell_type": "markdown",
   "metadata": {},
   "source": [
    "[home](#home)\n",
    "# Day 11\n",
    "[Monkey in the Middle](https://adventofcode.com/2022/day/11)"
   ]
  },
  {
   "cell_type": "code",
   "execution_count": null,
   "metadata": {},
   "outputs": [],
   "source": [
    "day=11\n",
    "get_in_file(day,2022)\n",
    "in11 = parse(day,sep=\"\\n\\n\",file_template='test/test{}_1.txt')"
   ]
  },
  {
   "cell_type": "code",
   "execution_count": null,
   "metadata": {},
   "outputs": [],
   "source": [
    "regex_input = \"\"\"\\\n",
    "[\\ ]*Monkey (?P<num>\\d+):|\n",
    "[\\ ]*Starting items: (?P<items>\\d+(?:,\\ \\d+)*)|\n",
    "[\\ ]*Operation: new = (?P<op1>\\w+) (?P<op>[\\*+]) (?P<op2>\\w+)|\n",
    "[\\ ]*Test: divisible by (?P<test_div>\\d+)|\n",
    "[\\ ]*If true: throw to monkey (?P<if_true>\\d+)|\n",
    "[\\ ]*If false: throw to monkey (?P<if_false>\\d+)\"\"\"\n",
    "\n",
    "monkeys = OrderedDict()\n",
    "for monkey_lines in in11 :\n",
    "    tokens = dict()\n",
    "    for mo in re.finditer(regex_input, monkey_lines):\n",
    "      tokens.update({k:v for (k,v) in mo.groupdict().items() if v != None})\n",
    "    #pp.pprint(tokens)\n",
    "    monkeys[int(tokens['num'])] = tokens\n",
    "\n",
    "#for m in monkeys.values() :\n",
    "#  pp.pprint(m)"
   ]
  },
  {
   "cell_type": "code",
   "execution_count": null,
   "metadata": {},
   "outputs": [],
   "source": [
    "\n",
    "\n",
    "def to_operator(op:str):\n",
    "    if op == '*' :\n",
    "        return operator.mul\n",
    "    if op == '+' :\n",
    "        return operator.add\n",
    "    \n",
    "@dataclass\n",
    "class Monkey(DataclassFromDict):\n",
    "    num : int = field_from_dict(converter=int)\n",
    "    items : List[int] = field_from_dict(converter=lambda x: list(ints(x)))\n",
    "    op : Callable = field_from_dict(converter=to_operator)\n",
    "    op1 : Any = field_from_dict(converter=lambda x: int(x) if x.isnumeric() else x)\n",
    "    op2 : Any = field_from_dict(converter=lambda x: int(x) if x.isnumeric() else x)\n",
    "    test_div : int = field_from_dict(converter=int)\n",
    "    if_true : int = field_from_dict(converter=int)\n",
    "    if_false : int = field_from_dict(converter=int)\n",
    "    "
   ]
  },
  {
   "cell_type": "code",
   "execution_count": null,
   "metadata": {},
   "outputs": [],
   "source": [
    "scimmie = list(mapt(Monkey.from_dict, monkeys.values()))\n",
    "for s in scimmie :\n",
    "  pp.pprint(s)"
   ]
  },
  {
   "cell_type": "code",
   "execution_count": null,
   "metadata": {},
   "outputs": [],
   "source": []
  },
  {
   "cell_type": "code",
   "execution_count": null,
   "metadata": {},
   "outputs": [],
   "source": []
  }
 ],
 "metadata": {
  "kernelspec": {
   "display_name": "Python 3.10.1 ('aoc')",
   "language": "python",
   "name": "python3"
  },
  "language_info": {
   "codemirror_mode": {
    "name": "ipython",
    "version": 3
   },
   "file_extension": ".py",
   "mimetype": "text/x-python",
   "name": "python",
   "nbconvert_exporter": "python",
   "pygments_lexer": "ipython3",
   "version": "3.10.1"
  },
  "orig_nbformat": 4,
  "vscode": {
   "interpreter": {
    "hash": "d569ccaee48a3423f16517f1acf6d11f7d41000e0e3c266376b8dd0ff7111527"
   }
  }
 },
 "nbformat": 4,
 "nbformat_minor": 2
}
